{
 "cells": [
  {
   "cell_type": "code",
   "execution_count": 3,
   "id": "da710318",
   "metadata": {},
   "outputs": [],
   "source": [
    "# Initialisation(s)\n",
    "\n",
    "import os, sys\n",
    "IN_COLAB = 'google.colab' in sys.modules\n",
    "if IN_COLAB:\n",
    "    # Running in Google CoLab\n",
    "    from google.colab import drive\n",
    "    drive.mount('/content/gdrive/')\n",
    "    global_prefix = '/content/gdrive/MyDrive/Colab Notebooks/Jupyter-Puzzles/python/programmationContraintes/cpmpy/explications/sudoku/'\n",
    "    os.chdir(global_prefix)\n",
    "else:\n",
    "    # Not running in Google CoLab\n",
    "    global_prefix = os.getcwd().replace('\\\\','/') + '/'\n",
    "\n",
    "sys.path.append(f'{global_prefix}../../../../outils')\n",
    "import displayImages\n",
    "display_images = displayImages.mpl if IN_COLAB else displayImages.widgets\n",
    "\n",
    "%run ../explications.ipynb"
   ]
  },
  {
   "attachments": {},
   "cell_type": "markdown",
   "id": "7aa20e7a",
   "metadata": {},
   "source": [
    "# Sudoku\n",
    "## Génération des explications\n",
    "### Modélisation"
   ]
  },
  {
   "cell_type": "code",
   "execution_count": 4,
   "id": "74756cc3",
   "metadata": {},
   "outputs": [],
   "source": [
    "# cellule vide\n",
    "e = 0\n",
    "\n",
    "def model_sudoku(given):\n",
    "    \"\"\"\n",
    "    retourne un triplet vars, facts, constraints\n",
    "    utilisable dans EXPLANATION\n",
    "    \"\"\"\n",
    "\n",
    "    # Dimensions\n",
    "    ncol = nrow = len(given)\n",
    "    n = int(ncol ** (1/2))\n",
    "\n",
    "    # Variables\n",
    "    cells = intvar(1,ncol,shape=given.shape,name=\"cells\")\n",
    "    \n",
    "    # faits\n",
    "    facts = [cells[given != e] == given[given != e]]\n",
    "    \n",
    "    # contraintes sur les lignes\n",
    "    row_cons = [AllDifferent(row) for row in cells]\n",
    "    # contraintes sur les colonnes\n",
    "    col_cons = [AllDifferent(col) for col in cells.T]\n",
    "    # Constraintes sur les blocs\n",
    "    block_cons = []\n",
    "    for i in range(0,nrow, n):\n",
    "        for j in range(0,ncol, n):\n",
    "            block_cons += [AllDifferent(cells[i:i+n, j:j+n])]\n",
    "\n",
    "    return cells, facts, row_cons + col_cons + block_cons"
   ]
  },
  {
   "attachments": {},
   "cell_type": "markdown",
   "id": "2817bf4d",
   "metadata": {},
   "source": [
    "### Exemples"
   ]
  },
  {
   "cell_type": "code",
   "execution_count": 5,
   "id": "e4793689",
   "metadata": {},
   "outputs": [],
   "source": [
    "given_4x4 = np.array([\n",
    "    [ e, 3, 4, e ],\n",
    "    [ 4, e, e, 2 ],\n",
    "    [ 1, e, e, 3 ],\n",
    "    [ e, 2, 1, e ]])\n",
    "\n",
    "explanation_4x4 = EXPLANATION(*model_sudoku(given_4x4))\n",
    "\n",
    "given_9x9 = np.array([\n",
    "    [e, e, e,  2, e, 5,  e, e, e],\n",
    "    [e, 9, e,  e, e, e,  7, 3, 2],\n",
    "    [e, e, 2,  e, e, 9,  e, 6, e],\n",
    "\n",
    "    [2, e, e,  e, e, e,  4, e, 9],\n",
    "    [e, e, e,  e, 7, e,  e, e, e],\n",
    "    [6, e, 9,  e, e, e,  e, e, 1],\n",
    "\n",
    "    [e, 8, e,  4, e, e,  1, e, e],\n",
    "    [e, 6, 3,  e, e, e,  e, 8, e],\n",
    "    [e, 2, e,  6, e, 8,  e, e, e]])\n",
    "\n",
    "explanation_9x9 = EXPLANATION(*model_sudoku(given_9x9))"
   ]
  },
  {
   "cell_type": "markdown",
   "id": "c5fa0cf1",
   "metadata": {},
   "source": [
    "### Solution"
   ]
  },
  {
   "cell_type": "code",
   "execution_count": 6,
   "id": "18f6db03",
   "metadata": {},
   "outputs": [
    {
     "data": {
      "text/plain": [
       "array([[2, 3, 4, 1],\n",
       "       [4, 1, 3, 2],\n",
       "       [1, 4, 2, 3],\n",
       "       [3, 2, 1, 4]])"
      ]
     },
     "execution_count": 6,
     "metadata": {},
     "output_type": "execute_result"
    }
   ],
   "source": [
    "explanation_4x4.solve()"
   ]
  },
  {
   "attachments": {},
   "cell_type": "markdown",
   "id": "1a381a40",
   "metadata": {},
   "source": [
    "### Génération d'une explication"
   ]
  },
  {
   "cell_type": "code",
   "execution_count": 7,
   "id": "568a0704",
   "metadata": {},
   "outputs": [
    {
     "name": "stdout",
     "output_type": "stream",
     "text": [
      "\n",
      "Facts (E)\n",
      "   cells[1,0] == 4\n",
      "   cells[3,1] == 2\n",
      "\n",
      "Constraints (S)\n",
      "   alldifferent(cells[0,1],cells[1,1],cells[2,1],cells[3,1])\n",
      "   alldifferent(cells[0,0],cells[0,1],cells[1,0],cells[1,1])\n",
      "\n",
      "=> Hint (N)\n",
      "   cells[0,0] == 2\n"
     ]
    }
   ],
   "source": [
    "_ = explanation_4x4.explain()"
   ]
  },
  {
   "cell_type": "markdown",
   "id": "4c520aee",
   "metadata": {},
   "source": [
    "### Génération de la liste des explications pour la résolution complète"
   ]
  },
  {
   "cell_type": "code",
   "execution_count": 8,
   "id": "eab7fcfb",
   "metadata": {},
   "outputs": [
    {
     "name": "stdout",
     "output_type": "stream",
     "text": [
      "\n",
      "Facts (E)\n",
      "   cells[1,0] == 4\n",
      "   cells[3,1] == 2\n",
      "\n",
      "Constraints (S)\n",
      "   alldifferent(cells[0,1],cells[1,1],cells[2,1],cells[3,1])\n",
      "   alldifferent(cells[0,0],cells[0,1],cells[1,0],cells[1,1])\n",
      "\n",
      "=> Hint (N)\n",
      "   cells[0,0] == 2\n",
      "\n",
      "Facts (E)\n",
      "   cells[2,0] == 1\n",
      "   cells[1,0] == 4\n",
      "   cells[0,0] == 2\n",
      "\n",
      "Constraints (S)\n",
      "   alldifferent(cells[0,0],cells[1,0],cells[2,0],cells[3,0])\n",
      "\n",
      "=> Hint (N)\n",
      "   cells[3,0] == 3\n",
      "\n",
      "Facts (E)\n",
      "   cells[0,2] == 4\n",
      "   cells[2,3] == 3\n",
      "\n",
      "Constraints (S)\n",
      "   alldifferent(cells[0,2],cells[0,3],cells[1,2],cells[1,3])\n",
      "   alldifferent(cells[0,3],cells[1,3],cells[2,3],cells[3,3])\n",
      "\n",
      "=> Hint (N)\n",
      "   cells[1,2] == 3\n",
      "\n",
      "Facts (E)\n",
      "   cells[2,0] == 1\n",
      "   cells[0,1] == 3\n",
      "\n",
      "Constraints (S)\n",
      "   alldifferent(cells[0,0],cells[1,0],cells[2,0],cells[3,0])\n",
      "   alldifferent(cells[0,0],cells[0,1],cells[1,0],cells[1,1])\n",
      "\n",
      "=> Hint (N)\n",
      "   cells[1,1] == 1\n",
      "\n",
      "Facts (E)\n",
      "   cells[1,0] == 4\n",
      "   cells[3,1] == 2\n",
      "\n",
      "Constraints (S)\n",
      "   alldifferent(cells[2,0],cells[2,1],cells[3,0],cells[3,1])\n",
      "   alldifferent(cells[0,0],cells[1,0],cells[2,0],cells[3,0])\n",
      "\n",
      "=> Hint (N)\n",
      "   cells[2,1] == 4\n",
      "\n",
      "Facts (E)\n",
      "   cells[1,3] == 2\n",
      "   cells[3,2] == 1\n",
      "\n",
      "Constraints (S)\n",
      "   alldifferent(cells[0,2],cells[0,3],cells[1,2],cells[1,3])\n",
      "   alldifferent(cells[0,2],cells[1,2],cells[2,2],cells[3,2])\n",
      "\n",
      "=> Hint (N)\n",
      "   cells[2,2] == 2\n",
      "\n",
      "Facts (E)\n",
      "   cells[1,3] == 2\n",
      "   cells[3,2] == 1\n",
      "\n",
      "Constraints (S)\n",
      "   alldifferent(cells[0,2],cells[0,3],cells[1,2],cells[1,3])\n",
      "   alldifferent(cells[0,2],cells[1,2],cells[2,2],cells[3,2])\n",
      "\n",
      "=> Hint (N)\n",
      "   cells[0,3] == 1\n",
      "\n",
      "Facts (E)\n",
      "   cells[2,1] == 4\n",
      "   cells[3,2] == 1\n",
      "\n",
      "Constraints (S)\n",
      "   alldifferent(cells[2,0],cells[2,1],cells[3,0],cells[3,1])\n",
      "   alldifferent(cells[3,0],cells[3,1],cells[3,2],cells[3,3])\n",
      "\n",
      "=> Hint (N)\n",
      "   cells[3,3] == 4\n"
     ]
    }
   ],
   "source": [
    "_ = explanation_4x4.explainFull()"
   ]
  },
  {
   "attachments": {},
   "cell_type": "markdown",
   "id": "305fa87f",
   "metadata": {},
   "source": [
    "## Affichage des explications\n",
    "### Affichage d'une grille de sudoku et affichage d'une grille avec explication "
   ]
  },
  {
   "cell_type": "code",
   "execution_count": 9,
   "id": "8e65ce7b",
   "metadata": {},
   "outputs": [],
   "source": [
    "%matplotlib inline\n",
    "\n",
    "import matplotlib\n",
    "import matplotlib.pyplot as plt\n",
    " \n",
    "def plot_sudoku(grid, file = '', hint = None):\n",
    "\n",
    "    ncol = len(grid)\n",
    "    n = int(ncol ** (1/2))\n",
    "\n",
    "    matplotlib.rcParams['toolbar'] = 'None'\n",
    "    fig = plt.figure(facecolor='w', figsize = (ncol,ncol))\n",
    "    ax = fig.add_subplot(111)\n",
    "    ax.axis('off')\n",
    "    ax.axis('equal')\n",
    "    \n",
    "    for i in range(0,ncol + 1,n):\n",
    "        ax.plot([i,i],[0,ncol], linewidth = 2, color = 'k')\n",
    "        ax.plot([0,ncol],[i,i], linewidth = 2, color = 'k')\n",
    "    for i in range(1,ncol):\n",
    "        ax.plot([i,i],[0,ncol], linewidth = 1, color = 'k')\n",
    "        ax.plot([0,ncol],[i,i], linewidth = 1, color = 'k')\n",
    "        \n",
    "    def plot_value(i, j, v, color = 'k'):\n",
    "        ax.text(j + .5, ncol - i - .5, str(v), size = 18, ha = 'center',\n",
    "                va = 'center', color = color)\n",
    "        \n",
    "    for i in range(ncol):\n",
    "        for j in range(ncol):\n",
    "            v = grid[i][j]\n",
    "            if v:\n",
    "                plot_value(i, j, v)\n",
    "\n",
    "    def  plot_circle(i, j):\n",
    "        ax.add_patch(plt.Circle((j + .5, ncol - i - .5), .3, fill = False, ec = 'blue'))\n",
    "                \n",
    "    def plot_rectangle(i = None, j = None, k = None): \n",
    "        if i is not None:\n",
    "            j, w, h = 0, ncol, 1\n",
    "        elif j is not None:\n",
    "            i, w, h = ncol - 1, 1, ncol\n",
    "        else: \n",
    "            i, j, w, h = n * (k // n) + n - 1, n * (k % n) , n, n\n",
    "        ax.add_patch(plt.Rectangle((j + .1, ncol - i - 1. + .1),w - .2, h - .2, fill = False, ec = 'green'))\n",
    "        \n",
    "    if hint:\n",
    "        \n",
    "        E,S,N = hint\n",
    "        \n",
    "        for (i,j), _ in extractFacts(E):\n",
    "            plot_circle(i,j)\n",
    "            \n",
    "        for l in extractConstraints(S):\n",
    "            if len({c[0] for c in l}) == 1:\n",
    "                plot_rectangle(i = l[0][0])\n",
    "            elif len({c[1] for c in l}) == 1:\n",
    "                plot_rectangle(j = l[0][1])\n",
    "            else:\n",
    "                i, j = l[0]\n",
    "                plot_rectangle(k = n * (i // n) + j // n)\n",
    "        \n",
    "        (i,j),v = extractHint(N)\n",
    "        plot_value(i,j,v, color = 'red')\n",
    "                    \n",
    "    ax.plot()\n",
    "    if file:\n",
    "        plt.savefig(file)\n",
    "        plt.close() # évite l'affichage"
   ]
  },
  {
   "cell_type": "code",
   "execution_count": 10,
   "id": "ff2ae162",
   "metadata": {},
   "outputs": [
    {
     "data": {
      "image/png": "[encoded data removed]",
      "text/plain": [
       "<Figure size 288x288 with 1 Axes>"
      ]
     },
     "metadata": {},
     "output_type": "display_data"
    }
   ],
   "source": [
    "plot_sudoku(given_4x4, hint = explanation_4x4.explain(verbose = False)) "
   ]
  },
  {
   "attachments": {},
   "cell_type": "markdown",
   "id": "881e4019",
   "metadata": {},
   "source": [
    "### Enregistrement sur disque des images des explications"
   ]
  },
  {
   "cell_type": "code",
   "execution_count": 10,
   "id": "43a68db0",
   "metadata": {},
   "outputs": [],
   "source": [
    "from copy import deepcopy\n",
    "\n",
    "ESNlist = explanation_4x4.explainFull(verbose = False)\n",
    "g = deepcopy(given_4x4)\n",
    "prefix = f'{global_prefix}images/given_4x4-'\n",
    "\n",
    "for c, hint in enumerate(ESNlist):\n",
    "    \n",
    "    (i, j), v = extractHint(hint[2])\n",
    "    plot_sudoku(g, file = f'{prefix}{c}', hint = hint)\n",
    "    g[i][j] = v\n",
    "    \n",
    "plot_sudoku(g, file = f'{prefix}{len(ESNlist)}')"
   ]
  },
  {
   "cell_type": "markdown",
   "id": "9fc9a3ef",
   "metadata": {},
   "source": [
    "### Affichage des explications"
   ]
  },
  {
   "cell_type": "code",
   "execution_count": 14,
   "id": "0a332256",
   "metadata": {},
   "outputs": [
    {
     "data": {
      "application/vnd.jupyter.widget-view+json": {
       "model_id": "23fcbacce85b448398ded1d66b096a31",
       "version_major": 2,
       "version_minor": 0
      },
      "text/plain": [
       "interactive(children=(IntSlider(value=0, description='t', max=8), Output()), _dom_classes=('widget-interact',)…"
      ]
     },
     "metadata": {},
     "output_type": "display_data"
    },
    {
     "data": {
      "application/vnd.jupyter.widget-view+json": {
       "model_id": "aa6836cf60ce415780ce8e7659fbef67",
       "version_major": 2,
       "version_minor": 0
      },
      "text/plain": [
       "Button(description='▷', style=ButtonStyle())"
      ]
     },
     "metadata": {},
     "output_type": "display_data"
    }
   ],
   "source": [
    "display_images(f'{global_prefix}images/given_4x4-', len(ESNlist), dpi = 90)"
   ]
  },
  {
   "attachments": {},
   "cell_type": "markdown",
   "id": "41da4320",
   "metadata": {},
   "source": [
    "En remplaçant 4x4 par 9x9 et après 4h30 de calculs :"
   ]
  },
  {
   "cell_type": "code",
   "execution_count": null,
   "id": "f416281a",
   "metadata": {},
   "outputs": [],
   "source": [
    "display_images(f'{global_prefix}images/given_9x9-', 56, dpi = 150)"
   ]
  }
 ],
 "metadata": {
  "kernelspec": {
   "display_name": "Python 3 (ipykernel)",
   "language": "python",
   "name": "python3"
  },
  "language_info": {
   "codemirror_mode": {
    "name": "ipython",
    "version": 3
   },
   "file_extension": ".py",
   "mimetype": "text/x-python",
   "name": "python",
   "nbconvert_exporter": "python",
   "pygments_lexer": "ipython3",
   "version": "3.10.5"
  },
  "vscode": {
   "interpreter": {
    "hash": "369f2c481f4da34e4445cda3fffd2e751bd1c4d706f27375911949ba6bb62e1c"
   }
  }
 },
 "nbformat": 4,
 "nbformat_minor": 5
}
