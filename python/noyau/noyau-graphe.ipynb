{
 "cells": [
  {
   "cell_type": "markdown",
   "id": "21c325db",
   "metadata": {},
   "source": [
    "# Noyau d'un graphe\n",
    "Dans la suite, $G=(S,A)$ est un graphe orienté acyclique.  \n",
    "Si $s\\in S$, est un sommet, l'ensemble $\\{t\\in S\\,|\\,(s,t)\\in A\\}$ des *successeurs* de $s$ est noté succ $\\!(s)$.    \n",
    "On autorise $G$ à être infini, mais dans ce cas on supposera que $G$ est *localement borné*\n",
    "dans le sens où pour tout sommet $s$,\n",
    "l'ensemble $S_s =$  succ $\\!{}^*(s)=\\cup_{i\\in\\mathbf N}$ succ $\\!{}^i(s)$ des extrémités des chemins d'origine $s$, est fini.\n",
    "\n",
    "\n",
    "## Fonction de Grundy et noyau\n",
    "\n",
    "**Prop** il existe une unique application  $g:S\\rightarrow\\mathbf N$ vérifiant la condition\n",
    "\n",
    "(1) &nbsp;&nbsp;&nbsp;&nbsp;&nbsp;&nbsp;&nbsp;&nbsp;$\\forall s\\in S,\\;g(s)=$ min $\\!(\\mathbf N\\setminus g(\\!$ succ $\\!(s)))$\n",
    "\n",
    "**preuve**\n",
    "Vues les hypothèses faites sur $G$, on peut, pour tout sommet $s\\in S$, poser $\\delta(s)=$ la plus grande longueur d'un chemin d'origine $s$.  \n",
    "En notant $\\Delta_k=\\delta^{-1}([0,k])$ pour tout $k\\in\\mathbf N$, on remarque que $\\Delta_0$ est l'ensemble des *feuilles* \n",
    "(sommets sans successeur) de $G$  et que, si $k>0$, alors succ $\\!(\\Delta_k)\\subset\\Delta_{k-1}$.  \n",
    "Ceci permet de définir par récurrence sur  $k\\in\\mathbf N$,  une suite de fonctions $g_k:\\Delta_k\\rightarrow\\mathbf N$ par  \n",
    "- $g_0(s)=0$ si $s\\in \\Delta_0$ ;\n",
    "- $g_k(s)=$ min $\\!(\\mathbf N\\setminus g_{k-1}(\\!$ succ $\\!(s)))$ pour $s\\in \\Delta_k$ où $k>0$.\n",
    "\n",
    "Comme $g_k|\\Delta_{k-1}=g_{k-1}$ pour $k>0$, on peut définir $g_\\infty:S\\rightarrow\\mathbf N$ par\n",
    "$\\forall k,g_\\infty|\\Delta_k=g_k$.   \n",
    "On vérifie alors aisément que l'application $g_\\infty$ vérifie (1) et que c'est la seule.   $\\blacksquare$\n",
    "\n",
    "Cette application est appelée la *fonction de Grundy* de $G$ et notée $g_G$\n",
    "\n",
    "**Prop** Il existe une unique partie $K$ de l'ensemble des sommets $S$ vérifiant la condition\n",
    "\n",
    "(2) &nbsp;&nbsp;&nbsp;&nbsp;&nbsp;&nbsp;&nbsp;&nbsp;$\\forall s\\in S,\\;s\\in K\\Leftrightarrow$ succ $\\!(s)\\cap K=\\emptyset$ \n",
    "\n",
    "**preuve** Existence : poser $K=g_G^{-1}(0)$. Unicité : montrer par récurrence sur $k$ que\n",
    "si $K$ vérifie (2), $K\\cap\\Delta_k=g_G^{-1}(0)\\cap\\Delta_k$. $\\blacksquare$\n",
    "\n",
    "Cet ensemble est appelé le *noyau* de $G$ et noté $K_G$. \n",
    "\n",
    "## Jeu associé\n",
    "\n",
    "Il se joue à deux joueurs. On fixe un sommet $s_0\\in S$ (la *position initiale*).  \n",
    "Le joueur 1 choisit un successeur $s_1$ de $s_0$ dans $G$, le joueur 2 choisit un successeur $s_2$ de $s_1$, etc. jusqu'à ce qu'un joueur se trouve face à une position $s_k$ sans successeur, auquel cas il a perdu. $G$ étant acyclique et localement borné on voit qu'une partie se termine toujours.\n",
    "\n",
    "Si $s_0\\not\\in K_G$, le joueur 1 a une stratégie gagnante.  \n",
    "En effet, il lui suffit de toujours jouer un coup $s_{2i-1}$ appartenant à $K_G$ ; le coup $s_{2i}$ joué par le joueur 2 sera alors dans $S\\setminus K_G$. Comme les sommets sans successeur sont dans $K_G$, le perdant est le joueur 2. \n",
    "\n",
    "## Implémentation\n",
    "\n",
    "Soit $G$ un graphe acyclique localement borné dont les sommets sont représentés  en python par un type hashable, de sorte que l'on peut représenter des ensembles finis (type $\\texttt{set}$) de sommets ainsi que des dictionnaires (type $\\texttt{dict}$) dont les clés sont des sommets.  \n",
    "\n",
    "#### Utilisation de la classe $\\texttt{GAME}$\n",
    "\n",
    "On représente $G$ par une instance *G* de la classe $\\texttt{GAME}$ ci-dessous.\n",
    "\n",
    "En supposant $G$ fini,   \n",
    "si *G* $=\\texttt{GAME(S=}S, \\texttt{succ=}\\!$ succ $\\!\\texttt{)}$ où $S$ est l'ensemble des sommets et succ la fonction successeur $S\\rightarrow\\mathcal P(S)$ ou  \n",
    "si *G* $=\\texttt{GAME(initial=}i, \\texttt{succ=}\\!$ succ $\\!\\texttt{)}$ où $i$ est un sommet fixé tel que succ $\\!{}^*(i)=S$, alors\n",
    "   \n",
    "&nbsp;&nbsp;&nbsp;&nbsp;&nbsp;&nbsp;&nbsp;&nbsp;*G*$\\texttt{.S}=S$  \n",
    "\n",
    "Sans l'hypothèse $G$ fini,   \n",
    "si *G* $=\\texttt{GAME(}\\texttt{succ=}\\!$ succ $\\!,\\texttt{g}=g_G\\texttt{)}$ alors \n",
    "\n",
    "&nbsp;&nbsp;&nbsp;&nbsp;&nbsp;&nbsp;&nbsp;&nbsp;*G*$\\texttt{.S}=\\texttt{None}$   \n",
    "\n",
    "Dans les deux cas\n",
    "\n",
    "&nbsp;&nbsp;&nbsp;&nbsp;&nbsp;&nbsp;&nbsp;&nbsp;*G*$\\texttt{.succ}=$ succ  \n",
    "&nbsp;&nbsp;&nbsp;&nbsp;&nbsp;&nbsp;&nbsp;&nbsp;*G*$\\texttt{.g}=g_G:S\\rightarrow\\mathbf N$   \n",
    "&nbsp;&nbsp;&nbsp;&nbsp;&nbsp;&nbsp;&nbsp;&nbsp;*G*$\\texttt{.inK}$ est la fonction $s(\\in S)\\mapsto s\\in K_G(\\in\\{\\texttt{True},\\texttt{False}\\})$  \n",
    "&nbsp;&nbsp;&nbsp;&nbsp;&nbsp;&nbsp;&nbsp;&nbsp;*G*$\\texttt{.play(}s\\texttt{)}=t$ le coup joué par un joueur connaissant $K_G$  \n",
    "&nbsp;&nbsp;&nbsp;&nbsp;&nbsp;&nbsp;&nbsp;&nbsp;*G*$\\texttt{.game(}s\\texttt{)}$ imprime une partie jouée par deux joueurs connaissant $K_G$\n",
    "\n",
    "Dans le premier cas l'instance *G* est dite *pleine* car elle occupe beaucoup de mémoire :  \n",
    "$S$ est entièrement représenté par un ensemble python et la fonctions $g_G$ fait appel à un dictionnaire de clés $S$.   \n",
    "\n",
    "Dans le deuxième cas, on parle d'instance *creuse*.\n",
    "\n",
    "Enfin, si l'on connait le noyau $K_G$ mais pas la fonction de Grundy $g_G$, on peut aussi définir\n",
    "\n",
    "*G* $=\\texttt{GAME(}\\texttt{succ=}\\!$ succ $\\!,\\texttt{inK}=inK\\texttt{)}$\n",
    "\n",
    "auquel cas $G$ est une instance creuse pour laquelle on ne dispose pas de *G*$\\texttt{.g}$ qui vaut $\\texttt{None}$\n",
    "\n",
    "#### Précisions sur l'implémentation\n",
    "\n",
    "La partie intéressante est le calcul de la fonction de Grundy $g$ dans le cas d'une instance pleine. Pour chaque sommet $s$ on applique la formule (1) mais il faut s'assurer de traiter les sommets dans un ordre $s_1,\\ldots,s_n$ tel que, au moment du calcul de $g(s)$, les $g(t)$, pour $t\\in$ succ $\\!(s)$, ont déja été calculés. Cette condition est réalisée si $\\forall i,j\\;(s_i,s_j)\\in A \\Rightarrow i>j$ (l'ordre est dit *topologique*). D'où l'algorithme \n",
    "\n",
    "*grundy* $(G)$   \n",
    "&nbsp;&nbsp;&nbsp;&nbsp;&nbsp;&nbsp;&nbsp;&nbsp;$E\\leftarrow S$  \n",
    "&nbsp;&nbsp;&nbsp;&nbsp;&nbsp;&nbsp;&nbsp;&nbsp;**tant que** $E\\neq\\emptyset$ **faire**  \n",
    "&nbsp;&nbsp;&nbsp;&nbsp;&nbsp;&nbsp;&nbsp;&nbsp;&nbsp;&nbsp;&nbsp;&nbsp;&nbsp;&nbsp;&nbsp;&nbsp;$s\\leftarrow$ un sommet de $E$ sans successeur dans $E$  \n",
    "&nbsp;&nbsp;&nbsp;&nbsp;&nbsp;&nbsp;&nbsp;&nbsp;&nbsp;&nbsp;&nbsp;&nbsp;&nbsp;&nbsp;&nbsp;&nbsp;définir $g(s)$  en appliquant (1)  \n",
    "&nbsp;&nbsp;&nbsp;&nbsp;&nbsp;&nbsp;&nbsp;&nbsp;&nbsp;&nbsp;&nbsp;&nbsp;&nbsp;&nbsp;&nbsp;&nbsp;$E\\leftarrow E\\setminus\\{s\\}$\n",
    "\n",
    "Pour l'implémentation  \n",
    "- on introduit un dictionnaire $d$ tel que, pour tout $s\\in E$, $d[s]$ soit égal au nombre de successeurs de $s$ qui sont dans $E$ ; \n",
    "- pour trouver rapidement un élément de $F=\\{s\\in E\\;,\\;s$ n'a pas de successeur dans  $E\\}$, on introduit aussi une pile qui contient précisément les éléments de $F$. "
   ]
  },
  {
   "cell_type": "code",
   "execution_count": 1,
   "id": "c35a8fe6",
   "metadata": {},
   "outputs": [],
   "source": [
    "class GAME:\n",
    "\n",
    "    def __init__(self, initial = None, S = None, succ = None, g = None, inK = None):\n",
    "\n",
    "        self.succ = succ\n",
    "  \n",
    "        if inK is None:\n",
    "\n",
    "            if initial is None:\n",
    "\n",
    "                self.S = S\n",
    "            \n",
    "            else:\n",
    "\n",
    "                def parcours(s):\n",
    "                    for t in succ(s):\n",
    "                        if t not in self.S:\n",
    "                            self.S.add(t)\n",
    "                            parcours(t)\n",
    "\n",
    "                self.S = {initial}\n",
    "                parcours(initial)\n",
    "                \n",
    "            if g is None: # self.S != None\n",
    "                pred = {s : set() for s in self.S}\n",
    "                for s in self.S:\n",
    "                    for t in self.succ(s):\n",
    "                        pred[t].add(s)\n",
    "                self._g = dict()\n",
    "                self.g = lambda s: self._g[s]\n",
    "                d = dict()\n",
    "                pile = []\n",
    "                for s in self.S:\n",
    "                    d[s] = len(self.succ(s))\n",
    "                    if d[s] == 0: pile.append(s)\n",
    "                while pile:\n",
    "                    s = pile.pop()\n",
    "                    self._g[s] = 0\n",
    "                    vals = set(map(self.g, self.succ(s)))\n",
    "                    while self._g[s] in vals:\n",
    "                        self._g[s] += 1\n",
    "                    for r in pred[s]:\n",
    "                        d[r] -= 1\n",
    "                        if d[r] == 0: pile.append(r)\n",
    "            else:\n",
    "                self.g = g\n",
    "\n",
    "            self.inK = lambda s: self.g(s) == 0 \n",
    "\n",
    "        else:\n",
    "\n",
    "            self.inK = inK\n",
    "            \n",
    "    def verifK(self):\n",
    "        \"\"\"\n",
    "        Dans le cas d'une représentation pleine,\n",
    "        renvoie True si self.inK représente bien le noyau\n",
    "        \"\"\"\n",
    "\n",
    "        return all(([t for t in self.succ(s) if self.inK(t)] == []) == self.inK(s) for s in self.S)\n",
    "\n",
    "    def play(self, s):\n",
    "\n",
    "        from random import choice\n",
    "\n",
    "        T = self.succ(s)\n",
    "        if T: return choice(list(T if self.inK(s) else {t for t in T if self.inK(t)}))    \n",
    "\n",
    "    def game(self,s):\n",
    "        \n",
    "        begin = True\n",
    "        while True:\n",
    "            print(f'{\"  \" if begin else \"➞\"} {s} {\"∈\" if self.inK(s) else \"∉\"} K')\n",
    "            begin = False\n",
    "            s = self.play(s)\n",
    "            if s is None:\n",
    "                break"
   ]
  },
  {
   "cell_type": "markdown",
   "id": "2c05cfc7",
   "metadata": {},
   "source": [
    "### Blackjack mathématique\n",
    "\n",
    "Fixons $n>0$ et $x\\geqslant0$. Le jeu se compose de $2n$ cartes numérotées de $0$ à $2n-1$. Une *position* du jeu est un ensemble de $n$ de ces cartes formant le *tas principal*, les $n$ cartes restantes formant le *tas secondaire*. A tout moment, les $2n$ cartes des deux tas sont visibles des deux joueurs.    \n",
    "Au début du jeu, $n$ cartes sont choisies au hasard pour former la position initiale.  \n",
    "\n",
    "Chaque joueur à son tour joue de la manière suivante\n",
    "- si le tas principal est $\\{0,1,\\ldots,n-1\\}$ ou si la somme des numéros des cartes du tas principal est $\\leqslant x$, il a perdu ;\n",
    "- sinon, il échange une carte du tas principal avec une carte de numéro inférieur du tas secondaire.\n",
    "\n",
    "#### Remarque\n",
    "Le Blackjack mathématique officiel est le cas $n=6$ et $x=21$ (page 10 de [David Joyner et Ann Casey](https://citeseerx.ist.psu.edu/pdf/d8a75b8a4a6290d44ed7c9c345591d5a681ccbdb)). \n",
    "\n"
   ]
  },
  {
   "cell_type": "code",
   "execution_count": 2,
   "id": "f18ef6d6",
   "metadata": {},
   "outputs": [],
   "source": [
    "def Blackjack(n = 6, x = 0):\n",
    "\n",
    "        from itertools import combinations\n",
    "\n",
    "        S = set(combinations(range(2 * n), n))\n",
    "\n",
    "        def succ(state):\n",
    "            if sum(state) <= x:\n",
    "                return set()\n",
    "            E = set()\n",
    "            e = set(range(2 * n))\n",
    "            s = set(state)\n",
    "            for i in s:\n",
    "                for j in e - s:\n",
    "                    if j < i:\n",
    "                        E.add(tuple(sorted(s - {i} | {j})))\n",
    "            return E\n",
    "        \n",
    "        return GAME(S=S, succ=succ)"
   ]
  },
  {
   "cell_type": "code",
   "execution_count": 3,
   "id": "96b703f4",
   "metadata": {},
   "outputs": [
    {
     "data": {
      "text/plain": [
       "True"
      ]
     },
     "execution_count": 3,
     "metadata": {},
     "output_type": "execute_result"
    }
   ],
   "source": [
    "blackjack = Blackjack()\n",
    "\n",
    "blackjack.verifK()"
   ]
  },
  {
   "cell_type": "code",
   "execution_count": 4,
   "id": "16fe21cb",
   "metadata": {},
   "outputs": [
    {
     "name": "stdout",
     "output_type": "stream",
     "text": [
      "   (6, 7, 8, 9, 10, 11) ∈ K\n",
      "➞ (5, 7, 8, 9, 10, 11) ∉ K\n",
      "➞ (0, 5, 7, 8, 9, 10) ∈ K\n",
      "➞ (0, 3, 5, 7, 8, 10) ∉ K\n",
      "➞ (0, 2, 3, 5, 7, 10) ∈ K\n",
      "➞ (0, 1, 2, 3, 5, 10) ∉ K\n",
      "➞ (0, 1, 2, 3, 4, 5) ∈ K\n"
     ]
    }
   ],
   "source": [
    "\n",
    "blackjack.game((6,7,8,9,10,11))"
   ]
  },
  {
   "cell_type": "markdown",
   "id": "3ae7c9c9",
   "metadata": {},
   "source": [
    "### Jeu des bâtonnets (Fort-Boyard)\n",
    "\n",
    "On fixe $k>0$. On dispose d'un tas de $n>0$ bâtonnets.   \n",
    "Chaque joueur, à son tour, supprime du tas $h\\in[1,k-1]$ bâtonnets du tas. Le joueur qui se trouve devant un tas vide a perdu.\n",
    "\n",
    "Ce jeu est associé au graphe acyclique localement borné $B=(\\mathbf N, A)$ où $(s,t)\\in A\\Leftrightarrow s-t\\in[1,k-1]$.\n",
    "\n",
    "On vérifie que la fonction de Grundy est donnée par $g_B(s)=s$ mod $k\\in[0,k-1]$  "
   ]
  },
  {
   "cell_type": "code",
   "execution_count": 5,
   "id": "af94eacb",
   "metadata": {},
   "outputs": [],
   "source": [
    "def Batonnets(k):\n",
    "\n",
    "    def succ(s):\n",
    "        return {s - h for h in range(1,k) if s >= h}\n",
    "    \n",
    "    def g(s):\n",
    "        return s % k\n",
    "    \n",
    "    return GAME(succ=succ, g=g)"
   ]
  },
  {
   "cell_type": "code",
   "execution_count": 6,
   "id": "8a32028e",
   "metadata": {},
   "outputs": [
    {
     "name": "stdout",
     "output_type": "stream",
     "text": [
      "   20 ∈ K\n",
      "➞ 17 ∉ K\n",
      "➞ 16 ∈ K\n",
      "➞ 15 ∉ K\n",
      "➞ 12 ∈ K\n",
      "➞ 11 ∉ K\n",
      "➞ 8 ∈ K\n",
      "➞ 5 ∉ K\n",
      "➞ 4 ∈ K\n",
      "➞ 3 ∉ K\n",
      "➞ 0 ∈ K\n"
     ]
    }
   ],
   "source": [
    "Batonnets(4).game(20)"
   ]
  },
  {
   "cell_type": "markdown",
   "id": "e2225a5e",
   "metadata": {},
   "source": [
    "En fait, dans l'émission Fort-Boyard, le jeu est le \"qui perd gagne\" du jeu ci-dessus. Celui qui prend le dernier bâtonnet a perdu"
   ]
  },
  {
   "cell_type": "code",
   "execution_count": 7,
   "id": "ff08ef9a",
   "metadata": {},
   "outputs": [],
   "source": [
    "def FortBoyard(k):\n",
    "\n",
    "    def succ(s):\n",
    "        return {s - h for h in range(1,k) if s > h}\n",
    "    \n",
    "    def g(s):\n",
    "        return (s - 1) % k\n",
    "        \n",
    "    return GAME(succ=succ, g=g)"
   ]
  },
  {
   "cell_type": "code",
   "execution_count": 8,
   "id": "97e19ca4",
   "metadata": {},
   "outputs": [
    {
     "name": "stdout",
     "output_type": "stream",
     "text": [
      "   20 ∉ K\n",
      "➞ 17 ∈ K\n",
      "➞ 14 ∉ K\n",
      "➞ 13 ∈ K\n",
      "➞ 10 ∉ K\n",
      "➞ 9 ∈ K\n",
      "➞ 7 ∉ K\n",
      "➞ 5 ∈ K\n",
      "➞ 4 ∉ K\n",
      "➞ 1 ∈ K\n"
     ]
    }
   ],
   "source": [
    "FortBoyard(4).game(20)"
   ]
  },
  {
   "cell_type": "markdown",
   "id": "62fa4df4",
   "metadata": {},
   "source": [
    "## Somme de graphes\n",
    "\n",
    "### Définition\n",
    "$G_i=(S_i,A_i)$, $i = 1,2$, sont deux graphes orientés.  \n",
    "Leur *somme cartésienne* $G=G_1+G_2$ est définie par $S_G=S_1\\times S_2$ et, pour $s=(s_1,s_2)\\in S\\;$, succ $\\!{}_G(s)=\\{s_1\\}\\times$ succ $\\!{}_{G_2}(s_2)\\;\\cup$ succ $\\!{}_{G_1}(s_1)\\times\\{s_2\\}$.  \n",
    "\n",
    "Si on identifie les éléments $((s_1,s_2),s_3)$, $(s_1,(s_2,s_3))$ et $(s_1,s_2,s_3)$, cette opération est associative  \n",
    "et la somme $G_1+\\dots+G_p$ de $p$ graphes $G_i=(S_i,A_i)$, $i = 1,\\ldots,p$, est définie par  \n",
    "$S_G=S_1\\times\\ldots\\times S_p$ et $((s_1,\\ldots,s_p),(t_1,\\ldots,t_p))\\in A_G \\Leftrightarrow\\exists i:(s_i,t_i)\\in A_i$ et $\\forall j\\neq i,\\;s_j=t_j$.\n",
    "\n",
    "Si les $G_i$ sont acycliques localement bornés, il en est de même de leur somme $G$.\n",
    "\n",
    "### Le ou exclusif\n",
    "\n",
    "Le *ou exclusif* ou *xor*, noté $\\oplus$, est la loi\n",
    "de composition interne sur $\\{0,1\\}$ définie par $n\\oplus m=n+m$ mod $2\\in\\{0,1\\}$.    \n",
    "On prolonge $\\oplus$ à $\\mathbf N$ en posant $n\\oplus m=\\Sigma_i (n_i\\oplus m_i)2^i$   \n",
    "où $n=\\Sigma_i n_i 2^i$ et $m=\\Sigma_i m_i 2^i$ \n",
    "sont les écritures en base $2$ des deux entiers $n$ et $m$ ($n_i,m_i\\in\\{0,1\\}$).\n",
    "\n",
    "On vérifie aisément que $(\\mathbf N,\\oplus)$ est un groupe commutatif, le neutre est $0$ et l'opposé $\\ominus n$ d'un entier $n$ est $n$ lui-même.\n",
    "\n",
    "### Lien entre les deux notions\n",
    "\n",
    "**Lemme** \n",
    "$\\ \\forall j,n,m\\in\\mathbf N,\\;j<n\\oplus m\\Rightarrow(j\\oplus m<n$ ou $j\\oplus n<m)$  \n",
    "\n",
    "**preuve** \n",
    "Si $j<n\\oplus m$, il existe $\\ell\\in\\mathbf N$ tel\n",
    "que $j_{\\ell}<(n\\oplus m)_{\\ell}=n_{\\ell}\\oplus m_{\\ell}$\n",
    "et $i>\\ell\\Rightarrow j_i=n_i\\oplus m_i$.  \n",
    "On a donc $j_{\\ell}=0$ et $\\{n_{\\ell},m_{\\ell}\\}=\\{0,1\\}$.  \n",
    "Si, par exemple, $n_{\\ell}=0$ et $m_{\\ell}=1$, alors \n",
    "$j_{\\ell}\\oplus n_{\\ell}=0<1=m_{\\ell}$ et\n",
    "$i>\\ell\\Rightarrow j_i\\oplus n_i=m_i$  \n",
    "donc  $j\\oplus n<m$. $\\blacksquare$\n",
    "\n",
    "**Th** Si $G_1,\\dots,G_p$ sont $p$ graphes acycliques localement bornés, alors, avec la convention $g_{G_1}\\oplus\\ldots\\oplus g_{G_p}(s_1,\\ldots,s_p)=g_{G_1}(s_1)\\oplus\\ldots\\oplus g_{G_p}(s_p)$, on a :\n",
    "\n",
    "$g_{G_1+\\dots+G_p}=g_{G_1}\\oplus\\ldots\\oplus g_{G_p}$\n",
    "\n",
    "**preuve** On peut supposer que $p=2$. Il s'agit de démontrer que la fonction $g=g_1\\oplus g_2$ ($g_i=g_{G_i}$), définie sur $S=S_1\\times S_2$,satisfait la propriété (1) caractéristique de la fonction de Grundy de $G=G_1+G_2$, sachant que $g_i$ satisfait cette propriété pour $G_i$.    \n",
    "Soit donc $s=(s_1,s_2)\\in S$ de sorte que $g(s)=g_1(s_1)\\oplus g_2(s_2)$.   \n",
    "- $g(s)\\in\\mathbf N\\setminus g(\\!$ succ $\\!{}_G(s))$  car sinon $g(s)=g(t)$ avec $t\\in$ succ $\\!{}_G(s)$, par exemple, $t=(s_1,t_2)$ où $t_2\\in$ succ $\\!{}_2(s_2)$.    \n",
    "Alors $g_1(s_1)\\oplus g_2(s_2)=g_1(s_1)\\oplus g_2(t_2)$, d'où $g_2(s_2)=g_2(t_2)\\in g_2(\\!$ succ $\\!{}_2(s_2))$ ce qui est faux.\n",
    "- Reste à montrer que $g(s)$ est le plus petit des éléments de $\\mathbf N\\setminus g(\\!$ succ $\\!{}_G(s))$, c'est à dire que tout $j<g(s)$ appartient à $g(\\!$ succ $\\!{}_G(s))$.   \n",
    "Et en effet, si $j<g_1(s_1)\\oplus g_2(s_2)$, le lemme précédent implique que, par exemple, $j\\oplus g_1(s_1)<g_2(s_2)$, de sorte que $j\\oplus g_1(s_1)\\in g_2(\\!$ succ $\\!{}_2(s_2))$ :  \n",
    "$j\\oplus g_1(s_1)=g_2(t_2)$ où $t_2\\in$ succ $\\!{}_2(s_2)$.\n",
    "Finalement, $j=g_1(s_1)\\oplus g_2(t_2)=g(s_1,t_2)\\in g(\\!$ succ $\\!{}_G(s))$. $\\blacksquare$ \n",
    "\n",
    "\n"
   ]
  },
  {
   "cell_type": "code",
   "execution_count": 9,
   "id": "c40458b8",
   "metadata": {},
   "outputs": [],
   "source": [
    "def cartesianSum(graphs):\n",
    "    \"\"\"\n",
    "    graphs est une liste ou un tuple de graphes Gi\n",
    "    chaque Gi est une instance de GRAPHE telle que Gi.g n'est pas None\n",
    "    \"\"\"\n",
    "    p = len(graphs)\n",
    "\n",
    "    def succ(s):\n",
    "        e = set()\n",
    "        for i, G in enumerate(graphs):\n",
    "            for t in G.succ(s[i]):\n",
    "                e.add(tuple(t if j == i else s[j] for j in range(p)))\n",
    "        return e\n",
    "    \n",
    "    def g(s):\n",
    "        k = 0\n",
    "        for i, G in enumerate(graphs):\n",
    "            k ^= G.g(s[i]) # en python, l'opérateur xor est \"^\"\n",
    "        return k\n",
    "    \n",
    "    return GAME(succ=succ, g=g)\n",
    "\n",
    "#def __add__(self, G):\n",
    "#    return cartesianSum([self, G])\n",
    "#\n",
    "#GAME.__add__ = __add__\n"
   ]
  },
  {
   "cell_type": "markdown",
   "id": "9bc493bf",
   "metadata": {},
   "source": [
    "### Les jeux de Nim et de Marienbad\n",
    "\n",
    "Le graphe *Nim*${}_0=(\\mathbf{N},A_0)$ avec $(s,t)\\in A_0\\Leftrightarrow s<t$, est acyclique  localement borné."
   ]
  },
  {
   "cell_type": "code",
   "execution_count": 10,
   "id": "8aaa5c6c",
   "metadata": {},
   "outputs": [],
   "source": [
    "Nim0 = GAME(succ=lambda s: set(range(s)), g = lambda s: s)"
   ]
  },
  {
   "cell_type": "markdown",
   "id": "c8fb16b8",
   "metadata": {},
   "source": [
    "Le *jeu de Nim* est associé au graphe *Nim*${}_p=$ *Nim*${}_0+\\ldots+$ *Nim*${}_0$ ($p$ fois)"
   ]
  },
  {
   "cell_type": "code",
   "execution_count": 11,
   "id": "7d3ec2bf",
   "metadata": {},
   "outputs": [],
   "source": [
    "def Nim(p):\n",
    "    return cartesianSum([Nim0 for _ in range(p)]) if p else Nim0"
   ]
  },
  {
   "cell_type": "code",
   "execution_count": 12,
   "id": "a38687ce",
   "metadata": {},
   "outputs": [
    {
     "name": "stdout",
     "output_type": "stream",
     "text": [
      "   (1, 2, 3, 4, 4) ∈ K\n",
      "➞ (1, 2, 0, 4, 4) ∉ K\n",
      "➞ (1, 1, 0, 4, 4) ∈ K\n",
      "➞ (1, 1, 0, 0, 4) ∉ K\n",
      "➞ (1, 1, 0, 0, 0) ∈ K\n",
      "➞ (0, 1, 0, 0, 0) ∉ K\n",
      "➞ (0, 0, 0, 0, 0) ∈ K\n"
     ]
    }
   ],
   "source": [
    "Nim(5).game((1,2,3,4,4))"
   ]
  },
  {
   "cell_type": "markdown",
   "id": "1ddc366a",
   "metadata": {},
   "source": [
    "Le *jeu de Marienbad* est le \"qui perd gagne\" du jeu de Nim. Les feuilles (positions perdantes) sont les $p$-uplets $(s_1,\\ldots,s_p)$ où tous les $s_i$ sont nuls sauf un qui vaut $1$.  \n",
    "La stratégie est la même que pour le jeu de Nim, sauf en fin de partie, quand tous les $s_i$ sont dans $\\{0,1\\}$ sauf un."
   ]
  },
  {
   "cell_type": "code",
   "execution_count": 13,
   "id": "eb8755bb",
   "metadata": {},
   "outputs": [],
   "source": [
    "def Marienbad(p):\n",
    " \n",
    "    GNim = Nim(p)\n",
    "\n",
    "    def succ(s):\n",
    "        return set() if sum(s) == 1 else GNim.succ(s)\n",
    "\n",
    "    def inK(s):\n",
    "        return not GNim.inK(s) if set(s) <= {0,1} else GNim.inK(s)\n",
    "    \n",
    "    return GAME(succ=succ, inK=inK)\n",
    "            "
   ]
  },
  {
   "cell_type": "code",
   "execution_count": 14,
   "id": "0b40fe4b",
   "metadata": {},
   "outputs": [
    {
     "name": "stdout",
     "output_type": "stream",
     "text": [
      "   (1, 2, 3, 4, 4) ∈ K\n",
      "➞ (1, 2, 2, 4, 4) ∉ K\n",
      "➞ (0, 2, 2, 4, 4) ∈ K\n",
      "➞ (0, 2, 2, 4, 1) ∉ K\n",
      "➞ (0, 2, 2, 1, 1) ∈ K\n",
      "➞ (0, 2, 2, 0, 1) ∉ K\n",
      "➞ (0, 2, 2, 0, 0) ∈ K\n",
      "➞ (0, 0, 2, 0, 0) ∉ K\n",
      "➞ (0, 0, 1, 0, 0) ∈ K\n"
     ]
    }
   ],
   "source": [
    "Marienbad(5).game((1,2,3,4,4))"
   ]
  },
  {
   "cell_type": "markdown",
   "id": "11b2e35e",
   "metadata": {},
   "source": [
    "## Autres jeux"
   ]
  },
  {
   "cell_type": "markdown",
   "id": "cb21f9c1",
   "metadata": {},
   "source": [
    "### Jeu de Wythoff\n",
    "\n",
    "Il s'agit d'une modification du jeu Nim $\\!{}_2$ dans laquelle on autorise le joueur à diminuer d'une même quantité chacun des deux entiers constituant une position.\n",
    "\n",
    "Plus précisément le jeu est associé au graphe $W$ défini par $S_W=\\mathbf N\\times\\mathbf N$ et   \n",
    "$(p,q)\\in$ succ $\\!{}_W(n,m)\\Leftrightarrow (p=n$ et $q<m)$ ou $(p<n$ et $q=m)$ ou $(\\exists k > 0, \\;(p,q)=(n-k,m-k))$\n",
    "\n",
    "On ne connait pas d'expression simple de la fonction $g_W$.  \n",
    "\n",
    "Calculons le noyau $K_W$ restreint à $[0,7]\\times[0,7]$ en coloriant en rouge les éléments de  $K_W$ et en vert ceux de son complémentaire $K_W^{\\text c}$\n",
    "\n",
    "![images/fig1.png](images/fig1.png)\n",
    "\n",
    "En généralisant ce procédé, on démontre aisément que $K_W=\\{(a_n,b_n)\\;,\\;n\\in\\mathbf N\\}\\cup\\{(b_n,a_n)\\;,\\;n\\in\\mathbf N\\}$ où   \n",
    "$b_n=a_n+n$, $a_0=0$ et, pour $n>0$,\n",
    "$a_n=$ min $\\!([a_{n-1}+1,+\\infty[\\;\\setminus\\;\\{b_i\\;,\\;i=0,\\ldots,n-1\\})$"
   ]
  },
  {
   "cell_type": "code",
   "execution_count": 15,
   "id": "0ba77778",
   "metadata": {},
   "outputs": [],
   "source": [
    "def _Wythoff():\n",
    "\n",
    "    # K = [a_0,...,a_n]\n",
    "    # N = a_n\n",
    "    # i = le max des j tq b_j < N\n",
    "    K = [0]\n",
    "    N = n = 0\n",
    "    i = 0\n",
    "   \n",
    "    def succ(s):\n",
    "        n, m = s\n",
    "        return {(n, q) for q in range(m)} | {(p, m) for p in range(n)} | {(n - k - 1, m - k - 1) for k in range(min(n,m))}\n",
    "\n",
    "    def inK(s):\n",
    "        nonlocal K, N, i, n\n",
    "        a, b = s\n",
    "        if b < a: a, b = b, a\n",
    "        while n < b - a:\n",
    "            n += 1\n",
    "            N += 1\n",
    "            while i < n - 1 and K[i+1] + i + 1 == N:\n",
    "                N += 1\n",
    "                i += 1\n",
    "            K.append(N)\n",
    "        return K[b - a] == a\n",
    "\n",
    "    return GAME(succ=succ, inK=inK)\n",
    "\n",
    "Wythoff = _Wythoff()"
   ]
  },
  {
   "cell_type": "code",
   "execution_count": 16,
   "id": "81713345",
   "metadata": {},
   "outputs": [
    {
     "name": "stdout",
     "output_type": "stream",
     "text": [
      "   (1000, 500) ∉ K\n",
      "➞ (309, 500) ∈ K\n",
      "➞ (309, 483) ∉ K\n",
      "➞ (281, 455) ∈ K\n",
      "➞ (248, 422) ∉ K\n",
      "➞ (248, 153) ∈ K\n",
      "➞ (145, 153) ∉ K\n",
      "➞ (12, 20) ∈ K\n",
      "➞ (12, 15) ∉ K\n",
      "➞ (9, 15) ∈ K\n",
      "➞ (2, 8) ∉ K\n",
      "➞ (2, 1) ∈ K\n",
      "➞ (1, 0) ∉ K\n",
      "➞ (0, 0) ∈ K\n"
     ]
    }
   ],
   "source": [
    "Wythoff.game((1000,500))"
   ]
  },
  {
   "cell_type": "markdown",
   "id": "fe755ab6",
   "metadata": {},
   "source": [
    "On peut aussi montrer, voir  [la thèse de G. Nivasch](https://drive.google.com/file/d/1Dft4Z_2SpegUq_VcBFxdm7A2I1cNk-t8/view) pages 13 et suivantes, que $a_n=\\lfloor n\\varphi\\rfloor$ et $b_n=\\lfloor n\\varphi^2\\rfloor$ où $\\varphi = (1+\\sqrt 5)/2$ et $\\lfloor x\\rfloor$ désigne la partie entière de $x$.\n",
    "\n",
    "D'où une autre implémentation"
   ]
  },
  {
   "cell_type": "code",
   "execution_count": 17,
   "id": "e17c9aa6",
   "metadata": {},
   "outputs": [],
   "source": [
    "def _WythoffBis():\n",
    "\n",
    "    phi = .5 + .5 * 5.**.5\n",
    "\n",
    "    def inK(s):\n",
    "        a, b = s\n",
    "        if b < a:\n",
    "            a, b = b, a\n",
    "        n = b - a\n",
    "        return a == int(phi * n)\n",
    "    \n",
    "    return GAME(succ=Wythoff.succ, inK=inK)\n",
    "        \n",
    "WythoffBis = _WythoffBis()\n"
   ]
  },
  {
   "cell_type": "code",
   "execution_count": 18,
   "id": "01a014c2",
   "metadata": {},
   "outputs": [
    {
     "name": "stdout",
     "output_type": "stream",
     "text": [
      "   (1000, 500) ∉ K\n",
      "➞ (309, 500) ∈ K\n",
      "➞ (59, 500) ∉ K\n",
      "➞ (59, 96) ∈ K\n",
      "➞ (12, 49) ∉ K\n",
      "➞ (12, 20) ∈ K\n",
      "➞ (5, 13) ∉ K\n",
      "➞ (5, 3) ∈ K\n",
      "➞ (3, 1) ∉ K\n",
      "➞ (2, 1) ∈ K\n",
      "➞ (0, 1) ∉ K\n",
      "➞ (0, 0) ∈ K\n"
     ]
    }
   ],
   "source": [
    "WythoffBis.game((1000,500))"
   ]
  }
 ],
 "metadata": {
  "kernelspec": {
   "display_name": "Python 3 (ipykernel)",
   "language": "python",
   "name": "python3"
  },
  "language_info": {
   "codemirror_mode": {
    "name": "ipython",
    "version": 3
   },
   "file_extension": ".py",
   "mimetype": "text/x-python",
   "name": "python",
   "nbconvert_exporter": "python",
   "pygments_lexer": "ipython3",
   "version": "3.10.5"
  }
 },
 "nbformat": 4,
 "nbformat_minor": 5
}
