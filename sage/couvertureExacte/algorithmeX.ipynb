{
 "cells": [
  {
   "cell_type": "markdown",
   "metadata": {},
   "source": [
    "# Le problème de la couverture exacte"
   ]
  },
  {
   "cell_type": "markdown",
   "metadata": {},
   "source": [
    "## Objet du problème\n",
    "\n",
    "$F$ étant un ensemble de parties non vides d'un ensemble fini $E$,\n",
    "il s'agit de trouver une partie $C$ de \n",
    "$F$ qui constitue une partition de $E$ (les éléments de $C$ sont 2 à 2 disjoints et leur réunion est $E$).\n",
    "On dit que $C$ est une *couverture exacte*. \n",
    "\n",
    "Par exemple, avec $E=\\{0,1,2,3,4,5,6\\}$, une couverture exacte de\n",
    "$F=\\{\\{2,4,5\\},\\{0,3,6\\},\\{1,2,5\\},\\{0,3\\},\\{1,6\\},\\{3,4,6\\}\\}$ est\n",
    "$C=\\{\\{2,4,5\\},\\{0,3\\},\\{1,6\\}\\}$."
   ]
  },
  {
   "cell_type": "markdown",
   "metadata": {},
   "source": [
    "## L'algorithme X\n",
    "\n",
    "couverture-exacte $\\!(E,F)$ :  \n",
    "&nbsp;&nbsp;&nbsp;&nbsp;&nbsp;&nbsp;&nbsp;&nbsp;**si** $E=\\emptyset$ **alors**  \n",
    "&nbsp;&nbsp;&nbsp;&nbsp;&nbsp;&nbsp;&nbsp;&nbsp;&nbsp;&nbsp;&nbsp;&nbsp;&nbsp;&nbsp;&nbsp;&nbsp;**renvoyer** $\\emptyset$  \n",
    "&nbsp;&nbsp;&nbsp;&nbsp;&nbsp;&nbsp;&nbsp;&nbsp;**sinon**  \n",
    "&nbsp;&nbsp;&nbsp;&nbsp;&nbsp;&nbsp;&nbsp;&nbsp;&nbsp;&nbsp;&nbsp;&nbsp;&nbsp;&nbsp;&nbsp;&nbsp;**choisir** $x\\in E$  \n",
    "&nbsp;&nbsp;&nbsp;&nbsp;&nbsp;&nbsp;&nbsp;&nbsp;&nbsp;&nbsp;&nbsp;&nbsp;&nbsp;&nbsp;&nbsp;&nbsp;**pour tout** $P$ tel que $x\\in P\\in F$  **faire**    \n",
    "&nbsp;&nbsp;&nbsp;&nbsp;&nbsp;&nbsp;&nbsp;&nbsp;&nbsp;&nbsp;&nbsp;&nbsp;&nbsp;&nbsp;&nbsp;&nbsp;&nbsp;&nbsp;&nbsp;&nbsp;&nbsp;&nbsp;&nbsp;&nbsp;$E'\\leftarrow E\\setminus P$  \n",
    "&nbsp;&nbsp;&nbsp;&nbsp;&nbsp;&nbsp;&nbsp;&nbsp;&nbsp;&nbsp;&nbsp;&nbsp;&nbsp;&nbsp;&nbsp;&nbsp;&nbsp;&nbsp;&nbsp;&nbsp;&nbsp;&nbsp;&nbsp;&nbsp;$F'\\leftarrow\\{Q\\in F\\,,\\,P\\cap Q=\\emptyset\\}$  \n",
    "&nbsp;&nbsp;&nbsp;&nbsp;&nbsp;&nbsp;&nbsp;&nbsp;&nbsp;&nbsp;&nbsp;&nbsp;&nbsp;&nbsp;&nbsp;&nbsp;&nbsp;&nbsp;&nbsp;&nbsp;&nbsp;&nbsp;&nbsp;&nbsp;**si** couverture-exacte $\\!(E',F')$ renvoie $C$ **alors**   \n",
    "&nbsp;&nbsp;&nbsp;&nbsp;&nbsp;&nbsp;&nbsp;&nbsp;&nbsp;&nbsp;&nbsp;&nbsp;&nbsp;&nbsp;&nbsp;&nbsp;&nbsp;&nbsp;&nbsp;&nbsp;&nbsp;&nbsp;&nbsp;&nbsp;&nbsp;&nbsp;&nbsp;&nbsp;&nbsp;&nbsp;&nbsp;&nbsp;**renvoyer** $C\\cup\\{P\\}$\n",
    "\n",
    "Cet algorithme termine car le cardinal de $E'$ dans\n",
    "les appels récursifs est strictement inférieur à celui de $E$.  \n",
    "La structure même de l'algorithme fournit une preuve de sa validité."
   ]
  },
  {
   "cell_type": "markdown",
   "metadata": {},
   "source": [
    "## Implémentation"
   ]
  },
  {
   "cell_type": "markdown",
   "metadata": {},
   "source": [
    "### Méthode élémentaire\n",
    "On peut implémenter l'algorithme en Python, voir par exemplee [ici](https://www.cs.mcgill.ca/~aassaf9/python/algorithm_x.html). "
   ]
  },
  {
   "cell_type": "markdown",
   "metadata": {},
   "source": [
    "### Méthode de Knuth\n",
    "[Donald Knuth](https://www-cs-faculty.stanford.edu/~knuth/) a mis au point une méthode efficace : les [liens dansants](https://arxiv.org/pdf/cs/0011047.pdf). Mais cette méthode, qui est basée sur une utilisation astucieuse de pointeurs,  perd son efficacité si on l'implémente en pur Python et il faut utiliser le langage C. A ma connaissance, il n'existe pas de module Python implémentant les liens dansants en C. Par contre, un tel module existe en [Sage](https://www.sagemath.org/). Le code suivant est environ 10 fois plus rapide que toute implémentation pur Python."
   ]
  },
  {
   "cell_type": "code",
   "execution_count": 4,
   "metadata": {},
   "outputs": [],
   "source": [
    "class AlgorithmeX:\n",
    "\n",
    "    def __init__(self, F, obl = [], fac = []):\n",
    "\n",
    "        \"\"\"F est un dictionnaire d'objets hashables :\n",
    "        {<choix> : [<contrainte>,...],...}\n",
    "        obl est la liste des choix obligatoires.\n",
    "        fac est la liste des contraintes facultatives.\n",
    "        \"\"\"\n",
    "\n",
    "        self.dictFac = {'_facultatif' + str(i) : [k] for i,k in enumerate(fac)}\n",
    "        self.F = {**F, **self.dictFac}\n",
    "        E = set() \n",
    "        for l in self.F: E |= set(self.F[l])  \n",
    "        self.E = list(E)    \n",
    "        self.cardF = len(self.F)\n",
    "        self.obl = obl\n",
    "\n",
    "    def solve(self):\n",
    "        \"\"\"Renvoie un iterateur des solutions \n",
    "        \"\"\"\n",
    "        from sage.combinat.matrices.dancing_links import dlx_solver\n",
    "        dictE = {k : int(i) for i, k in enumerate(self.E)}\n",
    "        keysF = list(self.F.keys())\n",
    "        dictF = {k : int(i) for i, k in enumerate(self.F)}\n",
    "        entiersF = [list(map((lambda o: dictE[o]),self.F[keysF[i]])) for i in range(self.cardF)]\n",
    "        def solutions():\n",
    "            for s in dlx_solver(entiersF).restrict(map((lambda o: dictF[o]),self.obl)).solutions_iterator():\n",
    "                yield list(set(map((lambda i: keysF[i]),s)) - set(self.dictFac.keys()))\n",
    "        return solutions()\n",
    "\n",
    "    def printSolution(self,sol):\n",
    "        for l in sol: print(self.F[l])            "
   ]
  },
  {
   "cell_type": "markdown",
   "metadata": {},
   "source": [
    "### Test 1"
   ]
  },
  {
   "cell_type": "code",
   "execution_count": 5,
   "metadata": {},
   "outputs": [],
   "source": [
    "F = {'1': [1,2],'2': [3,4,5],'3': [0,1],'4': [2,3,4,5],'5': [0],'6': [1,2,3,4,5,6]}\n",
    "aX = AlgorithmeX(F,obl=['5'],fac=[6])\n",
    "#for sol in aX.solve(): print(sol)       "
   ]
  },
  {
   "cell_type": "markdown",
   "metadata": {},
   "source": [
    "### Test 2"
   ]
  },
  {
   "cell_type": "code",
   "execution_count": 6,
   "metadata": {},
   "outputs": [],
   "source": [
    "F = {'A' : ['1', 4, '7'],\n",
    "     'B' : ['1', 4],\n",
    "     'C' : [4, '5', '7'],\n",
    "     'D' : [ '5','3', '6'],\n",
    "     'E' : [ (3,4), '3', '6', '7'],\n",
    "     'F' : [ (3,4), '7']}\n",
    "\n",
    "aX = AlgorithmeX(F)    \n",
    "#for sol in aX.solve(): aX.printSolution(sol)    "
   ]
  }
 ],
 "metadata": {
  "kernelspec": {
   "display_name": "SageMath 9.5",
   "language": "sage",
   "name": "sagemath"
  },
  "language_info": {
   "codemirror_mode": {
    "name": "ipython",
    "version": 3
   },
   "file_extension": ".py",
   "mimetype": "text/x-python",
   "name": "python",
   "nbconvert_exporter": "python",
   "pygments_lexer": "ipython3",
   "version": "3.10.12"
  }
 },
 "nbformat": 4,
 "nbformat_minor": 4
}
