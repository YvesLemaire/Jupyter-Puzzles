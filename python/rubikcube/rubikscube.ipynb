{
 "cells": [
  {
   "cell_type": "markdown",
   "metadata": {},
   "source": [
    "# [Rubik's cube](https://fr.wikipedia.org/wiki/Rubik%27s_Cube#:~:text=Le%20Rubik's%20Cube%20est%20un,ar%C3%AAte%20%C3%A0%20deux%20faces%20visibles.)\n",
    "\n",
    "## [Le cube 2x2x2](https://fr.wikipedia.org/wiki/Pocket_Cube)\n",
    "\n",
    "On se propose d'écrire une fonction qui prend en entrée une position du cube et affiche une solution optimale.\n",
    "\n",
    "Chacune des 6 couleurs est représentée par l'initiale de son nom en anglais : [o]range, [b]lue, [r]ed, [w]hite, [y]ellow, [g]reen.\n",
    "\n",
    "Une position est représentée par une chaine `s` de 24 caractères selon le schéma suivant qui représente le cube développé :\n",
    "\n",
    "           0  1              \n",
    "           2  3              \n",
    "     4  5  8  9 12 13 16 17  \n",
    "     6  7 10 11 14 15 18 19  \n",
    "          20 21              \n",
    "          22 23              \n",
    "\n",
    "En convenant que la face `8 9 10 11` est face à soi, on demande que le cube orange, bleu  et blanc se trouve à l'arrière, à gauche et en bas, et aussi que sa face blanche soit horizontale (en bas) ; ce qui se traduit par `s[19] = 'o'`, `s[6] = 'b'` et `s[22] = 'w'`.\n",
    "\n",
    "Par exemple :"
   ]
  },
  {
   "cell_type": "code",
   "execution_count": 1,
   "metadata": {},
   "outputs": [],
   "source": [
    "s_exemple = 'yrgyryborgyrobgwwbgobwwo'"
   ]
  },
  {
   "cell_type": "markdown",
   "metadata": {},
   "source": [
    "Le cube résolu a pour position :"
   ]
  },
  {
   "cell_type": "code",
   "execution_count": 2,
   "metadata": {},
   "outputs": [],
   "source": [
    "unite = 'yyyybbbbrrrrggggoooowwww'"
   ]
  },
  {
   "cell_type": "markdown",
   "metadata": {},
   "source": [
    "On définit les transformations $R$, $R'$, $R^2$, $U$, $U'$, $U^2$, $F$, $F'$ et $F^2$ auxquelles on peut se restreindre si on convient que l'on ne bouge pas le coin arrière gauche bas. "
   ]
  },
  {
   "cell_type": "code",
   "execution_count": 3,
   "metadata": {},
   "outputs": [],
   "source": [
    "def R(s):\n",
    "    return              s[0]  + s[9] + \\\n",
    "                        s[2]  + s[11] + \\\n",
    "        s[4]  + s[5]  + \\\n",
    "        s[6]  + s[7]  + \\\n",
    "                        s[8]  + s[21]  + \\\n",
    "                        s[10] + s[23] + \\\n",
    "                                        s[14] + s[12] + \\\n",
    "                                        s[15] + s[13] + \\\n",
    "                                                        s[3] + s[17] + \\\n",
    "                                                        s[1] + s[19] + \\\n",
    "                        s[20] + s[18] + \\\n",
    "                        s[22] + s[16]\n",
    "              \n",
    "def Rp(s):\n",
    "    return              s[0]  + s[18] + \\\n",
    "                        s[2]  + s[16] + \\\n",
    "        s[4]  + s[5]  + \\\n",
    "        s[6]  + s[7]  + \\\n",
    "                        s[8]  + s[1]  + \\\n",
    "                        s[10] + s[3] + \\\n",
    "                                        s[13] + s[15] + \\\n",
    "                                        s[12] + s[14] + \\\n",
    "                                                        s[23] + s[17] + \\\n",
    "                                                        s[21] + s[19] + \\\n",
    "                        s[20] + s[9] + \\\n",
    "                        s[22] + s[11]                  \n",
    "def R2(s):\n",
    "    return              s[0]  + s[21] + \\\n",
    "                        s[2]  + s[23] + \\\n",
    "        s[4]  + s[5]  + \\\n",
    "        s[6]  + s[7]  + \\\n",
    "                        s[8]  + s[18]  + \\\n",
    "                        s[10] + s[16] + \\\n",
    "                                        s[15] + s[14] + \\\n",
    "                                        s[13] + s[12] + \\\n",
    "                                                        s[11] + s[17] + \\\n",
    "                                                        s[9]  + s[19] + \\\n",
    "                        s[20] + s[1] + \\\n",
    "                        s[22] + s[3]                  \n",
    "\n",
    "def U(s):\n",
    "    return              s[2]  + s[0] + \\\n",
    "                        s[3]  + s[1] + \\\n",
    "        s[8]  + s[9]  + \\\n",
    "        s[6]  + s[7]  + \\\n",
    "                        s[12] + s[13] + \\\n",
    "                        s[10]  + s[11]  + \\\n",
    "                                        s[16] + s[17] + \\\n",
    "                                        s[14] + s[15] + \\\n",
    "                                                        s[4]  + s[5] + \\\n",
    "                                                        s[18] + s[19] + \\\n",
    "                        s[20] + s[21] + \\\n",
    "                        s[22] + s[23]\n",
    "\n",
    "def Up(s):\n",
    "    return              s[1]  + s[3] + \\\n",
    "                        s[0]  + s[2] + \\\n",
    "        s[16] + s[17] + \\\n",
    "        s[6]  + s[7]  + \\\n",
    "                        s[4]  + s[5] + \\\n",
    "                        s[10] + s[11] +  \\\n",
    "                                        s[8]  + s[9]  + \\\n",
    "                                        s[14] + s[15] + \\\n",
    "                                                        s[12] + s[13] +\\\n",
    "                                                        s[18] + s[19] +\\\n",
    "                        s[20] + s[21] + \\\n",
    "                        s[22] + s[23]\n",
    "\n",
    "def U2(s):\n",
    "    return              s[3]  + s[2] + \\\n",
    "                        s[1]  + s[0] + \\\n",
    "        s[12] + s[13] + \\\n",
    "        s[6]  + s[7]  +  \\\n",
    "                        s[16] + s[17] + \\\n",
    "                        s[10] + s[11] +\\\n",
    "                                        s[4]  + s[5]  + \\\n",
    "                                        s[14] + s[15] + \\\n",
    "                                                        s[8]  + s[9]  + \\\n",
    "                                                        s[18] + s[19] +\\\n",
    "                        s[20] + s[21] + \\\n",
    "                        s[22] + s[23]\n",
    "\n",
    "def F(s):\n",
    "    return              s[0]  + s[1] + \\\n",
    "                        s[7]  + s[5] + \\\n",
    "        s[4]  + s[20] + \\\n",
    "        s[6]  + s[21] +\\\n",
    "                        s[10] + s[8]  + \\\n",
    "                        s[11] + s[9]  + \\\n",
    "                                        s[2]  + s[13] + \\\n",
    "                                        s[3]  + s[15] + \\\n",
    "                                                        s[16] + s[17]  + \\\n",
    "                                                        s[18] + s[19] + \\\n",
    "                        s[14] + s[12] + \\\n",
    "                        s[22] + s[23]\n",
    "\n",
    "def Fp(s):\n",
    "    return              s[0]  + s[1] + \\\n",
    "                        s[12] + s[14] + \\\n",
    "        s[4]  + s[3]  + \\\n",
    "        s[6]  + s[2]  + \\\n",
    "                        s[9]  + s[11] + \\\n",
    "                        s[8]  + s[10] + \\\n",
    "                                        s[21] + s[13] + \\\n",
    "                                        s[20] + s[15] + \\\n",
    "                                                        s[16] + s[17]  + \\\n",
    "                                                        s[18] + s[19] + \\\n",
    "                        s[5]  + s[7] + \\\n",
    "                        s[22] + s[23]\n",
    "\n",
    "def F2(s):\n",
    "    return              s[0]  + s[1] + \\\n",
    "                        s[21] + s[20] + \\\n",
    "        s[4]  + s[14] + \\\n",
    "        s[6]  + s[12] + \\\n",
    "                        s[11] + s[10] + \\\n",
    "                        s[9]  + s[8]  + \\\n",
    "                                        s[7]  + s[13] + \\\n",
    "                                        s[5]  + s[15] + \\\n",
    "                                                        s[16] + s[17]  + \\\n",
    "                                                        s[18] + s[19] + \\\n",
    "                        s[3]  + s[2] + \\\n",
    "                        s[22] + s[23]\n",
    "\n",
    "inverses = {'R' : \"R'\", \"R'\" : 'R', 'R2' : 'R2', 'U' : \"U'\", \"U'\" : 'U', 'U2' : 'U2', 'F' : \"F'\", \"F'\" : 'F', 'F2' : 'F2'}\n",
    "mouvements = {'R' : R, \"R'\" : Rp, 'R2' : R2, 'U' : U, \"U'\" : Up, 'U2' : U2, 'F' : F, \"F'\" : Fp, 'F2' : F2}"
   ]
  },
  {
   "cell_type": "markdown",
   "metadata": {},
   "source": [
    "Soit $G$ le graphe dont les sommets sont les positions du cube et les arcs les couples $s\\rightarrow m(s)$ où $m$ est l'une des 6 transformations $R$, $R'$, etc.\n",
    "\n",
    "On effectue un parcours en largeur de $G$ partant de `unite` pour calculer la distance à `unite` de tous les sommets qui sont à une distance de unité $\\leqslant6$. On construit ainsi un dictionnaire `distances` dont les clés sont ces sommets et qui, à tout tel sommet $s$, associe le couple $(\\delta,m)$ où $\\delta$ est la distance de $s$ à `unite` et $m$ est (le nom de) la transformation qui envoie $s$ sur l'avant-dernier sommet d'un chemin de longueur $\\delta$ de `unite` à $s$."
   ]
  },
  {
   "cell_type": "code",
   "execution_count": 4,
   "metadata": {},
   "outputs": [],
   "source": [
    "from queue import Queue       \n",
    "\n",
    "d = 0\n",
    "distances = {unite : (0, None)}\n",
    "f = Queue()\n",
    "f.put(unite)\n",
    "stop = False\n",
    "while not stop:\n",
    "    t = f.get()\n",
    "    for m in mouvements: \n",
    "        s = mouvements[inverses[m]](t)\n",
    "        if not s in distances:\n",
    "            delta = distances[t][0] + 1\n",
    "            if d < delta:\n",
    "                d += 1\n",
    "                if d == 7:\n",
    "                    stop = True\n",
    "                    break\n",
    "            distances[s] = delta, m\n",
    "            f.put(s)"
   ]
  },
  {
   "cell_type": "markdown",
   "metadata": {},
   "source": [
    "Pour calculer une solution optimale pour une position $s$ donnée, on effectue cette fois un parcours en largeur de $G$ partant de $s$ pour calculer tous les sommets situés à une distance $\\leqslant5$ de $s$. A ceux de ces sommets qui sont des clés de `distances` (et qui sont donc à une distance $\\leqslant6$ de `unite`), on peut associer un chemin de longueur $\\leqslant 5+6=11$ de $s$ à `unite` et donc une solution de la position $s$. Parmi les solutions ainsi obtenues, au moins une est optimale car on sait qu'il existe toujours une solution de longueur $\\leqslant11$ (voir [ici](https://fr.wikipedia.org/wiki/Pocket_Cube)) et, si par exemple il existe un chemin de longueur 9 de $s$ à `unite`,\n",
    "le 4-ième sommet $q_4$ de ce chemin est à la distance $4\\leqslant 5$ de $s$  et à la distance $5\\leqslant6$ de `unite`. $q_4$ aura donc été pris en compte au cours du parcours."
   ]
  },
  {
   "cell_type": "code",
   "execution_count": 5,
   "metadata": {},
   "outputs": [],
   "source": [
    "def solve_rubik2(s):\n",
    "    d = 0\n",
    "    dist = {s : (0, None)}\n",
    "    f = Queue()\n",
    "    f.put(s)\n",
    "    stop = False\n",
    "    d_actu = 12\n",
    "    while not stop:\n",
    "        p = f.get()\n",
    "        for m in mouvements: \n",
    "            q = mouvements[m](p)\n",
    "            if not q in dist:\n",
    "                dist_s_q = dist[p][0] + 1\n",
    "                if d < dist_s_q:\n",
    "                    d += 1\n",
    "                    if d == 6:\n",
    "                        stop = True\n",
    "                        break\n",
    "                dist[q] = dist_s_q, m\n",
    "                if q in distances:\n",
    "                    dist_q_id = distances[q][0]\n",
    "                    dist_s_id = dist_s_q + dist_q_id\n",
    "                    if dist_s_id < d_actu:\n",
    "                        d_actu = dist_s_id\n",
    "                        l_id = []\n",
    "                        r = q\n",
    "                        while r != unite:\n",
    "                            _, m = distances[r]\n",
    "                            l_id.append(m)\n",
    "                            r = mouvements[m](r)\n",
    "                        l_s = []\n",
    "                        r = q\n",
    "                        while r != s:\n",
    "                            _, m = dist[r]\n",
    "                            l_s.append(m)\n",
    "                            r = mouvements[inverses[m]](r)\n",
    "                        l_s_id = l_s[::-1] + l_id\n",
    "                        for m in l_s_id:\n",
    "                            print(m, end = ' ')\n",
    "                        print(f'({dist_s_q + dist_q_id})')\n",
    "                f.put(q)  "
   ]
  },
  {
   "cell_type": "markdown",
   "metadata": {},
   "source": [
    "Tests"
   ]
  },
  {
   "cell_type": "code",
   "execution_count": 17,
   "metadata": {},
   "outputs": [
    {
     "name": "stdout",
     "output_type": "stream",
     "text": [
      "R U' R2 F2 U F U2 R2 F R (10)\n"
     ]
    }
   ],
   "source": [
    "solve_rubik2(s_exemple)"
   ]
  },
  {
   "cell_type": "code",
   "execution_count": 28,
   "metadata": {},
   "outputs": [
    {
     "name": "stdout",
     "output_type": "stream",
     "text": [
      "R U R' F U2 F' R U' F R F2 (11)\n"
     ]
    }
   ],
   "source": [
    "solve_rubik2('ywwwbrbyboryggoyrogobgwr')"
   ]
  },
  {
   "cell_type": "markdown",
   "metadata": {},
   "source": [
    "## [Le cube 3x3x3](https://en.wikipedia.org/wiki/Rubik%27s_Cube)\n",
    "\n",
    "Beaucoup plus difficile. On fait appel à l'excellent [programme](https://github.com/Wiston999/python-rubik) de Victor Cabezas qui calcule une solution presque optimale."
   ]
  },
  {
   "cell_type": "code",
   "execution_count": 8,
   "metadata": {},
   "outputs": [],
   "source": [
    "#! pip install rubik_solver\n",
    "\n",
    "import collections.abc\n",
    "collections.Iterable = collections.abc.Iterable\n",
    "collections.Mapping = collections.abc.Mapping\n",
    "from rubik_solver import utils\n",
    "\n",
    "def solve_rubik3(s):\n",
    "    l = utils.solve(s, 'Kociemba', timeOut = 10000)\n",
    "    for m in l:\n",
    "        print(m, end = ' ')\n",
    "    print(f'({len(l)})')"
   ]
  },
  {
   "cell_type": "code",
   "execution_count": 9,
   "metadata": {},
   "outputs": [
    {
     "name": "stdout",
     "output_type": "stream",
     "text": [
      "U' D R B2 D' R U D2 B L B2 U' F2 U2 D L2 F2 D B2 U2 (20)\n"
     ]
    }
   ],
   "source": [
    "solve_rubik3('grbryoyborbbbbobbbryyyrgrrgggyygrogroyygoogoowwwwwwwww')"
   ]
  },
  {
   "cell_type": "code",
   "execution_count": 1,
   "metadata": {},
   "outputs": [],
   "source": [
    "def KociembaToCabezas(c):\n",
    "    c = c[:9] + c[36:45] + c[18:27] + c[9:18] + c[45:] + c[27:36]\n",
    "    return c.replace('U','y').replace('L','b').replace('F','r').replace('R','g').replace('B','o').replace('D','w')"
   ]
  },
  {
   "cell_type": "code",
   "execution_count": 26,
   "metadata": {},
   "outputs": [
    {
     "name": "stdout",
     "output_type": "stream",
     "text": [
      "R L F U2 R2 U' D' F2 R' F B U L2 B2 D2 R2 D' L2 D B2 D (21)\n"
     ]
    }
   ],
   "source": [
    "kociembaSuperflip = 'UBULURUFURURFRBRDRFUFLFRFDFDFDLDRDBDLULBLFLDLBUBRBLBDB'\n",
    "solve_rubik3(KociembaToCabezas(kociembaSuperflip))"
   ]
  },
  {
   "cell_type": "code",
   "execution_count": 28,
   "metadata": {},
   "outputs": [
    {
     "name": "stdout",
     "output_type": "stream",
     "text": [
      "R U' F R2 D2 F L' U' R' D B U' F D R2 B2 L2 U2 B2 L2 D L2 U' (23)\n"
     ]
    }
   ],
   "source": [
    "kociembaHardest = 'RBFLURBFLBUUFRBBDDRUURFLRDDBFLLDRRBFFUUBLFFDDLUULBRLDD'\n",
    "solve_rubik3(KociembaToCabezas(kociembaHardest))"
   ]
  }
 ],
 "metadata": {
  "kernelspec": {
   "display_name": "Python 3 (ipykernel)",
   "language": "python",
   "name": "python3"
  },
  "language_info": {
   "codemirror_mode": {
    "name": "ipython",
    "version": 3
   },
   "file_extension": ".py",
   "mimetype": "text/x-python",
   "name": "python",
   "nbconvert_exporter": "python",
   "pygments_lexer": "ipython3",
   "version": "3.10.5"
  },
  "vscode": {
   "interpreter": {
    "hash": "369f2c481f4da34e4445cda3fffd2e751bd1c4d706f27375911949ba6bb62e1c"
   }
  }
 },
 "nbformat": 4,
 "nbformat_minor": 2
}
