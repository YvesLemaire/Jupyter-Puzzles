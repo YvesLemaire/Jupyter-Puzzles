{
 "cells": [
  {
   "cell_type": "code",
   "execution_count": 2,
   "metadata": {},
   "outputs": [],
   "source": [
    "%run ../../algorithmeX.ipynb"
   ]
  },
  {
   "cell_type": "markdown",
   "metadata": {},
   "source": [
    "## [Polyominos](https://fr.wikipedia.org/wiki/Polyomino)\n",
    "\n",
    "Pour $i,j\\in \\mathbf Z$, appelons *carré* $(i,j)$ le carré de côtés $1$ parallèles aux axes et centré en  $(i,j)$.\n",
    "\n",
    "![grille](grille.png)\n",
    "\n",
    "On représente un polyomino par une instance de la classe $\\texttt{PIECE}$ :\n",
    "\n",
    "*nom* $\\texttt{ = PIECE('}\\!$ *nom* $\\!\\texttt{',}$ *piece* $\\texttt{,}$ *couleur*  $\\texttt{)}$\n",
    "\n",
    "où *piece* est un ensemble (type $\\texttt{frozenset}$ et non  $\\texttt{set}$) de couples d'entiers $(i,j)$ qui représente la forme du polyomino.  \n",
    "Il est important que le nom donné à l'instance soit le même que celui passé en argument de  $\\texttt{\\_\\_init\\_\\_}$\n",
    "\n",
    "On définira par exemple le pentomino $F$ par :\n",
    "\n",
    "$\\texttt{F = PIECE('F', frozenset([(0,0), (0,1), (-1,1), (0,2), (1,2)]), couleur = 'skyblue')}$\n",
    "\n",
    "Pour être placé dans un plateau de puzzle, un polyomino doit pouvoir être tourné ; le groupe des isométries directes du cube contient 4 éléments qui sont les rotations d'angles $k\\pi/2$.   \n",
    "*nom* $\\texttt{\\!.isometriquesPlus()}$ renvoie la liste des $\\leqslant4$ polyominos obtenus en faisant tourner *nom*.\n",
    "\n",
    "On peut aussi s'autoriser à le retourner auquel cas, pour obtenir toutes les isométries du cube, on ajoute les 4 réflexions par rapport aux axes et à leurs bissectrices.   \n",
    "*nom* $\\texttt{\\!.isometriques()}$ fournit la liste des $\\leqslant8$ polyominos ainsi obtenus. "
   ]
  },
  {
   "cell_type": "code",
   "execution_count": 3,
   "metadata": {},
   "outputs": [],
   "source": [
    "import matplotlib\n",
    "import matplotlib.pyplot as plt\n",
    "matplotlib.rcParams['toolbar'] = 'None'\n",
    "import random\n",
    "\n",
    "snsSet3Set2Colors = [(0.5529411764705883, 0.8274509803921568, 0.7803921568627451), (1.0, 1.0, 0.7019607843137254), (0.7450980392156863, 0.7294117647058823, 0.8549019607843137), (0.984313725490196, 0.5019607843137255, 0.4470588235294118), (0.5019607843137255, 0.6941176470588235, 0.8274509803921568), (0.9921568627450981, 0.7058823529411765, 0.3843137254901961), (0.7019607843137254, 0.8705882352941177, 0.4117647058823529), (0.9882352941176471, 0.803921568627451, 0.8980392156862745), (0.8509803921568627, 0.8509803921568627, 0.8509803921568627), (0.7372549019607844, 0.5019607843137255, 0.7411764705882353), (0.8, 0.9215686274509803, 0.7725490196078432), (1.0, 0.9294117647058824, 0.43529411764705883), (0.4, 0.7607843137254902, 0.6470588235294118), (0.9882352941176471, 0.5529411764705883, 0.3843137254901961), (0.5529411764705883, 0.6274509803921569, 0.796078431372549), (0.9058823529411765, 0.5411764705882353, 0.7647058823529411), (0.6509803921568628, 0.8470588235294118, 0.32941176470588235), (1.0, 0.8509803921568627, 0.1843137254901961), (0.8980392156862745, 0.7686274509803922, 0.5803921568627451), (0.7019607843137254, 0.7019607843137254, 0.7019607843137254)]\n",
    "snsPastelColors = [(0.984313725490196, 0.7058823529411765, 0.6823529411764706), (0.7019607843137254, 0.803921568627451, 0.8901960784313725), (0.8, 0.9215686274509803, 0.7725490196078432), (0.8705882352941177, 0.796078431372549, 0.8941176470588236), (0.996078431372549, 0.8509803921568627, 0.6509803921568628), (1.0, 1.0, 0.8), (0.8980392156862745, 0.8470588235294118, 0.7411764705882353), (0.9921568627450981, 0.8549019607843137, 0.9254901960784314), (0.9490196078431372, 0.9490196078431372, 0.9490196078431372), (0.7019607843137254, 0.8862745098039215, 0.803921568627451), (0.9921568627450981, 0.803921568627451, 0.6745098039215687), (0.796078431372549, 0.8352941176470589, 0.9098039215686274), (0.9568627450980393, 0.792156862745098, 0.8941176470588236), (0.9019607843137255, 0.9607843137254902, 0.788235294117647), (1.0, 0.9490196078431372, 0.6823529411764706), (0.9450980392156862, 0.8862745098039215, 0.8), (0.8, 0.8, 0.8)]\n",
    "snsTab20Colors = [(0.12156862745098039, 0.4666666666666667, 0.7058823529411765), (0.6823529411764706, 0.7803921568627451, 0.9098039215686274), (1.0, 0.4980392156862745, 0.054901960784313725), (1.0, 0.7333333333333333, 0.47058823529411764), (0.17254901960784313, 0.6274509803921569, 0.17254901960784313), (0.596078431372549, 0.8745098039215686, 0.5411764705882353), (0.8392156862745098, 0.15294117647058825, 0.1568627450980392), (1.0, 0.596078431372549, 0.5882352941176471), (0.5803921568627451, 0.403921568627451, 0.7411764705882353), (0.7725490196078432, 0.6901960784313725, 0.8352941176470589), (0.5490196078431373, 0.33725490196078434, 0.29411764705882354), (0.7686274509803922, 0.611764705882353, 0.5803921568627451), (0.8901960784313725, 0.4666666666666667, 0.7607843137254902), (0.9686274509803922, 0.7137254901960784, 0.8235294117647058), (0.4980392156862745, 0.4980392156862745, 0.4980392156862745), (0.7803921568627451, 0.7803921568627451, 0.7803921568627451), (0.7372549019607844, 0.7411764705882353, 0.13333333333333333), (0.8588235294117647, 0.8588235294117647, 0.5529411764705883), (0.09019607843137255, 0.7450980392156863, 0.8117647058823529), (0.6196078431372549, 0.8549019607843137, 0.8980392156862745)]\n",
    "\n",
    "palette = snsPastelColors\n",
    "\n",
    "def randomColor(seed = None):\n",
    "    if seed is not None:\n",
    "        random.seed(str(seed))\n",
    "    return random.choice(palette)"
   ]
  },
  {
   "cell_type": "code",
   "execution_count": 4,
   "metadata": {},
   "outputs": [],
   "source": [
    "class PIECE:\n",
    "\n",
    "    # une piece est un ensemble (frozenset) de couples\n",
    "    def __init__(self,nom,piece,couleur = None):\n",
    "        self.nom = nom\n",
    "        self.piece = PIECE.normalise(piece)\n",
    "        self.largeur = max(i for i,_ in self.piece) + 1\n",
    "        self.hauteur = max(j for _,j in self.piece) + 1\n",
    "        self.couleur = couleur\n",
    "      \n",
    "\n",
    "    def __hash__(self):\n",
    "        return hash(self.piece)\n",
    "\n",
    "    def __eq__(self,q):\n",
    "        return self.piece == q.piece\n",
    "\n",
    "    def __str__(self):\n",
    "        return str((self.nom,self.piece))\n",
    "\n",
    "    def normalise(piece):\n",
    "        min_x = min(x for x,_ in piece)\n",
    "        min_y = min(y for _,y in piece)\n",
    "        return frozenset((x - min_x, y - min_y) for x, y in piece)\n",
    "\n",
    "    def transposee(self):\n",
    "        return PIECE(self.nom, frozenset((x, -y) for x, y in self.piece))\n",
    "\n",
    "    def rotation(self):\n",
    "        return PIECE(self.nom, frozenset((-y, x) for x, y in self.piece))\n",
    "\n",
    "    def isometriquesPlus(self):\n",
    "        l = [self]\n",
    "        for _ in range(3):\n",
    "            p = l[-1].rotation()\n",
    "            l.append(p)\n",
    "        return list(set(l))\n",
    "    \n",
    "    def isometriques(self):\n",
    "        l1 = self.isometriquesPlus()\n",
    "        l2 = self.transposee().isometriquesPlus()\n",
    "        return(list(set(l1 + l2)))\n",
    "    \n",
    "    def carre():\n",
    "         r = .5\n",
    "         return ((r, -r, -r, r), (r, r, -r, -r))\n",
    "    \n",
    "    def plotCarre(ax,i,j,**kwargs):\n",
    "        X, Y = PIECE.carre()\n",
    "        ax.fill(list(map(lambda u: i + u, X)), list(map(lambda v: j + v, Y)), **kwargs)\n",
    "\n",
    "    def polygoneOfCouples(e):\n",
    "        \"\"\"e est un ensemble de couples d'entiers (i,j)\n",
    "        representant une piece non nécessairement normalisée.\n",
    "        Renvoie une liste de deux tuples pour le dessin de la piece.\n",
    "        \"\"\"\n",
    "        X, Y = PIECE.carre()\n",
    "        segments = set()\n",
    "        for i, j in e:\n",
    "            if (i + 1, j) not in e: segments.add(((i + X[3], i + X[0]),(j + Y[3],j + Y[0])))\n",
    "            if (i, j + 1) not in e: segments.add(((i + X[0], i + X[1]),(j + Y[0],j + Y[1])))\n",
    "            if (i - 1, j) not in e: segments.add(((i + X[1], i + X[2]),(j + Y[1],j + Y[2])))\n",
    "            if (i, j - 1) not in e: segments.add(((i + X[2], i + X[3]),(j + Y[2],j + Y[3])))    \n",
    "        return segments\n",
    "    \n",
    "    def plotPolyomino(ax, e, couleur):\n",
    "        for s in PIECE.polygoneOfCouples(e):\n",
    "            ax.plot(*s, linewidth = 1, color = 'black')\n",
    "        for i, j in e:\n",
    "            PIECE.plotCarre(ax, i, j,  facecolor = couleur, edgecolor='black', linewidth=0.)\n",
    "        \n",
    "    def plot(self):\n",
    "        fig = plt.figure(facecolor='w', \n",
    "                         figsize = (self.largeur / 4.+.01, self.hauteur / 4.))\n",
    "        ax = fig.add_subplot(111)\n",
    "        ax.axis('off')\n",
    "        ax.axis('equal')\n",
    "        ax.set_title(self.nom)\n",
    "        c = 'white' if self.couleur is None else self.couleur\n",
    "        PIECE.plotPolyomino(ax, self.piece, c)"
   ]
  },
  {
   "cell_type": "markdown",
   "metadata": {},
   "source": [
    "#### Génération des polyominos de taille donnée\n",
    "$N=8$\n",
    "\n",
    "On calcule une liste $\\texttt{polyominos}$ telle que, pour $1\\leqslant n\\leqslant N$, $\\texttt{polyominos[}n\\texttt{]}=$ la liste des polyominos de taille $n$."
   ]
  },
  {
   "cell_type": "code",
   "execution_count": 5,
   "metadata": {},
   "outputs": [
    {
     "data": {
      "image/png": "[encoded data removed]",
      "text/plain": [
       "<Figure size 54.72x54 with 1 Axes>"
      ]
     },
     "metadata": {},
     "output_type": "display_data"
    },
    {
     "data": {
      "image/png": "[encoded data removed]",
      "text/plain": [
       "<Figure size 36.72x54 with 1 Axes>"
      ]
     },
     "metadata": {},
     "output_type": "display_data"
    },
    {
     "data": {
      "image/png": "[encoded data removed]",
      "text/plain": [
       "<Figure size 36.72x72 with 1 Axes>"
      ]
     },
     "metadata": {},
     "output_type": "display_data"
    },
    {
     "data": {
      "image/png": "[encoded data removed]",
      "text/plain": [
       "<Figure size 36.72x72 with 1 Axes>"
      ]
     },
     "metadata": {},
     "output_type": "display_data"
    },
    {
     "data": {
      "image/png": "[encoded data removed]",
      "text/plain": [
       "<Figure size 36.72x72 with 1 Axes>"
      ]
     },
     "metadata": {},
     "output_type": "display_data"
    },
    {
     "data": {
      "image/png": "[encoded data removed]",
      "text/plain": [
       "<Figure size 18.72x90 with 1 Axes>"
      ]
     },
     "metadata": {},
     "output_type": "display_data"
    },
    {
     "data": {
      "image/png": "[encoded data removed]",
      "text/plain": [
       "<Figure size 54.72x54 with 1 Axes>"
      ]
     },
     "metadata": {},
     "output_type": "display_data"
    },
    {
     "data": {
      "image/png": "[encoded data removed]",
      "text/plain": [
       "<Figure size 54.72x36 with 1 Axes>"
      ]
     },
     "metadata": {},
     "output_type": "display_data"
    },
    {
     "data": {
      "image/png": "[encoded data removed]",
      "text/plain": [
       "<Figure size 54.72x54 with 1 Axes>"
      ]
     },
     "metadata": {},
     "output_type": "display_data"
    },
    {
     "data": {
      "image/png": "[encoded data removed]",
      "text/plain": [
       "<Figure size 54.72x54 with 1 Axes>"
      ]
     },
     "metadata": {},
     "output_type": "display_data"
    },
    {
     "data": {
      "image/png": "[encoded data removed]",
      "text/plain": [
       "<Figure size 54.72x54 with 1 Axes>"
      ]
     },
     "metadata": {},
     "output_type": "display_data"
    },
    {
     "data": {
      "image/png": "[encoded data removed]",
      "text/plain": [
       "<Figure size 54.72x54 with 1 Axes>"
      ]
     },
     "metadata": {},
     "output_type": "display_data"
    }
   ],
   "source": [
    "N = 8\n",
    "\n",
    "def genPolys(p):\n",
    "    \"\"\"\n",
    "    p est l'ensemble des x.piece quand x parcourt l'ensembles des polyominos de taille n\n",
    "    genPolys(p) renvoie  l'ensemble des x.piece quand x parcourt l'ensembles des polyominos de taille n + 1\n",
    "    \"\"\"\n",
    "    q = set()\n",
    "    for piece0 in p:\n",
    "        for i0,j0 in piece0:\n",
    "            for i, j in [(i0, j0 + 1), (i0, j0 - 1), (i0 + 1, j0), (i0 - 1, j0)]:\n",
    "                if (i, j) not in piece0:\n",
    "                    Piece = PIECE('', piece0 | frozenset([(i, j)]))\n",
    "                    if q.isdisjoint(Piece.isometriques()):\n",
    "                        q.add(Piece)\n",
    "    return {x.piece for x in q}\n",
    "\n",
    "_p = [set(),{frozenset([(0,0)])}]\n",
    "for n in range(N - 1): \n",
    "    _p.append(genPolys(_p[-1]))\n",
    "    \n",
    "polyominos = [[PIECE(f'p{i}_{j}', piece, couleur=palette[j%(len(palette))]) \n",
    "                for j, piece in enumerate(sorted(list(e),key = hash))]\n",
    "                for i, e in enumerate(_p)]\n",
    "\n",
    "for e in polyominos: \n",
    "    for p in e: globals()[p.nom] = p    \n",
    "\n",
    "# Exemple, les 12 pentominos\n",
    "# Noter que, par ex., p5_3 == polyominos[5][3]\n",
    "for p in polyominos[5]: p.plot()\n"
   ]
  },
  {
   "cell_type": "code",
   "execution_count": 6,
   "metadata": {},
   "outputs": [],
   "source": [
    "\n",
    "class PUZZLE:\n",
    "\n",
    "    def __init__(self,pieces,\n",
    "                      min_i,max_i,min_j,max_j,\n",
    "                      conditions = None,\n",
    "                      strict = True):\n",
    "        \"\"\"pieces : liste de PIECE\n",
    "        min_i,max_i,min_j,max_j : definition du plateau\n",
    "        conditions : couple d'entiers -> booleen restreignant le plateau\n",
    "    \n",
    "        1er cas  : strict = True\n",
    "            Pour chacun des noms des pieces, il faut placer \n",
    "            une et une seule piece portant ce nom.\n",
    "            Les elements de E sont les noms des pieces\n",
    "            et les cases (couples d'entiers) du plateau.\n",
    "            Chaque element de F contient un et un seul nom\n",
    "            et les cases du plateau utilisees par une piece de ce nom..\n",
    "        \n",
    "        2eme cas : strict = False\n",
    "            Pour chaque piece de pieces, on dispose,\n",
    "            pour resoudre le puzzle, d'autant d'exemplaires\n",
    "            que l'on veut de la piece.\n",
    "            Les elements de E sont les cases du plateau.\n",
    "        \"\"\"\n",
    "        self.min_i = min_i\n",
    "        self.max_i = max_i\n",
    "        self.min_j = min_j\n",
    "        self.max_j = max_j\n",
    "        self.strict = strict\n",
    "        self.pieces = pieces\n",
    "        if not conditions:\n",
    "            conditions = lambda i,j: True\n",
    "        lignes = dict()\n",
    "        nbLignes = 0\n",
    "        for p in pieces:\n",
    "            for u in range(min_i, max_i - p.largeur + 2):\n",
    "                for v in range(min_j, max_j - p.hauteur + 2):\n",
    "                    ligne = [p.nom] if self.strict else []\n",
    "                    match = True\n",
    "                    for i,j in p.piece:\n",
    "                        ic, jc = i + u, j + v\n",
    "                        if conditions(ic,jc):\n",
    "                            ligne.append((ic,jc))\n",
    "                        else:\n",
    "                            match = False\n",
    "                            break\n",
    "                    if match:\n",
    "                        lignes[nbLignes] = ligne\n",
    "                        nbLignes += 1\n",
    "        self.lignes = lignes\n",
    "        \n",
    "    def solve(self):\n",
    "        \n",
    "        F = self.lignes\n",
    "        return AlgorithmeX(F).solve()\n",
    "\n",
    "    def printSolution(self,sol):     \n",
    "        for l in sol: print(self.lignes[l])\n",
    "\n",
    "    def plotSolution(self,sol):\n",
    "\n",
    "        fig = plt.figure(facecolor='w')\n",
    "        ax = fig.add_subplot(111)\n",
    "        ax.axis('off')\n",
    "        ax.axis('equal')\n",
    "        if not self.strict:\n",
    "            random.seed('314')\n",
    "        for l in sol:\n",
    "            e = set()\n",
    "            for c in self.lignes[l]:\n",
    "                if type(c) == tuple:\n",
    "                    e.add(c)\n",
    "                else:\n",
    "                    couleur = eval(c).couleur \n",
    "            if not self.strict: couleur = randomColor()\n",
    "            PIECE.plotPolyomino(ax, e, couleur)"
   ]
  },
  {
   "cell_type": "markdown",
   "metadata": {},
   "source": [
    "### Exemple 1"
   ]
  },
  {
   "cell_type": "code",
   "execution_count": 7,
   "metadata": {},
   "outputs": [
    {
     "name": "stdout",
     "output_type": "stream",
     "text": [
      "['p5_8', (1, 3), (3, 3), (2, 3), (3, 4), (2, 2)]\n",
      "['p5_1', (5, 3), (3, 2), (4, 3), (5, 2), (4, 2)]\n",
      "['p5_5', (8, 2), (8, 5), (8, 1), (8, 4), (8, 3)]\n",
      "['p5_10', (6, 3), (5, 1), (6, 2), (7, 1), (6, 1)]\n",
      "['p5_3', (1, 6), (1, 5), (2, 6), (1, 8), (1, 7)]\n",
      "['p5_11', (2, 7), (4, 7), (3, 7), (4, 6), (2, 8)]\n",
      "['p5_0', (4, 8), (5, 7), (5, 6), (3, 8), (5, 8)]\n",
      "['p5_9', (3, 5), (1, 4), (2, 5), (3, 6), (2, 4)]\n",
      "['p5_2', (7, 4), (7, 3), (6, 5), (6, 4), (7, 2)]\n",
      "['p5_4', (1, 2), (1, 1), (3, 1), (4, 1), (2, 1)]\n",
      "['p5_7', (6, 8), (8, 8), (6, 7), (7, 8), (8, 7)]\n",
      "['p5_6', (6, 6), (7, 7), (8, 6), (7, 6), (7, 5)]\n"
     ]
    },
    {
     "data": {
      "image/png": "[encoded data removed]",
      "text/plain": [
       "<Figure size 432x288 with 1 Axes>"
      ]
     },
     "metadata": {},
     "output_type": "display_data"
    }
   ],
   "source": [
    "# 65 solutions\n",
    "\n",
    "F = p5_8\n",
    "pentominos = [F]\n",
    "for p in polyominos[5]: \n",
    "    if p != F: pentominos += p.isometriques()\n",
    "\n",
    "puzzle = PUZZLE(pentominos,1,8,1,8,\n",
    "                conditions = (lambda i,j: not (4 <= i <= 5 and 4 <= j <= 5)))\n",
    "    \n",
    "s = puzzle.solve()\n",
    "        \n",
    "sol = next(s)\n",
    "puzzle.printSolution(sol)\n",
    "puzzle.plotSolution(sol)"
   ]
  },
  {
   "cell_type": "markdown",
   "metadata": {},
   "source": [
    "### Exemple 2"
   ]
  },
  {
   "cell_type": "code",
   "execution_count": 8,
   "metadata": {},
   "outputs": [
    {
     "data": {
      "image/png": "[encoded data removed]",
      "text/plain": [
       "<Figure size 432x288 with 1 Axes>"
      ]
     },
     "metadata": {},
     "output_type": "display_data"
    }
   ],
   "source": [
    "# 1010 solutions\n",
    "\n",
    "pentominos = [F,F.rotation()]\n",
    "for p in polyominos[5]: \n",
    "    if p != F: pentominos += p.isometriques()\n",
    "\n",
    "puzzle = PUZZLE(pentominos,1,12,1,5)\n",
    "    \n",
    "s = puzzle.solve()\n",
    "        \n",
    "sol = next(s)\n",
    "puzzle.plotSolution(sol)\n"
   ]
  },
  {
   "cell_type": "markdown",
   "metadata": {},
   "source": [
    "### Exemple 3"
   ]
  },
  {
   "cell_type": "code",
   "execution_count": 9,
   "metadata": {},
   "outputs": [],
   "source": [
    "def unePiece(piece):\n",
    "    puzzle = PUZZLE(piece.isometriques(),1,15,1,15,strict = False)    \n",
    "    s = puzzle.solve()\n",
    "    sol = next(s)\n",
    "    puzzle.plotSolution(sol)"
   ]
  },
  {
   "cell_type": "code",
   "execution_count": 10,
   "metadata": {},
   "outputs": [
    {
     "data": {
      "image/png": "[encoded data removed]",
      "text/plain": [
       "<Figure size 432x288 with 1 Axes>"
      ]
     },
     "metadata": {},
     "output_type": "display_data"
    }
   ],
   "source": [
    "# 8 x 212 = 1696 solutions\n",
    "Y = p5_3\n",
    "unePiece(Y)"
   ]
  }
 ],
 "metadata": {
  "kernelspec": {
   "display_name": "SageMath 9.5",
   "language": "sage",
   "name": "sagemath"
  },
  "language_info": {
   "codemirror_mode": {
    "name": "ipython",
    "version": 3
   },
   "file_extension": ".py",
   "mimetype": "text/x-python",
   "name": "python",
   "nbconvert_exporter": "python",
   "pygments_lexer": "ipython3",
   "version": "3.10.12"
  }
 },
 "nbformat": 4,
 "nbformat_minor": 4
}
