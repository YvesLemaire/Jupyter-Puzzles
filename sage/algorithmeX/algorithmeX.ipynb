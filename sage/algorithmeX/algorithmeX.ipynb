{
 "cells": [
  {
   "cell_type": "markdown",
   "metadata": {},
   "source": [
    "# Le problème de la couverture exacte"
   ]
  },
  {
   "cell_type": "markdown",
   "metadata": {},
   "source": [
    "## Objet du problème\n",
    "\n",
    "$F$ étant un ensemble de parties non vides d'un ensemble fini $E$,\n",
    "il s'agit de trouver une partie $C$ de \n",
    "$F$ qui constitue une partition de $E$ (les éléments de $C$ sont 2 à 2 disjoints et leur réunion est $E$).\n",
    "On dit que $C$ est une *couverture exacte*. \n",
    "\n",
    "Par exemple, avec $E=\\{0,1,2,3,4,5,6\\}$, une couverture exacte de\n",
    "$F=\\{\\{2,4,5\\},\\{0,3,6\\},\\{1,2,5\\},\\{0,3\\},\\{1,6\\},\\{3,4,6\\}\\}$ est\n",
    "$C=\\{\\{2,4,5\\},\\{0,3\\},\\{1,6\\}\\}$."
   ]
  },
  {
   "cell_type": "markdown",
   "metadata": {},
   "source": [
    "## L'algorithme X\n",
    "\n",
    "couverture-exacte$(E,F)$ :  \n",
    "&nbsp;&nbsp;&nbsp;&nbsp;**si** $E=\\emptyset$ **alors**  \n",
    "&nbsp;&nbsp;&nbsp;&nbsp;&nbsp;&nbsp;&nbsp;&nbsp;**renvoyer** $\\emptyset$  \n",
    "&nbsp;&nbsp;&nbsp;&nbsp;**sinon**  \n",
    "&nbsp;&nbsp;&nbsp;&nbsp;&nbsp;&nbsp;&nbsp;&nbsp;**choisir** $x\\in E$  \n",
    "&nbsp;&nbsp;&nbsp;&nbsp;&nbsp;&nbsp;&nbsp;&nbsp;**pour tout** $P$ tel que $x\\in P\\in F$  **faire**    \n",
    "&nbsp;&nbsp;&nbsp;&nbsp;&nbsp;&nbsp;&nbsp;&nbsp;&nbsp;&nbsp;&nbsp;&nbsp;$E'\\leftarrow E\\setminus P$  \n",
    "&nbsp;&nbsp;&nbsp;&nbsp;&nbsp;&nbsp;&nbsp;&nbsp;&nbsp;&nbsp;&nbsp;&nbsp;$F'\\leftarrow\\{Q\\in F\\,,\\,P\\cap Q=\\emptyset\\}$  \n",
    "&nbsp;&nbsp;&nbsp;&nbsp;&nbsp;&nbsp;&nbsp;&nbsp;&nbsp;&nbsp;&nbsp;&nbsp;**si** couverture-exacte$(E',F')$ renvoie $C$ **alors**   \n",
    "&nbsp;&nbsp;&nbsp;&nbsp;&nbsp;&nbsp;&nbsp;&nbsp;&nbsp;&nbsp;&nbsp;&nbsp;&nbsp;&nbsp;&nbsp;&nbsp;**renvoyer** $C\\cup\\{P\\}$\n",
    "\n",
    "Cet algorithme termine car le cardinal de $E'$ dans\n",
    "les appels récursifs est strictement inférieur à celui de $E$.  \n",
    "La structure même de l'algorithme fournit une preuve de sa validité."
   ]
  },
  {
   "cell_type": "markdown",
   "metadata": {},
   "source": [
    "## Implémentation"
   ]
  },
  {
   "cell_type": "markdown",
   "metadata": {},
   "source": [
    "### Méthode élémentaire\n",
    "On peut implémenter l'algorithme en Python, voir par exemplee [ici](https://www.cs.mcgill.ca/~aassaf9/python/algorithm_x.html). "
   ]
  },
  {
   "cell_type": "markdown",
   "metadata": {},
   "source": [
    "### Méthode de Knuth\n",
    "[Donald Knuth](https://www-cs-faculty.stanford.edu/~knuth/) a mis au point une méthode efficace : les [liens dansants](https://arxiv.org/pdf/cs/0011047.pdf). Mais cette méthode, qui est basée sur une utilisation astucieuse de pointeurs,  perd son efficacité si on l'implémente en pur Python et il faut utiliser le langage C. A ma connaissance, il n'existe pas de module Python implémentant les liens dansants en C. Par contre, un tel module existe en [Sage](https://www.sagemath.org/). Le code suivant est environ 10 fois plus rapide que toute implémentation pur Python."
   ]
  },
  {
   "cell_type": "code",
   "execution_count": 1,
   "metadata": {},
   "outputs": [],
   "source": [
    "class AlgorithmeX:\n",
    "\n",
    "    def __init__(self, F, obl = [], fac = []):\n",
    "\n",
    "        \"\"\"F est un dictionnaire d'objets hashables :\n",
    "        {<choix> : [<contrainte>,...],...}\n",
    "        obl est la liste des choix obligatoires.\n",
    "        fac est la liste des contraintes facultatives.\n",
    "        \"\"\"\n",
    "\n",
    "        self.dictFac = {'_facultatif' + str(i) : [k] for i,k in enumerate(fac)}\n",
    "        self.F = {**F, **self.dictFac}\n",
    "        E = set() \n",
    "        for l in self.F: E |= set(self.F[l])  \n",
    "        self.E = list(E)    \n",
    "        self.cardF = len(self.F)\n",
    "        self.obl = obl\n",
    "\n",
    "    def solve(self):\n",
    "        \"\"\"Renvoie un iterateur des solutions \n",
    "        \"\"\"\n",
    "        from sage.combinat.matrices.dancing_links import dlx_solver\n",
    "        dictE = {k : int(i) for i, k in enumerate(self.E)}\n",
    "        keysF = list(self.F.keys())\n",
    "        dictF = {k : int(i) for i, k in enumerate(self.F)}\n",
    "        entiersF = [list(map((lambda o: dictE[o]),self.F[keysF[i]])) for i in range(self.cardF)]\n",
    "        def solutions():\n",
    "            for s in dlx_solver(entiersF).restrict(map((lambda o: dictF[o]),self.obl)).solutions_iterator():\n",
    "                yield list(set(map((lambda i: keysF[i]),s)) - set(self.dictFac.keys()))\n",
    "        return solutions()\n",
    "\n",
    "    def printSolution(self,sol):\n",
    "        for l in sol: print(self.F[l])            "
   ]
  },
  {
   "cell_type": "markdown",
   "metadata": {},
   "source": [
    "### Test 1"
   ]
  },
  {
   "cell_type": "code",
   "execution_count": 2,
   "metadata": {},
   "outputs": [
    {
     "name": "stdout",
     "output_type": "stream",
     "text": [
      "['2', '5', '1']\n",
      "['6', '5']\n"
     ]
    }
   ],
   "source": [
    "F = {'1': [1,2],'2': [3,4,5],'3': [0,1],'4': [2,3,4,5],'5': [0],'6': [1,2,3,4,5,6]}\n",
    "aX = AlgorithmeX(F,obl=['5'],fac=[6])\n",
    "for sol in aX.solve(): print(sol)       "
   ]
  },
  {
   "cell_type": "markdown",
   "metadata": {},
   "source": [
    "### Test 2"
   ]
  },
  {
   "cell_type": "code",
   "execution_count": 3,
   "metadata": {},
   "outputs": [
    {
     "name": "stdout",
     "output_type": "stream",
     "text": [
      "['5', '3', '6']\n",
      "['1', 4]\n",
      "[(3, 4), '7']\n"
     ]
    }
   ],
   "source": [
    "F = {'A' : ['1', 4, '7'],\n",
    "     'B' : ['1', 4],\n",
    "     'C' : [4, '5', '7'],\n",
    "     'D' : [ '5','3', '6'],\n",
    "     'E' : [ (3,4), '3', '6', '7'],\n",
    "     'F' : [ (3,4), '7']}\n",
    "\n",
    "aX = AlgorithmeX(F)\n",
    "#for sol in aX.solve(): print(sol)    \n",
    "for sol in aX.solve(): aX.printSolution(sol)    "
   ]
  },
  {
   "cell_type": "markdown",
   "metadata": {},
   "source": [
    "## Application au Sudoku"
   ]
  },
  {
   "cell_type": "code",
   "execution_count": 4,
   "metadata": {},
   "outputs": [],
   "source": [
    "class SUDOKU:\n",
    "\n",
    "    def __init__(self,p = 3,q = 3,t = None):\n",
    "    \n",
    "        \"\"\"Un probleme de sudoku est represente par :\n",
    "        1. un ensemble de symboles ;\n",
    "        2. la taille (p,q) qui definit une\n",
    "           matrice carree (n,n) ou n = p * q,\n",
    "           les n lignes sont partagees en q groupes de p lignes,\n",
    "           les n colonnes sont partagees en p groupes de q colonnes,\n",
    "           le carre est donc partage en n blocs rectangulaires p x q.\n",
    "        3. une affectation de symboles a certaines cases\n",
    "           de la matrice.\n",
    "        \"\"\"\n",
    "\n",
    "        self.n = p * q\n",
    "        if t:\n",
    "            self.t = list(map(list,t.split()))         \n",
    "        else:\n",
    "            self.t = [['.' for j in range(self.n)] for i in range(self.n)]\n",
    "        self.symboles = '123456789ABCDEFGHIJKLMNOPQRSTUVWXYZabcdefghijklmnopqrstuvwxyz'[:self.n]\n",
    "        self.lignes = {(s,i,j) : [(i,j),('L',s,i),('C',s,j),('B',s,i//p,j//q)]\n",
    "                       for s in self.symboles\n",
    "                       for i in range(self.n) for j in range(self.n)}\n",
    "        self.obl = [(s,i,j) for s in self.symboles for i in range(self.n) for j in range(self.n)\n",
    "                            if s == self.t[i][j] != '.']\n",
    "\n",
    "    def solve(self):\n",
    "        \n",
    "        for sol in AlgorithmeX(self.lignes,obl = self.obl).solve():\n",
    "            for s,i,j in sol:\n",
    "                self.t[i][j] = s\n",
    "            yield '\\n'.join(' '.join(ligne) for ligne in self.t)\n",
    "  "
   ]
  },
  {
   "cell_type": "markdown",
   "metadata": {},
   "source": [
    "### Test"
   ]
  },
  {
   "cell_type": "code",
   "execution_count": 5,
   "metadata": {},
   "outputs": [
    {
     "name": "stdout",
     "output_type": "stream",
     "text": [
      "3 2 8 9 5 1 4 7 6\n",
      "7 4 1 2 8 6 3 9 5\n",
      "9 5 6 4 7 3 1 2 8\n",
      "5 7 9 3 1 8 2 6 4\n",
      "4 6 3 5 2 7 9 8 1\n",
      "1 8 2 6 9 4 7 5 3\n",
      "6 1 5 7 3 2 8 4 9\n",
      "8 9 7 1 4 5 6 3 2\n",
      "2 3 4 8 6 9 5 1 7\n"
     ]
    }
   ],
   "source": [
    "t = \"\"\"\n",
    "    ..8.5....      \n",
    "    .4....3..\n",
    "    ......1..\n",
    "    .7.3.....      \n",
    "    ....2..8.\n",
    "    1......5.\n",
    "    ..57...4.\n",
    "    ...1..6..\n",
    "    2........\n",
    "\"\"\"        \n",
    "    \n",
    "s = SUDOKU(t = t).solve()\n",
    "print(next(s))"
   ]
  },
  {
   "cell_type": "markdown",
   "metadata": {},
   "source": [
    "## Application au problème des 8 reines"
   ]
  },
  {
   "cell_type": "code",
   "execution_count": 6,
   "metadata": {},
   "outputs": [],
   "source": [
    "class QUEENS:\n",
    "\n",
    "    def __init__(self,n = 8):\n",
    "    \n",
    "        self.n = n\n",
    "        self.lignes = {(i,j) : [('L',i), ('C',j), ('D1', i + j), ('D2', i - j)]\n",
    "                       for i in range(n) for j in range(n)}\n",
    "        self.facultatifs = [('D1', k) for k in range(0, 2 * n - 1)] + [('D2', k) \n",
    "                                                      for k in range(- n + 1, n)] \n",
    "        \n",
    "    def solve(self):\n",
    "\n",
    "        for sol in AlgorithmeX(self.lignes,fac = self.facultatifs).solve():\n",
    "            s = [j for i,j in sorted(sol,key = lambda c: c[0])]\n",
    "            yield '\\n'.join('. ' * s[i] + 'X ' + '. ' * (self.n - s[i] - 1) \n",
    "                                                  for i in range(self.n))\n",
    "      "
   ]
  },
  {
   "cell_type": "markdown",
   "metadata": {},
   "source": [
    "### Test"
   ]
  },
  {
   "cell_type": "code",
   "execution_count": 7,
   "metadata": {
    "scrolled": true
   },
   "outputs": [
    {
     "name": "stdout",
     "output_type": "stream",
     "text": [
      ". . . . . . . X \n",
      ". X . . . . . . \n",
      ". . . X . . . . \n",
      "X . . . . . . . \n",
      ". . . . . . X . \n",
      ". . . . X . . . \n",
      ". . X . . . . . \n",
      ". . . . . X . . \n"
     ]
    }
   ],
   "source": [
    "q = QUEENS()\n",
    "s = q.solve()\n",
    "print(next(s))"
   ]
  },
  {
   "cell_type": "markdown",
   "metadata": {},
   "source": [
    "## Application aux puzzles"
   ]
  },
  {
   "cell_type": "code",
   "execution_count": 8,
   "metadata": {},
   "outputs": [],
   "source": [
    "class PIECE:\n",
    "\n",
    "    def __init__(self,nom,piece,couleur = None):\n",
    "        self.nom = nom\n",
    "        self.piece = piece\n",
    "        self.couleur = couleur\n",
    "        self.largeur = len(self.piece[0])\n",
    "        self.hauteur = len(self.piece)\n",
    "\n",
    "    def __hash__(self):\n",
    "        return hash(self.piece)\n",
    "\n",
    "    def __eq__(self,q):\n",
    "        return self.piece == q.piece\n",
    "\n",
    "    def __str__(self):\n",
    "        return str((self.nom,self.piece))\n",
    "\n",
    "    def transposee(self):\n",
    "        q = self.piece\n",
    "        return PIECE(self.nom, \n",
    "                     tuple(tuple(q[j][i] for j in range(self.hauteur)) \n",
    "                                  for i in range(self.largeur)))\n",
    "\n",
    "    def rotation(self):\n",
    "        q = self.piece\n",
    "        return PIECE(self.nom, \n",
    "                     tuple(tuple(q[self.hauteur - j - 1][i] for j in range(self.hauteur)) \n",
    "                                  for i in range(self.largeur)))\n",
    "                    \n",
    "    def isometriques(self):\n",
    "        p1 = self.rotation()\n",
    "        p2 = p1.rotation()\n",
    "        p3 = p2.rotation()\n",
    "        q0 = self.transposee()\n",
    "        q1 = q0.rotation()\n",
    "        q2 = q1.rotation()\n",
    "        q3 = q2.rotation()\n",
    "        return list({self,p1,p2,p3,q0,q1,q2,q3})\n",
    " \n",
    "    def polygoneOfCouples(e):\n",
    "        \"\"\"e est un ensemble de couples d'entiers (i,j)\n",
    "        representant une piece (un polyomino).\n",
    "        Renvoie une liste de deux tuples pour le dessin de la piece.\n",
    "        \"\"\"\n",
    "        segments = set()\n",
    "        for i,j in e:\n",
    "            if (i + 1, j) not in e: segments.add(((i+1,j),(i+1,j+1)))\n",
    "            if (i, j + 1) not in e: segments.add(((i+1,j+1),(i,j+1))) \n",
    "            if (i - 1, j) not in e: segments.add(((i,j+1),(i,j)))\n",
    "            if (i, j - 1) not in e: segments.add(((i,j),(i+1,j))) \n",
    "        (i,j),(k,l) = segments.pop()\n",
    "        l = [(i,j),(k,l)]\n",
    "        while True:\n",
    "            try:\n",
    "                l.append({s[1] for s in segments if s[0] == l[-1]}.pop())\n",
    "            except KeyError: break        \n",
    "        return list(zip(*l))\n",
    "\n",
    "    def polygone(self, transformation = None):\n",
    "        \"\"\"Renvoie une liste de deux tuples pour le dessin de self.\n",
    "        Si transformation != None,  c'est une liste de listes representant \n",
    "        une matrices (2,2) qui est appliquee au polygone.\n",
    "        \"\"\"\n",
    "\n",
    "        e = {(i,j) for i in range(self.largeur)\n",
    "                   for j in range(self.hauteur)\n",
    "                   if self.piece[i][j]}\n",
    "        p = PIECE.polygoneOfCouples(e)\n",
    "        if transformation:\n",
    "            [[a,b],[c,d]] = transformation\n",
    "            f = lambda z: (a * z[0] + b * z[1], c * z[0] + d * z[1])\n",
    "            return list(zip(*map(f,zip(*p))))\n",
    "        else:\n",
    "            return p\n",
    "\n",
    "class PUZZLE:\n",
    "\n",
    "    def __init__(self,pieces,\n",
    "                      min_i,max_i,min_j,max_j,\n",
    "                      conditions = None,\n",
    "                      strict = True):\n",
    "        \"\"\"pieces : liste de PIECE\n",
    "        min_i,max_i,min_j,max_j : definition du plateau\n",
    "        conditions : couple d'entiers -> booleen restreignant le plateau\n",
    "    \n",
    "        1er cas  : strict = True\n",
    "            Pour chacun des noms des pieces, il faut placer \n",
    "            une et une seule piece portant ce nom.\n",
    "            Les elements de E sont les noms des pieces\n",
    "            et les cases (couples d'entiers) du plateau.\n",
    "            Chaque element de F contient un et un seul nom\n",
    "            et les cases du plateau utilisees par une piece de ce nom..\n",
    "        \n",
    "        2eme cas : strict = False\n",
    "            Pour chaque piece de pieces, on dispose,\n",
    "            pour resoudre le puzzle, d'autant d'exemplaires\n",
    "            que l'on veut de la piece.\n",
    "            Les elements de E sont les cases du plateau.\n",
    "        \"\"\"\n",
    "        self.min_i = min_i\n",
    "        self.max_i = max_i\n",
    "        self.min_j = min_j\n",
    "        self.max_j = max_j\n",
    "        self.strict = strict\n",
    "        self.pieces = pieces\n",
    "        if not conditions:\n",
    "            conditions = lambda i,j: True\n",
    "        lignes = dict()\n",
    "        nbLignes = 0\n",
    "        for p in pieces:\n",
    "            for u in range(min_i, max_i - p.largeur + 2):\n",
    "                for v in range(min_j, max_j - p.hauteur + 2):\n",
    "                   ligne = [p.nom] if self.strict else []\n",
    "                   match = True\n",
    "                   for i in range(p.largeur):\n",
    "                       if match:\n",
    "                           ic = i + u \n",
    "                           for j in range(p.hauteur):\n",
    "                               jc = j + v\n",
    "                               if p.piece[j][i] == 1:\n",
    "                                   if conditions(ic,jc):\n",
    "                                       ligne.append((ic,jc))\n",
    "                                   else:\n",
    "                                       match = False\n",
    "                                       break\n",
    "                       else:\n",
    "                           break  \n",
    "                   if match:\n",
    "                       lignes[nbLignes] = ligne\n",
    "                       nbLignes += 1\n",
    "        self.lignes = lignes\n",
    "        \n",
    "    def solve(self):\n",
    "        \n",
    "        F = self.lignes\n",
    "        return AlgorithmeX(F).solve()\n",
    "\n",
    "    def printSolution(self,sol):     \n",
    "        for l in sol: print(self.lignes[l])\n",
    "\n",
    "    def plotSolution(self,sol):\n",
    "        \"\"\"Pour afficher plusieurs solutions :\n",
    "        executer un script ou utiliser jupyter\n",
    "        \"\"\"\n",
    "        import matplotlib\n",
    "        import matplotlib.pyplot as plt\n",
    "        if not self.strict: from random import random\n",
    "        matplotlib.rcParams['toolbar'] = 'None'\n",
    "        fig = plt.figure(facecolor='w')\n",
    "        ax = fig.add_subplot(111)\n",
    "        ax.axis('off')\n",
    "        ax.axis('equal')\n",
    "        ax.axis([self.min_i - 1, self.max_i + 1,\n",
    "                 self.min_j - 1, self.max_j + 1])\n",
    "        for l in sol:\n",
    "            e = set()\n",
    "            for c in self.lignes[l]:\n",
    "                if type(c) == tuple:\n",
    "                    e.add(c)\n",
    "                else:\n",
    "                    couleur = eval(c).couleur \n",
    "            if not self.strict: couleur = (random(),random(),random())                               \n",
    "            ax.fill(*PIECE.polygoneOfCouples(e),\n",
    "                      facecolor = couleur,\n",
    "                      edgecolor='black', \n",
    "                      linewidth=1)\n",
    "        #fig.show() # commenter si notebook\n",
    "\n",
    "\n",
    "#------------------------------- PENTOMINOS ----------------------------\n",
    "\n",
    "F = PIECE( 'F',((0,1,1),\n",
    "                (1,1,0),\n",
    "                (0,1,0)), couleur = 'yellow')\n",
    "I = PIECE('I',((1,),\n",
    "               (1,),\n",
    "               (1,),\n",
    "               (1,),\n",
    "               (1,)), couleur = 'plum')\n",
    "L = PIECE('L',((1,0),\n",
    "               (1,0),\n",
    "               (1,0),\n",
    "               (1,1)), couleur = 'orangered')\n",
    "N = PIECE('N',((0,1),\n",
    "               (0,1),\n",
    "               (1,1),\n",
    "               (1,0)), couleur = 'dimgray')\n",
    "P = PIECE('P',((1,1),\n",
    "               (1,1),\n",
    "               (1,0)), couleur = 'royalblue')\n",
    "T = PIECE('T',((1,1,1),\n",
    "               (0,1,0),\n",
    "               (0,1,0)), couleur = 'green')\n",
    "U = PIECE('U',((1,0,1),\n",
    "               (1,1,1)), couleur = 'yellow')\n",
    "V = PIECE('V',((0,0,1),\n",
    "               (0,0,1),\n",
    "               (1,1,1)), couleur = 'darkblue')\n",
    "W = PIECE('W',((0,0,1),\n",
    "               (0,1,1),\n",
    "               (1,1,0)), couleur = 'purple')\n",
    "X = PIECE('X',((0,1,0),\n",
    "               (1,1,1),\n",
    "               (0,1,0)), couleur = 'red')\n",
    "Y = PIECE('Y',((0,1),\n",
    "               (1,1),\n",
    "               (0,1),\n",
    "               (0,1)), couleur = 'darkred')\n",
    "Z = PIECE('Z',((1,1,0),\n",
    "               (0,1,0),\n",
    "               (0,1,1)), couleur = 'grey')\n",
    "        "
   ]
  },
  {
   "cell_type": "markdown",
   "metadata": {},
   "source": [
    "### Test"
   ]
  },
  {
   "cell_type": "code",
   "execution_count": 9,
   "metadata": {},
   "outputs": [
    {
     "name": "stdout",
     "output_type": "stream",
     "text": [
      "['L', (1, 2), (1, 3), (1, 4), (1, 5), (2, 5)]\n",
      "['T', (1, 1), (2, 1), (2, 2), (2, 3), (3, 1)]\n",
      "['Y', (2, 4), (3, 2), (3, 3), (3, 4), (3, 5)]\n"
     ]
    },
    {
     "data": {
      "image/png": "[encoded data removed]",
      "text/plain": [
       "<Figure size 640x480 with 1 Axes>"
      ]
     },
     "metadata": {},
     "output_type": "display_data"
    }
   ],
   "source": [
    "puzzle = PUZZLE([L] + T.isometriques() + Y.isometriques(),1,3,1,5)\n",
    "for sol in puzzle.solve():\n",
    "    puzzle.plotSolution(sol)\n",
    "    puzzle.printSolution(sol)"
   ]
  },
  {
   "cell_type": "markdown",
   "metadata": {},
   "source": [
    "### Exemple 1"
   ]
  },
  {
   "cell_type": "code",
   "execution_count": 10,
   "metadata": {},
   "outputs": [
    {
     "data": {
      "image/png": "[encoded data removed]",
      "text/plain": [
       "<Figure size 640x480 with 1 Axes>"
      ]
     },
     "metadata": {},
     "output_type": "display_data"
    }
   ],
   "source": [
    "# 65 solutions\n",
    "\n",
    "pentominos = [F]\n",
    "for p in [I,L,N,P,T,U,V,W,X,Y,Z]: pentominos += p.isometriques()\n",
    "\n",
    "puzzle = PUZZLE(pentominos,1,8,1,8,\n",
    "                conditions = (lambda i,j: not (4 <= i <= 5 and 4 <= j <= 5)))\n",
    "    \n",
    "s = puzzle.solve()\n",
    "        \n",
    "sol = next(s)\n",
    "puzzle.plotSolution(sol)\n",
    "#puzzle.printSolution(sol)\n"
   ]
  },
  {
   "cell_type": "markdown",
   "metadata": {},
   "source": [
    "### Exemple 2"
   ]
  },
  {
   "cell_type": "code",
   "execution_count": 11,
   "metadata": {},
   "outputs": [
    {
     "data": {
      "image/png": "[encoded data removed]",
      "text/plain": [
       "<Figure size 640x480 with 1 Axes>"
      ]
     },
     "metadata": {},
     "output_type": "display_data"
    }
   ],
   "source": [
    "# 1010 solutions\n",
    "\n",
    "#from puzzle import * # commenter si notebook\n",
    "\n",
    "pentominos = [F,F.rotation()]\n",
    "for p in [I,L,N,P,T,U,V,W,X,Y,Z]: pentominos += p.isometriques()\n",
    "\n",
    "puzzle = PUZZLE(pentominos,1,12,1,5)\n",
    "    \n",
    "s = puzzle.solve()\n",
    "        \n",
    "sol = next(s)\n",
    "puzzle.plotSolution(sol)\n",
    "#puzzle.printSolution(sol)\n"
   ]
  },
  {
   "cell_type": "markdown",
   "metadata": {},
   "source": [
    "### Exemple 3"
   ]
  },
  {
   "cell_type": "code",
   "execution_count": 12,
   "metadata": {},
   "outputs": [
    {
     "data": {
      "image/png": "[encoded data removed]",
      "text/plain": [
       "<Figure size 640x480 with 1 Axes>"
      ]
     },
     "metadata": {},
     "output_type": "display_data"
    }
   ],
   "source": [
    "# 8 x 212 = 1696 solutions\n",
    "\n",
    "puzzle = PUZZLE(Y.isometriques(),1,15,1,15,strict = False)    \n",
    "       \n",
    "s = puzzle.solve()\n",
    "            \n",
    "sol = next(s)\n",
    "puzzle.plotSolution(sol)\n",
    "#puzzle.printSolution(sol)\n"
   ]
  }
 ],
 "metadata": {
  "kernelspec": {
   "display_name": "SageMath 10.1",
   "language": "sage",
   "name": "sagemath"
  },
  "language_info": {
   "codemirror_mode": {
    "name": "ipython",
    "version": 3
   },
   "file_extension": ".py",
   "mimetype": "text/x-python",
   "name": "python",
   "nbconvert_exporter": "python",
   "pygments_lexer": "ipython3",
   "version": "3.11.6"
  }
 },
 "nbformat": 4,
 "nbformat_minor": 4
}
