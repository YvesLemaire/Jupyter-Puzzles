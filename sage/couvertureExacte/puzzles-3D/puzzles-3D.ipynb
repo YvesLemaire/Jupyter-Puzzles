{
 "cells": [
  {
   "cell_type": "code",
   "execution_count": null,
   "metadata": {},
   "outputs": [],
   "source": [
    "%run ../algorithmeX.ipynb"
   ]
  },
  {
   "cell_type": "markdown",
   "metadata": {},
   "source": [
    "## [Polycubes](https://fr.wikipedia.org/wiki/Polycube)\n",
    "Pour $i,j,k\\in \\mathbf Z$, appelons *cube* $(i,j,k)$ le cube de l'espace dont les sommets sont les $(i+\\delta i,j+\\delta j,k+\\delta k)$ où $\\delta i,\\delta j,\\delta k\\in\\{0,1\\}$.\n",
    "\n",
    "\n",
    "On représente un polycube par une instance de la classe $\\texttt{PIECE}$ :\n",
    "\n",
    "*nom* $\\texttt{ = PIECE('}\\!$ *nom* $\\!\\texttt{',}$ *piece* $\\texttt{,}$ *couleur*  $\\texttt{)}$\n",
    "\n",
    "où *piece* est un ensemble (type $\\texttt{frozenset}$ et non  $\\texttt{set}$) de couples d'entiers $(i,j,k)$ qui représente la forme du polycube.  \n",
    "Il est important que le nom donné à l'instance soit le même que celui passé en argument de  $\\texttt{\\_\\_init\\_\\_}$\n",
    "\n",
    "Pour être placé dans un volume de puzzle 3D, un polycube doit pouvoir être tourné. \n",
    "\n",
    "Le groupe $G$ des isométries directes du cube est formé des applications $(x_0,x_1,x_2)\\mapsto(\\varepsilon_0x_{\\sigma(0)}, \\varepsilon_1x_{\\sigma(1)}, \\varepsilon_2x_{\\sigma(2)})$ où $\\sigma\\in\\mathfrak S_3$ est une permutation de $\\{0,1,2\\}$ et \n",
    "$(\\varepsilon_0, \\varepsilon_1, \\varepsilon_2)\\in\\{\\pm1\\}^3$ satisfont \n",
    "signature $\\!(\\sigma)\\times\\varepsilon_0\\times\\varepsilon_1\\times\\varepsilon_2=1$.\n",
    "\n",
    "En effet, on peut vérifier que ces $24$ applications sont bien dans $G$ et on sait que $G$ comporte $24$ éléments car il est isomorphe à $\\mathfrak S_4$.\n",
    "\n",
    "*nom* $\\texttt{\\!.isometriques()}$ renvoie la liste des $\\leqslant 24$ polycubes obtenus en faisant tourner *nom*.\n",
    "   \n"
   ]
  },
  {
   "cell_type": "code",
   "execution_count": null,
   "metadata": {},
   "outputs": [],
   "source": [
    "import random\n",
    "\n",
    "snsSet3Set2Colors = [(0.5529411764705883, 0.8274509803921568, 0.7803921568627451), (1.0, 1.0, 0.7019607843137254), (0.7450980392156863, 0.7294117647058823, 0.8549019607843137), (0.984313725490196, 0.5019607843137255, 0.4470588235294118), (0.5019607843137255, 0.6941176470588235, 0.8274509803921568), (0.9921568627450981, 0.7058823529411765, 0.3843137254901961), (0.7019607843137254, 0.8705882352941177, 0.4117647058823529), (0.9882352941176471, 0.803921568627451, 0.8980392156862745), (0.8509803921568627, 0.8509803921568627, 0.8509803921568627), (0.7372549019607844, 0.5019607843137255, 0.7411764705882353), (0.8, 0.9215686274509803, 0.7725490196078432), (1.0, 0.9294117647058824, 0.43529411764705883), (0.4, 0.7607843137254902, 0.6470588235294118), (0.9882352941176471, 0.5529411764705883, 0.3843137254901961), (0.5529411764705883, 0.6274509803921569, 0.796078431372549), (0.9058823529411765, 0.5411764705882353, 0.7647058823529411), (0.6509803921568628, 0.8470588235294118, 0.32941176470588235), (1.0, 0.8509803921568627, 0.1843137254901961), (0.8980392156862745, 0.7686274509803922, 0.5803921568627451), (0.7019607843137254, 0.7019607843137254, 0.7019607843137254)]\n",
    "snsPastelColors = [(0.984313725490196, 0.7058823529411765, 0.6823529411764706), (0.7019607843137254, 0.803921568627451, 0.8901960784313725), (0.8, 0.9215686274509803, 0.7725490196078432), (0.8705882352941177, 0.796078431372549, 0.8941176470588236), (0.996078431372549, 0.8509803921568627, 0.6509803921568628), (1.0, 1.0, 0.8), (0.8980392156862745, 0.8470588235294118, 0.7411764705882353), (0.9921568627450981, 0.8549019607843137, 0.9254901960784314), (0.9490196078431372, 0.9490196078431372, 0.9490196078431372), (0.7019607843137254, 0.8862745098039215, 0.803921568627451), (0.9921568627450981, 0.803921568627451, 0.6745098039215687), (0.796078431372549, 0.8352941176470589, 0.9098039215686274), (0.9568627450980393, 0.792156862745098, 0.8941176470588236), (0.9019607843137255, 0.9607843137254902, 0.788235294117647), (1.0, 0.9490196078431372, 0.6823529411764706), (0.9450980392156862, 0.8862745098039215, 0.8), (0.8, 0.8, 0.8)]\n",
    "snsTab20Colors = [(0.12156862745098039, 0.4666666666666667, 0.7058823529411765), (0.6823529411764706, 0.7803921568627451, 0.9098039215686274), (1.0, 0.4980392156862745, 0.054901960784313725), (1.0, 0.7333333333333333, 0.47058823529411764), (0.17254901960784313, 0.6274509803921569, 0.17254901960784313), (0.596078431372549, 0.8745098039215686, 0.5411764705882353), (0.8392156862745098, 0.15294117647058825, 0.1568627450980392), (1.0, 0.596078431372549, 0.5882352941176471), (0.5803921568627451, 0.403921568627451, 0.7411764705882353), (0.7725490196078432, 0.6901960784313725, 0.8352941176470589), (0.5490196078431373, 0.33725490196078434, 0.29411764705882354), (0.7686274509803922, 0.611764705882353, 0.5803921568627451), (0.8901960784313725, 0.4666666666666667, 0.7607843137254902), (0.9686274509803922, 0.7137254901960784, 0.8235294117647058), (0.4980392156862745, 0.4980392156862745, 0.4980392156862745), (0.7803921568627451, 0.7803921568627451, 0.7803921568627451), (0.7372549019607844, 0.7411764705882353, 0.13333333333333333), (0.8588235294117647, 0.8588235294117647, 0.5529411764705883), (0.09019607843137255, 0.7450980392156863, 0.8117647058823529), (0.6196078431372549, 0.8549019607843137, 0.8980392156862745)]\n",
    "\n",
    "palette = snsPastelColors\n",
    "\n",
    "def randomColor(seed = None):\n",
    "    if seed is not None:\n",
    "        random.seed(str(seed))\n",
    "    return random.choice(palette)"
   ]
  },
  {
   "cell_type": "code",
   "execution_count": null,
   "metadata": {},
   "outputs": [],
   "source": [
    "class PIECE:\n",
    "\n",
    "    def __init__(self,nom,piece,couleur = None):\n",
    "        self.nom = nom\n",
    "        self.piece = PIECE.normalise(piece)\n",
    "        self.couleur = couleur\n",
    "        self.largeur = max(t[0] for t in self.piece) + 1\n",
    "        self.profondeur = max(t[1] for t in self.piece) + 1\n",
    "        self.hauteur = max(t[2] for t in self.piece) + 1\n",
    "\n",
    "    def __hash__(self):\n",
    "        return hash(self.piece)\n",
    "\n",
    "    def __eq__(self,q):\n",
    "        return self.piece == q.piece\n",
    "\n",
    "    def __str__(self):\n",
    "        return str((self.nom,self.piece))\n",
    " \n",
    "    def normalise(piece):\n",
    "        min_x = min(t[0] for t in piece)\n",
    "        min_y = min(t[1] for t in piece)\n",
    "        min_z = min(t[2] for t in piece)\n",
    "        return frozenset((x - min_x, y - min_y, z - min_z) for x, y, z in piece)\n",
    "\n",
    "    def isometriques(self):\n",
    "        l = []\n",
    "        for p in Permutations(3):\n",
    "            q = Permutation(p)\n",
    "            u0, u1, u2 = q\n",
    "            u = u0 - 1, u1 - 1, u2 - 1\n",
    "            for e0 in [-1,1]:\n",
    "                for e1 in [-1,1]:\n",
    "                    for e2 in [-1,1]:\n",
    "                        if q.signature() * e0 * e1 * e2 == 1:\n",
    "                            def sigma(t):\n",
    "                                return (e0 * t[u[0]], e1 * t[u[1]], e2 * t[u[2]])\n",
    "                            l.append(PIECE(self.nom, frozenset(sigma(t) for t in self.piece))) \n",
    "        return list(set(l))\n",
    "    \n",
    "    def plot(self):\n",
    "        G = Graphics()    \n",
    "        couleur = 'white' if self.couleur is None else self.couleur    \n",
    "        for i,j,k in self.piece:\n",
    "            G += Polyhedron(vertices = [(i+di,j+dj,k+dk) \n",
    "                    for di in [0,1] for dj in [0,1] for dk in [0,1] ]).plot(color = couleur)\n",
    "        G.show(frame = False)        "
   ]
  },
  {
   "cell_type": "markdown",
   "metadata": {},
   "source": [
    "#### Génération des polycubes de taille donnée\n",
    "$N=6$\n",
    "\n",
    "On calcule une liste $\\texttt{polycubes}$ telle que, pour $1\\leqslant n\\leqslant N$, $\\texttt{polycubes[}n\\texttt{]}=$ la liste des polycubes de taille $n$."
   ]
  },
  {
   "cell_type": "code",
   "execution_count": null,
   "metadata": {},
   "outputs": [],
   "source": [
    "N = 6 # 2 s (N = 7 : 7 s, N = 8 : 46 s, N = 9 : 6 mns) \n",
    "\n",
    "def genPolys(p):\n",
    "    \"\"\"\n",
    "    p est l'ensemble des x.piece quand x parcourt l'ensembles des polycubes de taille n\n",
    "    genPolys(p) renvoie  l'ensemble des x.piece quand x parcourt l'ensembles des polycubes de taille n + 1\n",
    "    \"\"\"\n",
    "    q = set()\n",
    "    for piece0 in p:\n",
    "        for i0,j0,k0 in piece0:\n",
    "            for i, j, k in [(i0, j0 + 1, k0), (i0, j0 - 1, k0), (i0 + 1, j0, k0), (i0 - 1, j0, k0), (i0, j0, k0 + 1), (i0, j0, k0 - 1)]:\n",
    "                if (i, j, k) not in piece0:\n",
    "                    Piece = PIECE('', piece0 | frozenset([(i, j, k)]))\n",
    "                    if q.isdisjoint(Piece.isometriques()):\n",
    "                        q.add(Piece)\n",
    "    return {x.piece for x in q}\n",
    "\n",
    "_p = [set(),{frozenset([(0,0,0)])}]\n",
    "for n in range(N - 1): \n",
    "    _p.append(genPolys(_p[-1]))\n",
    "    \n",
    "polycubes = [[PIECE(f'p{i}_{j}', piece, couleur=palette[j%(len(palette))]) \n",
    "                for j, piece in enumerate(sorted(list(e),key = hash))]\n",
    "                for i, e in enumerate(_p)]\n",
    "\n",
    "for e in polycubes: \n",
    "    for p in e: globals()[p.nom] = p    \n",
    "\n",
    "# Exemple, les 12 pentominos\n",
    "# Noter que, par ex., p5_3 == polycubes[5][3]\n",
    "#for p in polycubes[4]: p.plot()\n",
    "    \n",
    "prefixeNumerique = {1: 'mono', 2 : 'di', 3: 'tri', 4 : 'tétra', 5 : 'penta', \n",
    "                      6 : 'hexa', 7 : 'hepta', 8 : 'octa', 9 : 'nona', 10 : 'déca'}\n",
    "\n",
    "for i in range(1,N + 1):\n",
    "    print(f'{i} : {len(polycubes[i]):>3} {prefixeNumerique[i]}cubes')\n"
   ]
  },
  {
   "cell_type": "markdown",
   "metadata": {},
   "source": [
    "Les 7 plus petits polycubes non cuboidaux (somas)"
   ]
  },
  {
   "cell_type": "code",
   "execution_count": null,
   "metadata": {},
   "outputs": [],
   "source": [
    "#------------------------------- Les 7 plus petits polycubes non cuboidaux (somas) ----------------------------\n",
    "\n",
    "Bent = PIECE( 'Bent',((0,0,0), (0,1,0), (1,0,0)), couleur = palette[0])\n",
    "Ell = PIECE('Ell',((0,0,0), (0,1,0), (1,0,0), (2,0,0)), couleur = palette[1])\n",
    "Tee = PIECE('Tee',((-1,0,0), (0,0,0), (1,0,0), (0,1,0)), couleur = palette[2])\n",
    "Skew = PIECE('Skew',((0,0,0), (1,0,0), (1,1,0), (2,1,0)), couleur = palette[3])\n",
    "Ltwist = PIECE('Ltwist',((0,0,0), (0,1,0), (1,0,0),(1,0,1)), couleur = palette[4])\n",
    "Rtwist = PIECE('Rtwist',((0,0,0), (0,1,0), (1,0,0),(0,1,1)), couleur = palette[5])\n",
    "Claw = PIECE('Claw',((0,0,0), (0,1,0), (1,0,0),(0,0,1)), couleur = palette[6])"
   ]
  },
  {
   "cell_type": "code",
   "execution_count": null,
   "metadata": {},
   "outputs": [],
   "source": [
    "[len(p.isometriques()) for p in [Bent, Ell, Tee, Skew, Ltwist, Rtwist, Claw]]"
   ]
  },
  {
   "cell_type": "code",
   "execution_count": null,
   "metadata": {},
   "outputs": [],
   "source": [
    "\n",
    "class PUZZLE:\n",
    "\n",
    "    def __init__(self,pieces,\n",
    "                      min_i,max_i,min_j,max_j,min_k,max_k,\n",
    "                      conditions = None,\n",
    "                      strict = True):\n",
    "        \"\"\"pieces : liste de PIECE\n",
    "        min_i,max_i,min_j,max_j,min_k,max_k : definition du volume à remplir\n",
    "        conditions : triplet d'entiers -> booleen restreignant le volume\n",
    "    \n",
    "        1er cas  : strict = True\n",
    "            Pour chacun des noms des pieces, il faut placer \n",
    "            une et une seule piece portant ce nom.\n",
    "            Les elements de E sont les noms des pieces\n",
    "            et les cases (triplets d'entiers) du volume.\n",
    "            Chaque element de F contient un et un seul nom\n",
    "            et les cases du plateau utilisees par une piece de ce nom..\n",
    "        \n",
    "        2eme cas : strict = False\n",
    "            Pour chaque piece de pieces, on dispose,\n",
    "            pour resoudre le puzzle, d'autant d'exemplaires\n",
    "            que l'on veut de la piece.\n",
    "            Les elements de E sont les cases du volume.\n",
    "        \"\"\"\n",
    "        self.min_i = min_i\n",
    "        self.max_i = max_i\n",
    "        self.min_j = min_j\n",
    "        self.max_j = max_j\n",
    "        self.min_k = min_k\n",
    "        self.max_k = max_k\n",
    "        self.strict = strict\n",
    "        self.pieces = pieces\n",
    "        if not conditions:\n",
    "            conditions = lambda i,j,k: True\n",
    "        lignes = dict()\n",
    "        nbLignes = 0\n",
    "        for p in pieces:\n",
    "            for u in range(min_i, max_i - p.largeur + 2):\n",
    "                for v in range(min_j, max_j - p.profondeur + 2):\n",
    "                    for w in range(min_k, max_k - p.hauteur + 2):\n",
    "                        ligne = [p.nom] if self.strict else []\n",
    "                        match = True\n",
    "                        for i,j,k in p.piece:\n",
    "                            ic, jc, kc  = i + u, j + v, k + w\n",
    "                            if conditions(ic,jc,kc):\n",
    "                                ligne.append((ic,jc,kc))\n",
    "                            else:\n",
    "                                match = False\n",
    "                                break\n",
    "                        if match:\n",
    "                            lignes[nbLignes] = ligne\n",
    "                            nbLignes += 1\n",
    "        self.lignes = lignes\n",
    "        \n",
    "    def solve(self):\n",
    "\n",
    "        F = self.lignes\n",
    "        return AlgorithmeX(F).solve()\n",
    "\n",
    "    def printSolution(self,sol):     \n",
    "        for l in sol: print(self.lignes[l])\n",
    "\n",
    "    def plotSolution(self,sol,ecart=0,**kwargs):\n",
    "        \n",
    "        if not self.strict:\n",
    "            random.seed('314')\n",
    "        G = Graphics()\n",
    "        for l in sol:\n",
    "            e = set()\n",
    "            for c in self.lignes[l]:\n",
    "                if type(c) == tuple:\n",
    "                    e.add(c)\n",
    "                else:\n",
    "                    couleur = eval(c).couleur \n",
    "            if not self.strict: couleur = randomColor()  \n",
    "            couche = min([k for i,j,k in e])          \n",
    "            for i,j,k in e:\n",
    "                G += Polyhedron(vertices = [(i+di,j+dj,k+dk+couche*ecart) for di in [0,1] for dj in [0,1] for dk in [0,1] ]).plot(color = couleur, **kwargs)\n",
    "   \n",
    "        G.show(frame = False)\n"
   ]
  },
  {
   "cell_type": "code",
   "execution_count": null,
   "metadata": {},
   "outputs": [],
   "source": [
    "def somas(*args):\n",
    "    puzzle = PUZZLE(Ell.isometriques() + Bent.isometriques() + Tee.isometriques() + Skew.isometriques() + \\\n",
    "                            Ltwist.isometriques() + Rtwist.isometriques() + Claw.isometriques(),*args)\n",
    "    sols = puzzle.solve()\n",
    "    s = next(sols)\n",
    "    puzzle.plotSolution(s)\n",
    "\n",
    "somas(1,3,1,3,1,3)\n",
    "somas(1,4,1,3,1,3,lambda i,j,k: (i,j) not in [(1,1),(1,3),(4,2)])\n",
    "somas(1,5,1,3,1,2,lambda i,j,k:(i,j,k) not in [(1,2,2),(3,2,2),(5,2,2)])"
   ]
  },
  {
   "cell_type": "code",
   "execution_count": null,
   "metadata": {},
   "outputs": [],
   "source": [
    "def unePiece(piece,ecart,p,q,r):\n",
    "    puzzle = PUZZLE(piece.isometriques(),1,p,1,q,1,r,strict = False)    \n",
    "    sol = puzzle.solve()\n",
    "    s = next(sol)\n",
    "    puzzle.plotSolution(s, ecart = ecart)\n",
    "\n",
    "unePiece(Ltwist,2,4,4,4)"
   ]
  },
  {
   "cell_type": "code",
   "execution_count": null,
   "metadata": {},
   "outputs": [],
   "source": [
    "unePiece(Claw,0,4,4,2)"
   ]
  },
  {
   "cell_type": "code",
   "execution_count": null,
   "metadata": {},
   "outputs": [],
   "source": [
    "unePiece(Skew,3,4,4,4)"
   ]
  },
  {
   "cell_type": "code",
   "execution_count": null,
   "metadata": {},
   "outputs": [],
   "source": [
    "unePiece(Bent,2,3,3,3)"
   ]
  },
  {
   "cell_type": "code",
   "execution_count": null,
   "metadata": {},
   "outputs": [],
   "source": [
    "# 2528 solutions essentielles\n",
    "\n",
    "Arthur = PIECE('Arthur',((-1,0,0), (0,0,0), (0,1,0), (1,0,0), (2,0,0)))\n",
    "\n",
    "unePiece(Arthur,0,5,5,5)"
   ]
  },
  {
   "cell_type": "code",
   "execution_count": null,
   "metadata": {},
   "outputs": [],
   "source": [
    "unePiece(Arthur,4,5,5,5)"
   ]
  },
  {
   "cell_type": "markdown",
   "metadata": {},
   "source": [
    "Un [cube 6x6x6](https://www.gamepuzzles.com/hexacube.htm) construit à l'aide des 35 hexacubes planaires et d'un exacube non planaire."
   ]
  },
  {
   "cell_type": "code",
   "execution_count": null,
   "metadata": {},
   "outputs": [],
   "source": [
    "def isPlanar(polycube):\n",
    "    return polycube.largeur == 1 or polycube.profondeur == 1 or polycube.hauteur == 1\n",
    "\n",
    "hexaplanars = [polycube for polycube in polycubes[6] if isPlanar(polycube)]\n",
    "hexaNonPlanar = [polycube for polycube in polycubes[6] if polycube not in hexaplanars][0]\n",
    "\n",
    "l = [hexaNonPlanar]\n",
    "\n",
    "for polycube in hexaplanars: l += polycube.isometriques()\n",
    "puzzle = PUZZLE(l, 1,6,1,6,1,6)\n",
    "sols = puzzle.solve()\n",
    "s = next(sols) # 5mns 30s\n",
    "puzzle.plotSolution(s)"
   ]
  },
  {
   "cell_type": "code",
   "execution_count": null,
   "metadata": {},
   "outputs": [],
   "source": [
    "puzzle.plotSolution(s, ecart = 4)"
   ]
  },
  {
   "cell_type": "markdown",
   "metadata": {},
   "source": [
    "Un [cube 10x10x10](https://www.gamepuzzles.com/hexacube.htm) construit à l'aide des 166 hexacubes et de 4 monocubes.\n",
    "\n",
    "Malheureusement, le code suivant fait crasher le noyau ..."
   ]
  },
  {
   "cell_type": "code",
   "execution_count": null,
   "metadata": {},
   "outputs": [],
   "source": [
    "Cube1 = PIECE('Cube1', {(0,0,0)})\n",
    "Cube2 = PIECE('Cube2', {(0,0,0)})\n",
    "Cube3 = PIECE('Cube3', {(0,0,0)})\n",
    "Cube4 = PIECE('Cube4', {(0,0,0)})\n",
    "l = [Cube1, Cube2, Cube3, Cube4]\n",
    "for p in polycubes[6]: l += p.isometriques()\n",
    "puzzle = PUZZLE(l, 1,10,1,10,1,10)\n",
    "sols = puzzle.solve()\n",
    "s = next(sols)\n",
    "puzzle.plotSolution(s)"
   ]
  }
 ],
 "metadata": {
  "kernelspec": {
   "display_name": "SageMath 9.5",
   "language": "sage",
   "name": "sagemath"
  },
  "language_info": {
   "codemirror_mode": {
    "name": "ipython",
    "version": 3
   },
   "file_extension": ".py",
   "mimetype": "text/x-python",
   "name": "python",
   "nbconvert_exporter": "python",
   "pygments_lexer": "ipython3",
   "version": "3.10.12"
  }
 },
 "nbformat": 4,
 "nbformat_minor": 4
}
