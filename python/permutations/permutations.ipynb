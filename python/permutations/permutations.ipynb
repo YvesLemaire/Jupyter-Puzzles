{
 "cells": [
  {
   "cell_type": "markdown",
   "id": "f9328989",
   "metadata": {
    "id": "f9328989"
   },
   "source": [
    "# Générer toutes les permutations"
   ]
  },
  {
   "cell_type": "markdown",
   "id": "95002389",
   "metadata": {
    "id": "95002389"
   },
   "source": [
    "## Objet du problème"
   ]
  },
  {
   "cell_type": "markdown",
   "id": "b1d05f4a",
   "metadata": {
    "id": "b1d05f4a"
   },
   "source": [
    "On se propose d'écrire une fonction ``permutations``\n",
    "qui prend en argument une liste d'éléments distincts\n",
    "$a=[a_0,\\dotsc,a_{n-1}]$ et qui renvoie un générateur des $n!$ listes $x=[a_{\\sigma(0)},\\dotsc,a_{\\sigma(n-1)}]$ quand $\\sigma$ parcourt l'ensemble $\\mathfrak{S}(\\mathbf{N}_n)$\n",
    "des permutations de $\\textbf{N}_n=[|0,n-1|]$.\n",
    "Ainsi, la commande\n",
    "```python\n",
    "for x in permutations([1,2,3]): print(x, end = ';')\n",
    "```\n",
    "devra afficher les $3!=6$ listes\n",
    "```python\n",
    "[1, 2, 3];[2, 3, 1];[3, 1, 2];[2, 1, 3];[1, 3, 2];[3, 2, 1]\n",
    "```\n",
    "peut-être dans un ordre différent."
   ]
  },
  {
   "cell_type": "markdown",
   "id": "a554538a",
   "metadata": {
    "id": "a554538a"
   },
   "source": [
    "## Utilisation de la bibliothèque standard"
   ]
  },
  {
   "cell_type": "markdown",
   "id": "71e2d24c",
   "metadata": {
    "id": "71e2d24c"
   },
   "source": [
    "Le module ``itertools`` de la \n",
    "bibliothèque standard de Python fournit une fonction\n",
    "``permutations``\n",
    "qui répond aux spécifications voulues.\n",
    "En fait, pas exactement car elle génère des tuples\n",
    "au lieu de listes."
   ]
  },
  {
   "cell_type": "markdown",
   "id": "cee9c0d7",
   "metadata": {
    "id": "cee9c0d7"
   },
   "source": [
    "## Méthode des permutations circulaires (Langdon 1967)"
   ]
  },
  {
   "cell_type": "markdown",
   "id": "0a96d6bf",
   "metadata": {
    "id": "0a96d6bf"
   },
   "source": [
    "Fixons $a=[a_0,\\dotsc,a_{n-1}]$. \n",
    "Si $x=[x_0,\\dotsc,x_{n-1}]$ est une permutation de\n",
    "$a$, notons, pour $1\\leqslant k\\leqslant n$, \n",
    "$\\text{shift}_k(x)=[x_1,\\dotsc,x_{k-1},x_0,x_k,\\dotsc,x_{n-1}]$\n",
    "la liste obtenue en opérant une permutation circulaire sur\n",
    "les $k$ premiers éléments de $x$. On note aussi\n",
    "$\\text{shift}^{-1}_k(x)=[x_{k-1},x_0,\\dotsc,x_{k-2},x_k,\\dotsc,x_{n-1}]$\n",
    "la permutation circulaire inverse sur $k$ éléments.\n",
    "\n",
    "Soit $t_n\\in\\mathbf{N}_n$ tel que $\\text{shift}^{-t_n}_n(x)=\n",
    "[\\dotsc,a_{n-1}]$.\n",
    "$t_n$ est \n",
    "le nombre de permutations circulaires inverses sur $n$\n",
    "éléments qu'il faut opérer sur $x$ pour que le $n^{\\text e}$\n",
    "élément devienne $a_{n-1}$ ; c'est en quelque sorte la\n",
    "distance de $a_{n-1}$ à la fin de $x$ dans $x$.  \n",
    "De même, soit $t_{n-1}\\in\\mathbf{N}_{n-1}$ tel que\n",
    "$\\text{shift}^{-t_{n-1}}_{n-1}(\\text{shift}^{-t_n}_n(x))=\n",
    "[\\dotsc,a_{n-2},a_{n-1}]$.  \n",
    "Et ainsi de suite ; on définit donc\n",
    "$t=(t_1,\\dotsc,t_n)\\in\\mathbf{N}_1\\times\\dotsm\\times\\mathbf{N}_n$\n",
    "tel que $\\text{shift}_1^{-t_1}\\circ\\dotsb\\circ\n",
    "\\text{shift}_n^{-t_n}(x)=[a_0,\\dotsc,a_{n-1}]=a$.  \n",
    "Par exemple, pour $a=[1,2,3,4]$\n",
    "et $x=[1,4,3,2]$, on voit que  \n",
    "$[1,4,3,2]\\xrightarrow{\\text{shift}^{-2}_4}[3,2,1,4]\n",
    "\\xrightarrow{\\text{shift}^{-2}_3}[2,1,3,4]\n",
    "\\xrightarrow{\\text{shift}^{-1}_2}[1,2,3,4]\n",
    "\\xrightarrow{\\text{shift}^{-0}_1}[1,2,3,4]$  \n",
    "donc  $t=(0,1,2,2)$. Noter que \n",
    "$\\mathbf{N}_1=\\{0\\}$ de sorte que $t_0$ est toujours nul.\n",
    "\n",
    "On définit ainsi une bijection $\\varphi_a:x\\mapsto t$ de l'ensemble\n",
    "$\\mathfrak S_a$ des permutations de $a$ sur l'ensemble\n",
    "$T_n=\\mathbf{N}_1\\times\\dotsm\\times\\mathbf{N}_n$,\n",
    "la bijection réciproque étant définie\n",
    "par $\\psi_a=\\varphi_a^{-1}:t\\mapsto x=\\text{shift}_{n}^{t_{n}}\\circ\\dotsb\\circ\n",
    "\\text{shift}_1^{t_1}(a)$.  \n",
    "Par exemple, toujours pour \n",
    "$a=[1,2,3,4]$, \n",
    "$\\psi_a(0,1,1,3)$ s'obtient de la manière suivante :  \n",
    "$a=[1,2,3,4]\\xrightarrow{\\text{shift}^{0}_1}[1,2,3,4]\n",
    "\\xrightarrow{\\text{shift}^{1}_2}[2,1,3,4]\n",
    "\\xrightarrow{\\text{shift}^{1}_3}[1,3,2,4]\n",
    "\\xrightarrow{\\text{shift}^{3}_4}[4,1,3,2]=\\psi_a(0,1,1,3)$\n",
    "\n",
    "Munissons $T_n$ de l'ordre lexicographique, poids fort en tête.\n",
    "Pour cet ordre, le successeur $t^+$ de $t=(t_1,\\dotsc,t_n)\n",
    "\\in T_n\\setminus\\{(0,1,\\dotsc,n-1)\\}$ s'obtient de \n",
    "la manière suivante :  \n",
    "&nbsp;&nbsp;&nbsp;&nbsp;**si** $t_{n}<n-1$ **alors** $t^+=(t_1,\\dotsc,t_{n-1},t_n+1)$  \n",
    "&nbsp;&nbsp;&nbsp;&nbsp;**sinon si** $t_{n-1}<n-2$ **alors** $t^+=(t_1,\\dotsc,t_{n-2},t_{n-1}+1,0)$  \n",
    "&nbsp;&nbsp;&nbsp;&nbsp;**sinon si** $t_{n-2}<n-3$ **alors** $t^+=(t_1,\\dotsc,t_{n-3},t_{n-2}+1,0,0)$  \n",
    "&nbsp;&nbsp;&nbsp;&nbsp;etc.  \n",
    "Par exemple, pour $n = 6$, $(0,1,2,2,4,5)^+=(0,1,2,3,0,0)$.\n",
    "\n",
    "Cet ordre sur $T_n$ induit,\n",
    "via la bijection $\\varphi_a$,\n",
    "un ordre sur $\\mathfrak S_a$ pour lequel le successeur $x^+$\n",
    "de $x=[x_0,\\dotsc,x_{n-1}]\\in\\mathfrak S_a\n",
    "\\setminus\\{[a_{n-1},\\dotsc,a_0]\\}$ se calcule commme suit:\n",
    "\n",
    "&nbsp;&nbsp;&nbsp;&nbsp;$y\\leftarrow x$  \n",
    "&nbsp;&nbsp;&nbsp;&nbsp;$y\\leftarrow\\text{shift}_n(y)$ ; **si** $y_{n-1} \\neq a_{n-1}$ **alors** $x^+=y$  \n",
    "&nbsp;&nbsp;&nbsp;&nbsp;**sinon** $y\\leftarrow\\text{shift}_{n-1}(y)$ ; **si** $y_{n-2} \\neq a_{n-2}$ **alors** $x^+=y$  \n",
    "&nbsp;&nbsp;&nbsp;&nbsp;**sinon** $y\\leftarrow\\text{shift}_{n-2}(y)$ ; **si** $y_{n-3} \\neq a_{n-3}$ **alors** $x^+=y$  \n",
    "&nbsp;&nbsp;&nbsp;&nbsp;etc.  \n",
    "\n",
    "Pour visiter toutes les permutations de $\\mathfrak S_a$, \n",
    "on peut donc appliquer l'algorithme suivant :\n",
    "\n",
    "&nbsp;&nbsp;&nbsp;&nbsp;$x\\leftarrow a$ \\# le plus petit élément de $\\mathfrak S_a$  \n",
    "&nbsp;&nbsp;&nbsp;&nbsp;visiter $x$  \n",
    "&nbsp;&nbsp;&nbsp;&nbsp;**tant que** $x$ n'est pas le plus grand élément de $\\mathfrak S_a$ **faire**  \n",
    "&nbsp;&nbsp;&nbsp;&nbsp;&nbsp;&nbsp;&nbsp;&nbsp;$x\\leftarrow x^+$  \n",
    "&nbsp;&nbsp;&nbsp;&nbsp;&nbsp;&nbsp;&nbsp;&nbsp;visiter $x$  "
   ]
  },
  {
   "cell_type": "markdown",
   "id": "b1b81c3e",
   "metadata": {
    "id": "b1b81c3e"
   },
   "source": [
    "### Implémentation"
   ]
  },
  {
   "cell_type": "code",
   "execution_count": 3,
   "id": "0f2f7d60",
   "metadata": {
    "id": "0f2f7d60"
   },
   "outputs": [],
   "source": [
    "def permutations(a):\n",
    "\n",
    "    x = a\n",
    "    n = len(a)\n",
    "    # visiter a\n",
    "    k = n \n",
    "    yield x\n",
    "    while k > 1:\n",
    "        # x <- shift_k(x)\n",
    "        x = x[1:k] + [x[0]] + x[k:]\n",
    "        if x[k-1] == a[k-1]:\n",
    "            k -= 1\n",
    "        else:\n",
    "            # visiter x\n",
    "            k = n\n",
    "            yield x"
   ]
  },
  {
   "cell_type": "markdown",
   "id": "38a64100",
   "metadata": {
    "id": "38a64100"
   },
   "source": [
    "#### Test"
   ]
  },
  {
   "cell_type": "code",
   "execution_count": 7,
   "id": "f944011d",
   "metadata": {
    "colab": {
     "base_uri": "https://localhost:8080/"
    },
    "executionInfo": {
     "elapsed": 15,
     "status": "ok",
     "timestamp": 1670628996226,
     "user": {
      "displayName": "Yves Lemaire",
      "userId": "04690556979859113270"
     },
     "user_tz": -60
    },
    "id": "f944011d",
    "outputId": "a8268c84-9322-4e66-b99e-5a4e6c4598ae"
   },
   "outputs": [
    {
     "name": "stdout",
     "output_type": "stream",
     "text": [
      "[1, 2, 3];[2, 3, 1];[3, 1, 2];[2, 1, 3];[1, 3, 2];[3, 2, 1];"
     ]
    }
   ],
   "source": [
    "for x in permutations([1,2,3]): print(x, end = ';')"
   ]
  },
  {
   "cell_type": "markdown",
   "id": "600c9e06",
   "metadata": {
    "id": "600c9e06"
   },
   "source": [
    "### Exemple 1"
   ]
  },
  {
   "cell_type": "markdown",
   "id": "35d0b4ae",
   "metadata": {
    "id": "35d0b4ae"
   },
   "source": [
    "Remplacer les $\\bullet$ par les entiers de $1$ à $9$ correctement ordonnés pour qu'ait lieu l'égalite :  \n",
    " $$\\bullet - \\bullet + \\bullet \\times \\bullet^2 - \\bullet \\times \\bullet^2 - \\bullet \\times \\bullet^2 /  \\bullet = 608$$"
   ]
  },
  {
   "cell_type": "markdown",
   "id": "35aa8dbc",
   "metadata": {
    "id": "35aa8dbc"
   },
   "source": [
    "#### Solution"
   ]
  },
  {
   "cell_type": "code",
   "execution_count": 8,
   "id": "95faddca",
   "metadata": {
    "colab": {
     "base_uri": "https://localhost:8080/"
    },
    "executionInfo": {
     "elapsed": 141,
     "status": "ok",
     "timestamp": 1670629001787,
     "user": {
      "displayName": "Yves Lemaire",
      "userId": "04690556979859113270"
     },
     "user_tz": -60
    },
    "id": "95faddca",
    "outputId": "36ecc232-fb9d-42e9-b3b0-ab46c682d7fd"
   },
   "outputs": [
    {
     "name": "stdout",
     "output_type": "stream",
     "text": [
      "1 - 5 + 8x9^2 - 7x2^2 - 3x4^2/6 = 608\n"
     ]
    }
   ],
   "source": [
    "for s in permutations([1,2,3,4,5,6,7,8,9]):\n",
    "    if s[0] - s[1]  + s[2] * s[3]**2 - s[4] * s[5]**2 \\\n",
    "                            - s[6] * s[7] ** 2 / s[8] == 608:\n",
    "        print('{} - {} + {}x{}^2 - {}x{}^2 - {}x{}^2/{} = 608'.format(*s))\n",
    "        break"
   ]
  },
  {
   "cell_type": "markdown",
   "id": "10ef915a",
   "metadata": {
    "id": "10ef915a"
   },
   "source": [
    "### Exemple 2"
   ]
  },
  {
   "cell_type": "markdown",
   "id": "0cfcc412",
   "metadata": {
    "id": "0cfcc412"
   },
   "source": [
    "Trouver un nombre entier $n$ dont l'écriture décimale comporte exactement les $10$ chiffres $0,\\ldots,9$ ($n=c_0\\ldots c_9$ avec $\\{c_0,\\ldots,c_9\\}=\\{0,\\ldots,9\\}$) et qui vérifie la condition suivante :\n",
    "$$\\forall k \\in \\{1,\\ldots,10\\},\\,c_0\\ldots c_{k-1} \\text{ est divisible par } k$$."
   ]
  },
  {
   "cell_type": "markdown",
   "id": "8f0f33f2",
   "metadata": {
    "id": "8f0f33f2"
   },
   "source": [
    "#### Solution"
   ]
  },
  {
   "cell_type": "code",
   "execution_count": 9,
   "id": "9e6135a9",
   "metadata": {
    "colab": {
     "base_uri": "https://localhost:8080/"
    },
    "executionInfo": {
     "elapsed": 13818,
     "status": "ok",
     "timestamp": 1670629020709,
     "user": {
      "displayName": "Yves Lemaire",
      "userId": "04690556979859113270"
     },
     "user_tz": -60
    },
    "id": "9e6135a9",
    "outputId": "c266cce2-a9b7-4c84-84b5-7a717298515c"
   },
   "outputs": [
    {
     "name": "stdout",
     "output_type": "stream",
     "text": [
      "n = 3816547290\n"
     ]
    }
   ],
   "source": [
    "for c in permutations(list(range(10))):\n",
    "    flag = True\n",
    "    m = 0\n",
    "    for k in range(1,11):\n",
    "        m = 10 * m + c[k-1]\n",
    "        if m % k:\n",
    "            flag = False\n",
    "            break\n",
    "    if flag:\n",
    "        print('n = {}'.format(m))"
   ]
  },
  {
   "cell_type": "markdown",
   "id": "64dbd4f9",
   "metadata": {},
   "source": [
    "### Exemple 3\n",
    "[Enigma 1224: Age-changing](https://enigmaticcode.wordpress.com/2015/06/20/enigma-1224-age-changing/)"
   ]
  },
  {
   "cell_type": "markdown",
   "id": "3f2ce40a",
   "metadata": {},
   "source": [
    "Si vous partez de mon age en années et que vous lui appliquez les 4 opérations $+2$, $/8$, $-3$, $\\times 7$ dans un certain ordre, vous obtenez l'age de mon mari. Étonnamment, si vous partez de son age et que vous appliquez les mêmes opérations dans un ordre différent, alors vous obtenez mon age. \n",
    "\n",
    "Quels sont nos deux ages ?"
   ]
  },
  {
   "cell_type": "markdown",
   "id": "3d613982",
   "metadata": {},
   "source": [
    "#### Solution"
   ]
  },
  {
   "cell_type": "code",
   "execution_count": 8,
   "id": "fc6be3e4",
   "metadata": {},
   "outputs": [
    {
     "name": "stdout",
     "output_type": "stream",
     "text": [
      "Réponse : 48 et 53\n",
      "(((48//8)+2)*7)-3 = 53\n",
      "(((53*7)-3)//8)+2 = 48\n"
     ]
    }
   ],
   "source": [
    "import numpy as np\n",
    "\n",
    "op = ['+2','//8','-3','*7']\n",
    "ops = list(permutations(op))\n",
    "\n",
    "minAge, maxAge = 16, 111\n",
    "\n",
    "u = np.zeros((24,maxAge), dtype = 'int8')\n",
    "\n",
    "for i, operations in enumerate(ops):\n",
    "    for age in range(minAge,maxAge):\n",
    "        x = age\n",
    "        for operation in operations:\n",
    "            if operation == '//8' and x % 8:\n",
    "                x = 0\n",
    "                break\n",
    "            x = eval(str(x) + operation)\n",
    "        if minAge <= x < maxAge:\n",
    "            u[i,age] = x\n",
    "            \n",
    "for i in range(24):\n",
    "    for age in range(minAge,maxAge):\n",
    "        age_ = u[i,age]\n",
    "        if age_ > age:\n",
    "            for j in range(24):\n",
    "                if u[j][age_] == age:\n",
    "                    print(f'Réponse : {age} et {age_}')\n",
    "                    print(f'((({age}{ops[i][0]}){ops[i][1]}){ops[i][2]}){ops[i][3]} = {age_}')\n",
    "                    print(f'((({age_}{ops[j][0]}){ops[j][1]}){ops[j][2]}){ops[j][3]} = {age}')          "
   ]
  },
  {
   "cell_type": "markdown",
   "id": "02bdce81",
   "metadata": {},
   "source": [
    "### Exemple 4\n",
    "[Enigma 1516: A colourful turn](https://enigmaticcode.wordpress.com/2012/09/18/enigma-1516-a-colourful-turn/)"
   ]
  },
  {
   "cell_type": "markdown",
   "id": "a2ddfd30",
   "metadata": {},
   "source": [
    "Les faces de huit cartes ont pour couleurs amarante, chartreuse, framboise, jaune, lapis-lazuli, menthe, pourpre et vert. L'arrière des cartes est blanc. Elles sont disposées en tas, face cachée, dans un certain ordre.\n",
    "\n",
    "J'épelle une des couleurs (le tiret de lapis-lazuli ne compte pas) et, pour chaque lettre épelée, je déplace la carte située au dessus du tas vers le dessous du tas. A l'épellation de la dernière lettre, je retourne la carte à déplacer et il se trouve que c'est la carte de la couleur épelée. J'épelle alors une autre couleur, et ainsi de suite pour toutes les couleurs.\n",
    "\n",
    "Déterminer l'ordre d'annonce des cartes ainsi que l'ordre initial des cartes dans le tas."
   ]
  },
  {
   "cell_type": "code",
   "execution_count": 75,
   "id": "a3b01a23",
   "metadata": {
    "id": "600c9e06",
    "scrolled": false
   },
   "outputs": [
    {
     "name": "stdout",
     "output_type": "stream",
     "text": [
      "Ordre d'annonce des cartes           ['A', 'M', 'J', 'V', 'C', 'F', 'L', 'P']\n",
      "Ordre initial des cartes dans le tas ['C', 'F', 'J', 'P', 'L', 'M', 'V', 'A']\n"
     ]
    }
   ],
   "source": [
    "couleurs = [\"Amarante\",\n",
    "            \"Chartreuse\", \n",
    "            \"Framboise\", \n",
    "            \"Jaune\", \n",
    "            \"Lapislazuli\", \n",
    "            \"Menthe\", \n",
    "            \"Pourpre\", \n",
    "            \"Vert\"]\n",
    "\n",
    "for p in permutations(couleurs):\n",
    "    if p[-1] == \"Pourpre\" and p.index(\"Framboise\") > p.index(\"Chartreuse\"):\n",
    "        indices = list(range(8))\n",
    "        cartes = [None for _ in range(8)]\n",
    "        for c in p: \n",
    "            l = len(c) % 8\n",
    "            indices = indices[l:] + indices[:l]\n",
    "            if cartes[indices[-1]] is not None: break\n",
    "            cartes[indices[-1]] = c\n",
    "        if None not in cartes:\n",
    "            print(\"Ordre d'annonce des cartes          \", [c[0] for c in p])\n",
    "            print(\"Ordre initial des cartes dans le tas\", [cartes[i][0] for i in range(8)])"
   ]
  }
 ],
 "metadata": {
  "colab": {
   "provenance": [],
   "toc_visible": true
  },
  "kernelspec": {
   "display_name": "Python 3 (ipykernel)",
   "language": "python",
   "name": "python3"
  },
  "language_info": {
   "codemirror_mode": {
    "name": "ipython",
    "version": 3
   },
   "file_extension": ".py",
   "mimetype": "text/x-python",
   "name": "python",
   "nbconvert_exporter": "python",
   "pygments_lexer": "ipython3",
   "version": "3.10.5"
  }
 },
 "nbformat": 4,
 "nbformat_minor": 5
}
