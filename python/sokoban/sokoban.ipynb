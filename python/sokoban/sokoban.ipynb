{
 "cells": [
  {
   "cell_type": "code",
   "execution_count": 2,
   "metadata": {},
   "outputs": [],
   "source": [
    "# Initialisation(s)\n",
    "\n",
    "import os, sys\n",
    "IN_COLAB = 'google.colab' in sys.modules\n",
    "if IN_COLAB:\n",
    "    # Running in Google CoLab\n",
    "    from google.colab import drive\n",
    "    drive.mount('/content/gdrive/')\n",
    "    global_prefix = '/content/gdrive/MyDrive/Colab Notebooks/Jupyter-Puzzles/python/sokoban/'\n",
    "    os.chdir(global_prefix)\n",
    "else:\n",
    "    # Not running in Google CoLab\n",
    "    global_prefix = os.getcwd().replace('\\\\','/') + '/'\n",
    "\n",
    "sys.path.append(f'{global_prefix}../outils')"
   ]
  },
  {
   "cell_type": "markdown",
   "metadata": {},
   "source": [
    "# [Sokoban](https://fr.wikipedia.org/wiki/Sokoban)\n",
    "Soit à écrire une fonction `solve`(*file*) prenant en argument un fichier *file* représentant un problème de sokoban au [format xsb](https://fr.wikipedia.org/wiki/Sokoban#Exemple_(le_niveau_1_de_Sokoban)) et renvoyant une chaine de caractère représentant une solution optimale au [format LURD](http://sokoban.org/about_sokoban.php).\n",
    "\n",
    "Tout d'abord, une fonction `arrayOfFile`(*file*) permettant de représenter le problème par une matrice `numpy`."
   ]
  },
  {
   "cell_type": "code",
   "execution_count": 3,
   "metadata": {},
   "outputs": [],
   "source": [
    "import numpy as np\n",
    "import time\n",
    "\n",
    "empty = 0\n",
    "wall = 1\n",
    "pusher_down = 2\n",
    "box = 3\n",
    "goal = 4\n",
    "box_on_goal = 5\n",
    "pusher_up = 6\n",
    "pusher_right = 7\n",
    "pusher_left = 8\n",
    "\n",
    "\n",
    "def arrayOfFile(file):\n",
    "    with open(file,\"r\") as f: \n",
    "            layout = f.readlines() \n",
    "    layout = [x.replace('\\n','') for x in layout]\n",
    "    layout = [','.join(layout[i]) for i in range(len(layout))]\n",
    "    layout = [x.split(',') for x in layout]\n",
    "\n",
    "    maxColsNum = max([len(x) for x in layout])\n",
    "    for irow in range(len(layout)):\n",
    "            for icol in range(len(layout[irow])):\n",
    "                if layout[irow][icol] == ' ': layout[irow][icol] = empty   \n",
    "                elif layout[irow][icol] == '#': layout[irow][icol] = wall\n",
    "                elif layout[irow][icol] == '@': layout[irow][icol] = pusher_down\n",
    "                elif layout[irow][icol] == '$': layout[irow][icol] = box\n",
    "                elif layout[irow][icol] == '.': layout[irow][icol] = goal\n",
    "                elif layout[irow][icol] == '*': layout[irow][icol] = box_on_goal\n",
    "            colsNum = len(layout[irow])\n",
    "            if colsNum < maxColsNum:\n",
    "                layout[irow].extend([0 for _ in range(maxColsNum-colsNum)])            \n",
    "\n",
    "    return np.array(layout)"
   ]
  },
  {
   "cell_type": "markdown",
   "metadata": {},
   "source": [
    "Test"
   ]
  },
  {
   "cell_type": "code",
   "execution_count": null,
   "metadata": {},
   "outputs": [],
   "source": [
    "microcosmos31_file = f'{global_prefix}/levels/microcosmos31.txt'\n",
    "arrayOfFile(microcosmos31_file)"
   ]
  },
  {
   "cell_type": "markdown",
   "metadata": {},
   "source": [
    "Et voici le programme proprement dit qui implémente la fonction `solve`(*file*) en utilisant l'[algorithme A*](../outils/parcours.ipynb).\n",
    "\n",
    "Noter que les fonctions que l'on donnera en arguments de `aStar` sont issues du programme [sokoban-solver](https://github.com/KnightofLuna/sokoban-solver) de [KnightofLuna](https://github.com/KnightofLuna) ; elles possèdent une doc-string en anglais."
   ]
  },
  {
   "cell_type": "code",
   "execution_count": 5,
   "metadata": {},
   "outputs": [],
   "source": [
    "%run ../outils/parcours.ipynb\n",
    "\n",
    "\"\"\"define the rules of sokoban\"\"\"\n",
    "\n",
    "def PosOfPlayer():\n",
    "    \"\"\"Return the position of agent\"\"\"\n",
    "    return tuple(np.argwhere(gameState == 2)[0]) # e.g. (2, 2)\n",
    "\n",
    "def PosOfBoxes():\n",
    "    \"\"\"Return the positions of boxes\"\"\"\n",
    "    return tuple(tuple(x) for x in np.argwhere((gameState == 3) | (gameState == 5))) # e.g. ((2, 3), (3, 4), (4, 4), (6, 1), (6, 4), (6, 5))\n",
    "\n",
    "def PosOfWalls():\n",
    "    \"\"\"Return the positions of walls\"\"\"\n",
    "    return tuple(tuple(x) for x in np.argwhere(gameState == 1)) # e.g. like those above\n",
    "\n",
    "def PosOfGoals():\n",
    "    \"\"\"Return the positions of goals\"\"\"\n",
    "    return tuple(tuple(x) for x in np.argwhere((gameState == 4) | (gameState == 5))) # e.g. like those above\n",
    "\n",
    "def is_end_state(state):\n",
    "    \"\"\"Check if all boxes are on the goals (i.e. pass the game)\"\"\"\n",
    "    return sorted(state[1]) == sorted(posGoals)\n",
    "\n",
    "def isLegalAction(action, posPlayer, posBox):\n",
    "    \"\"\"Check if the given action is legal\"\"\"\n",
    "    xPlayer, yPlayer = posPlayer\n",
    "    if action[-1].isupper(): # the move was a push\n",
    "        x1, y1 = xPlayer + 2 * action[0], yPlayer + 2 * action[1]\n",
    "    else:\n",
    "        x1, y1 = xPlayer + action[0], yPlayer + action[1]\n",
    "    return (x1, y1) not in posBox + posWalls\n",
    "\n",
    "def legal_actions(state):\n",
    "    \"\"\"Return all legal actions for the agent in the current game state\"\"\"\n",
    "    posPlayer, posBox = state\n",
    "    allActions = [[-1,0,'u','U'],[1,0,'d','D'],[0,-1,'l','L'],[0,1,'r','R']]\n",
    "    xPlayer, yPlayer = posPlayer\n",
    "    legalActions = []\n",
    "    for action in allActions:\n",
    "        x1, y1 = xPlayer + action[0], yPlayer + action[1]\n",
    "        if (x1, y1) in posBox: # the move was a push\n",
    "            action.pop(2) # drop the little letter\n",
    "        else:\n",
    "            action.pop(3) # drop the upper letter\n",
    "        if isLegalAction(action, posPlayer, posBox):\n",
    "            legalActions.append(action)\n",
    "        else: \n",
    "            continue     \n",
    "    return tuple(tuple(x) for x in legalActions) # e.g. ((0, -1, 'l'), (0, 1, 'R'))\n",
    "\n",
    "def delta(state, action):\n",
    "    \"\"\"Return updated game state after an action is taken\"\"\"\n",
    "    posPlayer, posBox = state\n",
    "    xPlayer, yPlayer = posPlayer # the previous position of player\n",
    "    newPosPlayer = [xPlayer + action[0], yPlayer + action[1]] # the current position of player\n",
    "    posBox = [list(x) for x in posBox]\n",
    "    if action[-1].isupper(): # if pushing, update the position of box\n",
    "        posBox.remove(newPosPlayer)\n",
    "        posBox.append([xPlayer + 2 * action[0], yPlayer + 2 * action[1]])\n",
    "    posBox = tuple(tuple(x) for x in posBox)\n",
    "    newPosPlayer = tuple(newPosPlayer)\n",
    "    return newPosPlayer, posBox\n",
    "\n",
    "def is_blocked(state):\n",
    "    \"\"\"This function used to observe if the state is potentially failed, then prune the search\"\"\"\n",
    "    _, posBox = state\n",
    "    rotatePattern = [[0,1,2,3,4,5,6,7,8],\n",
    "                    [2,5,8,1,4,7,0,3,6],\n",
    "                    [0,1,2,3,4,5,6,7,8][::-1],\n",
    "                    [2,5,8,1,4,7,0,3,6][::-1]]\n",
    "    flipPattern = [[2,1,0,5,4,3,8,7,6],\n",
    "                    [0,3,6,1,4,7,2,5,8],\n",
    "                    [2,1,0,5,4,3,8,7,6][::-1],\n",
    "                    [0,3,6,1,4,7,2,5,8][::-1]]\n",
    "    allPattern = rotatePattern + flipPattern\n",
    "\n",
    "    for box in posBox:\n",
    "        if box not in posGoals:\n",
    "            board = [(box[0] - 1, box[1] - 1), (box[0] - 1, box[1]), (box[0] - 1, box[1] + 1), \n",
    "                    (box[0], box[1] - 1), (box[0], box[1]), (box[0], box[1] + 1), \n",
    "                    (box[0] + 1, box[1] - 1), (box[0] + 1, box[1]), (box[0] + 1, box[1] + 1)]\n",
    "            for pattern in allPattern:\n",
    "                newBoard = [board[i] for i in pattern]\n",
    "                if newBoard[1] in posWalls and newBoard[5] in posWalls: return True\n",
    "                elif newBoard[1] in posBox and newBoard[2] in posWalls and newBoard[5] in posWalls: return True\n",
    "                elif newBoard[1] in posBox and newBoard[2] in posWalls and newBoard[5] in posBox: return True\n",
    "                elif newBoard[1] in posBox and newBoard[2] in posBox and newBoard[5] in posBox: return True\n",
    "                elif newBoard[1] in posBox and newBoard[6] in posBox and newBoard[2] in posWalls and newBoard[3] in posWalls and newBoard[8] in posWalls: return True\n",
    "    return False\n",
    "\n",
    "def heuristic(state):\n",
    "    \"\"\"A heuristic function to calculate the overall distance between the else boxes and the else goals\"\"\"\n",
    "    _, posBox = state\n",
    "    distance = 0\n",
    "    completes = set(posGoals) & set(posBox)\n",
    "    sortposBox = list(set(posBox).difference(completes))\n",
    "    sortposGoals = list(set(posGoals).difference(completes))\n",
    "    for i in range(len(sortposBox)):\n",
    "        distance += (abs(sortposBox[i][0] - sortposGoals[i][0])) + (abs(sortposBox[i][1] - sortposGoals[i][1]))\n",
    "    return distance\n",
    "\n",
    "def solve(file):\n",
    "                \n",
    "    global gameState, posWalls, posGoals\n",
    "\n",
    "    time_start = time.time()\n",
    "    gameState = arrayOfFile(file)\n",
    "    posWalls = PosOfWalls()\n",
    "    posGoals = PosOfGoals()\n",
    "    start_state = (PosOfPlayer(), PosOfBoxes())\n",
    "\n",
    "    sol = aStar(start_state,\n",
    "                is_end_state,\n",
    "                legal_actions,\n",
    "                delta,\n",
    "                is_blocked,\n",
    "                heuristic)\n",
    "\n",
    "    print('Runtime {0:0.2f} seconds'.format(time.time() - time_start))\n",
    "    return ''.join(list(map(lambda t: t[2], sol)))\n"
   ]
  },
  {
   "cell_type": "markdown",
   "metadata": {},
   "source": [
    "Test"
   ]
  },
  {
   "cell_type": "code",
   "execution_count": null,
   "metadata": {},
   "outputs": [],
   "source": [
    "microcosmos31_sol = solve(microcosmos31_file)\n",
    "microcosmos31_sol"
   ]
  },
  {
   "cell_type": "markdown",
   "metadata": {},
   "source": [
    "## Représentation graphique d'une solution\n",
    "### Affichage d'une position"
   ]
  },
  {
   "cell_type": "code",
   "execution_count": 7,
   "metadata": {},
   "outputs": [],
   "source": [
    "%matplotlib inline\n",
    "\n",
    "import matplotlib\n",
    "import matplotlib.pyplot as plt\n",
    "from matplotlib.offsetbox import (OffsetImage, AnnotationBbox)\n",
    "\n",
    "matplotlib.rcParams['toolbar'] = 'None'\n",
    "\n",
    "def imageElement(file):\n",
    "    return matplotlib.image.imread(f'{global_prefix}images/elements/{file}.png')\n",
    "\n",
    "imageBox = imageElement('box')\n",
    "imageGoal = imageElement('goal')\n",
    "imageEmpty = imageElement('empty')\n",
    "imageWall = imageElement('wall')\n",
    "imageBoxOnGoal = imageElement('box-on-goal')\n",
    "imagePusherDown = imageElement('pusher-down')\n",
    "imagePusherUp = imageElement('pusher-up')\n",
    "imagePusherRight = imageElement('pusher-right')\n",
    "imagePusherLeft = imageElement('pusher-left')\n",
    "\n",
    "def addElement(ax,image,x,y, zoom = 1.):\n",
    "    ab = AnnotationBbox(OffsetImage(image, zoom = zoom), \n",
    "                        ((32 + x * 64) * zoom, (32 + y * 64) * zoom), \n",
    "                        #xycoords = 'axes pixels', \n",
    "                        xycoords = 'axes points', \n",
    "                        frameon = False)\n",
    "    ax.add_artist(ab)\n",
    "\n",
    "def plot_board(M, zoom = 1., name = ''): \n",
    "\n",
    "    p = len(M[0])\n",
    "    q = len(M)\n",
    "       \n",
    "    fig = plt.figure(facecolor='black')\n",
    "    ax = fig.add_subplot(111)\n",
    "    ax.axis('off')\n",
    "    ax.axis('equal')\n",
    "    for x in range(p):\n",
    "        for y in range(q):\n",
    "            m = M[q - 1 - y, x]\n",
    "            if m < 0:\n",
    "                addElement(ax,imageGoal,x,y, zoom = zoom)\n",
    "            m = abs(m)\n",
    "            image = imageBox if m == box else \\\n",
    "                    imageGoal if m == goal else \\\n",
    "                    imageEmpty if m == empty else \\\n",
    "                    imageWall if m == wall else \\\n",
    "                    imageBoxOnGoal if m == box_on_goal else \\\n",
    "                    imagePusherDown if m == pusher_down else \\\n",
    "                    imagePusherUp if m == pusher_up else \\\n",
    "                    imagePusherRight if m == pusher_right else \\\n",
    "                    imagePusherLeft\n",
    "            addElement(ax,image,x,y, zoom = zoom)\n",
    "\n",
    "\n",
    "    ax.plot()\n",
    "    if name:\n",
    "        plt.savefig(name, bbox_inches = 'tight')\n",
    "        plt.close() # évite l'affichage"
   ]
  },
  {
   "cell_type": "markdown",
   "metadata": {},
   "source": [
    "Test"
   ]
  },
  {
   "cell_type": "code",
   "execution_count": null,
   "metadata": {},
   "outputs": [],
   "source": [
    "plot_board(arrayOfFile(microcosmos31_file), zoom = .75)"
   ]
  },
  {
   "cell_type": "markdown",
   "metadata": {},
   "source": [
    "### Enregistrement sur disque des images représentant une solution"
   ]
  },
  {
   "cell_type": "code",
   "execution_count": 9,
   "metadata": {},
   "outputs": [],
   "source": [
    "def write_solution(M, sol, zoom = 1., name = ''):\n",
    "    \n",
    "    plot_board(M, zoom = zoom, name = f'{name}0')\n",
    "    p = len(M[0])\n",
    "    q = len(M)\n",
    "    compteur = 0\n",
    "    N = M.copy()\n",
    "    def m(x,y):\n",
    "        return M[q - 1 - y, x]\n",
    "    for x in range(p):\n",
    "        for y in range(q):\n",
    "            if m(x,y) == pusher_down:\n",
    "                xPusher, yPusher = x, y\n",
    "    for l in sol:\n",
    "        compteur += 1\n",
    "        llower = l.lower()\n",
    "        ex, ey, pusher = (0, -1, pusher_down) if llower == 'd' else \\\n",
    "                         (0, 1, pusher_up) if llower == 'u' else \\\n",
    "                         (1, 0, pusher_right) if llower == 'r' else \\\n",
    "                         (-1, 0, pusher_left)\n",
    "        x0, y0 = xPusher, yPusher\n",
    "        x1, y1 = x0 + ex, y0 + ey\n",
    "        x2, y2 = x1 + ex, y1 + ey\n",
    "        xPusher, yPusher = x1, y1\n",
    "        N[q - 1 - y0, x0] = goal if m(x0,y0) == goal or m(x0,y0) == box_on_goal else empty\n",
    "        N[q - 1 - y1, x1] = -pusher if m(x1,y1) == goal or m(x1,y1) == box_on_goal else pusher\n",
    "        if llower != l:\n",
    "            N[q - 1 - y2, x2] = box if m(x2,y2) != goal and m(x2,y2) != box_on_goal else box_on_goal\n",
    "        plot_board(N, zoom = zoom, name = f'{name}{compteur}')\n",
    "    return compteur"
   ]
  },
  {
   "cell_type": "markdown",
   "metadata": {},
   "source": [
    "#### forme particularisée de la fonction précédente"
   ]
  },
  {
   "cell_type": "code",
   "execution_count": 10,
   "metadata": {},
   "outputs": [],
   "source": [
    "def write(name, zoom = 1, sol = '', **kwargs):\n",
    "    fich = f'{global_prefix}levels/{name}.txt'\n",
    "    return write_solution(arrayOfFile(fich),  \n",
    "                            sol if sol else solve(fich, **kwargs), \n",
    "                            zoom = zoom,\n",
    "                            name = f'{global_prefix}images/{name}-')"
   ]
  },
  {
   "cell_type": "markdown",
   "metadata": {},
   "source": [
    "#### Affichage d'une solution enregistrée"
   ]
  },
  {
   "cell_type": "code",
   "execution_count": 11,
   "metadata": {},
   "outputs": [],
   "source": [
    "import displayImages"
   ]
  },
  {
   "cell_type": "markdown",
   "metadata": {},
   "source": [
    "\n",
    "Décommenter une et une seule des trois lignes suivantes"
   ]
  },
  {
   "cell_type": "code",
   "execution_count": 12,
   "metadata": {},
   "outputs": [],
   "source": [
    "#display_images = displayImages.mpl       # matplotlib.animation\n",
    "display_images = displayImages.widgets   # ipywidgets.interact  # incompatible avec Google Colab\n",
    "#display_images = displayImages.cv        # opencv               # incompatible avec Google Colab"
   ]
  },
  {
   "cell_type": "code",
   "execution_count": 13,
   "metadata": {},
   "outputs": [],
   "source": [
    "def read(name, long):\n",
    "    return display_images(f'{global_prefix}images/{name}-', long, dpi = 110)"
   ]
  },
  {
   "cell_type": "markdown",
   "metadata": {},
   "source": [
    "Test"
   ]
  },
  {
   "cell_type": "code",
   "execution_count": null,
   "metadata": {},
   "outputs": [],
   "source": [
    "write('microcosmos31', sol = microcosmos31_sol) # 40 s"
   ]
  },
  {
   "cell_type": "code",
   "execution_count": null,
   "metadata": {},
   "outputs": [],
   "source": [
    "read('microcosmos31', len(microcosmos31_sol))"
   ]
  }
 ],
 "metadata": {
  "kernelspec": {
   "display_name": "Python 3 (ipykernel)",
   "language": "python",
   "name": "python3"
  },
  "language_info": {
   "codemirror_mode": {
    "name": "ipython",
    "version": 3
   },
   "file_extension": ".py",
   "mimetype": "text/x-python",
   "name": "python",
   "nbconvert_exporter": "python",
   "pygments_lexer": "ipython3",
   "version": "3.10.5"
  }
 },
 "nbformat": 4,
 "nbformat_minor": 2
}
