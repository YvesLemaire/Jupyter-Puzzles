{
 "cells": [
  {
   "cell_type": "markdown",
   "metadata": {},
   "source": [
    "# Exemples de problèmes de couverture exacte"
   ]
  },
  {
   "cell_type": "code",
   "execution_count": 1,
   "metadata": {},
   "outputs": [],
   "source": [
    "%run algorithmeX.ipynb"
   ]
  },
  {
   "cell_type": "markdown",
   "metadata": {},
   "source": [
    "## Sudoku"
   ]
  },
  {
   "cell_type": "code",
   "execution_count": 2,
   "metadata": {},
   "outputs": [],
   "source": [
    "class SUDOKU:\n",
    "\n",
    "    def __init__(self,p = 3,q = 3,t = None):\n",
    "    \n",
    "        \"\"\"Un probleme de sudoku est represente par :\n",
    "        1. un ensemble de symboles ;\n",
    "        2. la taille (p,q) qui definit une\n",
    "           matrice carree (n,n) ou n = p * q,\n",
    "           les n lignes sont partagees en q groupes de p lignes,\n",
    "           les n colonnes sont partagees en p groupes de q colonnes,\n",
    "           le carre est donc partage en n blocs rectangulaires p x q.\n",
    "        3. une affectation de symboles a certaines cases\n",
    "           de la matrice.\n",
    "        \"\"\"\n",
    "\n",
    "        self.n = p * q\n",
    "        if t:\n",
    "            self.t = list(map(list,t.split()))         \n",
    "        else:\n",
    "            self.t = [['.' for j in range(self.n)] for i in range(self.n)]\n",
    "        self.symboles = '123456789ABCDEFGHIJKLMNOPQRSTUVWXYZabcdefghijklmnopqrstuvwxyz'[:self.n]\n",
    "        self.lignes = {(s,i,j) : [(i,j),('L',s,i),('C',s,j),('B',s,i//p,j//q)]\n",
    "                       for s in self.symboles\n",
    "                       for i in range(self.n) for j in range(self.n)}\n",
    "        self.obl = [(s,i,j) for s in self.symboles for i in range(self.n) for j in range(self.n)\n",
    "                            if s == self.t[i][j] != '.']\n",
    "\n",
    "    def solve(self):\n",
    "        \n",
    "        for sol in AlgorithmeX(self.lignes,obl = self.obl).solve():\n",
    "            for s,i,j in sol:\n",
    "                self.t[i][j] = s\n",
    "            yield '\\n'.join(' '.join(ligne) for ligne in self.t)\n",
    "  "
   ]
  },
  {
   "cell_type": "markdown",
   "metadata": {},
   "source": [
    "### Test"
   ]
  },
  {
   "cell_type": "code",
   "execution_count": 3,
   "metadata": {},
   "outputs": [
    {
     "name": "stdout",
     "output_type": "stream",
     "text": [
      "3 2 8 9 5 1 4 7 6\n",
      "7 4 1 2 8 6 3 9 5\n",
      "9 5 6 4 7 3 1 2 8\n",
      "5 7 9 3 1 8 2 6 4\n",
      "4 6 3 5 2 7 9 8 1\n",
      "1 8 2 6 9 4 7 5 3\n",
      "6 1 5 7 3 2 8 4 9\n",
      "8 9 7 1 4 5 6 3 2\n",
      "2 3 4 8 6 9 5 1 7\n"
     ]
    }
   ],
   "source": [
    "t = \"\"\"\n",
    "    ..8.5....      \n",
    "    .4....3..\n",
    "    ......1..\n",
    "    .7.3.....      \n",
    "    ....2..8.\n",
    "    1......5.\n",
    "    ..57...4.\n",
    "    ...1..6..\n",
    "    2........\n",
    "\"\"\"        \n",
    "    \n",
    "s = SUDOKU(t = t).solve()\n",
    "print(next(s))"
   ]
  },
  {
   "cell_type": "markdown",
   "metadata": {},
   "source": [
    "## Problème des 8 reines"
   ]
  },
  {
   "cell_type": "code",
   "execution_count": 4,
   "metadata": {},
   "outputs": [],
   "source": [
    "class QUEENS:\n",
    "\n",
    "    def __init__(self,n = 8):\n",
    "    \n",
    "        self.n = n\n",
    "        self.lignes = {(i,j) : [('L',i), ('C',j), ('D1', i + j), ('D2', i - j)]\n",
    "                       for i in range(n) for j in range(n)}\n",
    "        self.facultatifs = [('D1', k) for k in range(0, 2 * n - 1)] + [('D2', k) \n",
    "                                                      for k in range(- n + 1, n)] \n",
    "        \n",
    "    def solve(self):\n",
    "\n",
    "        for sol in AlgorithmeX(self.lignes,fac = self.facultatifs).solve():\n",
    "            s = [j for i,j in sorted(sol,key = lambda c: c[0])]\n",
    "            yield '\\n'.join('. ' * s[i] + 'X ' + '. ' * (self.n - s[i] - 1) \n",
    "                                                  for i in range(self.n))\n",
    "      "
   ]
  },
  {
   "cell_type": "markdown",
   "metadata": {},
   "source": [
    "### Test"
   ]
  },
  {
   "cell_type": "code",
   "execution_count": 5,
   "metadata": {
    "scrolled": true
   },
   "outputs": [
    {
     "name": "stdout",
     "output_type": "stream",
     "text": [
      ". . . X . . . . \n",
      ". X . . . . . . \n",
      ". . . . . . X . \n",
      ". . X . . . . . \n",
      ". . . . . X . . \n",
      ". . . . . . . X \n",
      ". . . . X . . . \n",
      "X . . . . . . . \n"
     ]
    }
   ],
   "source": [
    "q = QUEENS()\n",
    "s = q.solve()\n",
    "print(next(s))"
   ]
  }
 ],
 "metadata": {
  "kernelspec": {
   "display_name": "SageMath 9.5",
   "language": "sage",
   "name": "sagemath"
  },
  "language_info": {
   "codemirror_mode": {
    "name": "ipython",
    "version": 3
   },
   "file_extension": ".py",
   "mimetype": "text/x-python",
   "name": "python",
   "nbconvert_exporter": "python",
   "pygments_lexer": "ipython3",
   "version": "3.10.12"
  }
 },
 "nbformat": 4,
 "nbformat_minor": 4
}
