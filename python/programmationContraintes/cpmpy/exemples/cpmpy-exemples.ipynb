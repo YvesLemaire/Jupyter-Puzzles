{
 "cells": [
  {
   "cell_type": "markdown",
   "id": "a175357f",
   "metadata": {},
   "source": [
    "# Exemples d'utilisation de [cpmpy](https://cpmpy.readthedocs.io/en/latest/beginner_tutorial.html)"
   ]
  },
  {
   "cell_type": "code",
   "execution_count": 1,
   "id": "5ce310ea",
   "metadata": {},
   "outputs": [],
   "source": [
    "from cpmpy import *"
   ]
  },
  {
   "attachments": {},
   "cell_type": "markdown",
   "id": "371bf718",
   "metadata": {},
   "source": [
    "## 1. Princes\n",
    "Dix princes transformés en batraciens sont répartis en trois groupes\n",
    "d'au maximum 5 individus : les grenouilles, les rainettes et les crapauds.  \n",
    "\n",
    "Pour se saluer, on s’embrasse.  \n",
    "Les grenouilles se saluent en échangeant 4 bises, les rainettes n’en\n",
    "échangent que 2, et les crapauds, 3.  \n",
    "C’est toujours le nombre de bises de celui qui en fait le moins qui est\n",
    "compté.  \n",
    "Au sein d’un même groupe, on ne s’embrasse pas.  \n",
    "Lorsque les dix batraciens se sont retrouvés, il y a eu 75 bises.\n",
    "\n",
    "Combien y a-t-il de grenouilles, de rainettes et de crapauds ?"
   ]
  },
  {
   "cell_type": "code",
   "execution_count": 2,
   "id": "07cc6bd6",
   "metadata": {},
   "outputs": [
    {
     "name": "stdout",
     "output_type": "stream",
     "text": [
      "g = 3, r = 4, c = 3\n"
     ]
    }
   ],
   "source": [
    "g, r, c = intvar(1,5), intvar(1,5), intvar(1,5)\n",
    "\n",
    "_ = Model([\n",
    "        g + r + c == 10,\n",
    "        2 * r * c + 3 * g * c + 2 * g * r == 75 \n",
    "    ]).solveAll(display = lambda: print(f'g = {g.value()}, r = {r.value()}, c = {c.value()}'))"
   ]
  },
  {
   "cell_type": "markdown",
   "id": "4476cf86",
   "metadata": {},
   "source": [
    "## 2. [enigma 203](https://enigmaticcode.wordpress.com/2023/01/06/puzzle-203-multiple-magic/)\n",
    "Trouver une matrice $X\\in M_3(\\mathbf N^*)$ telle que les produits des éléments de chaque ligne, de chaque colonne et de chacune des 2 diagonales soient les mêmes et que ce produit soit le plus petit possible."
   ]
  },
  {
   "cell_type": "code",
   "execution_count": 3,
   "id": "9f40cfdc",
   "metadata": {},
   "outputs": [
    {
     "name": "stdout",
     "output_type": "stream",
     "text": [
      "produit = 216\n",
      "X =\n",
      "[[ 2  9 12]\n",
      " [36  6  1]\n",
      " [ 3  4 18]]\n"
     ]
    }
   ],
   "source": [
    "# la matrice :\n",
    "x = intvar(1,256, shape = (3,3), name = 'x')\n",
    "\n",
    "# le produit commun\n",
    "p = intvar(1,500, name = 'p')\n",
    "\n",
    "m = Model(alldifferent(x))\n",
    "\n",
    "m += [x[i,0] * x[i,1] * x[i,2] == p for i in range(3)] + \\\n",
    "     [x[0,j] * x[1,j] * x[2,j] == p for j in range(3)] + \\\n",
    "     [x[0,0] * x[1,1] * x[2,2] == p,\n",
    "      x[0,2] * x[1,1] * x[2,0] == p]\n",
    "  \n",
    "m.minimize(p)\n",
    "\n",
    "m.solve()\n",
    "print(f'produit = {p.value()}\\nX =\\n{x.value()}')"
   ]
  },
  {
   "attachments": {},
   "cell_type": "markdown",
   "id": "15cc7a5a",
   "metadata": {},
   "source": [
    "## 3. [Calcul infernal](http://www.hakank.org/cpmpy/calculs_d_enfer.py)\n",
    "Trouver des affectations de a, c, d, e, f, h, i, n, o, p, q, r, s, t, u, x, z $\\in\\{0,\\pm1,\\ldots,\\pm16\\}$ telles que z + e + r + o = 0, u + n = 1, $\\ldots$ , t + r + e + i + z + e = 13 et que les 17 entiers a, c, etc. soient distincts."
   ]
  },
  {
   "cell_type": "code",
   "execution_count": 4,
   "id": "4588dde4",
   "metadata": {},
   "outputs": [
    {
     "name": "stdout",
     "output_type": "stream",
     "text": [
      "a = -2, c = -16, d = 16, e = -1, f = 9, h = 11, i = 0, n = 8, o = -10, p = -8, q = 13, r = -3, s = 12, t = 4, u = -7, x = -6, z = 14, \n",
      "a = 1, c = -13, d = 16, e = -1, f = 9, h = 11, i = 0, n = 8, o = -10, p = -8, q = 10, r = -3, s = 12, t = 4, u = -7, x = -6, z = 14, \n",
      "a = 5, c = -9, d = 16, e = -1, f = 9, h = 11, i = 0, n = 8, o = -10, p = -8, q = 6, r = -3, s = 12, t = 4, u = -7, x = -6, z = 14, \n",
      "a = 15, c = 1, d = 16, e = -1, f = 9, h = 11, i = 0, n = 8, o = -10, p = -8, q = -4, r = -3, s = 12, t = 4, u = -7, x = -6, z = 14, \n",
      "a = 10, c = -4, d = 16, e = -1, f = 9, h = 11, i = 0, n = 8, o = -10, p = -8, q = 1, r = -3, s = 12, t = 4, u = -7, x = -6, z = 14, \n"
     ]
    }
   ],
   "source": [
    "def calcul_infernal():\n",
    "\n",
    "    noms =  'a','c','d','e','f','h','i','n','o','p','q','r','s','t','u','x','z'\n",
    "    A = [a,c,d,e,f,h,i,n,o,p,q,r,s,t,u,x,z] = [intvar(-16,16, name = x) for x in noms]\n",
    "\n",
    "    model = Model([\n",
    "        AllDifferent(A),\n",
    "        z+e+r+o     == 0,\n",
    "        u+n         == 1,  \n",
    "        d+e+u+x     == 2,\n",
    "        t+r+o+i+s   == 3,\n",
    "        q+u+a+t+r+e == 4,\n",
    "        c+i+n+q     == 5,\n",
    "        s+i+x       == 6,\n",
    "        s+e+p+t     == 7,\n",
    "        h+u+i+t     == 8,\n",
    "        n+e+u+f     == 9,\n",
    "        d+i+x       == 10,\n",
    "        o+n+z+e     == 11,\n",
    "        d+o+u+z+e   == 12,\n",
    "        t+r+e+i+z+e == 13\n",
    "        ]\n",
    "    )\n",
    "\n",
    "    def print_sol():   \n",
    "        for j in A: print(f'{j.name} = {j.value()}', end = ', ')\n",
    "        print()\n",
    "\n",
    "    model.solveAll(display=print_sol)\n",
    "\n",
    "calcul_infernal()"
   ]
  },
  {
   "attachments": {},
   "cell_type": "markdown",
   "id": "f7bf3012",
   "metadata": {},
   "source": [
    "## 3. Entre chats et chien\n",
    "[Championnat International des Jeux Mathématiques et Logiques, 1999, exercice 5](https://cdn.eu.yapla.com/company/CPYlKW3zLaj6BkeZEMsOhQ7bD/asset/files/archivesChampionnatJM/champ1999/demi%20finale.pdf)\n",
    "\n",
    "Mathias doit deviner le nom d'un animal (en cinq lettres).  \n",
    "\n",
    "| | | | | | | B|M |\n",
    "| :--| :--| :--| :--| :--| :--| :--| :--|\n",
    "|C |H |A |T |S |&nbsp;&nbsp;&nbsp;&nbsp;&nbsp;&nbsp;&nbsp;&nbsp;|0  |2 | \n",
    "|L |I |O |N |S ||1  |0 |  \n",
    "|T |I |G |R |E ||2  |0 |\n",
    "|P |A |O |N |S ||0 |0 |\n",
    "|B |O |E |U |F ||1 |1 |\n",
    "|C |H |I |E |N ||0 |4 |\n",
    "\n",
    "\n",
    "Il a proposé à Mathilde les noms d'animaux ci-dessus, et, à chaque fois, elle lui a répondu en\n",
    "donnant, dans cet ordre, le nombre de lettres justes et **B**ien placées, et le nombre de lettres\n",
    "justes mais **M**al placées. \n",
    "\n",
    "Quel est le nom de l'animal à deviner?"
   ]
  },
  {
   "cell_type": "code",
   "execution_count": 5,
   "id": "c63857de",
   "metadata": {},
   "outputs": [
    {
     "name": "stdout",
     "output_type": "stream",
     "text": [
      "BIHCE BICHE HICUE "
     ]
    },
    {
     "data": {
      "text/plain": [
       "3"
      ]
     },
     "execution_count": 5,
     "metadata": {},
     "output_type": "execute_result"
    }
   ],
   "source": [
    "def car(code): return chr(code + ord('A'))\n",
    "def code(car): return ord(car) - ord('A')\n",
    "\n",
    "# p[i, code(c)] ssi la i-ème lettre du mot cherché est c \n",
    "p = boolvar(shape = (5,26))\n",
    "\n",
    "# pour tout i, la i-ème lettre est unique\n",
    "model = Model([(sum(p[i,j] for j in range(26)) == 1) for i in range(5)])\n",
    "\n",
    "# les lettres du mot cherché sont différentes\n",
    "model += [p[i1,j].implies(~p[i2,j]) for i1 in range(5) for i2 in range(5) for j in range(26) if i1 < i2]\n",
    "\n",
    "def addProposition(animal, n, m):\n",
    "    global model\n",
    "    k = [code(car) for car in animal]\n",
    "    # lettres bien placées\n",
    "    model += sum(p[i,k[i]] for i in range(5)) == n\n",
    "    # lettres mal placées\n",
    "    model += sum(p[i,k[j]] for i in range(5) for j in range(5) if j != i) == m\n",
    "    \n",
    "addProposition('CHATS', 0, 2)\n",
    "addProposition('LIONS', 1, 0)\n",
    "addProposition('TIGRE', 2, 0)\n",
    "addProposition('PAONS', 0, 0)\n",
    "addProposition('BOEUF', 1, 1)\n",
    "addProposition('CHIEN', 0, 4)\n",
    "\n",
    "def display():\n",
    "    animal = ''\n",
    "    for i in range(5):\n",
    "        for j in range(26):\n",
    "            if p[i,j].value(): animal += car(j)\n",
    "    print(animal, end = ' ')\n",
    "\n",
    "model.solveAll(display = display)"
   ]
  },
  {
   "cell_type": "markdown",
   "id": "7f66a7a4",
   "metadata": {},
   "source": [
    "Réponse : BICHE"
   ]
  },
  {
   "cell_type": "markdown",
   "id": "5de9d78c",
   "metadata": {},
   "source": [
    "## 4 [Le problème de Claude Berge](https://omnilogie.fr/O/Qui_a_tu%C3%A9_le_duc_de_Densmore_?)\n",
    "Pour l'histoire complète, voir [Qui a tué le duc de Densmore ?](./berge.pdf)"
   ]
  },
  {
   "cell_type": "markdown",
   "id": "708e2212",
   "metadata": {},
   "source": [
    "Pour résoudre le problème, on peut, soit comme le fait Turner Smith dans le récit de Berge, utiliser le théorème de Hajos sur les graphes d'intervalles, soit, comme on va le faire, écrire une fonction python qui teste si un graphe (pas trop grand) est un graphe d'intervalles.  On considère alors les 8 graphes obtenus en supprimant un des 8 sommets du graphe initial. Si un et un seul de ces 8 graphes est un graphe d'intervalles, il correspond à la coupable."
   ]
  },
  {
   "cell_type": "code",
   "execution_count": 6,
   "id": "a4c75bfa",
   "metadata": {},
   "outputs": [],
   "source": [
    "from cpmpy import *\n",
    "\n",
    "def graphe_intervalles(g):\n",
    "    n = len(g)\n",
    "    keys = list(g.keys())\n",
    "    left = intvar(0, n - 1, shape = n, name = 'left')\n",
    "    right = intvar(1, n, shape = n, name = 'right')\n",
    "    m = Model()\n",
    "    for i, s in enumerate(keys):\n",
    "        m += left[i] < right[i]\n",
    "        for j in range(i + 1, n):\n",
    "            if keys[j] in g[s]:\n",
    "                m += [left[j] < right[i], left[i] < right[j]]\n",
    "            else:\n",
    "                m += (left[j] >= right[i]) | (left[i] >= right[j])\n",
    "    return m.solve()\n",
    "\n",
    "def supprime_sommet(g,s):\n",
    "    return {t : g[t] - {s} for t in g.keys() if t != s}\n",
    "\n",
    "def coupable(g):\n",
    "    l = [s for s in g.keys() if graphe_intervalles(supprime_sommet(g,s))]\n",
    "    if len(l) == 1:\n",
    "        return l[0]"
   ]
  },
  {
   "cell_type": "code",
   "execution_count": 7,
   "id": "d507816d",
   "metadata": {},
   "outputs": [
    {
     "name": "stdout",
     "output_type": "stream",
     "text": [
      "La coupable est Ann.\n"
     ]
    }
   ],
   "source": [
    "g_densmore = {\n",
    "    'A' : {'B', 'C', 'E', 'F', 'G'},\n",
    "    'B' : {'A', 'C', 'H'},\n",
    "    'C' : {'A', 'B', 'D', 'E', 'H'},\n",
    "    'D' : {'C', 'E'},\n",
    "    'E' : {'A', 'C', 'D', 'F'},\n",
    "    'F' : {'A', 'E'},\n",
    "    'G' : {'A', 'H'},\n",
    "    'H' : {'B', 'C', 'G'},\n",
    "}\n",
    "\n",
    "noms = {\n",
    "    'A' : 'Ann',\n",
    "    'B' : 'Betty',\n",
    "    'C' : 'Cynthia',\n",
    "    'D' : 'Diana',\n",
    "    'E' : 'Emily',\n",
    "    'F' : 'Felicia',\n",
    "    'G' : 'Georgia',\n",
    "    'H' : 'Helen'\n",
    "}\n",
    "\n",
    "print(f'La coupable est {noms[coupable(g_densmore)]}.')"
   ]
  },
  {
   "cell_type": "markdown",
   "id": "12d948d8",
   "metadata": {},
   "source": [
    "## 5. Marche du fou\n",
    "On pose un fou en H1 (case blanche en bas à droite) sur un échiquier.\n",
    "\n",
    "Déterminer un trajet de ce fou partant de H1 et aboutissant à A8 qui traverse chacune des cases blanches au moins une fois, ne passe qu'au plus une fois par chaque coin de case et qui, durant son trajet, change le moins possible de direction.\n",
    "\n",
    "### Affichage d'une solution\n",
    "#### Mise en place"
   ]
  },
  {
   "cell_type": "code",
   "execution_count": 8,
   "id": "3811a610",
   "metadata": {},
   "outputs": [],
   "source": [
    "%matplotlib inline\n",
    "\n",
    "import matplotlib\n",
    "import matplotlib.pyplot as plt\n",
    "matplotlib.rcParams['toolbar'] = 'None'"
   ]
  },
  {
   "cell_type": "markdown",
   "id": "d17db22c",
   "metadata": {},
   "source": [
    "#### Affichage de l'échiquier"
   ]
  },
  {
   "cell_type": "code",
   "execution_count": 9,
   "id": "54f723f4",
   "metadata": {},
   "outputs": [],
   "source": [
    "def displayChessBoard(ax):\n",
    "    \n",
    "    ax.axis('off')\n",
    "    ax.axis('equal')\n",
    "\n",
    "    kwargs = {'color' : 'lightgrey', 'linewidth' : 1.}\n",
    "    for i in [0,8]:\n",
    "        ax.plot([i-.5, i-.5],[-.5, 8 - .5],**kwargs)\n",
    "    for j in [0,8]:\n",
    "        ax.plot([-.5, 8 - .5],[j - .5, j - .5],**kwargs)\n",
    "    for i in range(8):\n",
    "        for j in range(8):\n",
    "            if not (i + j) %  2:\n",
    "                ax.add_patch(plt.Rectangle((i - .5, j - .5), 1 , 1, fill = True, fc = 'lightgrey'))\n"
   ]
  },
  {
   "cell_type": "markdown",
   "id": "d2e6c02e",
   "metadata": {},
   "source": [
    "#### puis de la solution"
   ]
  },
  {
   "cell_type": "code",
   "execution_count": 10,
   "id": "87f14e10",
   "metadata": {},
   "outputs": [],
   "source": [
    "def displaySol(p,q):\n",
    "    \n",
    "    n = len(p)\n",
    "    \n",
    "    fig = plt.figure(facecolor='w')\n",
    "    ax = fig.add_subplot(111)\n",
    "\n",
    "    displayChessBoard(ax)\n",
    "\n",
    "    ax.plot(p[0],q[0],'go')\n",
    "    ax.plot(p[-1],q[-1],'go')\n",
    "\n",
    "    def chgt(k):\n",
    "        if k == 0 or k == n - 1:\n",
    "            return False\n",
    "        return (p[k + 1] + p[k - 1] != 2 * p[k]) | (q[k + 1] + q[k - 1] != 2 * q [k])\n",
    "    \n",
    "    d = 1.414\n",
    "    for k in range(n - 1):\n",
    "        # tracé du \"segment\" M[k],M[k+1]\n",
    "        milieu = (.5 * (p[k] + p[k + 1]), .5 * (q[k] + q[k + 1]))\n",
    "        if chgt(k):\n",
    "            c = (.5 * (p[k - 1] + p[k + 1]), .5 * (q[k - 1] + q[k + 1]))\n",
    "            t1, t2 = \\\n",
    "                (45, 135) if q[k] > c[1] else \\\n",
    "                (-135, -45) if q[k] < c[1] else \\\n",
    "                (-45, 45) if p[k] > c[0] else \\\n",
    "                (135,-135)\n",
    "            ax.add_patch(matplotlib.patches.Arc(c, d, d, theta1 = t1, theta2 = t2, lw = 1, ec = 'g'))\n",
    "        else: \n",
    "            ax.plot([p[k],milieu[0]],[q[k],milieu[1]],'g-')\n",
    "        if not chgt(k + 1):\n",
    "            ax.plot([milieu[0], p[k + 1]],[milieu[1], q[k + 1]], 'g-', lw = 1)\n",
    "    \n",
    "    plt.show()"
   ]
  },
  {
   "cell_type": "markdown",
   "id": "266e2d25",
   "metadata": {},
   "source": [
    "#### Test"
   ]
  },
  {
   "cell_type": "code",
   "execution_count": 11,
   "id": "73e46e08",
   "metadata": {},
   "outputs": [
    {
     "data": {
      "image/png": "[encoded data removed]",
      "text/plain": [
       "<Figure size 432x288 with 1 Axes>"
      ]
     },
     "metadata": {},
     "output_type": "display_data"
    }
   ],
   "source": [
    "p = [7,6,7,6,7,6,7,6,5,4,3,2,1,0,1,2,3,4,5,6,5,4,3,4,5,6,5,\n",
    "              4,3,2,1,0,1,2,3,4,5,6,5,4,3,2,1,0,1,2,3,2,1,0]\n",
    "\n",
    "q = [0,1,2,3,4,5,6,7,6,7,6,7,6,5,4,5,6,5,6,5,4,5,4,3,4,3,2,\n",
    "              3,2,3,4,3,2,1,2,1,2,1,0,1,0,1,0,1,2,3,4,5,6,7]\n",
    "\n",
    "displaySol(p,q) # ce n'est pas une solution : 40 changements de direction"
   ]
  },
  {
   "cell_type": "markdown",
   "id": "7402d5b9",
   "metadata": {},
   "source": [
    "### Calculs (LONGS)\n",
    "Le nombre $n$ de cases visitées ($1$ + le nombre de déplacements) est pair et  \n",
    "comme il faut visiter les $32$ cases blanches, $n \\geqslant 32$.  \n",
    "De plus il y a $49$ coins donc $n \\leqslant 50$."
   ]
  },
  {
   "cell_type": "code",
   "execution_count": 36,
   "id": "5a0d2ddd",
   "metadata": {
    "scrolled": false
   },
   "outputs": [
    {
     "name": "stdout",
     "output_type": "stream",
     "text": [
      "n = 32, pas de solution\n",
      "\n",
      "n = 34, pas de solution\n",
      "\n",
      "n = 36, 24 changements de direction\n"
     ]
    },
    {
     "data": {
      "image/png": "[encoded data removed]",
      "text/plain": [
       "<Figure size 432x288 with 1 Axes>"
      ]
     },
     "metadata": {},
     "output_type": "display_data"
    },
    {
     "name": "stdout",
     "output_type": "stream",
     "text": [
      "n = 38, 20 changements de direction\n"
     ]
    },
    {
     "data": {
      "image/png": "[encoded data removed]",
      "text/plain": [
       "<Figure size 432x288 with 1 Axes>"
      ]
     },
     "metadata": {},
     "output_type": "display_data"
    },
    {
     "name": "stdout",
     "output_type": "stream",
     "text": [
      "n = 40, 18 changements de direction\n"
     ]
    },
    {
     "data": {
      "image/png": "[encoded data removed]",
      "text/plain": [
       "<Figure size 432x288 with 1 Axes>"
      ]
     },
     "metadata": {},
     "output_type": "display_data"
    },
    {
     "name": "stdout",
     "output_type": "stream",
     "text": [
      "n = 42, 18 changements de direction\n"
     ]
    },
    {
     "data": {
      "image/png": "[encoded data removed]",
      "text/plain": [
       "<Figure size 432x288 with 1 Axes>"
      ]
     },
     "metadata": {},
     "output_type": "display_data"
    },
    {
     "name": "stdout",
     "output_type": "stream",
     "text": [
      "n = 44, 16 changements de direction\n"
     ]
    },
    {
     "data": {
      "image/png": "[encoded data removed]",
      "text/plain": [
       "<Figure size 432x288 with 1 Axes>"
      ]
     },
     "metadata": {},
     "output_type": "display_data"
    },
    {
     "name": "stdout",
     "output_type": "stream",
     "text": [
      "n = 46, 16 changements de direction\n"
     ]
    },
    {
     "data": {
      "image/png": "[encoded data removed]",
      "text/plain": [
       "<Figure size 432x288 with 1 Axes>"
      ]
     },
     "metadata": {},
     "output_type": "display_data"
    },
    {
     "name": "stdout",
     "output_type": "stream",
     "text": [
      "n = 48, pas de solution\n",
      "\n",
      "n = 50, 18 changements de direction\n"
     ]
    },
    {
     "data": {
      "image/png": "[encoded data removed]",
      "text/plain": [
       "<Figure size 432x288 with 1 Axes>"
      ]
     },
     "metadata": {},
     "output_type": "display_data"
    }
   ],
   "source": [
    "# --- LONG --- (supprimer le cas n = 48 pour une éxecution plus rapide)\n",
    "\n",
    "for n in range(32,51):\n",
    "\n",
    "    if n % 2 == 0:\n",
    "        \n",
    "        # (p[k],q[k]) est l'emplacement du fou à la k-ième étape\n",
    "        p = intvar(0, 7, shape = n)\n",
    "        q = intvar(0, 7, shape = n)\n",
    "\n",
    "        m = Model()\n",
    "\n",
    "        # Case de départ\n",
    "        m += [p[0] == 7 , q[0] == 0]\n",
    "\n",
    "        # Case d'arrivée\n",
    "        m += [p[n - 1] == 0 , q[n - 1] == 7]\n",
    "\n",
    "        # Cheminement en diagonale\n",
    "        m += [(abs(p[k + 1] - p[k]) == 1) & (abs(q[k + 1] - q[k]) == 1) for k in range(n - 1)]\n",
    "\n",
    "        # Toutes les cases blanches doivent être visitées\n",
    "        m += [any([(p[k] == i) & (q[k] == j) for k in range(n)]) \\\n",
    "              for i in range(8) for j in range(8) if (i + j) % 2 == 1]\n",
    "\n",
    "        # On passe au plus une fois par un coin donné\n",
    "        m += alldifferent([p[k] + p[k + 1] + 16 * (q[k] + q[k + 1]) for k in range(n - 1)])\n",
    "\n",
    "        # Minimisation du nombre de changements de direction\n",
    "        def chgt(k):\n",
    "            return (p[k + 2] + p[k] != 2 * p[k + 1]) | (q[k + 2] + q[k] != 2 * q [k + 1])\n",
    "        chgts = intvar(10,25)\n",
    "        m += chgts == sum([chgt(k) for k in range(n - 2)])\n",
    "        m.minimize(chgts)   \n",
    "\n",
    "        if m.solve():\n",
    "\n",
    "            print(f'n = {n}, {chgts.value()} changements de direction')\n",
    "            displaySol(p.value(),q.value())\n",
    "            \n",
    "        else: \n",
    "            \n",
    "            print(f'n = {n}, pas de solution\\n')\n"
   ]
  }
 ],
 "metadata": {
  "kernelspec": {
   "display_name": "Python 3 (ipykernel)",
   "language": "python",
   "name": "python3"
  },
  "language_info": {
   "codemirror_mode": {
    "name": "ipython",
    "version": 3
   },
   "file_extension": ".py",
   "mimetype": "text/x-python",
   "name": "python",
   "nbconvert_exporter": "python",
   "pygments_lexer": "ipython3",
   "version": "3.10.5"
  },
  "vscode": {
   "interpreter": {
    "hash": "369f2c481f4da34e4445cda3fffd2e751bd1c4d706f27375911949ba6bb62e1c"
   }
  }
 },
 "nbformat": 4,
 "nbformat_minor": 5
}
