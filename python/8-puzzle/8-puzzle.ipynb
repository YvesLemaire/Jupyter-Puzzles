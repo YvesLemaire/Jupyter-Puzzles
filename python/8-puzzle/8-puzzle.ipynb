{
 "cells": [
  {
   "cell_type": "code",
   "execution_count": 2,
   "metadata": {},
   "outputs": [],
   "source": [
    "# Initialisation(s)\n",
    "\n",
    "import os, sys\n",
    "IN_COLAB = 'google.colab' in sys.modules\n",
    "if IN_COLAB:\n",
    "    # Running in Google CoLab\n",
    "    from google.colab import drive\n",
    "    drive.mount('/content/gdrive/')\n",
    "    global_prefix = '/content/gdrive/MyDrive/Colab Notebooks/Jupyter-Puzzles/python/8-puzzle/'\n",
    "    os.chdir(global_prefix)\n",
    "else:\n",
    "    # Not running in Google CoLab\n",
    "    global_prefix = os.getcwd().replace('\\\\','/') + '/'\n",
    "\n",
    "sys.path.append(f'{global_prefix}../outils')"
   ]
  },
  {
   "cell_type": "markdown",
   "metadata": {},
   "source": [
    "# 8-puzzle\n",
    "Le 8-puzzle est une version simplifiée du [15-puzzle](https://fr.wikipedia.org/wiki/Taquin) dans laquelle il y a 8 petits carreaux (au lieu de 15), numérotés de 1 à 8, disposés dans un carré 3 x 3. \n",
    "\n",
    "Le but du programme qui suit est de calculer rapidement une solution optimale (nombre minimum de coups), quel que soit l'état initial.  \n",
    "Le même problème pour le 15-puzzle est difficile ; voir par exemple [ce programme](http://kociemba.org/themen/fifteen/fifteensolver.html) ou [ce module python](https://pypi.org/project/slidingpuzzle/).\n",
    "\n",
    "Un état du jeu est une matrice $P=(p_{i,j})_{0\\leqslant i,j<3}\\in M_3(\\{0,\\ldots,8\\})$ où $0$ est la case vide. On la représente par le tuple $(p_{0,0},p_{0,1},p_{0,2},p_{1,0},p_{1,1},p_{1,2},p_{2,0},p_{2,1},p_{2,2})$ qui est une permutation de $[|0,8|]$.\n",
    "\n",
    "On utilise l'[algorithme A*](../outils/parcours.ipynb)"
   ]
  },
  {
   "cell_type": "code",
   "execution_count": 3,
   "metadata": {},
   "outputs": [],
   "source": [
    "%run ../outils/parcours.ipynb\n",
    "\n",
    "n = 3\n",
    "n_2 = n * n\n",
    "\n",
    "id = tuple(range(n_2))\n",
    "\n",
    "def is_end_state(state):\n",
    "    return state == id\n",
    "\n",
    "def legal_actions(state):\n",
    "    k = state.index(0)\n",
    "    l = []\n",
    "    if k >= n: l.append(state[k - n])\n",
    "    if k < n_2 - n: l.append(state[k + n])\n",
    "    if k % n != 0: l.append(state[k - 1])\n",
    "    if k % n != n - 1: l.append(state[k + 1])\n",
    "    return tuple(l)\n",
    "\n",
    "def exchange(state,k,l):\n",
    "    p = list(state)\n",
    "    aux = p[k]\n",
    "    p[k] = p[l]\n",
    "    p[l] = aux\n",
    "    return tuple(p)\n",
    "\n",
    "def delta(state, action):\n",
    "    k = state.index(0)\n",
    "    l = state.index(action)\n",
    "    return exchange(state, k, l)\n",
    "\n",
    "def heuristic(state):\n",
    "    h = 0\n",
    "    for k in range(n_2):\n",
    "        l = state[k]\n",
    "        h += abs(k / n - l / n) + abs(k % n - l % n)\n",
    "    return h\n",
    "    \n",
    "def solve(state):\n",
    "\n",
    "    return aStar(state, is_end_state, legal_actions, delta, heuristic = heuristic)  "
   ]
  },
  {
   "cell_type": "code",
   "execution_count": 4,
   "metadata": {},
   "outputs": [
    {
     "name": "stdout",
     "output_type": "stream",
     "text": [
      "[8, 7, 6, 1, 4, 5, 3, 4, 5, 8, 2, 3, 8, 6, 1, 5, 4, 8, 6, 2, 7, 1, 2, 7, 3, 6, 7, 4, 5, 2, 1] (31)\n"
     ]
    }
   ],
   "source": [
    "test_state = (8, 7, 6, 0, 4, 1, 2, 5, 3)\n",
    "test_sol = solve(test_state)\n",
    "print(f'{test_sol} ({len(test_sol)})')\n"
   ]
  },
  {
   "cell_type": "markdown",
   "metadata": {},
   "source": [
    "Affichage graphique d'un etat (avec ou sans indication)"
   ]
  },
  {
   "cell_type": "code",
   "execution_count": 5,
   "metadata": {},
   "outputs": [],
   "source": [
    "%matplotlib inline\n",
    "\n",
    "import matplotlib\n",
    "import matplotlib.pyplot as plt\n",
    " \n",
    "def plot_state(p, n = 3, file = '', hint = None):\n",
    "\n",
    "    matplotlib.rcParams['toolbar'] = 'None'\n",
    "    fig = plt.figure(facecolor='w', figsize = (n,n))\n",
    "    ax = fig.add_subplot(111)\n",
    "    ax.axis('off')\n",
    "    ax.axis('equal')\n",
    "    \n",
    "    for i in range(n + 1):\n",
    "        ax.plot([i,i],[0,n], linewidth = 1, color = 'k')\n",
    "        ax.plot([0,n],[i,i], linewidth = 1, color = 'k')\n",
    "        \n",
    "    def plot_value(i, j, v, color = 'k'):\n",
    "        ax.text(j + .5, n - i - .5, str(v), size = 18, ha = 'center',\n",
    "                va = 'center', color = color)\n",
    "        \n",
    "    for i in range(n):\n",
    "        for j in range(n):\n",
    "            v = p[j + i * n]\n",
    "            if v and hint != v:\n",
    "                plot_value(i, j, v)\n",
    "            if hint == v:\n",
    "                plot_value(i, j, v, color = 'red')\n",
    " \n",
    "    ax.plot()\n",
    "    if file:\n",
    "        plt.savefig(file)\n",
    "        plt.close() # évite l'affichage"
   ]
  },
  {
   "cell_type": "markdown",
   "metadata": {},
   "source": [
    "Test"
   ]
  },
  {
   "cell_type": "code",
   "execution_count": 6,
   "metadata": {},
   "outputs": [
    {
     "data": {
      "image/png": "[encoded data removed]",
      "text/plain": [
       "<Figure size 216x216 with 1 Axes>"
      ]
     },
     "metadata": {},
     "output_type": "display_data"
    }
   ],
   "source": [
    "plot_state(test_state, hint = 8)"
   ]
  },
  {
   "cell_type": "markdown",
   "metadata": {},
   "source": [
    "Affichage graphique d'une solution par stockage sur disque des étapes de cette solution."
   ]
  },
  {
   "cell_type": "code",
   "execution_count": 11,
   "metadata": {},
   "outputs": [],
   "source": [
    "def write_sol(state, sol, prefix):\n",
    "    \"\"\"Stockage\"\"\"\n",
    "    prefix = f'{global_prefix}images/{prefix}-'\n",
    "    for c, action in enumerate(sol):\n",
    "        plot_state(state, file = f'{prefix}{c}', hint = action)\n",
    "        state = delta(state,action)\n",
    "    plot_state(state, file = f'{prefix}{len(sol)}')\n",
    "\n",
    "def display_sol(sol, prefix):\n",
    "    import displayImages\n",
    "    return displayImages.widgets(f'{global_prefix}images/{prefix}-', len(sol))\n",
    "    #return displayImages.mpl(f'{global_prefix}images/8-puzzle/{prefix}-', len(sol))"
   ]
  },
  {
   "cell_type": "markdown",
   "metadata": {},
   "source": [
    "Test"
   ]
  },
  {
   "cell_type": "code",
   "execution_count": 9,
   "metadata": {},
   "outputs": [],
   "source": [
    "write_sol(test_state, test_sol, 'test')"
   ]
  },
  {
   "cell_type": "code",
   "execution_count": 12,
   "metadata": {},
   "outputs": [
    {
     "data": {
      "application/vnd.jupyter.widget-view+json": {
       "model_id": "123d31459597411ab486374b478b1fab",
       "version_major": 2,
       "version_minor": 0
      },
      "text/plain": [
       "interactive(children=(IntSlider(value=0, description='t', max=31), Output()), _dom_classes=('widget-interact',…"
      ]
     },
     "metadata": {},
     "output_type": "display_data"
    },
    {
     "data": {
      "application/vnd.jupyter.widget-view+json": {
       "model_id": "7205bb1520644e79b7df77559365ba4c",
       "version_major": 2,
       "version_minor": 0
      },
      "text/plain": [
       "Button(description='▷', style=ButtonStyle())"
      ]
     },
     "metadata": {},
     "output_type": "display_data"
    }
   ],
   "source": [
    "display_sol(test_sol, 'test')"
   ]
  },
  {
   "cell_type": "markdown",
   "metadata": {},
   "source": [
    "##### Remarque (autre méthode)\n",
    " Comme le problème du 8-puzzle est de dimension raisonnable, on introduit la liste des $N=9!=362\\,880$ permutations de $[|0,8|]$ et on représente un état par son indice $k$ dans la liste. Soit le graphe $G$ dont les sommets sont les $N$ indices des états, et les arêtes les $(k,\\ell)\\in[|0,N - 1|]^2$ pour lesquels on peut passer de l'état d'indice $k$ à l'état d'indice $\\ell$ en un coup. Comme ce graphe est seulement de degré 4, on peut représenter sa matrice par un élément de type `scipy.sparse.lil_matrix` qui est une manière efficace de stocker une matrice creuse. \n",
    "\n",
    " On utilise alors [l'algorithme de Dijkstra](https://fr.wikipedia.org/wiki/Algorithme_de_Dijkstra) pour caculer une fois pour toutes les distances minimums (en terme de nombre d'arêtes) de l'état identité $(0,\\ldots,8)$ à tous les autres états, ainsi que les chemins correspondants.\n",
    "\n",
    "La fonction `scipy.sparse.csgraph.dijkstra` renvoie le couple $d,pred$ tel que, si $p$ est l'état d'indice $k$,\n",
    "- $d[k]=$ distance($p$,identité) ou `np.inf` si l'identité n'est pas accessible de $p$\n",
    "- $pred[k]=\\ell$ où la première arête d'un chemin optimal de $p$ à l'identité est $p\\rightarrow q$ avec $q$ d'indice $\\ell$ ; sauf si $p$ est l'identité ou si l'identité n'est pas accessible de $p$, auquel cas $\\ell<0$\n"
   ]
  },
  {
   "cell_type": "code",
   "execution_count": 13,
   "metadata": {},
   "outputs": [
    {
     "name": "stdout",
     "output_type": "stream",
     "text": [
      "Construction du graphe en 8.71 s\n",
      "Calcul de tous les chemins optimaux aboutissant à l'identité en 0.42 s\n",
      "distance à l'identité maximale = 31\n",
      "atteinte par les états : (8, 0, 6, 5, 4, 7, 2, 3, 1) (8, 7, 6, 0, 4, 1, 2, 5, 3) "
     ]
    }
   ],
   "source": [
    "import time\n",
    "from itertools import permutations\n",
    "import numpy as np\n",
    "from scipy.sparse import lil_matrix \n",
    "from scipy.sparse.csgraph import dijkstra\n",
    "\n",
    "# indices des états (l'identité est d'indice 0)\n",
    "\n",
    "n = 3\n",
    "n_2 = n * n\n",
    "etats = list(permutations(range(n_2)))\n",
    "N = len(etats)\n",
    "indice = dict()\n",
    "\n",
    "for k, etat in enumerate(etats):\n",
    "    indice[etat] = k\n",
    "\n",
    "# Construction du graphe (complexité O(N))\n",
    "start_time = time.time()\n",
    "\n",
    "G = lil_matrix((N, N), dtype=np.int8)\n",
    "\n",
    "def echange(etat,k,l):\n",
    "    p = list(etat)\n",
    "    aux = p[k]\n",
    "    p[k] = p[l]\n",
    "    p[l] = aux\n",
    "    return tuple(p)\n",
    "\n",
    "for etat in etats:    \n",
    "    k = etat.index(0)\n",
    "    def ajouter_arete(l):\n",
    "        G[indice[etat],indice[echange(etat, k, l)]] = 1\n",
    "    if k >= n: ajouter_arete(k - n)\n",
    "    if k < n_2 - n: ajouter_arete(k + n)\n",
    "    if k % n != 0: ajouter_arete(k - 1)\n",
    "    if k % n != n - 1: ajouter_arete(k + 1)\n",
    "\n",
    "print('Construction du graphe en {0:0.2f} s'.format(time.time() - start_time))\n",
    "\n",
    "# Application de l'algorithme de Dijkstra (complexité O(N log(N)))\n",
    "start_time = time.time()\n",
    "\n",
    "d, pred = dijkstra(csgraph = G, unweighted = True, directed = False, indices = 0, return_predecessors = True)\n",
    "\n",
    "print(\"Calcul de tous les chemins optimaux aboutissant à l'identité en {0:0.2f} s\".format(time.time() - start_time))\n",
    "\n",
    "# On peut par exemple chercher les états les plus éloignés de l'identité\n",
    "\n",
    "m = max(x for x in d if x != np.inf)\n",
    "print(f\"distance à l'identité maximale = {int(m)}\")\n",
    "pd = [etats[i] for i in range(N) if d[i] == m]\n",
    "print(f'atteinte par les états : ', end = '')\n",
    "for p in pd: print(p, end = ' ')"
   ]
  }
 ],
 "metadata": {
  "colab": {
   "provenance": []
  },
  "kernelspec": {
   "display_name": "Python 3 (ipykernel)",
   "language": "python",
   "name": "python3"
  },
  "language_info": {
   "codemirror_mode": {
    "name": "ipython",
    "version": 3
   },
   "file_extension": ".py",
   "mimetype": "text/x-python",
   "name": "python",
   "nbconvert_exporter": "python",
   "pygments_lexer": "ipython3",
   "version": "3.10.5"
  },
  "vscode": {
   "interpreter": {
    "hash": "369f2c481f4da34e4445cda3fffd2e751bd1c4d706f27375911949ba6bb62e1c"
   }
  },
  "widgets": {
   "application/vnd.jupyter.widget-state+json": {
    "0af75ae253ea48aca3f1cd2159effba4": {
     "model_module": "@jupyter-widgets/base",
     "model_module_version": "1.2.0",
     "model_name": "LayoutModel",
     "state": {
      "_model_module": "@jupyter-widgets/base",
      "_model_module_version": "1.2.0",
      "_model_name": "LayoutModel",
      "_view_count": null,
      "_view_module": "@jupyter-widgets/base",
      "_view_module_version": "1.2.0",
      "_view_name": "LayoutView",
      "align_content": null,
      "align_items": null,
      "align_self": null,
      "border": null,
      "bottom": null,
      "display": null,
      "flex": null,
      "flex_flow": null,
      "grid_area": null,
      "grid_auto_columns": null,
      "grid_auto_flow": null,
      "grid_auto_rows": null,
      "grid_column": null,
      "grid_gap": null,
      "grid_row": null,
      "grid_template_areas": null,
      "grid_template_columns": null,
      "grid_template_rows": null,
      "height": null,
      "justify_content": null,
      "justify_items": null,
      "left": null,
      "margin": null,
      "max_height": null,
      "max_width": null,
      "min_height": null,
      "min_width": null,
      "object_fit": null,
      "object_position": null,
      "order": null,
      "overflow": null,
      "overflow_x": null,
      "overflow_y": null,
      "padding": null,
      "right": null,
      "top": null,
      "visibility": null,
      "width": null
     }
    },
    "32ff0ec76bb342ffb7b28a6f981ee369": {
     "model_module": "@jupyter-widgets/controls",
     "model_module_version": "1.5.0",
     "model_name": "VBoxModel",
     "state": {
      "_dom_classes": [
       "widget-interact"
      ],
      "_model_module": "@jupyter-widgets/controls",
      "_model_module_version": "1.5.0",
      "_model_name": "VBoxModel",
      "_view_count": null,
      "_view_module": "@jupyter-widgets/controls",
      "_view_module_version": "1.5.0",
      "_view_name": "VBoxView",
      "box_style": "",
      "children": [
       "IPY_MODEL_c595576d4db24d838320bb65a7f8af51",
       "IPY_MODEL_6a4a9bd7667c45b380a84a25b2ced50a"
      ],
      "layout": "IPY_MODEL_0af75ae253ea48aca3f1cd2159effba4"
     }
    },
    "574f12666d6b4f2caba008cacf1e8093": {
     "model_module": "@jupyter-widgets/controls",
     "model_module_version": "1.5.0",
     "model_name": "SliderStyleModel",
     "state": {
      "_model_module": "@jupyter-widgets/controls",
      "_model_module_version": "1.5.0",
      "_model_name": "SliderStyleModel",
      "_view_count": null,
      "_view_module": "@jupyter-widgets/base",
      "_view_module_version": "1.2.0",
      "_view_name": "StyleView",
      "description_width": "",
      "handle_color": null
     }
    },
    "6a4a9bd7667c45b380a84a25b2ced50a": {
     "model_module": "@jupyter-widgets/output",
     "model_module_version": "1.0.0",
     "model_name": "OutputModel",
     "state": {
      "_dom_classes": [],
      "_model_module": "@jupyter-widgets/output",
      "_model_module_version": "1.0.0",
      "_model_name": "OutputModel",
      "_view_count": null,
      "_view_module": "@jupyter-widgets/output",
      "_view_module_version": "1.0.0",
      "_view_name": "OutputView",
      "layout": "IPY_MODEL_c3efea930de148d38fee640a04c3cae7",
      "msg_id": "",
      "outputs": [
       {
        "data": {
         "image/png": "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\n",
         "text/plain": "<Figure size 540x360 with 1 Axes>"
        },
        "metadata": {
         "needs_background": "light"
        },
        "output_type": "display_data"
       }
      ]
     }
    },
    "773eb5e5947041208a0aa2995ef99fa8": {
     "model_module": "@jupyter-widgets/controls",
     "model_module_version": "1.5.0",
     "model_name": "ButtonModel",
     "state": {
      "_dom_classes": [],
      "_model_module": "@jupyter-widgets/controls",
      "_model_module_version": "1.5.0",
      "_model_name": "ButtonModel",
      "_view_count": null,
      "_view_module": "@jupyter-widgets/controls",
      "_view_module_version": "1.5.0",
      "_view_name": "ButtonView",
      "button_style": "",
      "description": ">",
      "disabled": false,
      "icon": "",
      "layout": "IPY_MODEL_c08d020d6fbe4715995c57756e46c380",
      "style": "IPY_MODEL_81b1761f07f545fbb8c22359d823a3c2",
      "tooltip": ""
     }
    },
    "81b1761f07f545fbb8c22359d823a3c2": {
     "model_module": "@jupyter-widgets/controls",
     "model_module_version": "1.5.0",
     "model_name": "ButtonStyleModel",
     "state": {
      "_model_module": "@jupyter-widgets/controls",
      "_model_module_version": "1.5.0",
      "_model_name": "ButtonStyleModel",
      "_view_count": null,
      "_view_module": "@jupyter-widgets/base",
      "_view_module_version": "1.2.0",
      "_view_name": "StyleView",
      "button_color": null,
      "font_weight": ""
     }
    },
    "c08d020d6fbe4715995c57756e46c380": {
     "model_module": "@jupyter-widgets/base",
     "model_module_version": "1.2.0",
     "model_name": "LayoutModel",
     "state": {
      "_model_module": "@jupyter-widgets/base",
      "_model_module_version": "1.2.0",
      "_model_name": "LayoutModel",
      "_view_count": null,
      "_view_module": "@jupyter-widgets/base",
      "_view_module_version": "1.2.0",
      "_view_name": "LayoutView",
      "align_content": null,
      "align_items": null,
      "align_self": null,
      "border": null,
      "bottom": null,
      "display": null,
      "flex": null,
      "flex_flow": null,
      "grid_area": null,
      "grid_auto_columns": null,
      "grid_auto_flow": null,
      "grid_auto_rows": null,
      "grid_column": null,
      "grid_gap": null,
      "grid_row": null,
      "grid_template_areas": null,
      "grid_template_columns": null,
      "grid_template_rows": null,
      "height": null,
      "justify_content": null,
      "justify_items": null,
      "left": null,
      "margin": null,
      "max_height": null,
      "max_width": null,
      "min_height": null,
      "min_width": null,
      "object_fit": null,
      "object_position": null,
      "order": null,
      "overflow": null,
      "overflow_x": null,
      "overflow_y": null,
      "padding": null,
      "right": null,
      "top": null,
      "visibility": null,
      "width": null
     }
    },
    "c3efea930de148d38fee640a04c3cae7": {
     "model_module": "@jupyter-widgets/base",
     "model_module_version": "1.2.0",
     "model_name": "LayoutModel",
     "state": {
      "_model_module": "@jupyter-widgets/base",
      "_model_module_version": "1.2.0",
      "_model_name": "LayoutModel",
      "_view_count": null,
      "_view_module": "@jupyter-widgets/base",
      "_view_module_version": "1.2.0",
      "_view_name": "LayoutView",
      "align_content": null,
      "align_items": null,
      "align_self": null,
      "border": null,
      "bottom": null,
      "display": null,
      "flex": null,
      "flex_flow": null,
      "grid_area": null,
      "grid_auto_columns": null,
      "grid_auto_flow": null,
      "grid_auto_rows": null,
      "grid_column": null,
      "grid_gap": null,
      "grid_row": null,
      "grid_template_areas": null,
      "grid_template_columns": null,
      "grid_template_rows": null,
      "height": null,
      "justify_content": null,
      "justify_items": null,
      "left": null,
      "margin": null,
      "max_height": null,
      "max_width": null,
      "min_height": null,
      "min_width": null,
      "object_fit": null,
      "object_position": null,
      "order": null,
      "overflow": null,
      "overflow_x": null,
      "overflow_y": null,
      "padding": null,
      "right": null,
      "top": null,
      "visibility": null,
      "width": null
     }
    },
    "c595576d4db24d838320bb65a7f8af51": {
     "model_module": "@jupyter-widgets/controls",
     "model_module_version": "1.5.0",
     "model_name": "IntSliderModel",
     "state": {
      "_dom_classes": [],
      "_model_module": "@jupyter-widgets/controls",
      "_model_module_version": "1.5.0",
      "_model_name": "IntSliderModel",
      "_view_count": null,
      "_view_module": "@jupyter-widgets/controls",
      "_view_module_version": "1.5.0",
      "_view_name": "IntSliderView",
      "continuous_update": true,
      "description": "t",
      "description_tooltip": null,
      "disabled": false,
      "layout": "IPY_MODEL_ca9023b69aaa4ad8b1d6282d14a9812a",
      "max": 31,
      "min": 0,
      "orientation": "horizontal",
      "readout": true,
      "readout_format": "d",
      "step": 1,
      "style": "IPY_MODEL_574f12666d6b4f2caba008cacf1e8093",
      "value": 10
     }
    },
    "ca9023b69aaa4ad8b1d6282d14a9812a": {
     "model_module": "@jupyter-widgets/base",
     "model_module_version": "1.2.0",
     "model_name": "LayoutModel",
     "state": {
      "_model_module": "@jupyter-widgets/base",
      "_model_module_version": "1.2.0",
      "_model_name": "LayoutModel",
      "_view_count": null,
      "_view_module": "@jupyter-widgets/base",
      "_view_module_version": "1.2.0",
      "_view_name": "LayoutView",
      "align_content": null,
      "align_items": null,
      "align_self": null,
      "border": null,
      "bottom": null,
      "display": null,
      "flex": null,
      "flex_flow": null,
      "grid_area": null,
      "grid_auto_columns": null,
      "grid_auto_flow": null,
      "grid_auto_rows": null,
      "grid_column": null,
      "grid_gap": null,
      "grid_row": null,
      "grid_template_areas": null,
      "grid_template_columns": null,
      "grid_template_rows": null,
      "height": null,
      "justify_content": null,
      "justify_items": null,
      "left": null,
      "margin": null,
      "max_height": null,
      "max_width": null,
      "min_height": null,
      "min_width": null,
      "object_fit": null,
      "object_position": null,
      "order": null,
      "overflow": null,
      "overflow_x": null,
      "overflow_y": null,
      "padding": null,
      "right": null,
      "top": null,
      "visibility": null,
      "width": null
     }
    }
   }
  }
 },
 "nbformat": 4,
 "nbformat_minor": 1
}
