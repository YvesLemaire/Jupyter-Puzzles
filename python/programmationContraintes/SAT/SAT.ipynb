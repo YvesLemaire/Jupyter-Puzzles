{
 "cells": [
  {
   "cell_type": "markdown",
   "id": "970665ba",
   "metadata": {
    "id": "970665ba"
   },
   "source": [
    "# Le problème SAT "
   ]
  },
  {
   "cell_type": "markdown",
   "id": "f5307dca",
   "metadata": {
    "id": "f5307dca"
   },
   "source": [
    "## Objet du problème"
   ]
  },
  {
   "attachments": {},
   "cell_type": "markdown",
   "id": "2c5f76d2",
   "metadata": {
    "id": "2c5f76d2"
   },
   "source": [
    "$X=\\{p_1,\\ldots,p_{n}\\}$ est un ensemble de variables propositionnelles. L'expression $p_i$ (resp. $\\lnot p_i$) est appelée un *littéral positif* (resp. un *littéral négatif*). Une *clause* est une disjonction de littéraux. Une conjonction de clauses ($\\varphi=c_1 \\land \\ldots \\land c_k$ où $c_i=\\ell_{i,1}\\lor\\ldots\\lor\\ell_{i,h_i}$ avec $\\ell_{i,j}=p_{i,j}$ ou $\\lnot p_{i,j}$, $p_{i,j}\\in X$) est appelée une FNC ou *forme normale conjonctive*. \n",
    "\n",
    "On désire déterminer la *satisfiabilité*  d'une FNC $\\varphi$ ; c.-à-d. décider s'il existe une affectation des $p_i$ rendant $\\varphi$ vraie. En cas de succés, il n'est pas plus difficile de calculer une telle affectation. Ce problème est NP-complet ; il faut donc s'attendre à une complexité importante."
   ]
  },
  {
   "cell_type": "markdown",
   "id": "e49b4900",
   "metadata": {
    "id": "e49b4900"
   },
   "source": [
    "## Algorithme de Davis, Putnam, Logemann et Loveland (DPLL)"
   ]
  },
  {
   "attachments": {},
   "cell_type": "markdown",
   "id": "e011e347",
   "metadata": {
    "id": "e011e347"
   },
   "source": [
    "DPLL($\\varphi$)    \n",
    "&nbsp;&nbsp;&nbsp;&nbsp;&nbsp;&nbsp;&nbsp;&nbsp;**tant que** $\\varphi$ contient une clause unitaire $\\{\\ell\\}$  \n",
    "&nbsp;&nbsp;&nbsp;&nbsp;&nbsp;&nbsp;&nbsp;&nbsp;&nbsp;&nbsp;&nbsp;&nbsp;&nbsp;&nbsp;&nbsp;&nbsp;affecter *Vrai* à $\\ell$  \n",
    "&nbsp;&nbsp;&nbsp;&nbsp;&nbsp;&nbsp;&nbsp;&nbsp;&nbsp;&nbsp;&nbsp;&nbsp;&nbsp;&nbsp;&nbsp;&nbsp;supprimer de $\\varphi$ les clauses contenant $\\ell$  \n",
    "&nbsp;&nbsp;&nbsp;&nbsp;&nbsp;&nbsp;&nbsp;&nbsp;&nbsp;&nbsp;&nbsp;&nbsp;&nbsp;&nbsp;&nbsp;&nbsp;supprimer $\\lnot\\ell$ des clauses de $\\varphi$  \n",
    "&nbsp;&nbsp;&nbsp;&nbsp;&nbsp;&nbsp;&nbsp;&nbsp;**si** $\\emptyset\\in\\varphi$ **alors** **retourner** *Faux*  \n",
    "&nbsp;&nbsp;&nbsp;&nbsp;&nbsp;&nbsp;&nbsp;&nbsp;**tant que** $\\varphi$ contient un littéral pur $\\ell$ ($\\lnot\\ell$ n'est pas dans $\\varphi$)  \n",
    "&nbsp;&nbsp;&nbsp;&nbsp;&nbsp;&nbsp;&nbsp;&nbsp;&nbsp;&nbsp;&nbsp;&nbsp;&nbsp;&nbsp;&nbsp;&nbsp;affecter *Vrai* à $\\ell$  \n",
    "&nbsp;&nbsp;&nbsp;&nbsp;&nbsp;&nbsp;&nbsp;&nbsp;&nbsp;&nbsp;&nbsp;&nbsp;&nbsp;&nbsp;&nbsp;&nbsp;supprimer de $\\varphi$ les clauses contenant $\\ell$  \n",
    "&nbsp;&nbsp;&nbsp;&nbsp;&nbsp;&nbsp;&nbsp;&nbsp;**si** $\\varphi=\\emptyset$ **alors** **retourner** *Vrai*  \n",
    "&nbsp;&nbsp;&nbsp;&nbsp;&nbsp;&nbsp;&nbsp;&nbsp;choisir un littéral $\\ell$ apparaissant dans $\\varphi$  \n",
    "&nbsp;&nbsp;&nbsp;&nbsp;&nbsp;&nbsp;&nbsp;&nbsp;**retourner** DPLL($\\varphi\\cup\\{\\{\\ell\\}\\}$) **ou** DPLL($\\varphi\\cup\\{\\{\\lnot\\ell\\}\\}$)"
   ]
  },
  {
   "cell_type": "markdown",
   "id": "f1cb4da9",
   "metadata": {
    "id": "f1cb4da9"
   },
   "source": [
    "### Implémentation"
   ]
  },
  {
   "cell_type": "markdown",
   "id": "82966847",
   "metadata": {
    "id": "82966847"
   },
   "source": [
    "On représente le littéral $p_i$ par l'entier $i$ et $\\lnot p_i$ par $-i$. Une clause est vue comme un ensemble (type `set`) de littéraux et une formule comme une liste (type `list`) de clauses."
   ]
  },
  {
   "cell_type": "code",
   "execution_count": 1,
   "id": "0f906a8e",
   "metadata": {
    "id": "0f906a8e"
   },
   "outputs": [],
   "source": [
    "from copy import deepcopy\n",
    "\n",
    "# choisir un élément d'un ensemble\n",
    "def choisir(s):\n",
    "    e = s.pop()\n",
    "    s.add(e)\n",
    "    return e\n",
    "    \n",
    "def dpll(f,n):\n",
    "\n",
    "    # solution\n",
    "    d = {i : None for i in range(1, n + 1)}\n",
    "    \n",
    "    # littéraux présents dans f\n",
    "    lit = set.union(*f)\n",
    "\n",
    "    # affecter Vrai au littéral l\n",
    "    def affecter(l):\n",
    "        if l > 0: \n",
    "            d[l] = True\n",
    "        else:\n",
    "            d[-l] = False\n",
    "          \n",
    "    def dpllrec():\n",
    "\n",
    "        nonlocal f, lit\n",
    "        \n",
    "        cont = True\n",
    "        # tant que f a une clause contenant un unique littéral\n",
    "        while cont:\n",
    "            try:\n",
    "                # rechercher une clause contenant un unique littéral\n",
    "                l = choisir(next(filter(lambda c: len(c) == 1, f)))\n",
    "                # affecter la variable correspondante\n",
    "                affecter(l)\n",
    "                # supprimer de f les clauses contenant l\n",
    "                f = [c for c in f if l not in c]\n",
    "                # supprimer non(l) de toutes les clauses\n",
    "                for c in f:\n",
    "                    if -l in c:\n",
    "                        c.remove(-l)\n",
    "                # mettre à jour lit\n",
    "                lit -= {l,-l}\n",
    "            except StopIteration:\n",
    "                cont = False\n",
    "        # si f contient un clause vide, f n'est pas satisfiable\n",
    "        if set() in f:\n",
    "            return False\n",
    "        cont = True\n",
    "        # tant que f a un littéral pur\n",
    "        while cont:\n",
    "            try:\n",
    "                # rechercher un littéral pur\n",
    "                l = next(filter(lambda l: l in lit and -l not in lit, lit))\n",
    "                # affecter la variable correspondante\n",
    "                affecter(l)\n",
    "                # supprimer de f les clauses contenant l\n",
    "                f = [c for c in f if l not in c]\n",
    "                # mettre à jour lit\n",
    "                lit.remove(l)\n",
    "            except StopIteration:\n",
    "                cont = False\n",
    "        if f == []:\n",
    "            return True\n",
    "        if lit == set():\n",
    "            return False\n",
    "        l = choisir(lit)\n",
    "        f_, lit_ = deepcopy((f, lit))\n",
    "        f.append({l})\n",
    "        if dpllrec():\n",
    "            return True\n",
    "        else:\n",
    "            f , lit = f_, lit_\n",
    "            f.append({-l})\n",
    "            lit |= {-l}\n",
    "            return dpllrec()\n",
    "     \n",
    "    # rq: si f n'est pas satisfiable retourne None \n",
    "    if dpllrec():\n",
    "        return d"
   ]
  },
  {
   "cell_type": "markdown",
   "id": "17051123",
   "metadata": {
    "id": "17051123"
   },
   "source": [
    "### Test"
   ]
  },
  {
   "cell_type": "code",
   "execution_count": 2,
   "id": "df69f1b5",
   "metadata": {
    "id": "df69f1b5",
    "outputId": "3c8dc2bc-7d65-4856-ee6f-5565eead3f6c"
   },
   "outputs": [
    {
     "data": {
      "text/plain": [
       "{1: True, 2: False, 3: False, 4: True, 5: None}"
      ]
     },
     "execution_count": 2,
     "metadata": {},
     "output_type": "execute_result"
    }
   ],
   "source": [
    "dpll([{5,-2,-3},{3,-2,-4},{2,-3},{-3,-4},{4},{-5,-2,-3,1}],5)"
   ]
  },
  {
   "cell_type": "markdown",
   "id": "2a741782",
   "metadata": {},
   "source": [
    "### Fonctions utiles\n",
    "\n",
    "Pour une liste ou un ensemble de litteraux `l`, chacune des 3 fonctions suivantes ajoute une ou des clause(s) à une formule `f`."
   ]
  },
  {
   "cell_type": "code",
   "execution_count": 3,
   "id": "3725e766",
   "metadata": {},
   "outputs": [],
   "source": [
    "# - Au moins un littéral de l est Vrai -\n",
    "def auMoinsUn(f,l):\n",
    "    f.append(set(l))\n",
    "    \n",
    "# - Au plus un littéral de l est Vrai -\n",
    "def auPlusUn(f,l):\n",
    "    for p in l:\n",
    "        for q in l:\n",
    "            if p < q:\n",
    "                f.append({- p, - q})\n",
    "\n",
    "# - Exactement un littéral de l est Vrai -\n",
    "def exactementUn(f,l):\n",
    "    auMoinsUn(f,l)\n",
    "    auPlusUn(f,l)"
   ]
  },
  {
   "cell_type": "code",
   "execution_count": 4,
   "id": "6eb9a15c",
   "metadata": {},
   "outputs": [],
   "source": [
    "def vrai(f,p):\n",
    "    f.append({p})\n",
    "    \n",
    "def faux(f,p):\n",
    "    f.append({- p})\n",
    "\n",
    "# p => q où p est un littéral et q est soit un littéral, soit une clause \n",
    "def implique(f,p,q):\n",
    "    if isinstance(q,int):\n",
    "        f.append({- p, q})\n",
    "    else:\n",
    "        assert isinstance(q,set)\n",
    "        f.append({- p} | q)"
   ]
  },
  {
   "cell_type": "markdown",
   "id": "7ed39d18",
   "metadata": {
    "id": "7ed39d18"
   },
   "source": [
    "## 1. Le [problème du zèbre](https://fr.wikipedia.org/wiki/Int%C3%A9gramme)"
   ]
  },
  {
   "cell_type": "markdown",
   "id": "8d62a4c2",
   "metadata": {
    "id": "8d62a4c2"
   },
   "source": [
    "Ce problème (parfois attribué à Einstein ou à Lewis Carroll) s'énonce ainsi :\n",
    "\n",
    "Cinq hommes de nationalités et de professions différentes habitent avec leur animal de compagnie cinq maisons de couleurs différentes où ils boivent leur boisson préférée. On dispose de 14 indices :\n",
    "\n",
    "1. L'anglais habite la maison rouge ;\n",
    "2. l'espagnol a un chien ;\n",
    "3. l'islandais est ingénieur ;\n",
    "4. la maison verte sent bon le café ;\n",
    "5. la maison verte est située immédiatement à gauche de la blanche ;\n",
    "6. le sculpteur possède un âne ;\n",
    "7. le diplomate habite la maison jaune ;\n",
    "8. le norvégien habite la première maison à gauche ;\n",
    "9. le médecin est voisin du propriétaire du renard ;\n",
    "10. la maison du diplomate est voisine de celle où il y a un cheval ;\n",
    "11. on boit du lait dans la maison du milieu ;\n",
    "12. le slovène boit du thé ;\n",
    "13. le violoniste boit du jus d'orange ;\n",
    "14. le norvégien demeure à côté de la maison bleue.\n",
    "\n",
    "Question : qui possède un zèbre ?"
   ]
  },
  {
   "cell_type": "markdown",
   "id": "6cf245ad",
   "metadata": {
    "id": "6cf245ad"
   },
   "source": [
    "### Solution"
   ]
  },
  {
   "cell_type": "code",
   "execution_count": 5,
   "id": "45e764b1",
   "metadata": {
    "id": "45e764b1"
   },
   "outputs": [],
   "source": [
    "# les différents attributs\n",
    "nationalite, couleur, metier, boisson, animal = 0, 1, 2, 3, 4\n",
    "\n",
    "# et leurs valeurs\n",
    "anglais, espagnol, islandais, norvegien, slovene = 0, 1, 2, 3, 4\n",
    "rouge, vert, bleu, jaune, blanc = 0, 1, 2, 3, 4\n",
    "diplomate, ingenieur, medecin, sculpteur, violoniste = 0, 1, 2, 3, 4\n",
    "cafe, eau, lait, jusorange, the = 0, 1, 2, 3, 4\n",
    "ane, cheval, chien, renard, zebre = 0, 1, 2, 3, 4\n",
    "\n",
    "attributs = [\n",
    "    [\"anglais\", \"espagnol\", \"islandais\", \"norvégien\", \"slovène\"],\n",
    "    [\"rouge\", \"vert\", \"bleu\", \"jaune\", \"blanc\"],\n",
    "    [\"diplomate\", \"ingénieur\", \"médecin\", \"sculpteur\", \"violoniste\"],\n",
    "    [\"café\", \"eau\", \"lait\", \"jus d'orange\", \"thé\"],\n",
    "    [\"âne\", \"cheval\", \"chien\", \"renard\", \"zèbre\"]\n",
    "] "
   ]
  },
  {
   "cell_type": "markdown",
   "id": "d8286276",
   "metadata": {
    "id": "d8286276"
   },
   "source": [
    "Pour $(i,j,k)\\in \\{0,1,2,3,4\\}^3$ notons $q_{i,j,k}$ la proposition \" le $j^\\text e$ attribut de la $i^\\text e$ maison est $k$ \" (les numérotations commencent à $0$).\n",
    "\n",
    "Ainsi $q_{2,3,4}$ signifie \" le propriétaire de la 2 $\\!{}^\\text{e}$ maison (en fait la 3 $\\!{}^\\text{e}$) boit du thé\"\n",
    "\n",
    "On cherche une affectation des variables propositionnelles $p_\\ell=q_{i,j,k}$, où $\\ell=1+i+5\\times j+5^2\\times k\\in\\{1,2,\\ldots,125\\}$, qui respecte les 14 conditions imposées. "
   ]
  },
  {
   "cell_type": "code",
   "execution_count": 6,
   "id": "ee04b15d",
   "metadata": {
    "id": "ee04b15d"
   },
   "outputs": [],
   "source": [
    "def q(maison,attribut,valeur):\n",
    "    return 1 + maison + 5 * attribut + 25 * valeur\n",
    "\n",
    "# formule à satisfaire :\n",
    "f = []\n",
    "\n",
    "# ajout à f des différentes clauses :\n",
    "\n",
    "# chaque attribut de chaque maison a exactement une valeur :\n",
    "for j in range(5):\n",
    "    for i in range(5):\n",
    "        exactementUn(f,{q(i,j,k) for k in range(5)})\n",
    "       \n",
    "# Chaque valeur possible de chaque attribut est attibuée à une maison\n",
    "for k in range(5):\n",
    "    for j in range(5):\n",
    "        auMoinsUn(f,{q(i,j,k) for i in range(5)})\n",
    "\n",
    "def sontVoisins(attribut1,valeur1,attribut2,valeur2):\n",
    "    implique(f,q(0,attribut1,valeur1),q(1,attribut2,valeur2))\n",
    "    for i in range(1,4):\n",
    "        implique(f,q(i,attribut1,valeur1),{q(i+1,attribut2,valeur2),q(i-1,attribut2,valeur2)})    \n",
    "    implique(f,q(4,attribut1,valeur1),q(3,attribut2,valeur2))\n",
    "\n",
    "for i in range(5):\n",
    "    \n",
    "    # 1. l'anglais habite la maison rouge\n",
    "    implique(f,q(i,nationalite,anglais),q(i,couleur,rouge))\n",
    "    \n",
    "    # 2. l'espagnol a un chien :\n",
    "    implique(f,q(i,nationalite,espagnol),q(i,animal,chien))\n",
    "    \n",
    "    # 3. l'islandais est ingénieur :\n",
    "    implique(f,q(i,nationalite,islandais),q(i,metier,ingenieur))\n",
    "    \n",
    "    # 4. l'occupant de la maison verte boit du café : \n",
    "    implique(f,q(i,couleur,vert),q(i,boisson,cafe))\n",
    "\n",
    "    # 5. la maison verte est située immédiatement à gauche de la blanche,\n",
    "    if i < 4: implique(f, q(i, couleur, vert), q(i + 1, couleur, blanc))\n",
    "    else: faux(f,q(4,couleur,vert))\n",
    "    \n",
    "    # 6. le sculpteur possède un ane :\n",
    "    implique(f,q(i,metier, sculpteur),q(i,animal,ane))\n",
    "\n",
    "    # 7. le diplomate habite la maison jaune :\n",
    "    implique(f,q(i,metier,diplomate),q(i,couleur,jaune))\n",
    "\n",
    "# 8. le norvégien habite la première maison à gauche :\n",
    "vrai(f,q(0,nationalite,norvegien))\n",
    "\n",
    "# 9. le médecin habite la maison voisine de celle où demeure le propriétaire du renard,\n",
    "sontVoisins(metier,medecin,animal,renard)\n",
    "\n",
    "# 10. la maison du diplomate est voisine de celle où il y a un cheval :\n",
    "sontVoisins(metier,diplomate,animal,cheval)\n",
    "\n",
    "# 11. on boit du lait dans la maison du milieu\n",
    "vrai(f,q(2,boisson,lait))\n",
    "\n",
    "for i in range(5):\n",
    "    \n",
    "    # 12. le Slovène boit du thé :\n",
    "    implique(f,q(i,nationalite,slovene),q(i,boisson,the))\n",
    "\n",
    "    # 13. le violoniste boit du jus d'orange :\n",
    "    implique(f,q(i,metier,violoniste),q(i,boisson,jusorange))\n",
    "    \n",
    "# 14. le norvégien demeure à côté de la maison bleue\n",
    "sontVoisins(nationalite,norvegien,couleur,bleu)"
   ]
  },
  {
   "cell_type": "code",
   "execution_count": 7,
   "id": "d7d7e87a",
   "metadata": {
    "id": "d7d7e87a",
    "outputId": "f6f20354-8401-4145-a271-0e319fc43afd"
   },
   "outputs": [
    {
     "name": "stdout",
     "output_type": "stream",
     "text": [
      "maison 1 : norvégien\n",
      "maison 1 : jaune\n",
      "maison 1 : diplomate\n",
      "maison 1 : eau\n",
      "maison 1 : renard\n",
      "maison 2 : slovène\n",
      "maison 2 : bleu\n",
      "maison 2 : médecin\n",
      "maison 2 : thé\n",
      "maison 2 : cheval\n",
      "maison 3 : anglais\n",
      "maison 3 : rouge\n",
      "maison 3 : sculpteur\n",
      "maison 3 : lait\n",
      "maison 3 : âne\n",
      "maison 4 : islandais\n",
      "maison 4 : vert\n",
      "maison 4 : ingénieur\n",
      "maison 4 : café\n",
      "maison 4 : zèbre\n",
      "maison 5 : espagnol\n",
      "maison 5 : blanc\n",
      "maison 5 : violoniste\n",
      "maison 5 : jus d'orange\n",
      "maison 5 : chien\n"
     ]
    }
   ],
   "source": [
    "d=dpll(deepcopy(f),125)\n",
    "\n",
    "for i in range(5):\n",
    "    for j in range(5):\n",
    "        for k in range(5):\n",
    "            if d[q(i,j,k)]:\n",
    "                print('maison {} : {}'.format(i + 1,attributs[j][k]))    "
   ]
  },
  {
   "cell_type": "markdown",
   "id": "977f0c5b",
   "metadata": {
    "id": "977f0c5b"
   },
   "source": [
    "Pour la solution trouvée, l'islandais a le zèbre."
   ]
  },
  {
   "cell_type": "markdown",
   "id": "84804d60",
   "metadata": {},
   "source": [
    "Vérifions qu'il n'y a pas d'autres solutions."
   ]
  },
  {
   "cell_type": "code",
   "execution_count": 8,
   "id": "895beca6",
   "metadata": {},
   "outputs": [
    {
     "name": "stdout",
     "output_type": "stream",
     "text": [
      "None\n"
     ]
    }
   ],
   "source": [
    "f_ = deepcopy(f)\n",
    "\n",
    "f_.append({-q(i,j,k) \n",
    "               for i in range(5)\n",
    "               for j in range(5)\n",
    "               for k in range(5) if d[q(i,j,k)]})\n",
    "\n",
    "print(dpll(f_,125))"
   ]
  },
  {
   "cell_type": "markdown",
   "id": "19da208b",
   "metadata": {
    "id": "19da208b"
   },
   "source": [
    "## 2. [Sudoku](https://fr.wikipedia.org/wiki/Sudoku)"
   ]
  },
  {
   "cell_type": "markdown",
   "id": "9ef4c2c7",
   "metadata": {
    "id": "9ef4c2c7"
   },
   "source": [
    "Une grille de Sudoku $t=(t_{i, j})_{i,j=0,\\ldots,8}$ est représentée par une chaine de caractères "
   ]
  },
  {
   "cell_type": "code",
   "execution_count": 9,
   "id": "3b93af00",
   "metadata": {
    "id": "3b93af00"
   },
   "outputs": [],
   "source": [
    "exempleSudoku = \"\"\"\n",
    "    ..8.5....      \n",
    "    .4....3..\n",
    "    ......1..\n",
    "    .7.3.....      \n",
    "    ....2..8.\n",
    "    1......5.\n",
    "    ..57...4.\n",
    "    ...1..6..\n",
    "    2........\n",
    "\"\"\" "
   ]
  },
  {
   "cell_type": "markdown",
   "id": "5040c171",
   "metadata": {
    "id": "5040c171"
   },
   "source": [
    "que l'on transformera en matrice d'entiers :"
   ]
  },
  {
   "cell_type": "code",
   "execution_count": 10,
   "id": "ad0c544e",
   "metadata": {
    "id": "ad0c544e"
   },
   "outputs": [],
   "source": [
    "def matriceOfChaine(t):\n",
    "    return [list(map(lambda x:0 if x == '.' else int(x),l)) for l in list(map(list,t.split()))]"
   ]
  },
  {
   "cell_type": "code",
   "execution_count": 11,
   "id": "5c0133e7",
   "metadata": {
    "id": "5c0133e7",
    "outputId": "044eedc0-4c86-4797-be08-aa62cbe4f29f"
   },
   "outputs": [
    {
     "data": {
      "text/plain": [
       "[[0, 0, 8, 0, 5, 0, 0, 0, 0],\n",
       " [0, 4, 0, 0, 0, 0, 3, 0, 0],\n",
       " [0, 0, 0, 0, 0, 0, 1, 0, 0],\n",
       " [0, 7, 0, 3, 0, 0, 0, 0, 0],\n",
       " [0, 0, 0, 0, 2, 0, 0, 8, 0],\n",
       " [1, 0, 0, 0, 0, 0, 0, 5, 0],\n",
       " [0, 0, 5, 7, 0, 0, 0, 4, 0],\n",
       " [0, 0, 0, 1, 0, 0, 6, 0, 0],\n",
       " [2, 0, 0, 0, 0, 0, 0, 0, 0]]"
      ]
     },
     "execution_count": 11,
     "metadata": {},
     "output_type": "execute_result"
    }
   ],
   "source": [
    "matriceOfChaine(exempleSudoku)"
   ]
  },
  {
   "cell_type": "markdown",
   "id": "529cf44b",
   "metadata": {
    "id": "529cf44b"
   },
   "source": [
    "Pour $(i,j,k)\\in \\{0,\\ldots,8\\}^2\\times \\{1,\\ldots,9\\}$ notons $q_{i,j,k}$ la proposition $t_{i,j}=k$.\n",
    "\n",
    "On cherche une affectation des variables propositionnelles $p_\\ell=q_{i,j,k}$, où $\\ell=1+i+9\\times j+9^2\\times(k-1)\\in\\{1,2,\\ldots,729\\}$, qui respecte les conditions imposées par les règles du Sudoku. "
   ]
  },
  {
   "cell_type": "code",
   "execution_count": 12,
   "id": "9feb8b6b",
   "metadata": {
    "id": "9feb8b6b"
   },
   "outputs": [],
   "source": [
    "def solveSudoku(t):\n",
    "\n",
    "    def q(i,j,k):\n",
    "        return 1 + i + 9 * j + 81 * (k - 1)\n",
    "    \n",
    "    m = matriceOfChaine(t)\n",
    "    \n",
    "    # formule à satisfaire :\n",
    "    f = []\n",
    "\n",
    "    # éléments déjà placés\n",
    "    for i in range(9):\n",
    "        for j in range(9):\n",
    "            if m[i][j]:\n",
    "                vrai(f,q(i,j,m[i][j]))\n",
    "                  \n",
    "    # contraintes de cases\n",
    "    for i in range(9):\n",
    "        for j in range(9):\n",
    "            exactementUn(f,[q(i,j,k) for k in range(1,10)])\n",
    "            \n",
    "    # contraintes de lignes\n",
    "    for i in range(9):\n",
    "        for k in range(1,10):\n",
    "            exactementUn(f,[q(i,j,k) for j in range(9)])\n",
    "            \n",
    "    # contraintes de colonnes\n",
    "    for j in range(9):\n",
    "        for k in range(1,10):\n",
    "            exactementUn(f,[q(i,j,k) for i in range(9)])\n",
    "     \n",
    "    # contraintes de régions\n",
    "    for u in range(3):\n",
    "        for v in range(3):\n",
    "            for k in range(1,10):\n",
    "                exactementUn(f,[q(3 * u + i, 3 * v + j, k)  for i in range(3) for j in range(3)])\n",
    "    \n",
    "    d = dpll(f,9**3)\n",
    "    \n",
    "    for i in range(9):\n",
    "        for j in range(9):\n",
    "            for k in range(1,10):\n",
    "                if d[q(i,j,k)]:\n",
    "                    m[i][j] = k\n",
    "                \n",
    "    return '\\n'.join([' '.join(list(map(str,m[i]))) for i in range(9)])\n",
    "    "
   ]
  },
  {
   "cell_type": "markdown",
   "id": "e42a2f93",
   "metadata": {
    "id": "e42a2f93"
   },
   "source": [
    "### Test"
   ]
  },
  {
   "cell_type": "code",
   "execution_count": 13,
   "id": "7b3fd30f",
   "metadata": {
    "id": "7b3fd30f",
    "outputId": "99c72f48-18bc-4f15-b1ba-855184d9c60e"
   },
   "outputs": [
    {
     "name": "stdout",
     "output_type": "stream",
     "text": [
      "3 2 8 9 5 1 4 7 6\n",
      "7 4 1 2 8 6 3 9 5\n",
      "9 5 6 4 7 3 1 2 8\n",
      "5 7 9 3 1 8 2 6 4\n",
      "4 6 3 5 2 7 9 8 1\n",
      "1 8 2 6 9 4 7 5 3\n",
      "6 1 5 7 3 2 8 4 9\n",
      "8 9 7 1 4 5 6 3 2\n",
      "2 3 4 8 6 9 5 1 7\n"
     ]
    }
   ],
   "source": [
    "print(solveSudoku(exempleSudoku))"
   ]
  },
  {
   "cell_type": "markdown",
   "id": "f38dd3d4",
   "metadata": {
    "id": "f38dd3d4"
   },
   "source": [
    "## 3. Le [problème des 8 dames](https://fr.wikipedia.org/wiki/Probl%C3%A8me_des_huit_dames)\n"
   ]
  },
  {
   "cell_type": "markdown",
   "id": "adc5df76",
   "metadata": {
    "id": "adc5df76"
   },
   "source": [
    "Pour $(i,j)\\in \\{0,\\ldots,7\\}^2$ notons $q_{i,j}$ la proposition \" la case $i,j$ contient une reine \".\n",
    "\n",
    "On cherche une affectation des $p_\\ell=q_{i,j}$, où $\\ell=1+i+8\\times j\\in\\{1,2,\\ldots,64\\}$."
   ]
  },
  {
   "cell_type": "code",
   "execution_count": 14,
   "id": "dde93307",
   "metadata": {
    "id": "dde93307",
    "outputId": "75c94892-684c-4a8b-d29a-1cc7d48606f1"
   },
   "outputs": [
    {
     "name": "stdout",
     "output_type": "stream",
     "text": [
      "X . . . . . . . \n",
      ". . . . . . X . \n",
      ". . . . X . . . \n",
      ". . . . . . . X \n",
      ". X . . . . . . \n",
      ". . . X . . . . \n",
      ". . . . . X . . \n",
      ". . X . . . . . \n"
     ]
    }
   ],
   "source": [
    "def q(i,j):\n",
    "    return 1 + i + 8 * j \n",
    "\n",
    "f= []\n",
    "\n",
    "# lignes et colonnes   \n",
    "for i in range(8):\n",
    "    exactementUn(f,[q(i,j) for j in range(8)])\n",
    "    exactementUn(f,[q(j,i) for j in range(8)])\n",
    "\n",
    "# diagonales\n",
    "for i in range(8):\n",
    "    for j in range(8):\n",
    "        for k in range(8):\n",
    "            for l in range(8):\n",
    "                if abs(l - j) == abs(k - i):\n",
    "                    auPlusUn(f,[q(i,j),q(k,l)])  \n",
    "\n",
    "d = dpll(f,64)\n",
    "\n",
    "m = [0 for j in range(8)]\n",
    "\n",
    "for i in range(8):\n",
    "    for j in range(8):\n",
    "        if d[q(i,j)]:\n",
    "            m[i] = j\n",
    "            \n",
    "print('\\n'.join('. ' * m[i] + 'X ' + '. ' * (7 - m[i]) for i in range(8)))"
   ]
  }
 ],
 "metadata": {
  "colab": {
   "provenance": []
  },
  "kernelspec": {
   "display_name": "Python 3",
   "language": "python",
   "name": "python3"
  },
  "language_info": {
   "codemirror_mode": {
    "name": "ipython",
    "version": 3
   },
   "file_extension": ".py",
   "mimetype": "text/x-python",
   "name": "python",
   "nbconvert_exporter": "python",
   "pygments_lexer": "ipython3",
   "version": "3.10.5"
  },
  "vscode": {
   "interpreter": {
    "hash": "369f2c481f4da34e4445cda3fffd2e751bd1c4d706f27375911949ba6bb62e1c"
   }
  }
 },
 "nbformat": 4,
 "nbformat_minor": 5
}
