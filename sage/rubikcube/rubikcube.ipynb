{
 "cells": [
  {
   "cell_type": "code",
   "execution_count": 1,
   "id": "46b44db3",
   "metadata": {},
   "outputs": [
    {
     "data": {
      "application/javascript": [
       "IPython.notebook.set_autosave_interval(0)"
      ],
      "text/plain": [
       "<IPython.core.display.Javascript object>"
      ]
     },
     "metadata": {},
     "output_type": "display_data"
    },
    {
     "name": "stdout",
     "output_type": "stream",
     "text": [
      "Autosave disabled\n"
     ]
    }
   ],
   "source": [
    "%autosave 0"
   ]
  },
  {
   "cell_type": "markdown",
   "id": "2b0693e0",
   "metadata": {},
   "source": [
    "# [Rubik's cube 3x3x3](https://fr.wikipedia.org/wiki/Rubik%27s_Cube#:~:text=Le%20Rubik's%20Cube%20est%20un,ar%C3%AAte%20%C3%A0%20deux%20faces%20visibles.) \n",
    "\n",
    "## Avertissement\n",
    "Le présent Notebook n'est qu'une interface aux méthodes,  déjà implémentées dans Sage (avec le package `rubiks`), de résolution d'un Rubik's Cube. Les outils Sage relatifs au Rubik's Cube sont principalement consacrés à la structure de groupe du cube et, même si Sage permet de résoudre une configuration donnée, il faut lui fournir cette configuration sous la forme de ce que Sage appelle l'*état* ou `state` associé à cette configuration ; voici par exemple l'état du cube résolu :\n",
    "\n",
    "```python\n",
    "solvedState = {'right': [[25, 26, 27], [28, 0, 29], [30, 31, 32]],\n",
    "               'left': [[9, 10, 11], [12, 0, 13], [14, 15, 16]],\n",
    "               'up': [[1, 2, 3], [4, 0, 5], [6, 7, 8]],\n",
    "               'down': [[41, 42, 43], [44, 0, 45], [46, 47, 48]],\n",
    "               'front': [[17, 18, 19], [20, 0, 21], [22, 23, 24]],\n",
    "               'back': [[33, 34, 35], [36, 0, 37], [38, 39, 40]]}\n",
    "```\n",
    "\n",
    "L'essentiel de ce qui suit consiste donc essentiellement à calculer l'état d'une configuration à partir de sa représentation donnée par la suite des couleurs des petits cubes la constituant, ce qui n'est pas complètement évident (ni trés intéressant d'ailleurs $\\ldots$).\n",
    "\n",
    "## Objet du problème\n",
    "\n",
    "On se propose d'écrire une fonction qui prend en entrée une position du cube et calcule une solution.\n",
    "\n",
    "Chacune des 6 couleurs est représentée par l'initiale de son nom en anglais : `o`range, `b`lue, `r`ed, `w`hite, `y`ellow, `g`reen.\n",
    "\n",
    "Une position est représentée par une chaine `s` de 54 caractères selon le schéma suivant qui représente le cube développé :"
   ]
  },
  {
   "cell_type": "raw",
   "id": "49988a7e",
   "metadata": {},
   "source": [
    "             ┌──────────────┐\n",
    "             │  0    1    2 │\n",
    "             │  3    4    5 │\n",
    "             │  6    7    8 │\n",
    "┌────────────┼──────────────┼─────────────┬────────────┐\n",
    "│  9  10  11 │ 18   19   20 │ 27   28  29 │ 36  37  38 │\n",
    "│ 12  13  14 │ 21   22   23 │ 30   31  32 │ 39  40  41 │\n",
    "│ 15  16  17 │ 24   25   26 │ 33   34  35 │ 42  43  44 │\n",
    "└────────────┼──────────────┼─────────────┴────────────┘\n",
    "             │ 451  46   47 │\n",
    "             │ 48   49   50 │\n",
    "             │ 51   52   53 │\n",
    "             └──────────────┘"
   ]
  },
  {
   "cell_type": "markdown",
   "id": "342b1863",
   "metadata": {},
   "source": [
    "Le cube est orienté de sorte que l'on ait `s[4]` $=$ `'y'`, `s[13]` $=$ `'b'`, `s[22]` $=$ `'r'`, `s[31]` $=$ `'g'`, `s[40]` $=$ `'o'` et `s[49]` $=$ `'w'`.\n",
    "\n",
    "Le cube résolu par exemple est représenté par :\n",
    "```python\n",
    "solvedS = 'yyyyyyyyybbbbbbbbbrrrrrrrrrgggggggggooooooooowwwwwwwww'\n",
    "```\n",
    "\n",
    "Une solution sera donnée sous la forme d'une chaine de caractères avec les conventions données [là](https://ruwix.com/the-rubiks-cube/notation/)\n",
    "où, ici, la face avant, __F__, est la face (dont la case centrale est) rouge, la face gauche, __L__, est la face ($\\ldots$) bleue, __U__ est la jaune, etc.\n",
    "\n",
    "Par exemple, pour\n",
    "```python\n",
    "s = 'gorbygorbryyobrrwwgyygrbgwwoyyrgoowwbyybogbwworbbwggor'\n",
    "```\n",
    "une solution est\n",
    "```python\n",
    "\"D R2 L' B' R' U2 R2 U F D U2 L D2 F' D2 R2 F' D2 B2 U2 R2 U2 L2 F2\"\n",
    "```\n",
    "à lire de gauche à droite.\n",
    "\n",
    "\n",
    "## Implémentation\n",
    "\n",
    "### Fonction essentielle\n",
    "\n",
    "```python\n",
    "state_of_string(s)\n",
    "```\n",
    "et une fonction utilitaire :\n",
    "```python\n",
    "inverse(sol)\n",
    "```"
   ]
  },
  {
   "cell_type": "code",
   "execution_count": 2,
   "id": "764b8970",
   "metadata": {},
   "outputs": [],
   "source": [
    "import numpy as np\n",
    "\n",
    "def initRubikCube():\n",
    "\n",
    "    global colors, color, cubes, cubesOfColors\n",
    "    \n",
    "    colors = [(1,1,0), (0,0, 1), (1, 0, 0), (0, 1, 0), (1,.5,0), (1,1, 1), (0.1, 0.1, 0.1)]\n",
    "\n",
    "    x = np.zeros(49, dtype=np.uint8)\n",
    "    y = np.zeros(49, dtype=np.uint8)\n",
    "    z = np.zeros(49, dtype=np.uint8)\n",
    "    for i in [1,2,3,9,12,14,27,29,32,33,34,35,36,37,38,39,40,46,47,48]: x[i] = 0\n",
    "    for i in [4,5,10,15,26,31,44,45]: x[i] = 1\n",
    "    for i in [6,7,8,11,13,16,17,18,19,20,21,22,23,24,25,28,30,41,42,43]: x[i] = 2\n",
    "    for i in [1,4,6,9,10,11,12,13,14,15,16,17,20,22,35,37,40,41,44,46]: y[i] = 0\n",
    "    for i in [2,7,18,23,34,39,42,47]: y[i] = 1\n",
    "    for i in [3,5,8,19,21,24,25,26,27,28,29,30,31,32,33,36,38,43,45,48]: y[i] = 2\n",
    "    for i in [14,15,16,22,23,24,30,31,32,38,39,40,41,42,43,44,45,46,47,48]: z[i] = 0\n",
    "    for i in [12,13,20,21,28,29,36,37]: z[i] = 1\n",
    "    for i in [1,2,3,4,5,6,7,8,9,10,11,17,18,19,25,26,27,33,34,35]: z[i] = 2\n",
    "        \n",
    "    color = np.zeros(49, dtype='<U1')\n",
    "    for i in range(1,9): color[i] = 'y'\n",
    "    for i in range(9,17): color[i] = 'b'\n",
    "    for i in range(17,25): color[i] = 'r'\n",
    "    for i in range(25,33): color[i] = 'g'\n",
    "    for i in range(33,41): color[i] = 'o'\n",
    "    for i in range(41,49): color[i] = 'w'\n",
    "        \n",
    "    cubes = dict()\n",
    "    for i in range(3):\n",
    "        for j in range(3):\n",
    "            for k in range(3):\n",
    "                cubes[(i,j,k)] = set()\n",
    "    for n in range(1,49):\n",
    "        cubes[(x[n], y[n], z[n])].add(n)\n",
    "            \n",
    "    cubes = [cubes[t] for t in cubes.keys()]\n",
    "    \n",
    "    cubesOfColors = dict()\n",
    "    for c in cubes:\n",
    "        s = frozenset([color[i] for i in c])\n",
    "        cubesOfColors[s] = c\n",
    "\n",
    "initRubikCube()\n",
    "\n",
    "def inverse(s):\n",
    "    \n",
    "    inv = {\"U\" : \"U'\", \"L\" : \"L'\", \"F\" : \"F'\", \"R\" : \"R'\", \"B\" : \"B'\", \"D\" : \"D'\",\n",
    "           \"U'\" : \"U\", \"L'\" : \"L\", \"F'\" : \"F\", \"R'\" : \"R\", \"B'\" : \"B\", \"D'\" : \"D\"}\n",
    "    \n",
    "    l = [inv[x] if x in inv.keys() else x for x in s.split(' ')]\n",
    "    l.reverse()\n",
    "    return ' '.join(l) \n",
    "    \n",
    "def state_of_string(s):\n",
    "    \n",
    "    if s[4] != 'y' or s[13] != 'b'or s[22] != 'r' or s[31] != 'g'or s[40] != 'o' or s[49] != 'w': \n",
    "        raise Exception('configuration illégale')\n",
    "    s0 = '#' + s[:4] + s[5:13] + s[14:22] + s[23:31] + s[32:40] + s[41:49] + s[50:]\n",
    "    \n",
    "    d = np.zeros(49, dtype = np.uint8)\n",
    "    for k, c in enumerate(s0):\n",
    "        if k:\n",
    "            cols = frozenset({s0[h] for h in [c for c in cubes if k in c][0]})\n",
    "            cube =  cubesOfColors[cols]\n",
    "            for h in cube:\n",
    "                if color[h] == c:\n",
    "                    d[h] = k\n",
    "    \n",
    "    stateInit = CubeGroup().faces('')\n",
    "    state = dict()\n",
    "    for key, val in stateInit.items():\n",
    "        state[key] = [list(map(lambda k: d[k], l)) for l in stateInit[key]]\n",
    "    \n",
    "    if not CubeGroup().legal(state):\n",
    "        raise Exception('configuration illégale')\n",
    "    \n",
    "    return state"
   ]
  },
  {
   "cell_type": "markdown",
   "id": "384bbe35",
   "metadata": {},
   "source": [
    "### Dessins de flèches courbes\n",
    "pour la représentation graphique d'une solution"
   ]
  },
  {
   "cell_type": "code",
   "execution_count": 3,
   "id": "1bf2b449",
   "metadata": {},
   "outputs": [],
   "source": [
    "alpha, beta = .7, .5\n",
    "u0, v0, w0 = np.array((1.,0.,0.)), np.array((0.,1.,0.)), np.array((0.,0.,1.))\n",
    "u, v, w, x, y, z = alpha * u0, alpha * v0, alpha * w0, beta * u0, beta * v0, beta * w0\n",
    "fleches = {\n",
    "    \"U\" : (z, v, u, '1'),\n",
    "    \"D\" : (-z, u, v, '1'),\n",
    "    \"R\" : (y, u, w, '1'),\n",
    "    \"L\" : (-y, w, u, '1'),\n",
    "    \"F\" : (x, w, v, '1'),\n",
    "    \"B\" : (-x, v, w, '1'), \n",
    "    \"U'\" : (z, u, v, '1'),\n",
    "    \"D'\" : (-z, v, u, '1'),\n",
    "    \"R'\" : (y, w, u, '1'),\n",
    "    \"L'\" : (-y, u, w, '1'),\n",
    "    \"F'\" : (x, v, w, '1'),\n",
    "    \"B'\" : (-x, w, v, '1'),\n",
    "    \"U2\" : (z, v, u, '2'),\n",
    "    \"D2\" : (-z, u, v, '2'),\n",
    "    \"R2\" : (y, u, w, '2'),\n",
    "    \"L2\" : (-y, w, u, '2'),\n",
    "    \"F2\" : (x, w, v, '2'),\n",
    "    \"B2\" : (-x, v, w, '2')\n",
    "}\n",
    "\n",
    "def fleche(x, v, radius, **kwargs):\n",
    "\n",
    "    from sage.plot.plot3d.shapes import Cone\n",
    "\n",
    "    x = np.array(x)\n",
    "    v = np.array(v)\n",
    "    height = (sum(v**2))**.5\n",
    "    k = height * np.array([0,0,1])\n",
    "    return Cone(radius, height, closed = False, **kwargs).rotate(k + v, pi).translate(x)\n",
    "\n",
    "\n",
    "def arc(centre = (0.,0.,0.), u = (1.,0.,0.), v = (0.,1.,0.),\n",
    "        text = None, I = (.3,pi/2. - .3), arrow = True, **kwargs):\n",
    "    \n",
    "    centre = np.array(centre)\n",
    "    u = np.array(u)\n",
    "    v = np.array(v)\n",
    "    t = var('t')\n",
    "    G = parametric_plot3d(list(centre + cos(t) * u + sin(t) * v), (t, *I), linewidth = 5, **kwargs)\n",
    "    t1,t2 = I\n",
    "    if arrow:\n",
    "        G += fleche(centre + cos(t2) * u + sin(t2) * v, .15 * (-sin(t2) * u + cos(t2) * v), .02, **kwargs)\n",
    "    if text is not None:\n",
    "        t3 = t1 - .1\n",
    "        G += text3d(text, centre + cos(t3) * u + sin(t3) * v, fontsize = 30, **kwargs)\n",
    "    return G\n",
    "\n",
    "arcs = dict()\n",
    "for x, v in fleches.items():\n",
    "    arcs[x] = arc(*v, color = 'goldenrod').plot()"
   ]
  },
  {
   "cell_type": "markdown",
   "id": "be05b13e",
   "metadata": {},
   "source": [
    "### Fonction principale\n",
    "```python\n",
    "solve_rubik3(s, algorithm='hybrid', timeout=15)\n",
    "```\n",
    "`algorithm` doit avoir une des valeurs suivantes :\n",
    "\n",
    "- 'hybrid' - essaie 'kociemba' pendant `timeout` secondes, puis 'dietz'\n",
    "\n",
    "- 'kociemba' - Utilise le programme de Dik T. Winter (vitesse raisonnable, peu de mouvements)\n",
    "\n",
    "- 'dietz' - Utilise le programme cubex de Eric Dietz (rapide mais beaucoup de mouvements)\n",
    "\n",
    "- 'optimal' - Utilise le programme optimal de Michael Reid (peut durer longtemps)\n",
    "\n",
    "Affiche une solution `sol` et le nombre $n$ de mouvements et\n",
    "renvoie le couple `(sol, G)` où  `G` est un itérateur qui fournit une représentation graphique de chacun des mouvements nécessaires à la résolution : executer `next(G)` $n$ fois.\n",
    "\n",
    "On dispose aussi de la fonction \n",
    "```python\n",
    "verification(s, sol)\n",
    "```\n",
    "qui doit renvoyer `True`"
   ]
  },
  {
   "cell_type": "code",
   "execution_count": 4,
   "id": "0d848acd",
   "metadata": {},
   "outputs": [],
   "source": [
    "def solve_rubik3(s, **kwargs):\n",
    "    \n",
    "    C = RubiksCube(colors = colors, state = state_of_string(s))\n",
    "    sol = inverse(C.solve(**kwargs))\n",
    "    solSplit = sol.split(' ')\n",
    "    print(f'{sol} ({len(solSplit)})')\n",
    "    \n",
    "    def G():\n",
    "        nonlocal C\n",
    "        for x in solSplit:\n",
    "            yield (arcs[x] + C).show(frame = False)\n",
    "            C = C.move(x)\n",
    "        yield C.plot3d().show(frame = False)\n",
    "        \n",
    "    return sol, G()\n",
    "    \n",
    "def verification(s, sol):\n",
    "    return CubeGroup().faces(inverse(sol)) == state_of_string(s)"
   ]
  },
  {
   "cell_type": "markdown",
   "id": "f2710e25",
   "metadata": {},
   "source": [
    "## Test"
   ]
  },
  {
   "cell_type": "code",
   "execution_count": 12,
   "id": "0585b666",
   "metadata": {
    "scrolled": false
   },
   "outputs": [
    {
     "name": "stdout",
     "output_type": "stream",
     "text": [
      "D R2 L' B' R' U2 R2 U F D U2 L D2 F' D2 R2 F' D2 B2 U2 R2 U2 L2 F2 (24)\n"
     ]
    },
    {
     "data": {
      "text/plain": [
       "True"
      ]
     },
     "execution_count": 12,
     "metadata": {},
     "output_type": "execute_result"
    }
   ],
   "source": [
    "s = 'gorbygorbryyobrrwwgyygrbgwwoyyrgoowwbyybogbwworbbwggor'\n",
    "sol, G = solve_rubik3(s, algorithm = 'kociemba')\n",
    "verification(s, sol)"
   ]
  },
  {
   "cell_type": "code",
   "execution_count": 39,
   "id": "0b1b6bf3",
   "metadata": {
    "scrolled": true
   },
   "outputs": [],
   "source": [
    "# executer plusieurs fois après avoir executé la cellule précédente\n",
    "next(G)"
   ]
  }
 ],
 "metadata": {
  "kernelspec": {
   "display_name": "SageMath 9.5",
   "language": "sage",
   "name": "sagemath"
  },
  "language_info": {
   "codemirror_mode": {
    "name": "ipython",
    "version": 3
   },
   "file_extension": ".py",
   "mimetype": "text/x-python",
   "name": "python",
   "nbconvert_exporter": "python",
   "pygments_lexer": "ipython3",
   "version": "3.10.12"
  }
 },
 "nbformat": 4,
 "nbformat_minor": 5
}
