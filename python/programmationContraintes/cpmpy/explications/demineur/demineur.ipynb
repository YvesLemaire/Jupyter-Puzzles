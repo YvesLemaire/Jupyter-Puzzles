{
 "cells": [
  {
   "cell_type": "code",
   "execution_count": 1,
   "id": "60a84b55",
   "metadata": {},
   "outputs": [],
   "source": [
    "# Initialisation(s)\n",
    "\n",
    "import os, sys\n",
    "IN_COLAB = 'google.colab' in sys.modules\n",
    "if IN_COLAB:\n",
    "    # Running in Google CoLab\n",
    "    from google.colab import drive\n",
    "    drive.mount('/content/gdrive/')\n",
    "    global_prefix = '/content/gdrive/MyDrive/Colab Notebooks/Jupyter-Puzzles/python/programmationContraintes/cpmpy/explications/demineur/'\n",
    "    os.chdir(global_prefix)\n",
    "else:\n",
    "    # Not running in Google CoLab\n",
    "    global_prefix = os.getcwd().replace('\\\\','/') + '/'\n",
    "\n",
    "sys.path.append(f'{global_prefix}../../../../outils')\n",
    "import displayImages\n",
    "display_images = displayImages.mpl if IN_COLAB else displayImages.cv\n",
    "\n",
    "%run ../explications.ipynb"
   ]
  },
  {
   "attachments": {},
   "cell_type": "markdown",
   "id": "6dcbaac8",
   "metadata": {},
   "source": [
    "# [Démineur](https://www.janko.at/Raetsel/Minesweeper/)\n",
    "\n",
    "Soit un tableau de $n\\times m$ cases. Chaque case contient ou non une mine et il s'agit de déterminer les emplacements de ces mines.\n",
    "Pour cela, on dispose d'un autre tableau $n\\times m$. Une case de ce tableau est vide ou contient un entier $p\\geqslant0$. Dans ce dernier cas,\n",
    "$p$  désigne le nombre de mines situées parmi les $\\leqslant8$ cases voisines, étant entendu que la case contenant $p$ elle même ne contient pas de mine.\n",
    "\n",
    "On suppose qu'il y a une unique solution (comme pour le Sudoku).\n",
    "\n",
    "## Génération des explications\n",
    "### Modélisation"
   ]
  },
  {
   "cell_type": "code",
   "execution_count": 2,
   "id": "c08b3f4a",
   "metadata": {},
   "outputs": [],
   "source": [
    "def model_minesweeper(given):\n",
    "    \"\"\"\n",
    "    retourne un triplet vars, facts, constraints\n",
    "    utilisable dans EXPLANATION\n",
    "    \"\"\"\n",
    "    # cellule indéterminée\n",
    "    x = -1\n",
    "    # Dimensions of the problem\n",
    "    nrow = len(given)\n",
    "    ncol = len(given[0])\n",
    "\n",
    "    # Model Variables\n",
    "    mines = intvar(0,1,shape = (nrow, ncol), name = \"mines\")\n",
    "    \n",
    "    # contraintes\n",
    "    facts = []\n",
    "    constraints = []\n",
    "    for i in range(nrow):\n",
    "        for j in range(ncol):\n",
    "            if given[i,j] != x:\n",
    "                facts.append(mines[i,j] == 0)\n",
    "                constraints.append(sum([mines[i+a,j+b] for a in [-1,0,1] for b in [-1,0,1] \n",
    "                                        if i+a >= 0 and j+b >= 0 and i+a < nrow and j+b < ncol]) == given[i,j])\n",
    "\n",
    "    return mines, facts, constraints"
   ]
  },
  {
   "cell_type": "markdown",
   "id": "bb129e54",
   "metadata": {},
   "source": [
    "### Exemples"
   ]
  },
  {
   "cell_type": "code",
   "execution_count": 3,
   "id": "f5054c37",
   "metadata": {},
   "outputs": [],
   "source": [
    "x = -1\n",
    "\n",
    "given_sample = np.array([\n",
    "    [ x, x, x, x, x, x],\n",
    "    [ x, 2, 2, 2, 2, x],\n",
    "    [ x, 2, 0, 0, 2, x],\n",
    "    [ x, 2, 0, 0, 2, x],\n",
    "    [ x, 2, 2, 2, 2, x],\n",
    "    [ x, x, x, x, x, x]\n",
    "    ])\n",
    "\n",
    "explanation_sample = EXPLANATION(*model_minesweeper(given_sample))\n",
    "\n",
    "given8 = np.array([\n",
    "    [0,x,x,1,x,1,x,x],\n",
    "    [x,x,x,2,3,x,1,x],\n",
    "    [x,1,x,x,x,x,x,x],\n",
    "    [x,x,1,1,x,x,2,x],\n",
    "    [1,x,x,x,x,1,x,x],\n",
    "    [x,x,3,x,1,x,x,2],\n",
    "    [x,2,x,x,x,x,x,1],\n",
    "    [0,x,1,x,x,2,x,x]\n",
    "])\n",
    "\n",
    "explanation8 = EXPLANATION(*model_minesweeper(given8))\n",
    "\n",
    "given9 = np.array([\n",
    "    [2,x,x,x,2,x,x,x,2],\n",
    "    [x,4,x,4,x,3,x,4,x],\n",
    "    [x,x,4,x,x,x,1,x,x],\n",
    "    [x,4,x,3,x,3,x,4,x],\n",
    "    [2,x,x,x,x,x,x,x,2],\n",
    "    [x,5,x,4,x,5,x,4,x],\n",
    "    [x,x,3,x,x,x,3,x,x],\n",
    "    [x,4,x,3,x,5,x,6,x],\n",
    "    [2,x,x,x,1,x,x,x,2]\n",
    "])\n",
    "\n",
    "explanation9 = EXPLANATION(*model_minesweeper(given9))\n",
    "\n",
    "given10 = np.array([\n",
    "    [x,x,x,x,x,x,x,x,x,x],\n",
    "    [x,3,2,x,3,3,3,2,2,x],\n",
    "    [x,2,x,3,x,x,x,x,2,x],\n",
    "    [x,2,x,x,1,1,x,3,x,x],\n",
    "    [x,3,x,3,x,x,1,x,3,x],\n",
    "    [x,3,x,3,x,x,1,x,3,x],\n",
    "    [x,x,2,x,1,1,x,x,3,x],\n",
    "    [x,3,x,x,x,x,2,x,2,x],\n",
    "    [x,3,2,3,3,3,x,2,2,x],\n",
    "    [x,x,x,x,x,x,x,x,x,x]\n",
    "])\n",
    "\n",
    "explanation10 = EXPLANATION(*model_minesweeper(given10))\n",
    "\n",
    "given15 = np.array([\n",
    "    [1,x,x,x,x,x,x,1,x,x,x,x,x,x,1],\n",
    "    [x,x,1,1,1,1,1,x,2,2,2,2,2,x,x],\n",
    "    [x,2,2,x,x,x,x,x,x,x,x,x,2,4,x],\n",
    "    [x,2,x,x,2,2,2,2,2,2,2,2,x,4,x],\n",
    "    [x,2,x,3,x,x,x,x,x,x,x,3,x,4,x],\n",
    "    [x,2,x,3,x,3,3,3,3,3,x,3,x,4,x],\n",
    "    [x,2,x,3,x,3,x,x,x,3,x,3,x,4,x],\n",
    "    [2,x,x,3,x,3,x,5,x,3,x,3,x,x,2],\n",
    "    [x,3,x,3,x,3,x,x,x,3,x,3,x,3,x],\n",
    "    [x,3,x,3,x,3,3,3,3,3,x,3,x,3,x],\n",
    "    [x,3,x,3,x,x,x,x,x,x,x,3,x,3,x],\n",
    "    [x,3,x,3,4,4,4,4,4,4,4,x,x,3,x],\n",
    "    [x,3,3,x,x,x,x,x,x,x,x,x,3,3,x],\n",
    "    [x,x,3,3,3,3,3,x,3,3,3,3,3,x,x],\n",
    "    [1,x,x,x,x,x,x,1,x,x,x,x,x,x,2]\n",
    "])\n",
    "\n",
    "explanation15 = EXPLANATION(*model_minesweeper(given15))"
   ]
  },
  {
   "attachments": {},
   "cell_type": "markdown",
   "id": "624b8c83",
   "metadata": {},
   "source": [
    "### Solution"
   ]
  },
  {
   "cell_type": "code",
   "execution_count": 4,
   "id": "0f159e05",
   "metadata": {},
   "outputs": [
    {
     "data": {
      "text/plain": [
       "array([[0, 0, 1, 1, 0, 0],\n",
       "       [0, 0, 0, 0, 0, 0],\n",
       "       [1, 0, 0, 0, 0, 1],\n",
       "       [1, 0, 0, 0, 0, 1],\n",
       "       [0, 0, 0, 0, 0, 0],\n",
       "       [0, 0, 1, 1, 0, 0]])"
      ]
     },
     "execution_count": 4,
     "metadata": {},
     "output_type": "execute_result"
    }
   ],
   "source": [
    "explanation_sample.solve()"
   ]
  },
  {
   "attachments": {},
   "cell_type": "markdown",
   "id": "1e9d3592",
   "metadata": {},
   "source": [
    "### Génération d'une explication"
   ]
  },
  {
   "cell_type": "code",
   "execution_count": 15,
   "id": "2dd37327",
   "metadata": {},
   "outputs": [
    {
     "name": "stdout",
     "output_type": "stream",
     "text": [
      "\n",
      "Facts (E)\n",
      "\n",
      "Constraints (S)\n",
      "   sum([mines[0,2], mines[0,3], mines[0,4], mines[1,2], mines[1,3], mines[1,4], mines[2,2], mines[2,3], mines[2,4]]) == 2\n",
      "   sum([mines[1,3], mines[1,4], mines[1,5], mines[2,3], mines[2,4], mines[2,5], mines[3,3], mines[3,4], mines[3,5]]) == 2\n",
      "   sum([mines[0,3], mines[0,4], mines[0,5], mines[1,3], mines[1,4], mines[1,5], mines[2,3], mines[2,4], mines[2,5]]) == 2\n",
      "   sum([mines[1,2], mines[1,3], mines[1,4], mines[2,2], mines[2,3], mines[2,4], mines[3,2], mines[3,3], mines[3,4]]) == 0\n",
      "\n",
      "=> Hint (N)\n",
      "   mines[0,2] == 1\n"
     ]
    }
   ],
   "source": [
    "_ = explanation_sample.explain()"
   ]
  },
  {
   "attachments": {},
   "cell_type": "markdown",
   "id": "d6406bed",
   "metadata": {},
   "source": [
    "Donc  (`g[2,4] = 2` et `g[2,3] = 0` et `g[1,4] = 2` et `g[1,3] = 2`) $\\Rightarrow$ `mines[0,2] = 1`."
   ]
  },
  {
   "cell_type": "markdown",
   "id": "031870cb",
   "metadata": {},
   "source": [
    "### Génération de la liste des explications pour la résolution complète"
   ]
  },
  {
   "cell_type": "code",
   "execution_count": 16,
   "id": "3239afd8",
   "metadata": {},
   "outputs": [
    {
     "name": "stdout",
     "output_type": "stream",
     "text": [
      "\n",
      "Facts (E)\n",
      "\n",
      "Constraints (S)\n",
      "   sum([mines[0,2], mines[0,3], mines[0,4], mines[1,2], mines[1,3], mines[1,4], mines[2,2], mines[2,3], mines[2,4]]) == 2\n",
      "   sum([mines[1,3], mines[1,4], mines[1,5], mines[2,3], mines[2,4], mines[2,5], mines[3,3], mines[3,4], mines[3,5]]) == 2\n",
      "   sum([mines[0,3], mines[0,4], mines[0,5], mines[1,3], mines[1,4], mines[1,5], mines[2,3], mines[2,4], mines[2,5]]) == 2\n",
      "   sum([mines[1,2], mines[1,3], mines[1,4], mines[2,2], mines[2,3], mines[2,4], mines[3,2], mines[3,3], mines[3,4]]) == 0\n",
      "\n",
      "=> Hint (N)\n",
      "   mines[0,2] == 1\n",
      "\n",
      "Facts (E)\n",
      "\n",
      "Constraints (S)\n",
      "   sum([mines[0,0], mines[0,1], mines[0,2], mines[1,0], mines[1,1], mines[1,2], mines[2,0], mines[2,1], mines[2,2]]) == 2\n",
      "   sum([mines[1,0], mines[1,1], mines[1,2], mines[2,0], mines[2,1], mines[2,2], mines[3,0], mines[3,1], mines[3,2]]) == 2\n",
      "   sum([mines[0,1], mines[0,2], mines[0,3], mines[1,1], mines[1,2], mines[1,3], mines[2,1], mines[2,2], mines[2,3]]) == 2\n",
      "   sum([mines[1,1], mines[1,2], mines[1,3], mines[2,1], mines[2,2], mines[2,3], mines[3,1], mines[3,2], mines[3,3]]) == 0\n",
      "\n",
      "=> Hint (N)\n",
      "   mines[3,0] == 1\n",
      "\n",
      "Facts (E)\n",
      "\n",
      "Constraints (S)\n",
      "   sum([mines[2,1], mines[2,2], mines[2,3], mines[3,1], mines[3,2], mines[3,3], mines[4,1], mines[4,2], mines[4,3]]) == 0\n",
      "   sum([mines[2,0], mines[2,1], mines[2,2], mines[3,0], mines[3,1], mines[3,2], mines[4,0], mines[4,1], mines[4,2]]) == 2\n",
      "   sum([mines[3,0], mines[3,1], mines[3,2], mines[4,0], mines[4,1], mines[4,2], mines[5,0], mines[5,1], mines[5,2]]) == 2\n",
      "   sum([mines[3,1], mines[3,2], mines[3,3], mines[4,1], mines[4,2], mines[4,3], mines[5,1], mines[5,2], mines[5,3]]) == 2\n",
      "\n",
      "=> Hint (N)\n",
      "   mines[2,0] == 1\n",
      "\n",
      "Facts (E)\n",
      "   mines[0,2] == 1\n",
      "   mines[2,0] == 1\n",
      "\n",
      "Constraints (S)\n",
      "   sum([mines[0,0], mines[0,1], mines[0,2], mines[1,0], mines[1,1], mines[1,2], mines[2,0], mines[2,1], mines[2,2]]) == 2\n",
      "\n",
      "=> Hint (N)\n",
      "   mines[0,1] == 0\n",
      "\n",
      "Facts (E)\n",
      "   mines[0,1] == 0\n",
      "\n",
      "Constraints (S)\n",
      "   sum([mines[0,1], mines[0,2], mines[0,3], mines[1,1], mines[1,2], mines[1,3], mines[2,1], mines[2,2], mines[2,3]]) == 2\n",
      "   sum([mines[1,1], mines[1,2], mines[1,3], mines[2,1], mines[2,2], mines[2,3], mines[3,1], mines[3,2], mines[3,3]]) == 0\n",
      "\n",
      "=> Hint (N)\n",
      "   mines[0,3] == 1\n",
      "\n",
      "Facts (E)\n",
      "   mines[0,2] == 1\n",
      "   mines[2,0] == 1\n",
      "\n",
      "Constraints (S)\n",
      "   sum([mines[0,0], mines[0,1], mines[0,2], mines[1,0], mines[1,1], mines[1,2], mines[2,0], mines[2,1], mines[2,2]]) == 2\n",
      "\n",
      "=> Hint (N)\n",
      "   mines[0,0] == 0\n",
      "\n",
      "Facts (E)\n",
      "   mines[3,0] == 1\n",
      "   mines[2,0] == 1\n",
      "\n",
      "Constraints (S)\n",
      "   sum([mines[2,0], mines[2,1], mines[2,2], mines[3,0], mines[3,1], mines[3,2], mines[4,0], mines[4,1], mines[4,2]]) == 2\n",
      "\n",
      "=> Hint (N)\n",
      "   mines[4,0] == 0\n",
      "\n",
      "Facts (E)\n",
      "   mines[0,3] == 1\n",
      "   mines[0,2] == 1\n",
      "\n",
      "Constraints (S)\n",
      "   sum([mines[0,2], mines[0,3], mines[0,4], mines[1,2], mines[1,3], mines[1,4], mines[2,2], mines[2,3], mines[2,4]]) == 2\n",
      "\n",
      "=> Hint (N)\n",
      "   mines[0,4] == 0\n",
      "\n",
      "Facts (E)\n",
      "   mines[3,0] == 1\n",
      "   mines[2,0] == 1\n",
      "\n",
      "Constraints (S)\n",
      "   sum([mines[1,0], mines[1,1], mines[1,2], mines[2,0], mines[2,1], mines[2,2], mines[3,0], mines[3,1], mines[3,2]]) == 2\n",
      "\n",
      "=> Hint (N)\n",
      "   mines[1,0] == 0\n",
      "\n",
      "Facts (E)\n",
      "\n",
      "Constraints (S)\n",
      "   sum([mines[2,2], mines[2,3], mines[2,4], mines[3,2], mines[3,3], mines[3,4], mines[4,2], mines[4,3], mines[4,4]]) == 0\n",
      "   sum([mines[3,2], mines[3,3], mines[3,4], mines[4,2], mines[4,3], mines[4,4], mines[5,2], mines[5,3], mines[5,4]]) == 2\n",
      "   sum([mines[2,3], mines[2,4], mines[2,5], mines[3,3], mines[3,4], mines[3,5], mines[4,3], mines[4,4], mines[4,5]]) == 2\n",
      "   sum([mines[3,3], mines[3,4], mines[3,5], mines[4,3], mines[4,4], mines[4,5], mines[5,3], mines[5,4], mines[5,5]]) == 2\n",
      "\n",
      "=> Hint (N)\n",
      "   mines[2,5] == 1\n",
      "\n",
      "Facts (E)\n",
      "   mines[0,3] == 1\n",
      "   mines[2,5] == 1\n",
      "\n",
      "Constraints (S)\n",
      "   sum([mines[0,3], mines[0,4], mines[0,5], mines[1,3], mines[1,4], mines[1,5], mines[2,3], mines[2,4], mines[2,5]]) == 2\n",
      "\n",
      "=> Hint (N)\n",
      "   mines[1,5] == 0\n",
      "\n",
      "Facts (E)\n",
      "   mines[1,5] == 0\n",
      "\n",
      "Constraints (S)\n",
      "   sum([mines[1,3], mines[1,4], mines[1,5], mines[2,3], mines[2,4], mines[2,5], mines[3,3], mines[3,4], mines[3,5]]) == 2\n",
      "   sum([mines[1,2], mines[1,3], mines[1,4], mines[2,2], mines[2,3], mines[2,4], mines[3,2], mines[3,3], mines[3,4]]) == 0\n",
      "\n",
      "=> Hint (N)\n",
      "   mines[3,5] == 1\n",
      "\n",
      "Facts (E)\n",
      "   mines[0,3] == 1\n",
      "   mines[2,5] == 1\n",
      "\n",
      "Constraints (S)\n",
      "   sum([mines[0,3], mines[0,4], mines[0,5], mines[1,3], mines[1,4], mines[1,5], mines[2,3], mines[2,4], mines[2,5]]) == 2\n",
      "\n",
      "=> Hint (N)\n",
      "   mines[0,5] == 0\n",
      "\n",
      "Facts (E)\n",
      "   mines[2,5] == 1\n",
      "   mines[3,5] == 1\n",
      "\n",
      "Constraints (S)\n",
      "   sum([mines[2,3], mines[2,4], mines[2,5], mines[3,3], mines[3,4], mines[3,5], mines[4,3], mines[4,4], mines[4,5]]) == 2\n",
      "\n",
      "=> Hint (N)\n",
      "   mines[4,5] == 0\n",
      "\n",
      "Facts (E)\n",
      "   mines[3,5] == 1\n",
      "\n",
      "Constraints (S)\n",
      "   sum([mines[2,2], mines[2,3], mines[2,4], mines[3,2], mines[3,3], mines[3,4], mines[4,2], mines[4,3], mines[4,4]]) == 0\n",
      "   sum([mines[3,2], mines[3,3], mines[3,4], mines[4,2], mines[4,3], mines[4,4], mines[5,2], mines[5,3], mines[5,4]]) == 2\n",
      "   sum([mines[3,3], mines[3,4], mines[3,5], mines[4,3], mines[4,4], mines[4,5], mines[5,3], mines[5,4], mines[5,5]]) == 2\n",
      "\n",
      "=> Hint (N)\n",
      "   mines[5,2] == 1\n",
      "\n",
      "Facts (E)\n",
      "   mines[3,0] == 1\n",
      "   mines[5,2] == 1\n",
      "\n",
      "Constraints (S)\n",
      "   sum([mines[3,0], mines[3,1], mines[3,2], mines[4,0], mines[4,1], mines[4,2], mines[5,0], mines[5,1], mines[5,2]]) == 2\n",
      "\n",
      "=> Hint (N)\n",
      "   mines[5,1] == 0\n",
      "\n",
      "Facts (E)\n",
      "   mines[5,1] == 0\n",
      "\n",
      "Constraints (S)\n",
      "   sum([mines[2,1], mines[2,2], mines[2,3], mines[3,1], mines[3,2], mines[3,3], mines[4,1], mines[4,2], mines[4,3]]) == 0\n",
      "   sum([mines[3,1], mines[3,2], mines[3,3], mines[4,1], mines[4,2], mines[4,3], mines[5,1], mines[5,2], mines[5,3]]) == 2\n",
      "\n",
      "=> Hint (N)\n",
      "   mines[5,3] == 1\n",
      "\n",
      "Facts (E)\n",
      "   mines[3,5] == 1\n",
      "   mines[5,3] == 1\n",
      "\n",
      "Constraints (S)\n",
      "   sum([mines[3,3], mines[3,4], mines[3,5], mines[4,3], mines[4,4], mines[4,5], mines[5,3], mines[5,4], mines[5,5]]) == 2\n",
      "\n",
      "=> Hint (N)\n",
      "   mines[5,5] == 0\n",
      "\n",
      "Facts (E)\n",
      "   mines[5,2] == 1\n",
      "   mines[5,3] == 1\n",
      "\n",
      "Constraints (S)\n",
      "   sum([mines[3,2], mines[3,3], mines[3,4], mines[4,2], mines[4,3], mines[4,4], mines[5,2], mines[5,3], mines[5,4]]) == 2\n",
      "\n",
      "=> Hint (N)\n",
      "   mines[5,4] == 0\n",
      "\n",
      "Facts (E)\n",
      "   mines[3,0] == 1\n",
      "   mines[5,2] == 1\n",
      "\n",
      "Constraints (S)\n",
      "   sum([mines[3,0], mines[3,1], mines[3,2], mines[4,0], mines[4,1], mines[4,2], mines[5,0], mines[5,1], mines[5,2]]) == 2\n",
      "\n",
      "=> Hint (N)\n",
      "   mines[5,0] == 0\n"
     ]
    }
   ],
   "source": [
    "_ = explanation_sample.explainFull() # 1 mn"
   ]
  },
  {
   "attachments": {},
   "cell_type": "markdown",
   "id": "01129e3e",
   "metadata": {},
   "source": [
    "## Affichage des explications\n",
    "### Affichage d'une grille et affichage d'une grille avec explication "
   ]
  },
  {
   "cell_type": "code",
   "execution_count": 5,
   "id": "694af95c",
   "metadata": {},
   "outputs": [],
   "source": [
    "%matplotlib inline\n",
    "\n",
    "import matplotlib\n",
    "import matplotlib.pyplot as plt\n",
    " \n",
    "x = -1 # inconnu\n",
    "V = -2 # pas de mine\n",
    "M = -3 # une mine\n",
    "def plot_minesweeper(grid, file = '', hint = None):\n",
    "\n",
    "    nrow = len(grid)\n",
    "    ncol = len(grid[0])\n",
    "\n",
    "    matplotlib.rcParams['toolbar'] = 'None'\n",
    "    fig = plt.figure(facecolor='w', figsize = (ncol,nrow))\n",
    "    ax = fig.add_subplot(111)\n",
    "    ax.axis('off')\n",
    "    ax.axis('equal')\n",
    "    \n",
    "    for j in range(0, ncol + 1):\n",
    "        ax.plot([j,j],[0,nrow], linewidth = 1, color = 'k')\n",
    "    for i in range(0, nrow + 1):        \n",
    "        ax.plot([0,ncol],[i,i], linewidth = 1, color = 'k')\n",
    "        \n",
    "    def plot_value(i, j, v):\n",
    "        ax.text(j + .5, nrow - i - .5, str(v), size = 18, ha = 'center',\n",
    "                va = 'center', color = 'k')\n",
    "        \n",
    "    def plot_mine(i,j,v,color = 'k'):\n",
    "        r = .05 if v == V else .25\n",
    "        ax.add_patch(plt.Circle((j + .5, nrow - i - .5), r, fill = True, ec = color, fc = color))\n",
    "\n",
    "    for i in range(nrow):\n",
    "        for j in range(ncol):\n",
    "            v = grid[i,j]\n",
    "            if v >= 0:\n",
    "                plot_value(i, j, v)\n",
    "            elif v != x:\n",
    "                plot_mine(i, j, v)\n",
    "                \n",
    "    def  plot_circle(i, j):\n",
    "        ax.add_patch(plt.Circle((j + .5, nrow - i - .5), .35, fill = False, ec = 'blue'))\n",
    "                \n",
    "    def plot_rectangle(i, j): \n",
    "        ax.add_patch(plt.Rectangle((j + .1, nrow - i - .9), .8, .8, fill = False, ec = 'green'))\n",
    "        \n",
    "    if hint:\n",
    "        \n",
    "        E,S,N = hint\n",
    "        \n",
    "        for (i,j), _ in extractFacts(E):\n",
    "            plot_circle(i,j)\n",
    "        \n",
    "        for c in S:\n",
    "            cells = extractConstraint(c.args[0])\n",
    "            imin = min([cell[0] for cell in cells])\n",
    "            imax = max([cell[0] for cell in cells])\n",
    "            jmin = min([cell[1] for cell in cells])\n",
    "            jmax = max([cell[1] for cell in cells])\n",
    "            i = imin + 1 if imax - imin == 2 else 0 if imin == 0 else nrow - 1\n",
    "            j = jmin + 1 if jmax - jmin == 2 else 0 if jmin == 0 else ncol - 1\n",
    "            plot_rectangle(i,j)\n",
    "                \n",
    "        (i,j),v = extractHint(N)\n",
    "        v_ = V if v == 0 else M\n",
    "        plot_mine(i,j,v_, color = 'red')\n",
    "                    \n",
    "    ax.plot()\n",
    "    if file:\n",
    "        plt.savefig(file)\n",
    "        plt.close() # évite l'affichage"
   ]
  },
  {
   "cell_type": "code",
   "execution_count": 19,
   "id": "d56694a2",
   "metadata": {},
   "outputs": [
    {
     "data": {
      "image/png": "[encoded data removed]",
      "text/plain": [
       "<Figure size 432x432 with 1 Axes>"
      ]
     },
     "metadata": {},
     "output_type": "display_data"
    }
   ],
   "source": [
    "plot_minesweeper(given_sample, hint = explanation_sample.explain(verbose = False)) "
   ]
  },
  {
   "cell_type": "markdown",
   "id": "36010d9e",
   "metadata": {},
   "source": [
    "### Enregistrement sur disque des images des explications"
   ]
  },
  {
   "cell_type": "code",
   "execution_count": 8,
   "id": "934493fe",
   "metadata": {},
   "outputs": [],
   "source": [
    "def write_explanations(given, explanation, name):\n",
    "\n",
    "    from copy import deepcopy\n",
    "\n",
    "    ESNlist = explanation.explainFull(verbose = False)\n",
    "\n",
    "    g = deepcopy(given)\n",
    "    prefix = f'{global_prefix}images/{name}-'\n",
    "\n",
    "    for c, hint in enumerate(ESNlist):\n",
    "        \n",
    "        (i, j), v = extractHint(hint[2])\n",
    "        plot_minesweeper(g, file = f'{prefix}{c}', hint = hint)\n",
    "        g[i,j] = V if v == 0 else M\n",
    "        \n",
    "    plot_minesweeper(g, file = f'{prefix}{len(ESNlist)}')\n",
    "    \n",
    "def nbInconnues(grid):\n",
    "    return sum(len([v for v in l if v == x]) for l in grid)"
   ]
  },
  {
   "cell_type": "markdown",
   "id": "7b5e2f3b",
   "metadata": {},
   "source": [
    "Test"
   ]
  },
  {
   "cell_type": "code",
   "execution_count": 23,
   "id": "fa4d17c8",
   "metadata": {},
   "outputs": [],
   "source": [
    "write_explanations(given_sample, explanation_sample, 'given_sample')"
   ]
  },
  {
   "cell_type": "markdown",
   "id": "9f75afbe",
   "metadata": {},
   "source": [
    "### Affichage des explications"
   ]
  },
  {
   "cell_type": "code",
   "execution_count": 9,
   "id": "7613cc3f",
   "metadata": {},
   "outputs": [],
   "source": [
    "def read_explanations(given, name, **kwargs):\n",
    "    return display_images(f'{global_prefix}images/{name}-', nbInconnues(given), **kwargs)"
   ]
  },
  {
   "cell_type": "markdown",
   "id": "a494af4c",
   "metadata": {},
   "source": [
    "Test"
   ]
  },
  {
   "cell_type": "code",
   "execution_count": 19,
   "id": "810b544a",
   "metadata": {},
   "outputs": [],
   "source": [
    "read_explanations(given_sample, 'given_sample', dpi = 120)"
   ]
  },
  {
   "attachments": {},
   "cell_type": "markdown",
   "id": "467152c3",
   "metadata": {},
   "source": [
    "#### Exemple 1"
   ]
  },
  {
   "cell_type": "code",
   "execution_count": null,
   "id": "23019b87",
   "metadata": {},
   "outputs": [],
   "source": [
    "write_explanations(given8, explanation8, 'given8') # 5 mns"
   ]
  },
  {
   "cell_type": "code",
   "execution_count": 18,
   "id": "11b5f331",
   "metadata": {},
   "outputs": [],
   "source": [
    "read_explanations(given8, 'given8', dpi = 140)"
   ]
  },
  {
   "cell_type": "markdown",
   "id": "b6c69b2f",
   "metadata": {},
   "source": [
    "#### Exemple 2"
   ]
  },
  {
   "cell_type": "code",
   "execution_count": 15,
   "id": "12682218",
   "metadata": {},
   "outputs": [],
   "source": [
    "write_explanations(given9, explanation9, 'given9') # 12 mns"
   ]
  },
  {
   "cell_type": "code",
   "execution_count": 12,
   "id": "17aa0624",
   "metadata": {},
   "outputs": [],
   "source": [
    "read_explanations(given9, 'given9', dpi = 160)"
   ]
  },
  {
   "cell_type": "markdown",
   "id": "0f08580e",
   "metadata": {},
   "source": [
    "#### Exemple 3"
   ]
  },
  {
   "cell_type": "code",
   "execution_count": 14,
   "id": "8d4d016a",
   "metadata": {},
   "outputs": [],
   "source": [
    "write_explanations(given10, explanation10, 'given10') # 15 mns"
   ]
  },
  {
   "cell_type": "code",
   "execution_count": 13,
   "id": "c0e72130",
   "metadata": {},
   "outputs": [],
   "source": [
    "read_explanations(given10, 'given10', dpi = 160)"
   ]
  },
  {
   "cell_type": "markdown",
   "id": "b6332614",
   "metadata": {},
   "source": [
    "#### Exemple 4"
   ]
  },
  {
   "cell_type": "code",
   "execution_count": null,
   "metadata": {},
   "outputs": [
    {
     "data": {
      "image/png": "[encoded data removed]",
      "text/plain": [
       "<Figure size 1080x1080 with 1 Axes>"
      ]
     },
     "metadata": {},
     "output_type": "display_data"
    }
   ],
   "source": [
    "plot_minesweeper(given15, hint = explanation15.explain(verbose = False))  # 23 mns"
   ]
  }
 ],
 "metadata": {
  "kernelspec": {
   "display_name": "Python 3 (ipykernel)",
   "language": "python",
   "name": "python3"
  },
  "language_info": {
   "codemirror_mode": {
    "name": "ipython",
    "version": 3
   },
   "file_extension": ".py",
   "mimetype": "text/x-python",
   "name": "python",
   "nbconvert_exporter": "python",
   "pygments_lexer": "ipython3",
   "version": "3.10.5"
  },
  "vscode": {
   "interpreter": {
    "hash": "369f2c481f4da34e4445cda3fffd2e751bd1c4d706f27375911949ba6bb62e1c"
   }
  }
 },
 "nbformat": 4,
 "nbformat_minor": 5
}
