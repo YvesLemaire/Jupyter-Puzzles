{
 "cells": [
  {
   "cell_type": "code",
   "execution_count": 4,
   "metadata": {},
   "outputs": [],
   "source": [
    "%run ../algorithmeX.ipynb"
   ]
  },
  {
   "cell_type": "markdown",
   "metadata": {},
   "source": [
    "## Polyominos"
   ]
  },
  {
   "cell_type": "code",
   "execution_count": 5,
   "metadata": {},
   "outputs": [],
   "source": [
    "import matplotlib\n",
    "import matplotlib.pyplot as plt\n",
    "matplotlib.rcParams['toolbar'] = 'None'"
   ]
  },
  {
   "cell_type": "code",
   "execution_count": 50,
   "metadata": {},
   "outputs": [],
   "source": [
    "class PIECE:\n",
    "\n",
    "    # une piece est un ensemble (frozenset) de couples\n",
    "    def __init__(self,nom,piece,couleur = None):\n",
    "        self.nom = nom\n",
    "        self.piece = PIECE.normalise(piece)\n",
    "        self.largeur = max(x for x,_ in self.piece) + 1\n",
    "        self.hauteur = max(y for _,y in self.piece) + 1\n",
    "        self.couleur = couleur\n",
    "      \n",
    "\n",
    "    def __hash__(self):\n",
    "        return hash(self.piece)\n",
    "\n",
    "    def __eq__(self,q):\n",
    "        return self.piece == q.piece\n",
    "\n",
    "    def __str__(self):\n",
    "        return str((self.nom,self.piece))\n",
    "\n",
    "    def normalise(piece):\n",
    "        min_x = min(x for x,_ in piece)\n",
    "        min_y = min(y for _,y in piece)\n",
    "        return frozenset((x - min_x, y - min_y) for x, y in piece)\n",
    "\n",
    "    def transposee(self):\n",
    "        return PIECE(self.nom, frozenset((x, -y) for x, y in self.piece))\n",
    "\n",
    "    def rotation(self):\n",
    "        return PIECE(self.nom, frozenset((-y, x) for x, y in self.piece))\n",
    "\n",
    "    def isometriquesPlus(self):\n",
    "        l = [self]\n",
    "        for _ in range(3):\n",
    "            p = l[-1].rotation()\n",
    "            l.append(p)\n",
    "        return list(set(l))\n",
    "    \n",
    "    def isometriques(self):\n",
    "        l1 = self.isometriquesPlus()\n",
    "        l2 = self.transposee().isometriquesPlus()\n",
    "        return(list(set(l1 + l2)))\n",
    "    \n",
    "    def carre():\n",
    "         r = .5\n",
    "         return ((r, -r, -r, r), (r, r, -r, -r))\n",
    "    \n",
    "    def plotCarre(ax,i,j,**kwargs):\n",
    "        X, Y = PIECE.carre()\n",
    "        ax.fill(list(map(lambda u: i + u, X)), list(map(lambda v: j + v, Y)), **kwargs)\n",
    "\n",
    "    def polygoneOfCouples(e):\n",
    "        \"\"\"e est un ensemble de couples d'entiers (i,j)\n",
    "        representant une piece non nécessairement normalisée.\n",
    "        Renvoie une liste de deux tuples pour le dessin de la piece.\n",
    "        \"\"\"\n",
    "        X, Y = PIECE.carre()\n",
    "        segments = set()\n",
    "        for i, j in e:\n",
    "            if (i + 1, j) not in e: segments.add(((i + X[3], i + X[0]),(j + Y[3],j + Y[0])))\n",
    "            if (i, j + 1) not in e: segments.add(((i + X[0], i + X[1]),(j + Y[0],j + Y[1])))\n",
    "            if (i - 1, j) not in e: segments.add(((i + X[1], i + X[2]),(j + Y[1],j + Y[2])))\n",
    "            if (i, j - 1) not in e: segments.add(((i + X[2], i + X[3]),(j + Y[2],j + Y[3])))    \n",
    "        return segments\n",
    "    \n",
    "    def plotPolyomino(ax, e, couleur):\n",
    "        for s in PIECE.polygoneOfCouples(e):\n",
    "            ax.plot(*s, linewidth = 1, color = 'black')\n",
    "        for i, j in e:\n",
    "            PIECE.plotCarre(ax, i, j,  facecolor = couleur, edgecolor='black', linewidth=0.)\n",
    "        \n",
    "    def plot(self):\n",
    "        fig = plt.figure(facecolor='w', \n",
    "                         figsize = (self.largeur / 4.+.01, self.hauteur / 4.))\n",
    "        ax = fig.add_subplot(111)\n",
    "        ax.axis('off')\n",
    "        ax.axis('equal')\n",
    "        ax.set_title(self.nom)\n",
    "        c = 'white' if self.couleur is None else self.couleur\n",
    "        PIECE.plotPolyomino(ax, self.piece, c)"
   ]
  },
  {
   "cell_type": "code",
   "execution_count": 51,
   "metadata": {},
   "outputs": [],
   "source": [
    "#------------------------------- pentominos ----------------------------\n",
    "\n",
    "F = PIECE('F', frozenset([(0,0), (0,1), (-1,1), (0,2), (1,2)]), couleur = 'skyblue')\n",
    "I = PIECE('I', frozenset([(0,0), (0,1), (0,2), (0,3), (0,4)]), couleur = 'orange')\n",
    "L = PIECE('L', frozenset([(0,0), (1,0), (0,1), (0,2), (0,3)]), couleur = 'aliceblue')\n",
    "N = PIECE('N', frozenset([(0,0), (0,1), (1,1), (1,2), (1,3)]), couleur = 'plum')\n",
    "P = PIECE('P', frozenset([(0,0), (0,1), (1,1), (0,2), (1,2)]), couleur = 'darkturquoise')\n",
    "T = PIECE('T', frozenset([(0,0), (0,1), (0,2), (-1,2), (1,2)]), couleur = 'aquamarine')\n",
    "U = PIECE('U', frozenset([(0,0), (1,0), (2,0), (0,1), (2,1)]), couleur = 'lightpink')\n",
    "V = PIECE('V', frozenset([(0,0), (1,0), (2,0), (2,1), (2,2)]), couleur = 'paleturquoise')\n",
    "W = PIECE('W', frozenset([(0,0), (1,0), (1,1), (2,1), (2,2)]), couleur = 'beige')\n",
    "X = PIECE('X', frozenset([(1,0), (1,1), (0,1), (2,1), (1,2)]), couleur = 'cadetblue')\n",
    "Y = PIECE('Y', frozenset([(1,0), (1,1), (1,2), (0,2), (1,3)]), couleur = 'cornflowerblue')\n",
    "Z = PIECE('Z', frozenset([(1,0), (2,0), (1,1), (1,2), (0,2)]), couleur = 'cornsilk')"
   ]
  },
  {
   "cell_type": "code",
   "execution_count": 52,
   "metadata": {},
   "outputs": [
    {
     "data": {
      "image/png": "[encoded data removed]",
      "text/plain": [
       "<Figure size 54.72x54 with 1 Axes>"
      ]
     },
     "metadata": {},
     "output_type": "display_data"
    },
    {
     "data": {
      "image/png": "[encoded data removed]",
      "text/plain": [
       "<Figure size 18.72x90 with 1 Axes>"
      ]
     },
     "metadata": {},
     "output_type": "display_data"
    },
    {
     "data": {
      "image/png": "[encoded data removed]",
      "text/plain": [
       "<Figure size 36.72x72 with 1 Axes>"
      ]
     },
     "metadata": {},
     "output_type": "display_data"
    },
    {
     "data": {
      "image/png": "[encoded data removed]",
      "text/plain": [
       "<Figure size 36.72x72 with 1 Axes>"
      ]
     },
     "metadata": {},
     "output_type": "display_data"
    },
    {
     "data": {
      "image/png": "[encoded data removed]",
      "text/plain": [
       "<Figure size 36.72x54 with 1 Axes>"
      ]
     },
     "metadata": {},
     "output_type": "display_data"
    },
    {
     "data": {
      "image/png": "[encoded data removed]",
      "text/plain": [
       "<Figure size 54.72x54 with 1 Axes>"
      ]
     },
     "metadata": {},
     "output_type": "display_data"
    },
    {
     "data": {
      "image/png": "[encoded data removed]",
      "text/plain": [
       "<Figure size 54.72x36 with 1 Axes>"
      ]
     },
     "metadata": {},
     "output_type": "display_data"
    },
    {
     "data": {
      "image/png": "[encoded data removed]",
      "text/plain": [
       "<Figure size 54.72x54 with 1 Axes>"
      ]
     },
     "metadata": {},
     "output_type": "display_data"
    },
    {
     "data": {
      "image/png": "[encoded data removed]",
      "text/plain": [
       "<Figure size 54.72x54 with 1 Axes>"
      ]
     },
     "metadata": {},
     "output_type": "display_data"
    },
    {
     "data": {
      "image/png": "[encoded data removed]",
      "text/plain": [
       "<Figure size 54.72x54 with 1 Axes>"
      ]
     },
     "metadata": {},
     "output_type": "display_data"
    },
    {
     "data": {
      "image/png": "[encoded data removed]",
      "text/plain": [
       "<Figure size 36.72x72 with 1 Axes>"
      ]
     },
     "metadata": {},
     "output_type": "display_data"
    },
    {
     "data": {
      "image/png": "[encoded data removed]",
      "text/plain": [
       "<Figure size 54.72x54 with 1 Axes>"
      ]
     },
     "metadata": {},
     "output_type": "display_data"
    }
   ],
   "source": [
    "for p in [F,I,L,N,P,T,U,V,W,X,Y,Z]: p.plot()"
   ]
  },
  {
   "cell_type": "code",
   "execution_count": 63,
   "metadata": {},
   "outputs": [
    {
     "ename": "SyntaxError",
     "evalue": "unmatched ')' (1721018888.py, line 65)",
     "output_type": "error",
     "traceback": [
      "\u001b[0;36m  File \u001b[0;32m\"/tmp/ipykernel_198511/1721018888.py\"\u001b[0;36m, line \u001b[0;32m65\u001b[0m\n\u001b[0;31m    return RealNumber('.6') + RealNumber('.4') * random())\u001b[0m\n\u001b[0m                                                         ^\u001b[0m\n\u001b[0;31mSyntaxError\u001b[0m\u001b[0;31m:\u001b[0m unmatched ')'\n"
     ]
    }
   ],
   "source": [
    "\n",
    "class PUZZLE:\n",
    "\n",
    "    def __init__(self,pieces,\n",
    "                      min_i,max_i,min_j,max_j,\n",
    "                      conditions = None,\n",
    "                      strict = True):\n",
    "        \"\"\"pieces : liste de PIECE\n",
    "        min_i,max_i,min_j,max_j : definition du plateau\n",
    "        conditions : couple d'entiers -> booleen restreignant le plateau\n",
    "    \n",
    "        1er cas  : strict = True\n",
    "            Pour chacun des noms des pieces, il faut placer \n",
    "            une et une seule piece portant ce nom.\n",
    "            Les elements de E sont les noms des pieces\n",
    "            et les cases (couples d'entiers) du plateau.\n",
    "            Chaque element de F contient un et un seul nom\n",
    "            et les cases du plateau utilisees par une piece de ce nom..\n",
    "        \n",
    "        2eme cas : strict = False\n",
    "            Pour chaque piece de pieces, on dispose,\n",
    "            pour resoudre le puzzle, d'autant d'exemplaires\n",
    "            que l'on veut de la piece.\n",
    "            Les elements de E sont les cases du plateau.\n",
    "        \"\"\"\n",
    "        self.min_i = min_i\n",
    "        self.max_i = max_i\n",
    "        self.min_j = min_j\n",
    "        self.max_j = max_j\n",
    "        self.strict = strict\n",
    "        self.pieces = pieces\n",
    "        if not conditions:\n",
    "            conditions = lambda i,j: True\n",
    "        lignes = dict()\n",
    "        nbLignes = 0\n",
    "        for p in pieces:\n",
    "            for u in range(min_i, max_i - p.largeur + 2):\n",
    "                for v in range(min_j, max_j - p.hauteur + 2):\n",
    "                    ligne = [p.nom] if self.strict else []\n",
    "                    match = True\n",
    "                    for i,j in p.piece:\n",
    "                        ic, jc = i + u, j + v\n",
    "                        if conditions(ic,jc):\n",
    "                            ligne.append((ic,jc))\n",
    "                        else:\n",
    "                            match = False\n",
    "                            break\n",
    "                    if match:\n",
    "                        lignes[nbLignes] = ligne\n",
    "                        nbLignes += 1\n",
    "        self.lignes = lignes\n",
    "        \n",
    "    def solve(self):\n",
    "        \n",
    "        F = self.lignes\n",
    "        return AlgorithmeX(F).solve()\n",
    "\n",
    "    def printSolution(self,sol):     \n",
    "        for l in sol: print(self.lignes[l])\n",
    "\n",
    "    def plotSolution(self,sol):\n",
    "                \n",
    "        if not self.strict: \n",
    "            from random import random\n",
    "            def r():\n",
    "                return .6 + .4 * random())\n",
    "        fig = plt.figure(facecolor='w')\n",
    "        ax = fig.add_subplot(111)\n",
    "        ax.axis('off')\n",
    "        ax.axis('equal')\n",
    "        for l in sol:\n",
    "            e = set()\n",
    "            for c in self.lignes[l]:\n",
    "                if type(c) == tuple:\n",
    "                    e.add(c)\n",
    "                else:\n",
    "                    couleur = eval(c).couleur \n",
    "            if not self.strict: couleur = (r(),r(),r())\n",
    "            PIECE.plotPolyomino(ax, e, couleur)"
   ]
  },
  {
   "cell_type": "markdown",
   "metadata": {},
   "source": [
    "### Exemple 1"
   ]
  },
  {
   "cell_type": "code",
   "execution_count": 64,
   "metadata": {},
   "outputs": [
    {
     "name": "stdout",
     "output_type": "stream",
     "text": [
      "['F', (1, 3), (2, 4), (2, 3), (3, 4), (2, 2)]\n",
      "['P', (2, 7), (2, 6), (3, 7), (4, 6), (3, 6)]\n",
      "['Y', (6, 3), (7, 4), (7, 3), (7, 2), (7, 5)]\n",
      "['I', (8, 2), (8, 5), (8, 1), (8, 4), (8, 3)]\n",
      "['Z', (4, 3), (4, 2), (5, 1), (3, 3), (4, 1)]\n",
      "['T', (1, 5), (3, 5), (1, 4), (2, 5), (1, 6)]\n",
      "['N', (6, 5), (7, 6), (6, 4), (6, 6), (7, 7)]\n",
      "['L', (1, 8), (3, 8), (1, 7), (4, 8), (2, 8)]\n",
      "['U', (1, 2), (3, 2), (1, 1), (3, 1), (2, 1)]\n",
      "['V', (7, 8), (8, 7), (8, 6), (6, 8), (8, 8)]\n",
      "['X', (4, 7), (5, 8), (6, 7), (5, 7), (5, 6)]\n",
      "['W', (5, 2), (6, 2), (7, 1), (5, 3), (6, 1)]\n"
     ]
    },
    {
     "data": {
      "image/png": "[encoded data removed]",
      "text/plain": [
       "<Figure size 432x288 with 1 Axes>"
      ]
     },
     "metadata": {},
     "output_type": "display_data"
    }
   ],
   "source": [
    "# 65 solutions\n",
    "\n",
    "pentominos = [F]\n",
    "for p in [I,L,N,P,T,U,V,W,X,Y,Z]: pentominos += p.isometriques()\n",
    "\n",
    "puzzle = PUZZLE(pentominos,1,8,1,8,\n",
    "                conditions = (lambda i,j: not (4 <= i <= 5 and 4 <= j <= 5)))\n",
    "    \n",
    "s = puzzle.solve()\n",
    "        \n",
    "sol = next(s)\n",
    "puzzle.plotSolution(sol)\n",
    "puzzle.printSolution(sol)\n"
   ]
  },
  {
   "cell_type": "markdown",
   "metadata": {},
   "source": [
    "### Exemple 2"
   ]
  },
  {
   "cell_type": "code",
   "execution_count": 65,
   "metadata": {},
   "outputs": [
    {
     "data": {
      "image/png": "[encoded data removed]",
      "text/plain": [
       "<Figure size 432x288 with 1 Axes>"
      ]
     },
     "metadata": {},
     "output_type": "display_data"
    }
   ],
   "source": [
    "# 1010 solutions\n",
    "\n",
    "#from puzzle import * # commenter si notebook\n",
    "\n",
    "pentominos = [F,F.rotation()]\n",
    "for p in [I,L,N,P,T,U,V,W,X,Y,Z]: pentominos += p.isometriques()\n",
    "\n",
    "puzzle = PUZZLE(pentominos,1,12,1,5)\n",
    "    \n",
    "s = puzzle.solve()\n",
    "        \n",
    "sol = next(s)\n",
    "puzzle.plotSolution(sol)\n",
    "#puzzle.printSolution(sol)\n"
   ]
  },
  {
   "cell_type": "markdown",
   "metadata": {},
   "source": [
    "### Exemple 3"
   ]
  },
  {
   "cell_type": "code",
   "execution_count": 66,
   "metadata": {},
   "outputs": [],
   "source": [
    "def unePiece(piece):\n",
    "    puzzle = PUZZLE(piece.isometriques(),1,15,1,15,strict = False)    \n",
    "    s = puzzle.solve()\n",
    "    sol = next(s)\n",
    "    puzzle.plotSolution(sol)"
   ]
  },
  {
   "cell_type": "code",
   "execution_count": 67,
   "metadata": {},
   "outputs": [
    {
     "data": {
      "image/png": "[encoded data removed]",
      "text/plain": [
       "<Figure size 432x288 with 1 Axes>"
      ]
     },
     "metadata": {},
     "output_type": "display_data"
    }
   ],
   "source": [
    "# 8 x 212 = 1696 solutions\n",
    "unePiece(Y)"
   ]
  }
 ],
 "metadata": {
  "kernelspec": {
   "display_name": "SageMath 9.5",
   "language": "sage",
   "name": "sagemath"
  },
  "language_info": {
   "codemirror_mode": {
    "name": "ipython",
    "version": 3
   },
   "file_extension": ".py",
   "mimetype": "text/x-python",
   "name": "python",
   "nbconvert_exporter": "python",
   "pygments_lexer": "ipython3",
   "version": "3.10.12"
  }
 },
 "nbformat": 4,
 "nbformat_minor": 4
}
