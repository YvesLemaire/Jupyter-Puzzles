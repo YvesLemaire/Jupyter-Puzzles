{
 "cells": [
  {
   "attachments": {},
   "cell_type": "markdown",
   "metadata": {},
   "source": [
    "# Problèmes logiques"
   ]
  },
  {
   "attachments": {},
   "cell_type": "markdown",
   "metadata": {},
   "source": [
    "## 1. Le problème de Freudenthal\n",
    "    \n",
    "$x_0$ et $y_0$ sont deux nombres entiers vérifiant les conditions\n",
    "$1<x_0<y_0$ et $x_0+y_0\\leqslant100$.\n",
    "\n",
    "On communique à un logicien Paul le produit $p_0=x_0\\times y_0$ de ces deux nombres\n",
    "et à une logicienne Sophie leur somme $s_0=x_0+y_0$.  \n",
    "Paul et Sophie ont la conversation suivante.\n",
    "\n",
    "1. Paul : Je ne connais pas les deux nombres.\n",
    "2. Sophie : Je le savais.\n",
    "3. Paul : Maintenant je connais les deux nombres.\n",
    "4. Sophie : Alors, moi aussi je les connais.\n",
    "\n",
    "Question : déterminer $x_0$ et $y_0$."
   ]
  },
  {
   "attachments": {},
   "cell_type": "markdown",
   "metadata": {},
   "source": [
    "### Corrigé"
   ]
  },
  {
   "attachments": {},
   "cell_type": "markdown",
   "metadata": {},
   "source": [
    "`preimages`$(E,f)$ renvoie les images réciproques des singletons sous la forme du dictionnaire $\\{y : f^{-1}(y),y\\in f(E)\\}$"
   ]
  },
  {
   "cell_type": "code",
   "execution_count": 1,
   "metadata": {},
   "outputs": [],
   "source": [
    "def preimages(E,f):\n",
    "    d = dict()\n",
    "    for x in E:\n",
    "        if f(x) in d: d[f(x)].add(x)\n",
    "        else: d[f(x)] = {x}\n",
    "    return d"
   ]
  },
  {
   "attachments": {},
   "cell_type": "markdown",
   "metadata": {},
   "source": [
    "`partitionU`$(E,f)$, inspirée de  [enigma.py](http://www.magwag.plus.com/jim/enigma.py), renvoie le couple $(U, E\\setminus U)$ où $U=\\{x\\in E : f^{-1}(f(x)) = \\{x\\}\\}$"
   ]
  },
  {
   "cell_type": "code",
   "execution_count": 2,
   "metadata": {},
   "outputs": [],
   "source": [
    "def partitionU(E,f):\n",
    "    d = preimages(E,f)\n",
    "    U = {x for x in E if len(d[f(x)]) == 1}\n",
    "    return U, E - U"
   ]
  },
  {
   "attachments": {},
   "cell_type": "markdown",
   "metadata": {},
   "source": [
    "Solution :"
   ]
  },
  {
   "cell_type": "code",
   "execution_count": 3,
   "metadata": {},
   "outputs": [
    {
     "name": "stdout",
     "output_type": "stream",
     "text": [
      "x0 = 4, y0 = 13\n"
     ]
    }
   ],
   "source": [
    "nmin = 2\n",
    "smax = 100\n",
    "unique, non_unique = 0, 1\n",
    "\n",
    "def mul(c):\n",
    "    return c[0] * c[1]\n",
    "\n",
    "#  Donnés deux nombres >= nmin dont la somme est <= smax\n",
    "E = {(x,y) for x in range(nmin,(smax - 1) // 2 + 1)\n",
    "           for y in range(x + 1, smax - x + 1)}\n",
    "\n",
    "# Paul ne peut pas déduire les 2 nombres de leur produit\n",
    "Ep = partitionU(E, mul)[non_unique]\n",
    " \n",
    "# Sophie, qui connait la somme, le savait\n",
    "inverseSum = preimages(E,sum)\n",
    "E = {c for c in E if inverseSum[sum(c)] <= Ep}\n",
    "\n",
    "# Alors Paul connait les 2 nombres\n",
    "E = partitionU(E, mul)[unique] \n",
    "\n",
    "# Et donc Sophie aussi\n",
    "E = partitionU(E, sum)[unique]\n",
    "\n",
    "# solution\n",
    "for c in E: print(f\"x0 = {c[0]}, y0 = {c[1]}\")"
   ]
  },
  {
   "attachments": {},
   "cell_type": "markdown",
   "metadata": {},
   "source": [
    "### Note\n",
    "\n",
    "Si on remplace `smax = 100` par `smax =` $m$ avec $65\\leqslant m\\leqslant 1684$, on obtient encore la même solution `x0 = 4, y0 = 13`   \n",
    "\n",
    "Pour $m=5000$, par exemple, on trouve\n",
    "\n",
    "`x0 = 4, y0 = 13`  \n",
    "`x0 = 4, y0 = 61`  \n",
    "`x0 = 16, y0 = 73`  \n",
    "`x0 = 16, y0 = 111`  \n",
    "`x0 = 67, y0 = 82`  "
   ]
  },
  {
   "attachments": {},
   "cell_type": "markdown",
   "metadata": {},
   "source": [
    "## 2. Le problème de Axel Born, Kor Hurkens et Gerhard Woeginger\n",
    "\n",
    "$a$, $b$, $c$, $d$ et $e$ sont $5$ nombres entiers compris entre $1$ et $10$ :\n",
    "$a < b < c < d < e$.  \n",
    "\n",
    "On communique à un premier logicien la somme $a + b + c + d + e$,  \n",
    "à un deuxième le produit $a\\times b\\times c\\times d\\times e$,  \n",
    "à un troisième la somme des carrés $a^2 + b^2 + c^2 + d^2 + e^2$        \n",
    "et à un quatrième la quantité $(a + b + c)\\times(d + e)$.\n",
    "\n",
    "Chacun des 4 logiciens s'isole pour tenter de calculer les valeurs des $5$ nombres ; puis ils se réunissent et chacun déclare n'avoir pas pu résoudre le problème.  \n",
    "Ils s'isolent de nouveau pour une deuxième tentative qui échoue elle aussi, ainsi que la $3^\\text e$, la $4^\\text e$, etc. jusqu'à la $23^\\text e$ tentative. Mais, au retour de la $24^\\text e$, chaque \n",
    "logicien annonce qu'il connait les 5 nombres.\n",
    "\n",
    "Déterminer a, b, c, d et e."
   ]
  },
  {
   "attachments": {},
   "cell_type": "markdown",
   "metadata": {},
   "source": [
    "### Corrigé"
   ]
  },
  {
   "cell_type": "code",
   "execution_count": 4,
   "metadata": {},
   "outputs": [
    {
     "name": "stdout",
     "output_type": "stream",
     "text": [
      "1 : 252, 2 : 140, 3 : 100, 4 : 85, 5 : 73, 6 : 64, 7 : 62, 8 : 60, 9 : 57, 10 : 54, 11 : 50, 12 : 47, 13 : 44, 14 : 40, 15 : 36, 16 : 33, 17 : 31, 18 : 28, 19 : 24, 20 : 19, 21 : 13, 22 : 8, 23 : 4, \n",
      "24 : 1 = (2, 5, 6, 7, 8)\n"
     ]
    }
   ],
   "source": [
    "def BHW(f3):\n",
    "\n",
    "    f = [\n",
    "        lambda x: x[0] + x[1] + x[2] + x[3] + x[4],\n",
    "        lambda x: x[0] * x[1] * x[2] * x[3] * x[4],\n",
    "        lambda x: x[0]**2 + x[1]**2 + x[2]**2 + x[3]**2 + x[4]**2,\n",
    "        f3   \n",
    "    ]\n",
    "\n",
    "    E = {(a,b,c,d,e) \n",
    "         for a in range(1,7)  \n",
    "         for b in range(a+1,8) \n",
    "         for c in range(b+1,9) \n",
    "         for d in range(c+1,10) \n",
    "         for e in range(d+1,11)}\n",
    "\n",
    "    m = 1\n",
    "    n = len(E)\n",
    "    while n > 1:\n",
    "        print(f'{m} : {n}', end = ', ')\n",
    "        E = set.intersection(*[partitionU(E,f[i])[1] for i in range(4)])\n",
    "        m += 1\n",
    "        n = len(E)\n",
    "\n",
    "    print(f'\\n{m} : 1 = {E.pop()}')\n",
    "    \n",
    "BHW(lambda x: (x[0] + x[1] + x[2]) * (x[3] + x[4]))"
   ]
  },
  {
   "attachments": {},
   "cell_type": "markdown",
   "metadata": {},
   "source": [
    "Modification de l'énoncé :"
   ]
  },
  {
   "cell_type": "code",
   "execution_count": 5,
   "metadata": {},
   "outputs": [
    {
     "name": "stdout",
     "output_type": "stream",
     "text": [
      "1 : 252, 2 : 146, 3 : 107, 4 : 93, 5 : 86, 6 : 81, 7 : 75, 8 : 70, 9 : 66, 10 : 63, 11 : 58, 12 : 53, 13 : 50, 14 : 48, 15 : 44, 16 : 39, 17 : 36, 18 : 34, 19 : 31, 20 : 28, 21 : 25, 22 : 21, 23 : 16, 24 : 12, 25 : 7, \n",
      "26 : 1 = (2, 3, 5, 8, 10)\n"
     ]
    }
   ],
   "source": [
    "BHW(lambda x: x[0]**2 + x[1]**2 + x[2] + x[3] + x[4])"
   ]
  },
  {
   "attachments": {},
   "cell_type": "markdown",
   "metadata": {},
   "source": [
    "##### Référence : [interstices](https://interstices.info/jcms/c_33649/l-incroyable-probleme-de-freudenthal)."
   ]
  }
 ],
 "metadata": {
  "kernelspec": {
   "display_name": "Python 3 (ipykernel)",
   "language": "python",
   "name": "python3"
  },
  "language_info": {
   "codemirror_mode": {
    "name": "ipython",
    "version": 3
   },
   "file_extension": ".py",
   "mimetype": "text/x-python",
   "name": "python",
   "nbconvert_exporter": "python",
   "pygments_lexer": "ipython3",
   "version": "3.10.5"
  },
  "vscode": {
   "interpreter": {
    "hash": "369f2c481f4da34e4445cda3fffd2e751bd1c4d706f27375911949ba6bb62e1c"
   }
  }
 },
 "nbformat": 4,
 "nbformat_minor": 1
}
