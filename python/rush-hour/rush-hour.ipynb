{
 "cells": [
  {
   "cell_type": "code",
   "execution_count": 1,
   "id": "002aab73",
   "metadata": {},
   "outputs": [],
   "source": [
    "# Initialisation(s)\n",
    "\n",
    "import os, sys\n",
    "IN_COLAB = 'google.colab' in sys.modules\n",
    "if IN_COLAB:\n",
    "    # Running in Google CoLab\n",
    "    from google.colab import drive\n",
    "    drive.mount('/content/gdrive/')\n",
    "    global_prefix = '/content/gdrive/MyDrive/Colab Notebooks/Jupyter-Puzzles/python/rush-hour/'\n",
    "    os.chdir(global_prefix)\n",
    "else:\n",
    "    # Not running in Google CoLab\n",
    "    global_prefix = os.getcwd().replace('\\\\','/') + '/'\n",
    "\n",
    "sys.path.append(f'{global_prefix}../outils')\n",
    "\n",
    "%run ../outils/parcours.ipynb"
   ]
  },
  {
   "cell_type": "markdown",
   "id": "851da9d4",
   "metadata": {},
   "source": [
    "# [Rush Hour]('https://en.wikipedia.org/wiki/Rush_Hour_(puzzle)')\n",
    "\n",
    "On se propose d'utiliser l'algorithme A* pour trouver une solution optimale d'une donnée du jeu."
   ]
  },
  {
   "cell_type": "markdown",
   "id": "610923b4",
   "metadata": {},
   "source": [
    "Dans un garage carré $6\\times6$ une voiture $c$ de la classe $\\texttt{Car}$ est définie par\n",
    "\n",
    "$c\\texttt{.is\\_vertical}$ booléen,  \n",
    "$c\\texttt{.base}\\in[0,5]$ le numéro de la colonne de $c$ si $c\\texttt{.is\\_vertical}$, de la ligne sinon,  \n",
    "$c\\texttt{.length}$ et $c\\texttt{.color}$"
   ]
  },
  {
   "cell_type": "code",
   "execution_count": 2,
   "id": "8a935e07",
   "metadata": {},
   "outputs": [],
   "source": [
    "dimension = 6\n",
    "\n",
    "class Car():\n",
    "    def __init__(self, is_vertical, base_pos, length, color):\n",
    "        self.is_vertical = is_vertical\n",
    "        self.base = base_pos # numéro de colonne si is_vertical, de ligne sinon\n",
    "        self.length = length\n",
    "        self.color = color"
   ]
  },
  {
   "cell_type": "markdown",
   "id": "d8bcb1c8",
   "metadata": {},
   "source": [
    "Un jeu est défini par un couple  (*cars*, *positions*) où\n",
    "\n",
    "*cars* est un tuple de $n$ voitures et  \n",
    "*positions* est un tuple de $n$ entiers tel que\n",
    "\n",
    "*positions*[$i$] définit la position de la voiture $c=$ *cars*[$i$] :  \n",
    "c'est le numéro de la ligne la plus basse de $c$ si $c\\texttt{.is\\_vertical}$, de la colonne la plus à gauche de $c$ sinon."
   ]
  },
  {
   "cell_type": "code",
   "execution_count": 3,
   "id": "8910416b",
   "metadata": {},
   "outputs": [],
   "source": [
    "jeu1 = ((\n",
    "    Car(False, 2, 2, \"red\"),\n",
    "    Car(True, 0, 3, 'skyblue'),\n",
    "    Car(False, 3, 3, 'aliceblue'),\n",
    "    Car(False, 5, 2, \"aquamarine\"),\n",
    "    Car(False, 0, 2, \"plum\"),\n",
    "    Car(True,  1, 2, \"paleturquoise\"),\n",
    "    Car(True,  2, 2, \"honeydew\"),\n",
    "    Car(True,  2, 2, \"cornsilk\"),\n",
    "    Car(True,  3, 2, \"greenyellow\"),\n",
    "    Car(False, 5, 2, \"lightyellow\"),\n",
    "    Car(True,  4, 2, \"lightgrey\"),\n",
    "    Car(False, 4, 2, \"lightpink\"),\n",
    "    Car(True,  5, 3, \"lightblue\")\n",
    "),\n",
    "(3,0,0,0,1,1,1,4,3,3,0,4,1))"
   ]
  },
  {
   "cell_type": "markdown",
   "id": "74af8293",
   "metadata": {},
   "source": [
    "Une action sera définie par un couple $(i,j)$ où $i$ est le numéro d'une voiture $c$ et $j=$ *positions*[$i$] $\\pm1$ selon que la voiture avance ou recule.\n",
    "\n",
    "#### Affichage des voitures"
   ]
  },
  {
   "cell_type": "code",
   "execution_count": 4,
   "id": "3201f548",
   "metadata": {},
   "outputs": [],
   "source": [
    "%matplotlib inline\n",
    "\n",
    "import matplotlib\n",
    "import matplotlib.pyplot as plt\n",
    " \n",
    "\n",
    "# hint est (indice, startfinal)\n",
    "def plot_cars(jeu, name = '', hint = None):\n",
    "    \n",
    "    matplotlib.rcParams['toolbar'] = 'None'\n",
    "    fig = plt.figure(facecolor='w')\n",
    "    ax = fig.add_subplot(111)\n",
    "    ax.axis('off')\n",
    "    ax.axis('equal')\n",
    "    h = .04\n",
    "    ax.add_patch(plt.Rectangle((-h,-h),6. + 3*h,6. + 2*h, lw = 2, ec = 'midnightblue', fc = 'white'))\n",
    "    ax.add_patch(plt.Rectangle((5.,2.),1.2,1., lw = 0, fc = 'white'))\n",
    "\n",
    "    cars, positions = jeu\n",
    "    for i, car in enumerate(cars):\n",
    "    #for car in cars:     \n",
    "        x,y,width,height = \\\n",
    "            (car.base + h, positions[i] + h, 1. - 2*h, car.length - 2*h) if car.is_vertical else \\\n",
    "            (positions[i] + h, car.base + h, car.length - 2*h, 1. - 2*h)\n",
    "        ax.add_patch(plt.Rectangle((x,y),width,height,ec = 'black', fc = car.color))\n",
    "        if hint:\n",
    "            j, startfin = hint\n",
    "            if j == i:\n",
    "                if car.is_vertical:\n",
    "                    dx = 0\n",
    "                    x = car.base + .5\n",
    "                    if positions[i] < startfin:\n",
    "                        dy = .5\n",
    "                        y = positions[i] + car.length\n",
    "                    else:\n",
    "                        dy = -.5\n",
    "                        y = positions[i]\n",
    "                else:\n",
    "                    dy = 0\n",
    "                    y = car.base + .5\n",
    "                    if positions[i] < startfin:\n",
    "                        dx = .5\n",
    "                        x = positions[i] + car.length\n",
    "                    else:\n",
    "                        dx = -.5\n",
    "                        x = positions[i]\n",
    "                ax.add_patch(plt.arrow(x,y,dx,dy,head_width = .2,head_length = .3,length_includes_head = True))\n",
    "    ax.plot() \n",
    "    if name:\n",
    "        plt.savefig(name)\n",
    "        plt.close() # évite l'affichage"
   ]
  },
  {
   "cell_type": "code",
   "execution_count": 5,
   "id": "99ba8819",
   "metadata": {},
   "outputs": [
    {
     "data": {
      "image/png": "[encoded data removed]",
      "text/plain": [
       "<Figure size 432x288 with 1 Axes>"
      ]
     },
     "metadata": {},
     "output_type": "display_data"
    }
   ],
   "source": [
    "plot_cars(jeu1, hint = (9,4))"
   ]
  },
  {
   "cell_type": "markdown",
   "id": "e79a8a62",
   "metadata": {},
   "source": [
    "#### Calcul\n",
    "\n",
    "On pourrait définir un état du jeu comme le $n$-tuple $p$ des positions des $n$ voitures mais, pour faciliter les calculs, un état sera le couple $(p,occ)$ où $occ$ est le tuple de tuples de booléens qui indique les cases occupées du garage."
   ]
  },
  {
   "cell_type": "code",
   "execution_count": 6,
   "id": "73a2b02c",
   "metadata": {},
   "outputs": [],
   "source": [
    "import numpy as np\n",
    "\n",
    "def totuple(a):\n",
    "    try:\n",
    "        return tuple(totuple(i) for i in a)\n",
    "    except TypeError:\n",
    "        return a\n",
    "\n",
    "def occOfPos(cars, pos):\n",
    "    t = np.zeros((dimension, dimension), dtype = bool)\n",
    "    for i, car in enumerate(cars):\n",
    "        if car.is_vertical:\n",
    "            for k in range(car.length):\n",
    "                t[pos[i] + k, car.base] = True\n",
    "        else:\n",
    "            for k in range(car.length):\n",
    "                t[car.base, pos[i] + k] = True\n",
    "    return totuple(t)\n",
    "\n",
    "def delta(cars, state, action):\n",
    "    pos, occ = state\n",
    "    i, posi = action\n",
    "    lpos = list(pos)\n",
    "    tocc = np.array(occ)\n",
    "    car = cars[i]\n",
    "    lpos[i] = posi\n",
    "    if car.is_vertical:\n",
    "        if posi > pos[i]: \n",
    "            tocc[pos[i] + car.length, car.base] = True\n",
    "            tocc[pos[i], car.base] = False\n",
    "        else:\n",
    "            tocc[pos[i] + car.length - 1, car.base] = False\n",
    "            tocc[pos[i] - 1, car.base] = True\n",
    "    else:\n",
    "        if posi > pos[i]: \n",
    "            tocc[car.base, pos[i] + car.length] = True\n",
    "            tocc[car.base, pos[i]] = False\n",
    "        else:\n",
    "            tocc[car.base, pos[i] + car.length - 1] = False\n",
    "            tocc[car.base, pos[i] - 1] = True\n",
    "    return ((tuple(lpos), totuple(tocc)))\n",
    "\n",
    "\n",
    "def solve(jeu):\n",
    "\n",
    "    cars, positions = jeu\n",
    "\n",
    "    start_state = (positions, occOfPos(cars, positions))\n",
    "\n",
    "    def heuristic(state):\n",
    "        return dimension - cars[0].length - state[0][0]\n",
    "\n",
    "    def is_end_state(state):\n",
    "        return heuristic(state) == 0\n",
    "\n",
    "    # une action est un couple (indice, newstart)\n",
    "    def legal_actions(state):\n",
    "        pos, occ = state\n",
    "        l = []\n",
    "        for i, car in enumerate(cars):\n",
    "            if car.is_vertical:\n",
    "                if pos[i] + car.length < dimension and not occ[pos[i] + car.length][car.base]:\n",
    "                    l.append((i, pos[i] + 1))\n",
    "                if pos[i] >= 1  and not occ[pos[i] - 1][car.base]:\n",
    "                    l.append((i, pos[i] - 1))\n",
    "            else:\n",
    "                if pos[i] + car.length < dimension and not occ[car.base][pos[i] + car.length]:\n",
    "                    l.append((i, pos[i] + 1))\n",
    "                if pos[i] >= 1  and not occ[car.base][pos[i] - 1]:\n",
    "                    l.append((i, pos[i] - 1))\n",
    "        return tuple(l)\n",
    "\n",
    "    def d(state, action):\n",
    "        return delta(cars, state, action)\n",
    "        \n",
    "    return aStar(start_state, is_end_state, legal_actions, d, heuristic = heuristic)"
   ]
  },
  {
   "cell_type": "code",
   "execution_count": 7,
   "id": "ab207cde",
   "metadata": {},
   "outputs": [],
   "source": [
    "sol1 = solve(jeu1)"
   ]
  },
  {
   "cell_type": "markdown",
   "id": "1dd64721",
   "metadata": {},
   "source": [
    "#### Affichage d'une solution par stockage sur disque des étapes de cette solution."
   ]
  },
  {
   "cell_type": "code",
   "execution_count": 8,
   "id": "b97fcc68",
   "metadata": {},
   "outputs": [],
   "source": [
    "#! mkdir images\n",
    "\n",
    "def write_sol(jeu, sol, prefix):\n",
    "    \"\"\"Stockage\"\"\"\n",
    "    cars, positions = jeu\n",
    "    prefix = f'{global_prefix}images/{prefix}-'\n",
    "    state = (positions, occOfPos(cars, positions))\n",
    "    for c, action in enumerate(sol):\n",
    "        plot_cars((cars, state[0]), name = f'{prefix}{c}', hint = action)\n",
    "        state = delta(cars,state,action)\n",
    "    plot_cars((cars, state[0]), name = f'{prefix}{len(sol)}')\n",
    "\n",
    "def display_sol(sol, prefix):\n",
    "    import displayImages\n",
    "    display_images = displayImages.mpl if IN_COLAB else displayImages.cv # displayImages.widgets marche mal (2 images ?)\n",
    "    return display_images(f'{global_prefix}images/{prefix}-', len(sol))\n"
   ]
  },
  {
   "cell_type": "code",
   "execution_count": 9,
   "id": "52b6ebb4",
   "metadata": {},
   "outputs": [],
   "source": [
    "write_sol(jeu1, sol1, \"jeu1\")"
   ]
  },
  {
   "cell_type": "code",
   "execution_count": 10,
   "id": "dc057afd",
   "metadata": {},
   "outputs": [],
   "source": [
    "display_sol(sol1,'jeu1')"
   ]
  },
  {
   "cell_type": "markdown",
   "id": "051e9cbf",
   "metadata": {},
   "source": [
    "#### Facilitation de l'entrée d'un jeu"
   ]
  },
  {
   "cell_type": "code",
   "execution_count": 11,
   "id": "7e48d6d9",
   "metadata": {},
   "outputs": [],
   "source": [
    "def jeuOfString(s):\n",
    "\n",
    "    import random\n",
    "\n",
    "    def r():\n",
    "        return .7 + .3 * random.random()\n",
    "\n",
    "    s = s.split()\n",
    "    cars = []\n",
    "    pos = []\n",
    "    letters = []\n",
    "    for i in range(dimension):\n",
    "        for j in range(dimension):\n",
    "            x = s[i][j]\n",
    "            if x not in letters + ['.']:\n",
    "                letters.append(x)\n",
    "                if j < dimension - 1 and s[i][j + 1] == x:\n",
    "                    is_vertical = False\n",
    "                    k = 2\n",
    "                    while j < dimension - k and s[i][j + k] == x:\n",
    "                        k += 1\n",
    "                else:\n",
    "                    is_vertical = True\n",
    "                    k = 2\n",
    "                    while i < dimension - k and s[i + k][j] == x:\n",
    "                        k += 1\n",
    "                cars.append(Car(is_vertical, j if is_vertical else dimension - i - 1, k, 'red' if x == 'r' else (r(),r(),r())))\n",
    "                pos.append(dimension - i - k if is_vertical else j)\n",
    "                if x == 'r':\n",
    "                    cars = [cars[-1]] + cars[:-1]\n",
    "                    pos = [pos[-1]] + pos[:-1]\n",
    "    return (tuple(cars), tuple(pos))"
   ]
  },
  {
   "cell_type": "markdown",
   "id": "ef57fead",
   "metadata": {},
   "source": [
    "#### Jeu le plus dur, nécessite 93 mouvements\n",
    "\n",
    "Calcul de la solution en 10 secondes"
   ]
  },
  {
   "cell_type": "code",
   "execution_count": 12,
   "id": "92c7a98b",
   "metadata": {},
   "outputs": [
    {
     "data": {
      "image/png": "[encoded data removed]",
      "text/plain": [
       "<Figure size 432x288 with 1 Axes>"
      ]
     },
     "metadata": {},
     "output_type": "display_data"
    }
   ],
   "source": [
    "sHardest = \"\"\"\n",
    ".abbcc\n",
    ".ad.ee\n",
    "ffd...\n",
    "g.rrhi\n",
    "gjjkhi\n",
    "lllkhi\n",
    "\"\"\"\n",
    "\n",
    "hardest = jeuOfString(sHardest)\n",
    "plot_cars(hardest)"
   ]
  },
  {
   "cell_type": "code",
   "execution_count": 13,
   "id": "f0b09b9e",
   "metadata": {},
   "outputs": [],
   "source": [
    "solHardest = solve(hardest)"
   ]
  },
  {
   "cell_type": "code",
   "execution_count": 14,
   "id": "493a9080",
   "metadata": {},
   "outputs": [],
   "source": [
    "write_sol(hardest, solHardest, \"hardest\")\n",
    "display_sol(solHardest,'hardest')"
   ]
  }
 ],
 "metadata": {
  "colab": {
   "provenance": [],
   "toc_visible": true
  },
  "kernelspec": {
   "display_name": "Python 3",
   "language": "python",
   "name": "python3"
  },
  "language_info": {
   "codemirror_mode": {
    "name": "ipython",
    "version": 3
   },
   "file_extension": ".py",
   "mimetype": "text/x-python",
   "name": "python",
   "nbconvert_exporter": "python",
   "pygments_lexer": "ipython3",
   "version": "3.10.5"
  },
  "vscode": {
   "interpreter": {
    "hash": "369f2c481f4da34e4445cda3fffd2e751bd1c4d706f27375911949ba6bb62e1c"
   }
  }
 },
 "nbformat": 4,
 "nbformat_minor": 5
}
