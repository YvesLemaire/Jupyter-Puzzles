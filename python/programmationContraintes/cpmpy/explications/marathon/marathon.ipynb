{
 "cells": [
  {
   "cell_type": "code",
   "execution_count": 2,
   "id": "51cceb48",
   "metadata": {},
   "outputs": [],
   "source": [
    "%run ../explications.ipynb"
   ]
  },
  {
   "attachments": {},
   "cell_type": "markdown",
   "id": "e2f60b2e",
   "metadata": {},
   "source": [
    "# Le problème du marathon \n",
    "\n",
    "Les six premiers à l'arrivée du marathon de Paris sont\n",
    "Dominique, Ignace, Naren, Olivier, Philippe et Pascal.\n",
    "Il s'agit de reconstruire leur ordre  d'arrivée à partir des\n",
    "informations suivantes :\n"
   ]
  },
  {
   "cell_type": "code",
   "execution_count": 3,
   "id": "08f16f9f",
   "metadata": {},
   "outputs": [],
   "source": [
    "regles = {\n",
    "    1 :  \"Olivier n'est pas arrivé le dernier\",\n",
    "    2 :  \"Dominique, Pascal et Ignace sont arrivés avant Naren et Olivier\",\n",
    "    3 :  \"Dominique qui était 3-ème l'année précédente s'est amélioré cette année\",\n",
    "    4 :  \"Philippe est parmi le quatre premiers\",\n",
    "    5 :  \"Ignace n'est arrivé ni second, ni troisième\",\n",
    "    6 :  \"Pascal a battu Naren de trois positions\",\n",
    "    7 :  \"Ni Ignace ni Dominique ne sont en quatrième position\"\n",
    "}"
   ]
  },
  {
   "attachments": {},
   "cell_type": "markdown",
   "id": "84827339",
   "metadata": {},
   "source": [
    "## Modélisation"
   ]
  },
  {
   "cell_type": "code",
   "execution_count": 5,
   "id": "c53ba8b3",
   "metadata": {},
   "outputs": [],
   "source": [
    "nom = np.array(['Dominique', 'Ignace', 'Naren', 'Olivier', 'Philippe', 'Pascal'], dtype = '<U10')\n",
    "\n",
    "def model_marathon():\n",
    "    \"\"\"\n",
    "    retourne un quadruplet (vars, facts, constraints, d) tel que\n",
    "    (vars, facts, constraints) est utilisable dans EXPLANATION\n",
    "    et d est un dictionnaire : contrainte -> numéro de la contrainte\n",
    "    \"\"\"    \n",
    "\n",
    "    # Model Variables\n",
    "    place = intvar(1, 6, shape=nom.shape, name = 'place')\n",
    "\n",
    "    # Pour faciliter l'expression des contraintes :\n",
    "    for i in range(6): \n",
    "        globals()[nom[i]] = place[i]\n",
    "    \n",
    "    # initialement, on ne connait la place de personne\n",
    "    facts = []\n",
    "\n",
    "    # bijectivity constraint\n",
    "    cons_b = [AllDifferent(place)]\n",
    "    \n",
    "    # rules constraints\n",
    "    d = {\n",
    "        Olivier != 6 :            1, \n",
    "        (Dominique < Naren) & \\\n",
    "        (Dominique < Olivier) & \\\n",
    "        (Pascal < Naren) & \\\n",
    "        (Pascal < Olivier) & \\\n",
    "        (Ignace < Naren) & \\\n",
    "        (Ignace < Olivier) :      2,\n",
    "        Dominique < 3 :           3,\n",
    "        Philippe <= 4 :           4,\n",
    "        (Ignace != 2) & \\\n",
    "        (Ignace != 3) :           5,\n",
    "        Pascal == Naren - 3 :     6,\n",
    "        (Ignace != 4) & \\\n",
    "        (Dominique != 4) :        7\n",
    "    }\n",
    "    cons_r = list(d.keys())\n",
    "    \n",
    "    return place, facts, cons_b + cons_r, d"
   ]
  },
  {
   "attachments": {},
   "cell_type": "markdown",
   "id": "339447d7",
   "metadata": {},
   "source": [
    "## Solution et préparation de l'affichage des explications"
   ]
  },
  {
   "cell_type": "code",
   "execution_count": 8,
   "id": "e3cb3de8",
   "metadata": {},
   "outputs": [
    {
     "name": "stdout",
     "output_type": "stream",
     "text": [
      "            1            2            3            4            5            6\n",
      "       Ignace    Dominique       Pascal     Philippe      Olivier        Naren\n"
     ]
    }
   ],
   "source": [
    "vars, facts, constraints, _ = model_marathon()\n",
    "explanation_marathon = EXPLANATION(vars, facts, constraints)\n",
    "sol = explanation_marathon.solve()\n",
    "\n",
    "from termcolor import colored\n",
    "\n",
    "l = 13\n",
    "\n",
    "def print_sol(val, facts = set()):\n",
    "    fmt = '{:>13}' * 6\n",
    "    print(fmt.format(1,2,3,4,5,6))\n",
    "    sol = np.zeros(shape=nom.shape, dtype = '<U10')\n",
    "    m = np.zeros(shape=nom.shape, dtype = 'bool')\n",
    "    v = np.zeros(shape=nom.shape, dtype = 'bool')\n",
    "    for fact in facts:\n",
    "        i,_ = extractFact(fact)\n",
    "        m[i] = True\n",
    "    for i in range(6):\n",
    "        k = val[i] - 1\n",
    "        if val[i]:\n",
    "            sol[k] = nom[i]\n",
    "            v[k] = m[i]    \n",
    "    for k in range(6):\n",
    "            s = sol[k]\n",
    "            if v[k]:\n",
    "                print(' ' * (l - len(s)) + colored(s.upper(),'blue', attrs =['bold'],force_color=True), end = '')\n",
    "            else:\n",
    "                print(' ' * (l - len(s)) + s, end = '')\n",
    "    print('')\n",
    "\n",
    "print_sol(sol)"
   ]
  },
  {
   "attachments": {},
   "cell_type": "markdown",
   "id": "6fe62bdc",
   "metadata": {},
   "source": [
    "## Explications pour la résolution complète"
   ]
  },
  {
   "cell_type": "code",
   "execution_count": 7,
   "id": "7a3a9bf7",
   "metadata": {},
   "outputs": [],
   "source": [
    "d = model_marathon()[3]\n",
    "ESNlist = explanation_marathon.explainFull(verbose = False)"
   ]
  },
  {
   "cell_type": "code",
   "execution_count": 9,
   "id": "27f88495",
   "metadata": {},
   "outputs": [
    {
     "name": "stdout",
     "output_type": "stream",
     "text": [
      "            1            2            3            4            5            6\n",
      "                                                                              \n",
      "\n",
      "\u001b[1m\u001b[34mIgnace n'est arrivé ni second, ni troisième\u001b[0m\n",
      "\u001b[1m\u001b[34mNi Ignace ni Dominique ne sont en quatrième position\u001b[0m\n",
      "\u001b[1m\u001b[34mDominique, Pascal et Ignace sont arrivés avant Naren et Olivier\u001b[0m\n",
      "\n",
      "donc \u001b[32mIgnace est arrivé 1-ème\n",
      "\u001b[0m______________________________________________________________________________\n",
      "\n",
      "            1            2            3            4            5            6\n",
      "       \u001b[1m\u001b[34mIGNACE\u001b[0m                                                                 \n",
      "\n",
      "\u001b[1m\u001b[34mDominique qui était 3-ème l'année précédente s'est amélioré cette année\u001b[0m\n",
      "\n",
      "donc \u001b[32mDominique est arrivé 2-ème\n",
      "\u001b[0m______________________________________________________________________________\n",
      "\n",
      "            1            2            3            4            5            6\n",
      "       \u001b[1m\u001b[34mIGNACE\u001b[0m    Dominique                                                    \n",
      "\n",
      "\u001b[1m\u001b[34mDominique qui était 3-ème l'année précédente s'est amélioré cette année\u001b[0m\n",
      "\u001b[1m\u001b[34mPascal a battu Naren de trois positions\u001b[0m\n",
      "\n",
      "donc \u001b[32mPascal est arrivé 3-ème\n",
      "\u001b[0m______________________________________________________________________________\n",
      "\n",
      "            1            2            3            4            5            6\n",
      "       Ignace    Dominique       \u001b[1m\u001b[34mPASCAL\u001b[0m                                       \n",
      "\n",
      "\u001b[1m\u001b[34mPascal a battu Naren de trois positions\u001b[0m\n",
      "\n",
      "donc \u001b[32mNaren est arrivé 6-ème\n",
      "\u001b[0m______________________________________________________________________________\n",
      "\n",
      "            1            2            3            4            5            6\n",
      "       Ignace    Dominique       Pascal                                  Naren\n",
      "\n",
      "\u001b[1m\u001b[34mPhilippe est parmi le quatre premiers\u001b[0m\n",
      "\u001b[1m\u001b[34mDominique, Pascal et Ignace sont arrivés avant Naren et Olivier\u001b[0m\n",
      "\u001b[1m\u001b[34mOlivier n'est pas arrivé le dernier\u001b[0m\n",
      "\n",
      "donc \u001b[32mOlivier est arrivé 5-ème\n",
      "\u001b[0m______________________________________________________________________________\n",
      "\n",
      "            1            2            3            4            5            6\n",
      "       Ignace    Dominique       \u001b[1m\u001b[34mPASCAL\u001b[0m                   \u001b[1m\u001b[34mOLIVIER\u001b[0m        \u001b[1m\u001b[34mNAREN\u001b[0m\n",
      "\n",
      "\u001b[1m\u001b[34mNi Ignace ni Dominique ne sont en quatrième position\u001b[0m\n",
      "\n",
      "donc \u001b[32mPhilippe est arrivé 4-ème\n",
      "\u001b[0m______________________________________________________________________________\n",
      "\n",
      "            1            2            3            4            5            6\n",
      "       Ignace    Dominique       Pascal     Philippe      Olivier        Naren\n"
     ]
    }
   ],
   "source": [
    "val = np.zeros(shape = nom.shape, dtype = 'int32')\n",
    "\n",
    "def add_facts(facts):\n",
    "    for fact in facts:\n",
    "        i, v = extractFact(fact)\n",
    "        val[i] = v\n",
    "    \n",
    "for E,S,N in ESNlist:\n",
    "    constraints = set()\n",
    "    print_sol(val, facts = E) \n",
    "    print('')\n",
    "    for r in S:\n",
    "        if r.name != 'alldifferent':\n",
    "            print(colored(regles[d[r]], 'blue', attrs =['bold'], force_color=True))\n",
    "    add_facts(N)\n",
    "    i, v = extractHint(N)\n",
    "    print('\\ndonc ' + colored(f'{nom[i]} est arrivé {v}-ème\\n', 'green', force_color=True) + '_' * 78 + '\\n')\n",
    "    \n",
    "print_sol(val)\n",
    "\n"
   ]
  }
 ],
 "metadata": {
  "kernelspec": {
   "display_name": "Python 3 (ipykernel)",
   "language": "python",
   "name": "python3"
  },
  "language_info": {
   "codemirror_mode": {
    "name": "ipython",
    "version": 3
   },
   "file_extension": ".py",
   "mimetype": "text/x-python",
   "name": "python",
   "nbconvert_exporter": "python",
   "pygments_lexer": "ipython3",
   "version": "3.10.5"
  },
  "vscode": {
   "interpreter": {
    "hash": "369f2c481f4da34e4445cda3fffd2e751bd1c4d706f27375911949ba6bb62e1c"
   }
  }
 },
 "nbformat": 4,
 "nbformat_minor": 5
}
