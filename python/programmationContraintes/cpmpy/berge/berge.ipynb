{
 "cells": [
  {
   "cell_type": "markdown",
   "metadata": {},
   "source": [
    "# [Le problème de Claude Berge](https://omnilogie.fr/O/Qui_a_tu%C3%A9_le_duc_de_Densmore_?)\n",
    "Pour l'histoire complète, voir [Qui a tué le duc de Densmore ?](./berge.pdf)"
   ]
  },
  {
   "cell_type": "markdown",
   "metadata": {},
   "source": [
    "Pour résoudre le problème, on peut, soit comme le fait Turner Smith dans le récit de Berge, utiliser le théorème de Hajos sur les graphes d'intervalles, soit, comme on va le faire, écrire une fonction python qui teste si un graphe (pas trop grand) est un graphe d'intervalles.  On considère alors les 8 graphes obtenus en supprimant un des 8 sommets du graphe initial. Si un et un seul de ces 8 graphes est un graphe d'intervalles, il correspond à la coupable."
   ]
  },
  {
   "cell_type": "code",
   "execution_count": 1,
   "metadata": {},
   "outputs": [],
   "source": [
    "from cpmpy import *\n",
    "\n",
    "def graphe_intervalles(g):\n",
    "    n = len(g)\n",
    "    keys = list(g.keys())\n",
    "    left = intvar(0, n - 1, shape = n, name = 'left')\n",
    "    right = intvar(1, n, shape = n, name = 'right')\n",
    "    m = Model()\n",
    "    for i, s in enumerate(keys):\n",
    "        m += left[i] < right[i]\n",
    "        for j in range(i + 1, n):\n",
    "            if keys[j] in g[s]:\n",
    "                m += [left[j] < right[i], left[i] < right[j]]\n",
    "            else:\n",
    "                m += (left[j] >= right[i]) | (left[i] >= right[j])\n",
    "    return m.solve()\n",
    "\n",
    "def supprime_sommet(g,s):\n",
    "    return {t : g[t] - {s} for t in g.keys() if t != s}\n",
    "\n",
    "def coupable(g):\n",
    "    l = [s for s in g.keys() if graphe_intervalles(supprime_sommet(g,s))]\n",
    "    if len(l) == 1:\n",
    "        return l[0]"
   ]
  },
  {
   "cell_type": "code",
   "execution_count": 2,
   "metadata": {},
   "outputs": [
    {
     "name": "stdout",
     "output_type": "stream",
     "text": [
      "La coupable est Ann.\n"
     ]
    }
   ],
   "source": [
    "g_densmore = {\n",
    "    'A' : {'B', 'C', 'E', 'F', 'G'},\n",
    "    'B' : {'A', 'C', 'H'},\n",
    "    'C' : {'A', 'B', 'D', 'E', 'H'},\n",
    "    'D' : {'C', 'E'},\n",
    "    'E' : {'A', 'C', 'D', 'F'},\n",
    "    'F' : {'A', 'E'},\n",
    "    'G' : {'A', 'H'},\n",
    "    'H' : {'B', 'C', 'G'},\n",
    "}\n",
    "\n",
    "noms = {\n",
    "    'A' : 'Ann',\n",
    "    'B' : 'Betty',\n",
    "    'C' : 'Cynthia',\n",
    "    'D' : 'Diana',\n",
    "    'E' : 'Emily',\n",
    "    'F' : 'Felicia',\n",
    "    'G' : 'Georgia',\n",
    "    'H' : 'Helen'\n",
    "}\n",
    "\n",
    "print(f'La coupable est {noms[coupable(g_densmore)]}.')"
   ]
  }
 ],
 "metadata": {
  "kernelspec": {
   "display_name": "Python 3 (ipykernel)",
   "language": "python",
   "name": "python3"
  },
  "language_info": {
   "codemirror_mode": {
    "name": "ipython",
    "version": 3
   },
   "file_extension": ".py",
   "mimetype": "text/x-python",
   "name": "python",
   "nbconvert_exporter": "python",
   "pygments_lexer": "ipython3",
   "version": "3.10.5"
  }
 },
 "nbformat": 4,
 "nbformat_minor": 2
}
