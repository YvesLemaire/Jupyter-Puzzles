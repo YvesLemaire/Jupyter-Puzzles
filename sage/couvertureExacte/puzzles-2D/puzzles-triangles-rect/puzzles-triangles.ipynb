{
 "cells": [
  {
   "cell_type": "code",
   "execution_count": 2,
   "metadata": {},
   "outputs": [],
   "source": [
    "%run ../../algorithmeX.ipynb"
   ]
  },
  {
   "cell_type": "markdown",
   "metadata": {},
   "source": [
    "## [Polyabolos](https://fr.wikipedia.org/wiki/Polyabolo)\n",
    "\n",
    "Les idées suivantes sont issues du TAOCP de D. Knuth, Vol. 4B, p. 446, ex. 124.\n",
    "\n",
    "On pave le plan par des triangles équilatéraux de côté $1$.  \n",
    "Pour tous $(i,j,k)\\in \\mathbf Z\\times \\mathbf Z\\times\\{1,2\\}$, on définit le *triangle* $(i,j,k)$ selon le schéma suivant \n",
    "\n",
    "![grille](grille.png)\n",
    "\n",
    "On place l'origine du plan au centre du triangle $(0,0,2)$.\n",
    "\n",
    "Le triangle $(i,j,2)$ est donc le $\\triangle$-triangle dont le centre est $i\\times\\mathbf u(0)+ j\\times \\mathbf u(\\pi/3)$ où $\\mathbf u(\\theta)$ désigne le vecteur unitaire qui fait l'angle $\\theta$ avec le premier vecteur de la base canonique, et $(i,j,1)$ est le $\\bigtriangledown$-triangle situé immédiatement à droite de $(i,j,2)$.\n",
    "\n",
    "Les principes sont les mêmes que pour les [polyominos](../puzzles-carres/puzzles-carres.ipynb).\n",
    "\n",
    "Ici, il y a 6 isométries du triangle auxquelles il faut ajouter les isométries qui échangent $\\triangle$ et $\\bigtriangledown$.\n",
    "\n",
    "Pour les obtenir, on procède de la manière suivante :\n",
    "\n",
    "L'application $(i,j,k)\\in \\mathbf Z^2\\times\\{1,2\\}\\mapsto(i,j,k-i-j)\\in\\{(i',j',k')\\in\\mathbf Z^3\\;|\\;i'+j'+k'\\in\\{1,2\\}\\}$ est une bijection et on constate (exercice) que les 12 isométries  correspondent aux 6 permutations du triplet $(i',j',k')$ éventuellement composées avec $(i',j',k')\\mapsto(1-i',1-j',1-k')$."
   ]
  },
  {
   "cell_type": "code",
   "execution_count": 3,
   "metadata": {},
   "outputs": [],
   "source": [
    "import matplotlib\n",
    "import matplotlib.pyplot as plt\n",
    "matplotlib.rcParams['toolbar'] = 'None'\n",
    "import random\n",
    "\n",
    "snsSet3Set2Colors = [(0.5529411764705883, 0.8274509803921568, 0.7803921568627451), (1.0, 1.0, 0.7019607843137254), (0.7450980392156863, 0.7294117647058823, 0.8549019607843137), (0.984313725490196, 0.5019607843137255, 0.4470588235294118), (0.5019607843137255, 0.6941176470588235, 0.8274509803921568), (0.9921568627450981, 0.7058823529411765, 0.3843137254901961), (0.7019607843137254, 0.8705882352941177, 0.4117647058823529), (0.9882352941176471, 0.803921568627451, 0.8980392156862745), (0.8509803921568627, 0.8509803921568627, 0.8509803921568627), (0.7372549019607844, 0.5019607843137255, 0.7411764705882353), (0.8, 0.9215686274509803, 0.7725490196078432), (1.0, 0.9294117647058824, 0.43529411764705883), (0.4, 0.7607843137254902, 0.6470588235294118), (0.9882352941176471, 0.5529411764705883, 0.3843137254901961), (0.5529411764705883, 0.6274509803921569, 0.796078431372549), (0.9058823529411765, 0.5411764705882353, 0.7647058823529411), (0.6509803921568628, 0.8470588235294118, 0.32941176470588235), (1.0, 0.8509803921568627, 0.1843137254901961), (0.8980392156862745, 0.7686274509803922, 0.5803921568627451), (0.7019607843137254, 0.7019607843137254, 0.7019607843137254)]\n",
    "snsPastelColors = [(0.984313725490196, 0.7058823529411765, 0.6823529411764706), (0.7019607843137254, 0.803921568627451, 0.8901960784313725), (0.8, 0.9215686274509803, 0.7725490196078432), (0.8705882352941177, 0.796078431372549, 0.8941176470588236), (0.996078431372549, 0.8509803921568627, 0.6509803921568628), (1.0, 1.0, 0.8), (0.8980392156862745, 0.8470588235294118, 0.7411764705882353), (0.9921568627450981, 0.8549019607843137, 0.9254901960784314), (0.9490196078431372, 0.9490196078431372, 0.9490196078431372), (0.7019607843137254, 0.8862745098039215, 0.803921568627451), (0.9921568627450981, 0.803921568627451, 0.6745098039215687), (0.796078431372549, 0.8352941176470589, 0.9098039215686274), (0.9568627450980393, 0.792156862745098, 0.8941176470588236), (0.9019607843137255, 0.9607843137254902, 0.788235294117647), (1.0, 0.9490196078431372, 0.6823529411764706), (0.9450980392156862, 0.8862745098039215, 0.8), (0.8, 0.8, 0.8)]\n",
    "snsTab20Colors = [(0.12156862745098039, 0.4666666666666667, 0.7058823529411765), (0.6823529411764706, 0.7803921568627451, 0.9098039215686274), (1.0, 0.4980392156862745, 0.054901960784313725), (1.0, 0.7333333333333333, 0.47058823529411764), (0.17254901960784313, 0.6274509803921569, 0.17254901960784313), (0.596078431372549, 0.8745098039215686, 0.5411764705882353), (0.8392156862745098, 0.15294117647058825, 0.1568627450980392), (1.0, 0.596078431372549, 0.5882352941176471), (0.5803921568627451, 0.403921568627451, 0.7411764705882353), (0.7725490196078432, 0.6901960784313725, 0.8352941176470589), (0.5490196078431373, 0.33725490196078434, 0.29411764705882354), (0.7686274509803922, 0.611764705882353, 0.5803921568627451), (0.8901960784313725, 0.4666666666666667, 0.7607843137254902), (0.9686274509803922, 0.7137254901960784, 0.8235294117647058), (0.4980392156862745, 0.4980392156862745, 0.4980392156862745), (0.7803921568627451, 0.7803921568627451, 0.7803921568627451), (0.7372549019607844, 0.7411764705882353, 0.13333333333333333), (0.8588235294117647, 0.8588235294117647, 0.5529411764705883), (0.09019607843137255, 0.7450980392156863, 0.8117647058823529), (0.6196078431372549, 0.8549019607843137, 0.8980392156862745)]\n",
    "\n",
    "palette = snsPastelColors\n",
    "\n",
    "def randomColor(seed = None):\n",
    "    if seed is not None:\n",
    "        random.seed(str(seed))\n",
    "    return random.choice(palette)"
   ]
  },
  {
   "cell_type": "code",
   "execution_count": 4,
   "metadata": {},
   "outputs": [],
   "source": [
    "class PIECE:\n",
    "\n",
    "    # une piece est un ensemble (frozenset) de triplets (i,j,k), k = 0, 1, 2, 3\n",
    "    def __init__(self,nom,piece,couleur = None):\n",
    "        self.nom = nom\n",
    "        self.piece = PIECE.normalise(piece)\n",
    "        self.largeur = max(t[0] for t in self.piece) + 1\n",
    "        self.hauteur = max(t[1] for t in self.piece) + 1\n",
    "        self.couleur = couleur\n",
    "      \n",
    "\n",
    "    def __hash__(self):\n",
    "        return hash(self.piece)\n",
    "\n",
    "    def __eq__(self,q):\n",
    "        return self.piece == q.piece\n",
    "\n",
    "    def __str__(self):\n",
    "        return str((self.nom,self.piece))\n",
    "\n",
    "    def normalise(piece):\n",
    "        min_i = min(t[0] for t in piece)\n",
    "        min_j = min(t[1] for t in piece)\n",
    "        p = set()\n",
    "        for i,j,k in piece:\n",
    "            if k == 0 and (i,j,2) in piece:\n",
    "                p |= {(i,j,1),(i,j,3)}\n",
    "            elif (k == 2 and (i,j,0) not in piece) or k != 2:\n",
    "                p.add((i,j,k))\n",
    "        return frozenset((i - min_i, j - min_j, k) for i, j, k in p)\n",
    "\n",
    "    def transposee(self):\n",
    "        return PIECE(self.nom, frozenset((- i, j, [3,2,1,0][k]) for i, j, k in self.piece))\n",
    "\n",
    "    def rotation(self):\n",
    "        return PIECE(self.nom, frozenset((-j, i, (k - 1) % 4) for i, j, k in self.piece))\n",
    "\n",
    "    def isometriquesPlus(self):\n",
    "        l = [self]\n",
    "        for _ in range(3):\n",
    "            p = l[-1].rotation()\n",
    "            l.append(p)\n",
    "        return list(set(l))\n",
    "    \n",
    "    def isometriques(self):\n",
    "        l1 = self.isometriquesPlus()\n",
    "        l2 = self.transposee().isometriquesPlus()\n",
    "        return(list(set(l1 + l2)))\n",
    "\n",
    "    def triangle(k):\n",
    "         triangles = [((-.5, .5, -.5), (-.5, -.5, .5)),\n",
    "                      ((-.5, -.5, .5), (.5, -.5, .5)),\n",
    "                      ((.5, -.5, .5), (.5, .5, -.5)),\n",
    "                      ((.5, -.5, .5), (-.5, -.5, .5))\n",
    "                 ]\n",
    "         return triangles[k]\n",
    "         \n",
    "    def plotTriangle(ax, i, j, k, **kwargs):\n",
    "        X, Y = PIECE.triangle(k)\n",
    "        ax.fill(list(map(lambda u: i + u, X)), list(map(lambda v: j + v, Y)), **kwargs)\n",
    "\n",
    "    def polygoneOfTriplets(e):\n",
    "        \"\"\"e est un ensemble de triplets d'entiers (i,j,k)\n",
    "        representant une piece non nécessairement normalisée.\n",
    "        Renvoie une liste de deux tuples pour le dessin de la piece.\n",
    "        \"\"\"\n",
    "        segments = set()\n",
    "        for i,j,k in e:\n",
    "            if k == 0:\n",
    "                if (i, j, 2) not in e: segments.add(((i - .5, i + .5),(j + .5, j - .5)))\n",
    "                if (i, j - 1, 1) not in e and (i, j - 1, 2) not in e: segments.add(((i - .5, i + .5),(j - .5, j - .5)))\n",
    "                if (i - 1, j, 2) not in e and (i - 1, j, 3) not in e: segments.add(((i - .5, i - .5),(j - .5, j + .5)))\n",
    "            elif k == 1:\n",
    "                if (i, j, 3) not in e: segments.add(((i - .5, i + .5),(j - .5, j + .5)))\n",
    "                if (i, j + 1, 0) not in e and (i, j + 1, 3) not in e: segments.add(((i - .5, i + .5),(j + .5, j + .5)))\n",
    "                if (i - 1, j, 2) not in e and (i - 1, j, 3) not in e: segments.add(((i - .5, i - .5),(j - .5, j + .5)))\n",
    "            elif k == 2:\n",
    "                if (i, j, 0) not in e: segments.add(((i - .5, i + .5),(j + .5, j - .5)))\n",
    "                if (i, j + 1, 0) not in e and (i, j + 1, 3) not in e: segments.add(((i - .5, i + .5),(j + .5, j + .5)))\n",
    "                if (i + 1, j, 0) not in e and (i + 1, j, 1) not in e: segments.add(((i + .5, i + .5),(j - .5, j + .5)))\n",
    "            else:\n",
    "                if (i, j, 1) not in e: segments.add(((i - .5, i + .5),(j - .5, j + .5)))\n",
    "                if (i, j - 1, 1) not in e and (i, j - 1, 2) not in e: segments.add(((i - .5, i + .5),(j - .5, j - .5)))\n",
    "                if (i + 1, j, 0) not in e and (i + 1, j, 1) not in e: segments.add(((i + .5, i + .5),(j - .5, j + .5)))\n",
    "        return segments\n",
    "    \n",
    "    def plotPolyabolo(ax, e, couleur, w):\n",
    "        for s in PIECE.polygoneOfTriplets(e):\n",
    "            ax.plot(*s, linewidth = .75, color = 'black')\n",
    "        for i, j, k in e:\n",
    "            PIECE.plotTriangle(ax, i, j, k,  facecolor = couleur, edgecolor='black', linewidth=w)\n",
    "        \n",
    "    def plot(self):\n",
    "        \n",
    "        fig = plt.figure(facecolor='w')\n",
    "        fig.set_figheight(self.hauteur)\n",
    "        ax = fig.add_subplot(111)\n",
    "        ax.axis('off')\n",
    "        ax.axis('equal')\n",
    "        ax.set_title(self.nom)\n",
    "        c = 'white' if self.couleur is None else self.couleur\n",
    "        PIECE.plotPolyabolo(ax, self.piece, c, .05)"
   ]
  },
  {
   "cell_type": "markdown",
   "metadata": {},
   "source": [
    "#### Génération des polyabolos de taille donnée\n",
    "$N=8$\n",
    "\n",
    "On calcule une liste $\\texttt{polyabolos}$ telle que, pour $1\\leqslant n\\leqslant N$, $\\texttt{polyabolos[}n\\texttt{]}=$ la liste des polyabolos de taille $n$."
   ]
  },
  {
   "cell_type": "code",
   "execution_count": 5,
   "metadata": {},
   "outputs": [
    {
     "name": "stdout",
     "output_type": "stream",
     "text": [
      "   1 1-abolos\n",
      "   3 2-abolos\n",
      "   4 3-abolos\n",
      "  14 4-abolos\n",
      "  30 5-abolos\n",
      " 107 6-abolos\n",
      " 318 7-abolos\n",
      "1116 8-abolos\n"
     ]
    },
    {
     "data": {
      "image/png": "[encoded data removed]",
      "text/plain": [
       "<Figure size 432x144 with 1 Axes>"
      ]
     },
     "metadata": {},
     "output_type": "display_data"
    },
    {
     "data": {
      "image/png": "[encoded data removed]",
      "text/plain": [
       "<Figure size 432x144 with 1 Axes>"
      ]
     },
     "metadata": {},
     "output_type": "display_data"
    },
    {
     "data": {
      "image/png": "[encoded data removed]",
      "text/plain": [
       "<Figure size 432x144 with 1 Axes>"
      ]
     },
     "metadata": {},
     "output_type": "display_data"
    },
    {
     "data": {
      "image/png": "[encoded data removed]",
      "text/plain": [
       "<Figure size 432x144 with 1 Axes>"
      ]
     },
     "metadata": {},
     "output_type": "display_data"
    },
    {
     "data": {
      "image/png": "[encoded data removed]",
      "text/plain": [
       "<Figure size 432x144 with 1 Axes>"
      ]
     },
     "metadata": {},
     "output_type": "display_data"
    },
    {
     "data": {
      "image/png": "[encoded data removed]",
      "text/plain": [
       "<Figure size 432x144 with 1 Axes>"
      ]
     },
     "metadata": {},
     "output_type": "display_data"
    },
    {
     "data": {
      "image/png": "[encoded data removed]",
      "text/plain": [
       "<Figure size 432x216 with 1 Axes>"
      ]
     },
     "metadata": {},
     "output_type": "display_data"
    },
    {
     "data": {
      "image/png": "[encoded data removed]",
      "text/plain": [
       "<Figure size 432x216 with 1 Axes>"
      ]
     },
     "metadata": {},
     "output_type": "display_data"
    },
    {
     "data": {
      "image/png": "[encoded data removed]",
      "text/plain": [
       "<Figure size 432x144 with 1 Axes>"
      ]
     },
     "metadata": {},
     "output_type": "display_data"
    },
    {
     "data": {
      "image/png": "[encoded data removed]",
      "text/plain": [
       "<Figure size 432x216 with 1 Axes>"
      ]
     },
     "metadata": {},
     "output_type": "display_data"
    },
    {
     "data": {
      "image/png": "[encoded data removed]",
      "text/plain": [
       "<Figure size 432x144 with 1 Axes>"
      ]
     },
     "metadata": {},
     "output_type": "display_data"
    },
    {
     "data": {
      "image/png": "[encoded data removed]",
      "text/plain": [
       "<Figure size 432x144 with 1 Axes>"
      ]
     },
     "metadata": {},
     "output_type": "display_data"
    },
    {
     "data": {
      "image/png": "[encoded data removed]",
      "text/plain": [
       "<Figure size 432x144 with 1 Axes>"
      ]
     },
     "metadata": {},
     "output_type": "display_data"
    },
    {
     "data": {
      "image/png": "[encoded data removed]",
      "text/plain": [
       "<Figure size 432x144 with 1 Axes>"
      ]
     },
     "metadata": {},
     "output_type": "display_data"
    }
   ],
   "source": [
    "N = 8\n",
    "\n",
    "def genPolys(p):\n",
    "    \"\"\"\n",
    "    p est l'ensemble des x.piece quand x parcourt l'ensembles des polyabolos de taille n\n",
    "    genPolys(p) renvoie  l'ensemble des x.piece quand x parcourt l'ensembles des polyabolos de taille n + 1\n",
    "    \"\"\"\n",
    "    q = set()\n",
    "    def add(piece0,t):\n",
    "        Piece = PIECE('', piece0 | frozenset([t]))\n",
    "        if q.isdisjoint(Piece.isometriques()):\n",
    "            q.add(Piece)\n",
    "    for piece0 in p:\n",
    "        for i0,j0,k0 in piece0:\n",
    "            t = (i0,j0,[2,3,0,1][k0]) \n",
    "            if t not in piece0:\n",
    "                add(piece0,t)\n",
    "            t1, t2 = ((i0,j0+1,0),(i0,j0+1,3)) if k0 in[1,2] else ((i0,j0-1,1),(i0,j0-1,2))\n",
    "            if all([(t1[0],t1[1],k) not in piece0 for k in range(4)]):\n",
    "                add(piece0,t1)\n",
    "                add(piece0,t2)\n",
    "            t1, t2 = ((i0+1,j0,0),(i0+1,j0,1)) if k0 in[2,3] else ((i0-1,j0,2),(i0-1,j0,3))\n",
    "            if all([(t1[0],t1[1],k) not in piece0 for k in range(4)]):\n",
    "                add(piece0,t1)\n",
    "                add(piece0,t2)\n",
    "    return {x.piece for x in q}\n",
    "\n",
    "_p = [set(),{frozenset([(0,0,0)])}]\n",
    "for n in range(N - 1): \n",
    "    _p.append(genPolys(_p[-1]))\n",
    "    \n",
    "polyabolos = [[PIECE(f'p{i}_{j}', piece, couleur=palette[j%(len(palette))]) \n",
    "                for j, piece in enumerate(sorted(list(e),key = hash))]\n",
    "                for i, e in enumerate(_p)]\n",
    "\n",
    "for e in polyabolos: \n",
    "    for p in e: globals()[p.nom] = p    \n",
    "\n",
    "for n in range(1,N+1):\n",
    "    print(f'{len(polyabolos[n]):>4} {n}-abolos')\n",
    "\n",
    "# Exemple, les 14 tetrabolos\n",
    "# Noter que, par ex., p4_3 == polyabolos[4][3]\n",
    "for p in polyabolos[4]: p.plot()\n"
   ]
  },
  {
   "cell_type": "code",
   "execution_count": 6,
   "metadata": {},
   "outputs": [],
   "source": [
    "\n",
    "class PUZZLE:\n",
    "\n",
    "    def __init__(self,pieces,\n",
    "                      min_i,max_i,min_j,max_j,\n",
    "                      conditions = None,\n",
    "                      strict = True):\n",
    "        \"\"\"pieces : liste de PIECE\n",
    "        min_i,max_i,min_j,max_j : definition du plateau\n",
    "        conditions : couple d'entiers -> booleen restreignant le plateau\n",
    "    \n",
    "        1er cas  : strict = True\n",
    "            Pour chacun des noms des pieces, il faut placer \n",
    "            une et une seule piece portant ce nom.\n",
    "            Les elements de E sont les noms des pieces\n",
    "            et les cases (triplets d'entiers) du plateau.\n",
    "            Chaque element de F contient un et un seul nom\n",
    "            et les cases du plateau utilisees par une piece de ce nom..\n",
    "        \n",
    "        2eme cas : strict = False\n",
    "            Pour chaque piece de pieces, on dispose,\n",
    "            pour resoudre le puzzle, d'autant d'exemplaires\n",
    "            que l'on veut de la piece.\n",
    "            Les elements de E sont les cases du plateau.\n",
    "        \"\"\"\n",
    "        self.min_i = min_i\n",
    "        self.max_i = max_i\n",
    "        self.min_j = min_j\n",
    "        self.max_j = max_j\n",
    "        self.strict = strict\n",
    "        self.pieces = pieces\n",
    "        if not conditions:\n",
    "            conditions = lambda i,j,k: True\n",
    "        lignes = dict()\n",
    "        nbLignes = 0\n",
    "        for p in pieces:\n",
    "            for u in range(min_i, max_i - p.largeur + 2):\n",
    "                for v in range(min_j, max_j - p.hauteur + 2):\n",
    "                    ligne = [p.nom] if self.strict else []\n",
    "                    match = True\n",
    "                    for i,j,k in p.piece:\n",
    "                        ic, jc = i + u, j + v\n",
    "                        if conditions(ic,jc,k):\n",
    "                            ligne.append((ic,jc,k))\n",
    "                            ligne.append((ic,jc,(k+1) % 4))\n",
    "                        else:\n",
    "                            match = False\n",
    "                            break\n",
    "                    if match:\n",
    "                        lignes[nbLignes] = ligne\n",
    "                        nbLignes += 1\n",
    "        self.lignes = lignes\n",
    "\n",
    "    def solve(self):\n",
    "        \n",
    "        F = self.lignes\n",
    "        return AlgorithmeX(F).solve()\n",
    "\n",
    "    def normaliseSolution(self,sol):\n",
    "        nouvSol = []  \n",
    "        for l in sol:\n",
    "            ligne = self.lignes[l]\n",
    "            nouvLigne = []\n",
    "            for c in ligne:\n",
    "                if type(c) == tuple:\n",
    "                    i,j,k = c\n",
    "                    if (i,j,(k+1) % 4) in ligne:\n",
    "                        nouvLigne.append(c)\n",
    "                else:\n",
    "                    nom = c\n",
    "            if self.strict:\n",
    "                nouvLigne = [nom] + nouvLigne\n",
    "            nouvSol.append(nouvLigne)\n",
    "        return nouvSol\n",
    "    \n",
    "    def printSolution(self, sol):\n",
    "        for l in self.normaliseSolution(sol):\n",
    "            print(l)\n",
    "\n",
    "    def plotSolution(self,sol):\n",
    "                \n",
    "        fig = plt.figure(facecolor='w')\n",
    "        ax = fig.add_subplot(111)\n",
    "        ax.axis('off')\n",
    "        ax.axis('equal')\n",
    "        if not self.strict:\n",
    "            random.seed('314')\n",
    "        for l in self.normaliseSolution(sol):\n",
    "            e = set()\n",
    "            for c in l:\n",
    "                if type(c) == tuple:\n",
    "                    e.add(c)\n",
    "                else:\n",
    "                    couleur = eval(c).couleur \n",
    "            if not self.strict: couleur = randomColor()\n",
    "            PIECE.plotPolyabolo(ax, e, couleur,0)"
   ]
  },
  {
   "cell_type": "markdown",
   "metadata": {},
   "source": [
    "#### Les 30 pentabolos dans un rectangle"
   ]
  },
  {
   "cell_type": "code",
   "execution_count": 76,
   "metadata": {},
   "outputs": [
    {
     "data": {
      "image/png": "[encoded data removed]",
      "text/plain": [
       "<Figure size 432x288 with 1 Axes>"
      ]
     },
     "metadata": {},
     "output_type": "display_data"
    }
   ],
   "source": [
    "pentabolos = []\n",
    "for h in polyabolos[5]:\n",
    "    pentabolos += h.isometriques()\n",
    "\n",
    "puzzle = PUZZLE(pentabolos,1,15,1,5)\n",
    "    \n",
    "s = puzzle.solve()\n",
    "sol = next(s) # 3 mns\n",
    "puzzle.plotSolution(sol)\n"
   ]
  },
  {
   "cell_type": "code",
   "execution_count": 7,
   "metadata": {},
   "outputs": [
    {
     "data": {
      "image/png": "[encoded data removed]",
      "text/plain": [
       "<Figure size 432x72 with 1 Axes>"
      ]
     },
     "metadata": {},
     "output_type": "display_data"
    },
    {
     "data": {
      "image/png": "[encoded data removed]",
      "text/plain": [
       "<Figure size 432x72 with 1 Axes>"
      ]
     },
     "metadata": {},
     "output_type": "display_data"
    },
    {
     "data": {
      "image/png": "[encoded data removed]",
      "text/plain": [
       "<Figure size 432x144 with 1 Axes>"
      ]
     },
     "metadata": {},
     "output_type": "display_data"
    },
    {
     "data": {
      "image/png": "[encoded data removed]",
      "text/plain": [
       "<Figure size 432x144 with 1 Axes>"
      ]
     },
     "metadata": {},
     "output_type": "display_data"
    },
    {
     "data": {
      "image/png": "[encoded data removed]",
      "text/plain": [
       "<Figure size 432x144 with 1 Axes>"
      ]
     },
     "metadata": {},
     "output_type": "display_data"
    },
    {
     "data": {
      "image/png": "[encoded data removed]",
      "text/plain": [
       "<Figure size 432x144 with 1 Axes>"
      ]
     },
     "metadata": {},
     "output_type": "display_data"
    },
    {
     "data": {
      "image/png": "[encoded data removed]",
      "text/plain": [
       "<Figure size 432x144 with 1 Axes>"
      ]
     },
     "metadata": {},
     "output_type": "display_data"
    },
    {
     "data": {
      "image/png": "[encoded data removed]",
      "text/plain": [
       "<Figure size 432x144 with 1 Axes>"
      ]
     },
     "metadata": {},
     "output_type": "display_data"
    }
   ],
   "source": [
    "for p in polyabolos[1]+polyabolos[2]+polyabolos[3]:\n",
    "    p.plot()"
   ]
  },
  {
   "cell_type": "code",
   "execution_count": null,
   "metadata": {},
   "outputs": [],
   "source": []
  },
  {
   "cell_type": "code",
   "execution_count": null,
   "metadata": {},
   "outputs": [],
   "source": [
    "p11 = PIECE('p11', p1_0.piece, couleur=palette[0])\n",
    "p12 = PIECE('p12', p1_0.piece, couleur=palette[0])\n",
    "p21 = PIECE('p21', p2_0.piece, couleur=palette[1])\n",
    "p22 = PIECE('p22', p2_1.piece, couleur=palette[1])\n",
    "p23 = PIECE('p23', p2_2.piece, couleur=palette[1])\n",
    "p41 = PIECE('p41', p4_5.piece, couleur=palette[2])\n",
    "p42 = PIECE('p42', p4_5.piece, couleur=palette[2])\n",
    "\n",
    "carreTangram = [()]\n",
    "\n",
    "tangrams = [p41]\n",
    "for p in [P11, p12, p21, p22, p23, p42]:\n",
    "    tangrams += p.isometriques()\n",
    "\n",
    "puzzle = PUZZLE(tangrams,0,3,0,3, conditions = )\n",
    "    \n",
    "s = puzzle.solve()\n",
    "sol = next(s)\n",
    "puzzle.plotSolution(sol)\n"
   ]
  },
  {
   "cell_type": "code",
   "execution_count": null,
   "metadata": {},
   "outputs": [],
   "source": [
    "def multiplication(p, polyabolo):\n",
    "    e = []\n",
    "    for i, j, k in polyabolo.piece:\n",
    "        if k == 2:\n",
    "            for v in range(p):\n",
    "                for u in range(p - v):\n",
    "                    e.append((p * i + u, p * j + v, 2))\n",
    "                    if u < p - v - 1 : e.append((p * i + u, p * j + v, 1))\n",
    "        else:\n",
    "            for v in range(p):\n",
    "                for u in range(v + 1):\n",
    "                    e.append((p * i - u + p - 1, p * j + v, 1))\n",
    "                    if u < v : e.append((p * i - u + p - 1, p * j + v, 2))\n",
    "    return 0, p * polyabolo.largeur, 0, p * polyabolo.hauteur, lambda i,j,k: (i, j, k) in e\n",
    "\n",
    "\n",
    "puzzle = PUZZLE(hexiamonds, *multiplication(3, p8_4))\n",
    "s = puzzle.solve()\n",
    "sol = next(s)\n",
    "p8_4.plot()\n",
    "puzzle.plotSolution(sol)"
   ]
  }
 ],
 "metadata": {
  "kernelspec": {
   "display_name": "SageMath 9.5",
   "language": "sage",
   "name": "sagemath"
  },
  "language_info": {
   "codemirror_mode": {
    "name": "ipython",
    "version": 3
   },
   "file_extension": ".py",
   "mimetype": "text/x-python",
   "name": "python",
   "nbconvert_exporter": "python",
   "pygments_lexer": "ipython3",
   "version": "3.10.12"
  }
 },
 "nbformat": 4,
 "nbformat_minor": 4
}
