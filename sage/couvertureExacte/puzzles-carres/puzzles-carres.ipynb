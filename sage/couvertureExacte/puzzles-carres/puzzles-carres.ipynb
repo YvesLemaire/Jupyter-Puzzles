{
 "cells": [
  {
   "cell_type": "code",
   "execution_count": 1,
   "metadata": {},
   "outputs": [],
   "source": [
    "%run ../algorithmeX.ipynb"
   ]
  },
  {
   "cell_type": "markdown",
   "metadata": {},
   "source": [
    "## Puzzles de pentominos"
   ]
  },
  {
   "cell_type": "code",
   "execution_count": 2,
   "metadata": {},
   "outputs": [],
   "source": [
    "class PIECE:\n",
    "\n",
    "    def __init__(self,nom,piece,couleur = None):\n",
    "        self.nom = nom\n",
    "        self.piece = piece\n",
    "        self.couleur = couleur\n",
    "        self.largeur = len(self.piece[0])\n",
    "        self.hauteur = len(self.piece)\n",
    "\n",
    "    def __hash__(self):\n",
    "        return hash(self.piece)\n",
    "\n",
    "    def __eq__(self,q):\n",
    "        return self.piece == q.piece\n",
    "\n",
    "    def __str__(self):\n",
    "        return str((self.nom,self.piece))\n",
    "\n",
    "    def transposee(self):\n",
    "        q = self.piece\n",
    "        return PIECE(self.nom, \n",
    "                     tuple(tuple(q[j][i] for j in range(self.hauteur)) \n",
    "                                  for i in range(self.largeur)))\n",
    "\n",
    "    def rotation(self):\n",
    "        q = self.piece\n",
    "        return PIECE(self.nom, \n",
    "                     tuple(tuple(q[self.hauteur - j - 1][i] for j in range(self.hauteur)) \n",
    "                                  for i in range(self.largeur)))\n",
    "                    \n",
    "    def isometriques(self):\n",
    "        p1 = self.rotation()\n",
    "        p2 = p1.rotation()\n",
    "        p3 = p2.rotation()\n",
    "        q0 = self.transposee()\n",
    "        q1 = q0.rotation()\n",
    "        q2 = q1.rotation()\n",
    "        q3 = q2.rotation()\n",
    "        return list({self,p1,p2,p3,q0,q1,q2,q3})\n",
    " \n",
    "    def polygoneOfCouples(e):\n",
    "        \"\"\"e est un ensemble de couples d'entiers (i,j)\n",
    "        representant une piece (un polyomino).\n",
    "        Renvoie une liste de deux tuples pour le dessin de la piece.\n",
    "        \"\"\"\n",
    "        segments = set()\n",
    "        for i,j in e:\n",
    "            if (i + 1, j) not in e: segments.add(((i+1,j),(i+1,j+1)))\n",
    "            if (i, j + 1) not in e: segments.add(((i+1,j+1),(i,j+1))) \n",
    "            if (i - 1, j) not in e: segments.add(((i,j+1),(i,j)))\n",
    "            if (i, j - 1) not in e: segments.add(((i,j),(i+1,j))) \n",
    "        (i,j),(k,l) = segments.pop()\n",
    "        l = [(i,j),(k,l)]\n",
    "        while True:\n",
    "            try:\n",
    "                l.append({s[1] for s in segments if s[0] == l[-1]}.pop())\n",
    "            except KeyError: break        \n",
    "        return list(zip(*l))\n",
    "\n",
    "    def polygone(self, transformation = None):\n",
    "        \"\"\"Renvoie une liste de deux tuples pour le dessin de self.\n",
    "        Si transformation != None,  c'est une liste de listes representant \n",
    "        une matrices (2,2) qui est appliquee au polygone.\n",
    "        \"\"\"\n",
    "\n",
    "        e = {(i,j) for i in range(self.largeur)\n",
    "                   for j in range(self.hauteur)\n",
    "                   if self.piece[i][j]}\n",
    "        p = PIECE.polygoneOfCouples(e)\n",
    "        if transformation:\n",
    "            [[a,b],[c,d]] = transformation\n",
    "            f = lambda z: (a * z[0] + b * z[1], c * z[0] + d * z[1])\n",
    "            return list(zip(*map(f,zip(*p))))\n",
    "        else:\n",
    "            return p\n",
    "\n",
    "class PUZZLE:\n",
    "\n",
    "    def __init__(self,pieces,\n",
    "                      min_i,max_i,min_j,max_j,\n",
    "                      conditions = None,\n",
    "                      strict = True):\n",
    "        \"\"\"pieces : liste de PIECE\n",
    "        min_i,max_i,min_j,max_j : definition du plateau\n",
    "        conditions : couple d'entiers -> booleen restreignant le plateau\n",
    "    \n",
    "        1er cas  : strict = True\n",
    "            Pour chacun des noms des pieces, il faut placer \n",
    "            une et une seule piece portant ce nom.\n",
    "            Les elements de E sont les noms des pieces\n",
    "            et les cases (couples d'entiers) du plateau.\n",
    "            Chaque element de F contient un et un seul nom\n",
    "            et les cases du plateau utilisees par une piece de ce nom..\n",
    "        \n",
    "        2eme cas : strict = False\n",
    "            Pour chaque piece de pieces, on dispose,\n",
    "            pour resoudre le puzzle, d'autant d'exemplaires\n",
    "            que l'on veut de la piece.\n",
    "            Les elements de E sont les cases du plateau.\n",
    "        \"\"\"\n",
    "        self.min_i = min_i\n",
    "        self.max_i = max_i\n",
    "        self.min_j = min_j\n",
    "        self.max_j = max_j\n",
    "        self.strict = strict\n",
    "        self.pieces = pieces\n",
    "        if not conditions:\n",
    "            conditions = lambda i,j: True\n",
    "        lignes = dict()\n",
    "        nbLignes = 0\n",
    "        for p in pieces:\n",
    "            for u in range(min_i, max_i - p.largeur + 2):\n",
    "                for v in range(min_j, max_j - p.hauteur + 2):\n",
    "                   ligne = [p.nom] if self.strict else []\n",
    "                   match = True\n",
    "                   for i in range(p.largeur):\n",
    "                       if match:\n",
    "                           ic = i + u \n",
    "                           for j in range(p.hauteur):\n",
    "                               jc = j + v\n",
    "                               if p.piece[j][i] == 1:\n",
    "                                   if conditions(ic,jc):\n",
    "                                       ligne.append((ic,jc))\n",
    "                                   else:\n",
    "                                       match = False\n",
    "                                       break\n",
    "                       else:\n",
    "                           break  \n",
    "                   if match:\n",
    "                       lignes[nbLignes] = ligne\n",
    "                       nbLignes += 1\n",
    "        self.lignes = lignes\n",
    "        \n",
    "    def solve(self):\n",
    "        \n",
    "        F = self.lignes\n",
    "        return AlgorithmeX(F).solve()\n",
    "\n",
    "    def printSolution(self,sol):     \n",
    "        for l in sol: print(self.lignes[l])\n",
    "\n",
    "    def plotSolution(self,sol):\n",
    "        \"\"\"Pour afficher plusieurs solutions :\n",
    "        executer un script ou utiliser jupyter\n",
    "        \"\"\"\n",
    "        import matplotlib\n",
    "        import matplotlib.pyplot as plt\n",
    "        if not self.strict: from random import random\n",
    "        matplotlib.rcParams['toolbar'] = 'None'\n",
    "        fig = plt.figure(facecolor='w')\n",
    "        ax = fig.add_subplot(111)\n",
    "        ax.axis('off')\n",
    "        ax.axis('equal')\n",
    "        ax.axis([self.min_i - 1, self.max_i + 1,\n",
    "                 self.min_j - 1, self.max_j + 1])\n",
    "        for l in sol:\n",
    "            e = set()\n",
    "            for c in self.lignes[l]:\n",
    "                if type(c) == tuple:\n",
    "                    e.add(c)\n",
    "                else:\n",
    "                    couleur = eval(c).couleur \n",
    "            if not self.strict: couleur = (random(),random(),random())                               \n",
    "            ax.fill(*PIECE.polygoneOfCouples(e),\n",
    "                      facecolor = couleur,\n",
    "                      edgecolor='black', \n",
    "                      linewidth=1)\n",
    "        #fig.show() # commenter si notebook\n",
    "\n",
    "\n",
    "#------------------------------- PENTOMINOS ----------------------------\n",
    "\n",
    "F = PIECE( 'F',((0,1,1),\n",
    "                (1,1,0),\n",
    "                (0,1,0)), couleur = 'yellow')\n",
    "I = PIECE('I',((1,),\n",
    "               (1,),\n",
    "               (1,),\n",
    "               (1,),\n",
    "               (1,)), couleur = 'plum')\n",
    "L = PIECE('L',((1,0),\n",
    "               (1,0),\n",
    "               (1,0),\n",
    "               (1,1)), couleur = 'orangered')\n",
    "N = PIECE('N',((0,1),\n",
    "               (0,1),\n",
    "               (1,1),\n",
    "               (1,0)), couleur = 'dimgray')\n",
    "P = PIECE('P',((1,1),\n",
    "               (1,1),\n",
    "               (1,0)), couleur = 'royalblue')\n",
    "T = PIECE('T',((1,1,1),\n",
    "               (0,1,0),\n",
    "               (0,1,0)), couleur = 'green')\n",
    "U = PIECE('U',((1,0,1),\n",
    "               (1,1,1)), couleur = 'yellow')\n",
    "V = PIECE('V',((0,0,1),\n",
    "               (0,0,1),\n",
    "               (1,1,1)), couleur = 'darkblue')\n",
    "W = PIECE('W',((0,0,1),\n",
    "               (0,1,1),\n",
    "               (1,1,0)), couleur = 'purple')\n",
    "X = PIECE('X',((0,1,0),\n",
    "               (1,1,1),\n",
    "               (0,1,0)), couleur = 'red')\n",
    "Y = PIECE('Y',((0,1),\n",
    "               (1,1),\n",
    "               (0,1),\n",
    "               (0,1)), couleur = 'darkred')\n",
    "Z = PIECE('Z',((1,1,0),\n",
    "               (0,1,0),\n",
    "               (0,1,1)), couleur = 'grey')\n",
    "        "
   ]
  },
  {
   "cell_type": "markdown",
   "metadata": {},
   "source": [
    "### Test"
   ]
  },
  {
   "cell_type": "code",
   "execution_count": 3,
   "metadata": {},
   "outputs": [
    {
     "name": "stdout",
     "output_type": "stream",
     "text": [
      "['L', (1, 2), (1, 3), (1, 4), (1, 5), (2, 5)]\n",
      "['T', (1, 1), (2, 1), (2, 2), (2, 3), (3, 1)]\n",
      "['Y', (2, 4), (3, 2), (3, 3), (3, 4), (3, 5)]\n"
     ]
    },
    {
     "data": {
      "image/png": "[encoded data removed]",
      "text/plain": [
       "<Figure size 432x288 with 1 Axes>"
      ]
     },
     "metadata": {},
     "output_type": "display_data"
    }
   ],
   "source": [
    "puzzle = PUZZLE([L] + T.isometriques() + Y.isometriques(),1,3,1,5)\n",
    "for sol in puzzle.solve():\n",
    "    puzzle.plotSolution(sol)\n",
    "    puzzle.printSolution(sol)"
   ]
  },
  {
   "cell_type": "markdown",
   "metadata": {},
   "source": [
    "### Exemple 1"
   ]
  },
  {
   "cell_type": "code",
   "execution_count": 4,
   "metadata": {},
   "outputs": [
    {
     "data": {
      "image/png": "[encoded data removed]",
      "text/plain": [
       "<Figure size 432x288 with 1 Axes>"
      ]
     },
     "metadata": {},
     "output_type": "display_data"
    }
   ],
   "source": [
    "# 65 solutions\n",
    "\n",
    "pentominos = [F]\n",
    "for p in [I,L,N,P,T,U,V,W,X,Y,Z]: pentominos += p.isometriques()\n",
    "\n",
    "puzzle = PUZZLE(pentominos,1,8,1,8,\n",
    "                conditions = (lambda i,j: not (4 <= i <= 5 and 4 <= j <= 5)))\n",
    "    \n",
    "s = puzzle.solve()\n",
    "        \n",
    "sol = next(s)\n",
    "puzzle.plotSolution(sol)\n",
    "#puzzle.printSolution(sol)\n"
   ]
  },
  {
   "cell_type": "markdown",
   "metadata": {},
   "source": [
    "### Exemple 2"
   ]
  },
  {
   "cell_type": "code",
   "execution_count": 5,
   "metadata": {},
   "outputs": [
    {
     "data": {
      "image/png": "[encoded data removed]",
      "text/plain": [
       "<Figure size 432x288 with 1 Axes>"
      ]
     },
     "metadata": {},
     "output_type": "display_data"
    }
   ],
   "source": [
    "# 1010 solutions\n",
    "\n",
    "#from puzzle import * # commenter si notebook\n",
    "\n",
    "pentominos = [F,F.rotation()]\n",
    "for p in [I,L,N,P,T,U,V,W,X,Y,Z]: pentominos += p.isometriques()\n",
    "\n",
    "puzzle = PUZZLE(pentominos,1,12,1,5)\n",
    "    \n",
    "s = puzzle.solve()\n",
    "        \n",
    "sol = next(s)\n",
    "puzzle.plotSolution(sol)\n",
    "#puzzle.printSolution(sol)\n"
   ]
  },
  {
   "cell_type": "markdown",
   "metadata": {},
   "source": [
    "### Exemple 3"
   ]
  },
  {
   "cell_type": "code",
   "execution_count": 13,
   "metadata": {},
   "outputs": [],
   "source": [
    "def unePiece(piece):\n",
    "    puzzle = PUZZLE(piece.isometriques(),1,15,1,15,strict = False)    \n",
    "    s = puzzle.solve()\n",
    "    sol = next(s)\n",
    "    puzzle.plotSolution(sol)"
   ]
  },
  {
   "cell_type": "code",
   "execution_count": 14,
   "metadata": {},
   "outputs": [
    {
     "data": {
      "image/png": "[encoded data removed]",
      "text/plain": [
       "<Figure size 432x288 with 1 Axes>"
      ]
     },
     "metadata": {},
     "output_type": "display_data"
    }
   ],
   "source": [
    "# 8 x 212 = 1696 solutions\n",
    "unePiece(Y)"
   ]
  }
 ],
 "metadata": {
  "kernelspec": {
   "display_name": "SageMath 9.5",
   "language": "sage",
   "name": "sagemath"
  },
  "language_info": {
   "codemirror_mode": {
    "name": "ipython",
    "version": 3
   },
   "file_extension": ".py",
   "mimetype": "text/x-python",
   "name": "python",
   "nbconvert_exporter": "python",
   "pygments_lexer": "ipython3",
   "version": "3.10.12"
  }
 },
 "nbformat": 4,
 "nbformat_minor": 4
}
